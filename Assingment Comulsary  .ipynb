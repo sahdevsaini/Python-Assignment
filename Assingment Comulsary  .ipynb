{
 "cells": [
  {
   "cell_type": "markdown",
   "id": "d9728de7",
   "metadata": {},
   "source": [
    "# -----------------------------ASSIGNMENTS - Compulsory------------------------------"
   ]
  },
  {
   "cell_type": "markdown",
   "id": "ff87bb3a",
   "metadata": {},
   "source": [
    "### 1.What is indentation error? Why indentation is important? Give one simple example? "
   ]
  },
  {
   "cell_type": "markdown",
   "id": "46784282",
   "metadata": {},
   "source": [
    "### Ans:-\n",
    "### Absence of Tab or white space at particular place is called indentation error.\n",
    "### Python follows the PEP8 whitespace ethics while arranging its code and therefore it is suggested that there should \n",
    "### be 4 whitespaces between every iteration and any alternative that doesn’t have this will return an error.\n",
    "### python makes use of procedural language, if you miss out on adding tabs or spaces between your lines of code"
   ]
  },
  {
   "cell_type": "code",
   "execution_count": 1,
   "id": "f22c21f6",
   "metadata": {},
   "outputs": [
    {
     "ename": "IndentationError",
     "evalue": "expected an indented block (<ipython-input-1-e8c4290e2a03>, line 4)",
     "output_type": "error",
     "traceback": [
      "\u001b[1;36m  File \u001b[1;32m\"<ipython-input-1-e8c4290e2a03>\"\u001b[1;36m, line \u001b[1;32m4\u001b[0m\n\u001b[1;33m    print(x)\u001b[0m\n\u001b[1;37m    ^\u001b[0m\n\u001b[1;31mIndentationError\u001b[0m\u001b[1;31m:\u001b[0m expected an indented block\n"
     ]
    }
   ],
   "source": [
    "## Example:- \n",
    "x=10\n",
    "if x==10:\n",
    "print(x)    "
   ]
  },
  {
   "cell_type": "code",
   "execution_count": null,
   "id": "6a7b282a",
   "metadata": {},
   "outputs": [],
   "source": [
    "## without intentation error \n",
    "x=10\n",
    "if x==10:\n",
    "    print(x)"
   ]
  },
  {
   "cell_type": "markdown",
   "id": "48085c41",
   "metadata": {},
   "source": [
    "### 2.Correct the following code and write the comment where you made the correction?\n",
    "class_started = bool(input(\"Hey friend, is class started?: [0-False/1-True]\"))\n",
    "\n",
    "if class_started:\n",
    "   print(\"Since class started...\")\n",
    "   print(\"Lets concentrate\")\n",
    "else:\n",
    "   print(\"Since class is not started...\")\n",
    "   print(\"let's revise\")"
   ]
  },
  {
   "cell_type": "markdown",
   "id": "1a84e29e",
   "metadata": {},
   "source": [
    "### Ans:- "
   ]
  },
  {
   "cell_type": "code",
   "execution_count": 25,
   "id": "9b649f33",
   "metadata": {},
   "outputs": [
    {
     "name": "stdout",
     "output_type": "stream",
     "text": [
      "Hey friend, is class started?: [0-False/1-True]0-False\n",
      "Since class is not started...\n",
      "let's revise\n"
     ]
    }
   ],
   "source": [
    "class_started = input(\"Hey friend, is class started?: [0-False/1-True]\")\n",
    "\n",
    "if class_started ==\"1-True\":\n",
    "   print(\"Since class started...\")\n",
    "   print(\"Lets concentrate\")\n",
    "else:\n",
    "   print(\"Since class is not started...\")\n",
    "   print(\"let's revise\")\n",
    "## Remove the bool inbuilt function from the input condition otherwise bool method convert every input into o and 1 and always\n",
    "## if condition execute."
   ]
  },
  {
   "cell_type": "markdown",
   "id": "a1ecd737",
   "metadata": {},
   "source": [
    "### 3. Use if else condition to verify that dataype of input() method in python is always string."
   ]
  },
  {
   "cell_type": "markdown",
   "id": "00cf720d",
   "metadata": {},
   "source": [
    "### Ans:- "
   ]
  },
  {
   "cell_type": "code",
   "execution_count": 26,
   "id": "2fd2bec0",
   "metadata": {},
   "outputs": [
    {
     "name": "stdout",
     "output_type": "stream",
     "text": [
      "The given input is string \n"
     ]
    }
   ],
   "source": [
    "name=\"Sahdev\"\n",
    "if type(name) == str:\n",
    "    print(\"The given input is string \")\n",
    "else:\n",
    "    print(\"Not a string\")"
   ]
  },
  {
   "cell_type": "markdown",
   "id": "8e1c2cd9",
   "metadata": {},
   "source": [
    "### 4. Take 3 variables and assign integer values to them. Find the largest variable, by only using the if and else conditions."
   ]
  },
  {
   "cell_type": "code",
   "execution_count": 27,
   "id": "fdaa157e",
   "metadata": {},
   "outputs": [
    {
     "name": "stdout",
     "output_type": "stream",
     "text": [
      "The Largest number is :- 7\n"
     ]
    }
   ],
   "source": [
    "a=4\n",
    "b=7\n",
    "c=2\n",
    "if a>b and b>c:\n",
    "    print(\"The Largest no is :-\", a)\n",
    "elif b>c and b>a:\n",
    "    print(\"The Largest number is :-\", b)\n",
    "else:\n",
    "    print(\"The Largest number is :-\",c)"
   ]
  },
  {
   "cell_type": "markdown",
   "id": "19783560",
   "metadata": {},
   "source": [
    "### 5. What would be the solution?\n",
    "\n",
    "### 1. True\n",
    "\n",
    "### 2. False\n",
    "### a = 6\n",
    "### b = 10\n",
    "### print( not ( not a == 10 or not b == 10) )"
   ]
  },
  {
   "cell_type": "markdown",
   "id": "ba6b570b",
   "metadata": {},
   "source": [
    "### Ans:- False "
   ]
  },
  {
   "cell_type": "code",
   "execution_count": 28,
   "id": "9be22416",
   "metadata": {},
   "outputs": [
    {
     "name": "stdout",
     "output_type": "stream",
     "text": [
      "False\n"
     ]
    }
   ],
   "source": [
    "a = 6\n",
    "b = 10\n",
    "print( not ( not a == 10 or not b == 10) )\n",
    "\n",
    "#         (not a==10) True \n",
    "#          (not b==10) False\n",
    "#          not(True or False)  Fasle \n",
    "#  Ans is false "
   ]
  },
  {
   "cell_type": "markdown",
   "id": "8a3dc3bd",
   "metadata": {},
   "source": [
    "### 6. Find the answer as well as find out the reason behind the result? -\n",
    "\n"
   ]
  },
  {
   "cell_type": "markdown",
   "id": "116e353c",
   "metadata": {},
   "source": [
    "### Ans:-\n",
    "### case 1 \n",
    "### False"
   ]
  },
  {
   "cell_type": "code",
   "execution_count": 29,
   "id": "a865f91c",
   "metadata": {},
   "outputs": [
    {
     "name": "stdout",
     "output_type": "stream",
     "text": [
      "False\n"
     ]
    }
   ],
   "source": [
    "A = 5.0\n",
    "B = 10/2\n",
    "print(A is B) \n",
    "\n",
    "# is tests for identity, not equality. That means Python simply compares the memory address a object resides in. \n",
    "# is basically answers the question \"Do I have two names for the same object?\" - overloading that would make no sense.\n",
    "\n",
    "# For example, (\"a\" * 100) is (\"a\" * 100) is False. \n",
    "# Usually Python writes each string into a different memory location, interning mostly happens for string literals."
   ]
  },
  {
   "cell_type": "markdown",
   "id": "c8c16535",
   "metadata": {},
   "source": [
    "### case 2\n",
    "### False "
   ]
  },
  {
   "cell_type": "code",
   "execution_count": 30,
   "id": "5cc46d30",
   "metadata": {},
   "outputs": [
    {
     "name": "stdout",
     "output_type": "stream",
     "text": [
      "False\n"
     ]
    }
   ],
   "source": [
    "A = 5.0\n",
    "B = int(10/2)\n",
    "print(A is B)\n",
    "# beacuse A is float value and B returns a integer and both are not same so answer is false "
   ]
  },
  {
   "cell_type": "markdown",
   "id": "7c4d8e86",
   "metadata": {},
   "source": [
    "### Case 3\n",
    "## False"
   ]
  },
  {
   "cell_type": "code",
   "execution_count": 31,
   "id": "e4e1d8b0",
   "metadata": {},
   "outputs": [
    {
     "name": "stdout",
     "output_type": "stream",
     "text": [
      "False\n",
      "The value of A is : 5.0 \n",
      " The value of B is: 5.0\n",
      "The datatype of A : <class 'float'> \n",
      " The datatype of B is: <class 'float'>\n"
     ]
    }
   ],
   "source": [
    "A = 5.0\n",
    "B = float(10/2)\n",
    "print(A is B)\n",
    "print(\"The value of A is :\",A, \"\\n\", \"The value of B is:\",B)\n",
    "print(\"The datatype of A :\",type(A) ,\"\\n\", \"The datatype of B is:\",type(B))\n",
    "# \"is\" tests for identity, not equality. That means Python simply compares the memory address a object resides in."
   ]
  },
  {
   "cell_type": "markdown",
   "id": "6f294d66",
   "metadata": {},
   "source": [
    "### Try to understand the following examples and answer the question based on it -"
   ]
  },
  {
   "cell_type": "code",
   "execution_count": 32,
   "id": "2185f42a",
   "metadata": {},
   "outputs": [
    {
     "name": "stdout",
     "output_type": "stream",
     "text": [
      "integer division: 25/5=5\n"
     ]
    }
   ],
   "source": [
    "var_a = 5\n",
    "var_b = 25\n",
    "integer_division = var_b // var_a\n",
    "print(f\"integer division: {var_b}/{var_a}={integer_division}\")"
   ]
  },
  {
   "cell_type": "markdown",
   "id": "a565a114",
   "metadata": {},
   "source": [
    "### Ans:-"
   ]
  },
  {
   "cell_type": "code",
   "execution_count": 33,
   "id": "5856ab5f",
   "metadata": {},
   "outputs": [
    {
     "name": "stdout",
     "output_type": "stream",
     "text": [
      "integer division: 25/5=5\n"
     ]
    }
   ],
   "source": [
    "print(f\"integer division: {var_b}/{var_a}={integer_division}\")\n",
    "# \"/\" single slash gives the float vlaue while \"//\" gives the int value."
   ]
  },
  {
   "cell_type": "code",
   "execution_count": null,
   "id": "b07ac736",
   "metadata": {},
   "outputs": [],
   "source": []
  },
  {
   "cell_type": "code",
   "execution_count": 34,
   "id": "e0ccbe32",
   "metadata": {},
   "outputs": [
    {
     "name": "stdout",
     "output_type": "stream",
     "text": [
      "integer division: 25/3=8\n"
     ]
    }
   ],
   "source": [
    "var_a = 3\n",
    "var_b = 25\n",
    "integer_division = var_b // var_a\n",
    "print(f\"integer division: {var_b}/{var_a}={integer_division}\")"
   ]
  },
  {
   "cell_type": "markdown",
   "id": "6e3c2e97",
   "metadata": {},
   "source": [
    "### Ans:-  \"//\" double slash remove the decimal vlaue ang gives the complete integer value. "
   ]
  },
  {
   "cell_type": "code",
   "execution_count": 35,
   "id": "63cee3b2",
   "metadata": {},
   "outputs": [],
   "source": [
    "# \"//\" double slash remove the decimal vlaue ang gives the complete integer value."
   ]
  },
  {
   "cell_type": "code",
   "execution_count": 36,
   "id": "2090ef9f",
   "metadata": {},
   "outputs": [
    {
     "name": "stdout",
     "output_type": "stream",
     "text": [
      "remainder: 25/5 is 0\n"
     ]
    }
   ],
   "source": [
    "var_a = 5\n",
    "var_b = 25\n",
    "remainder = var_b % var_a\n",
    "print(f\"remainder: {var_b}/{var_a} is {remainder}\")\n"
   ]
  },
  {
   "cell_type": "markdown",
   "id": "2eb3b610",
   "metadata": {},
   "source": [
    "### Ans: % operator always gives the remainder 25 is completely divisible by the 5. so answer is 0."
   ]
  },
  {
   "cell_type": "code",
   "execution_count": 37,
   "id": "520f9f5b",
   "metadata": {},
   "outputs": [
    {
     "name": "stdout",
     "output_type": "stream",
     "text": [
      "remainder: 25/3 is 1\n"
     ]
    }
   ],
   "source": [
    "var_a = 3\n",
    "var_b = 25\n",
    "remainder = var_b % var_a\n",
    "print(f\"remainder: {var_b}/{var_a} is {remainder}\")"
   ]
  },
  {
   "cell_type": "markdown",
   "id": "7752e6ff",
   "metadata": {},
   "source": [
    "### Ans:- \n",
    "### % operator always gives the remainder when we divide 25 with 3 remainder will be 1 which is the answer."
   ]
  },
  {
   "cell_type": "code",
   "execution_count": null,
   "id": "2798c65b",
   "metadata": {},
   "outputs": [],
   "source": []
  },
  {
   "cell_type": "markdown",
   "id": "dd8e976a",
   "metadata": {},
   "source": [
    "### 7. Write a program that asks the user to enter a number. You should print out a message to the user, either \n",
    "### “That number is divisible by either 3 or 5”, or “That number is not divisible by either 3 or 5”. \n",
    "### Be sure to consider the data type of the input you are taking in from the user. Use a single if/else block to solve this problem."
   ]
  },
  {
   "cell_type": "code",
   "execution_count": 38,
   "id": "1d3145f3",
   "metadata": {},
   "outputs": [
    {
     "name": "stdout",
     "output_type": "stream",
     "text": [
      "Enter the number:15\n",
      "That number is divisible by either 3 or 5\n"
     ]
    }
   ],
   "source": [
    "num=int(input(\"Enter the number:\"))\n",
    "if ((num %3) or (num %5))==0:\n",
    "    print(\"That number is divisible by either 3 or 5\")\n",
    "else:\n",
    "    print(\"That number is not divisible by either 3 or 5\")"
   ]
  },
  {
   "cell_type": "markdown",
   "id": "edb4a2f3",
   "metadata": {},
   "source": [
    "### 8. Take user input for length and width. Then calculate the area of rectangle. \n",
    "### Also print as per length and width whether its a square of rectangle."
   ]
  },
  {
   "cell_type": "markdown",
   "id": "937c0a37",
   "metadata": {},
   "source": [
    "### Ans:- "
   ]
  },
  {
   "cell_type": "code",
   "execution_count": 39,
   "id": "c9b2c2c6",
   "metadata": {},
   "outputs": [
    {
     "name": "stdout",
     "output_type": "stream",
     "text": [
      "Enter the length:- 10\n",
      "Enter the breadth:- 10\n",
      "Area rectangle is :  100.0\n",
      "Given rectangle is square\n"
     ]
    }
   ],
   "source": [
    "length=float(input(\"Enter the length:- \"))\n",
    "breadth=float(input(\"Enter the breadth:- \"))\n",
    "Area=(length * breadth)\n",
    "print(\"Area rectangle is : \",Area)\n",
    "if length == breadth:\n",
    "    print(\"Given rectangle is square\")\n",
    "else:\n",
    "    print(\"It is rectangle\")"
   ]
  },
  {
   "cell_type": "markdown",
   "id": "9ef95b84",
   "metadata": {},
   "source": [
    "### 9. Take two variable radius_1 and radius_2 and calculate the area of circle_1 and circle_2. Also print which circle has large area. If area is equal then print area is equal."
   ]
  },
  {
   "cell_type": "markdown",
   "id": "4ef7eb93",
   "metadata": {},
   "source": [
    "### Ans:- "
   ]
  },
  {
   "cell_type": "code",
   "execution_count": 40,
   "id": "b30a0202",
   "metadata": {},
   "outputs": [
    {
     "name": "stdout",
     "output_type": "stream",
     "text": [
      "Enter the radius_1:- 12\n",
      "Enter the radius_2:- 12\n",
      "area of circle_1 :-  452.15999999999997\n",
      "area of circle_2:-  452.15999999999997\n",
      "area is equal\n"
     ]
    }
   ],
   "source": [
    "radius_1=float(input(\"Enter the radius_1:- \"))\n",
    "radius_2=float(input(\"Enter the radius_2:- \"))\n",
    "area_of_circle_1= (3.14*radius_1*radius_1)\n",
    "area_of_circle_2= (3.14*radius_2*radius_2)\n",
    "print(\"area of circle_1 :- \", area_of_circle_1)\n",
    "print(\"area of circle_2:- \", area_of_circle_2)\n",
    "if area_of_circle_1> area_of_circle_2:\n",
    "    print(\"area_of_circle_1 is greater than area_of_circle_2\")\n",
    "elif area_of_circle_1 == area_of_circle_2:\n",
    "    print(\"area is equal\")\n",
    "else:\n",
    "    print(\"area_of_circle_2 is greater than area_of_circle_1\")"
   ]
  },
  {
   "cell_type": "markdown",
   "id": "71b723ed",
   "metadata": {},
   "source": [
    "### 10. Check whether a year is leap year or not. Use nested if...else to solve this problem. A leap year is exactly divisible by 4 except for century years (years ending with 00). The century year is a leap year only if it is perfectly divisible by 400."
   ]
  },
  {
   "cell_type": "markdown",
   "id": "0a859ce5",
   "metadata": {},
   "source": [
    "### Ans:-"
   ]
  },
  {
   "cell_type": "code",
   "execution_count": 41,
   "id": "e2b752b7",
   "metadata": {},
   "outputs": [
    {
     "name": "stdout",
     "output_type": "stream",
     "text": [
      "Enter the year:- 1542\n",
      "Not a Leap Year\n"
     ]
    }
   ],
   "source": [
    "year=int(input(\"Enter the year:- \"))\n",
    "if ((year%400) and (year%100))==0:\n",
    "    print(\"Leap year\")\n",
    "elif ((year%4==0) and (year%100!=0)):\n",
    "    print(\"Leap year \")\n",
    "else:\n",
    "    print(\"Not a Leap Year\")"
   ]
  },
  {
   "cell_type": "code",
   "execution_count": null,
   "id": "48e7a7d4",
   "metadata": {},
   "outputs": [],
   "source": []
  }
 ],
 "metadata": {
  "kernelspec": {
   "display_name": "Python 3",
   "language": "python",
   "name": "python3"
  },
  "language_info": {
   "codemirror_mode": {
    "name": "ipython",
    "version": 3
   },
   "file_extension": ".py",
   "mimetype": "text/x-python",
   "name": "python",
   "nbconvert_exporter": "python",
   "pygments_lexer": "ipython3",
   "version": "3.8.8"
  }
 },
 "nbformat": 4,
 "nbformat_minor": 5
}

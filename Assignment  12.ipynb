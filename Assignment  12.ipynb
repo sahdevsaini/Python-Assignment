{
 "cells": [
  {
   "cell_type": "markdown",
   "id": "4930f118",
   "metadata": {},
   "source": [
    "# ------------------------------------ Assignment 12 -----------------------------------------------"
   ]
  },
  {
   "cell_type": "markdown",
   "id": "ef1b83d6",
   "metadata": {},
   "source": [
    "##  1. In what modes should the PdfFileReader() and PdfFileWriter() File objects will be opened?"
   ]
  },
  {
   "cell_type": "markdown",
   "id": "a38c0a67",
   "metadata": {},
   "source": [
    "**Ans:-**<br>\n",
    "    For **PdfFileReader()** file object should be **'rb'** --> read binary mode <br>\n",
    "    and for **PdfFileWriter()** file object should be **'wb'** --> write binaty mode"
   ]
  },
  {
   "cell_type": "markdown",
   "id": "67e3400e",
   "metadata": {},
   "source": [
    "##  2. From a PdfFileReader object, how do you get a Page object for page 5?"
   ]
  },
  {
   "cell_type": "markdown",
   "id": "62143590",
   "metadata": {},
   "source": [
    "**Ans:-** <br>  **PdfFIleReader()** class privide a method called **pages[]** to get page no.  "
   ]
  },
  {
   "cell_type": "code",
   "execution_count": null,
   "id": "7355b10f",
   "metadata": {},
   "outputs": [],
   "source": [
    "# For  Ex- \n",
    "import PyPDF as pdf\n",
    "path = 'STATEMENT OF PURPOSE .pdf'\n",
    "file = open(path,'rb')\n",
    "pdf = PyPDF2.PdfFileReader(file)\n",
    "for page in range(0,len(pdf.pages)):\n",
    "    print(pdf.pages[page])\n",
    "\n"
   ]
  },
  {
   "cell_type": "markdown",
   "id": "535d3aa8",
   "metadata": {},
   "source": [
    "##  3. What PdfFileReader variable stores the number of pages in the PDF document?"
   ]
  },
  {
   "cell_type": "markdown",
   "id": "d99e92d9",
   "metadata": {},
   "source": [
    "**Ans:-** <br>  **PDfFileReader** class provide a method Len(render.pages)  to store page no in a document."
   ]
  },
  {
   "cell_type": "code",
   "execution_count": null,
   "id": "744e7cd0",
   "metadata": {},
   "outputs": [],
   "source": [
    "# for Ex:-  \n",
    "import PyPDF as pdf\n",
    "path = 'STATEMENT OF PURPOSE .pdf'\n",
    "file = open(path,'rb')\n",
    "pdf1 = PyPDF2.PdfFileReader(file)\n",
    "P =  len(pdf.pages)"
   ]
  },
  {
   "cell_type": "markdown",
   "id": "edcafb3f",
   "metadata": {},
   "source": [
    "## 4. If a PdfFileReader object’s PDF is encrypted with the password swordfish, what must you do before you can obtain Page objects  from it?"
   ]
  },
  {
   "cell_type": "markdown",
   "id": "950d0bf6",
   "metadata": {},
   "source": [
    " **Ans:-**  <br>if the PdfFileReader objects's pdf  is ercrypted with  a apassword  swordfish and you are not aware  of it.<br>  first read the pdf using PdfFileReader class. PdfFileReader  class provide a attribute **isencrypted** to check pdf is encrypted or not if method returns true it pdf is encrypted and viceversa.\n",
    " if pdf is encrypted use the **decrypt()** method provided by PdfFileReader class first then try to read the contents/pages of the pdf, else PyPDF2 will raise the following **error PyPDF2.utils.PdfReadError: file has not been decrypted**"
   ]
  },
  {
   "cell_type": "code",
   "execution_count": null,
   "id": "acc47ea3",
   "metadata": {},
   "outputs": [],
   "source": [
    "#ForEx:-\n",
    "import PyPDF2 as pdf2\n",
    "path = 'testdata.pdf'\n",
    "f=open(path,'rb')\n",
    "file  = pdf2.PdfReader(f)\n",
    "if file.is_encrypted:\n",
    "    print(\"True\")\n",
    "    file.decrypt('sahd0104')\n",
    "for i in range(0,len(file.pages)):\n",
    "    print(file.pages[i])"
   ]
  },
  {
   "cell_type": "markdown",
   "id": "7069b79d",
   "metadata": {},
   "source": [
    "## 5. What methods do you use to rotate a page?"
   ]
  },
  {
   "cell_type": "markdown",
   "id": "904f9323",
   "metadata": {},
   "source": [
    "**Ans:-** <br> PyPDF2 Package provides 2 methods to rotate a page:<br>\n",
    "\n",
    "**rotateClockWise()** -> For Clockwise rotation<br>\n",
    "**rotateCounterClockWise()** -> For Counter Clockwise rotation<br>\n",
    "The PyPDF2 package only allows you to rotate a page in increments of 90 degrees. You will receive an AssertionError otherwise."
   ]
  },
  {
   "cell_type": "markdown",
   "id": "dacd7766",
   "metadata": {},
   "source": [
    "##  6. What is the difference between a Run object and a Paragraph object?"
   ]
  },
  {
   "cell_type": "markdown",
   "id": "4f8a03e7",
   "metadata": {},
   "source": [
    "Ans: The structure of a document is represented by three different data types in **python-Docx**.<br>\n",
    "    At the highest level, a Document object represents the entire document. The Document object contains a list of Paragraph objects for the paragraphs in the document. (A new paragraph begins whenever the user presses **ENTER **or **RETURN** while typing in a Word document.) Each of these Paragraph objects contains a list of one or more **Run objects**.\n",
    "\n",
    "The text in a Word document is more than just a string. It has font, size, color, and other styling information associated with it. A style in Word is a collection of these attributes. A Run object is a contiguous run of text with the same style. A new Run object is needed whenever the text style changes."
   ]
  },
  {
   "cell_type": "markdown",
   "id": "71a76445",
   "metadata": {},
   "source": [
    "##  7. How do you obtain a list of Paragraph objects for a Document object that’s stored in a variable named doc?"
   ]
  },
  {
   "cell_type": "markdown",
   "id": "a40922ef",
   "metadata": {},
   "source": [
    "**Ans:-**"
   ]
  },
  {
   "cell_type": "code",
   "execution_count": null,
   "id": "d6f55b19",
   "metadata": {},
   "outputs": [],
   "source": [
    "import docx  as doc \n",
    "dc =  doc.Document                                 # calling Document method of docx package.\n",
    "dc1  = dc(\"Project_INTERIM_REPORT_Format.docx\")          # Calling of doc file \n",
    "print(dc1.paragraphs)\n",
    "for i in dc1.paragraphs:                         # Printing paragrapg data of doc file.\n",
    "    print(i.text)"
   ]
  },
  {
   "cell_type": "markdown",
   "id": "bf768b9c",
   "metadata": {},
   "source": [
    "##  8. What type of object has bold, underline, italic, strike, and outline variables?"
   ]
  },
  {
   "cell_type": "markdown",
   "id": "da440f28",
   "metadata": {},
   "source": [
    "**Ans:-**<br> **Run** object has bold, underline, italic, strike, and outline variables. The text in a Word document is more than just a string. It has font, size, color, and other styling information associated with it.\n",
    "\n",
    "A style in Word is a collection of these attributes. A Run object is a contiguous run of text with the same style. A new Run object is needed whenever the text style changes."
   ]
  },
  {
   "cell_type": "markdown",
   "id": "d0bbe76a",
   "metadata": {},
   "source": [
    "##  9. What is the difference between False, True, and None for the bold variable?"
   ]
  },
  {
   "cell_type": "markdown",
   "id": "2ce4f370",
   "metadata": {},
   "source": [
    "bold = **True**  # Style Set to Bold<br>\n",
    "bold = **False** # Style Not Set to Bold<br>\n",
    "bold = **None** # Style is Not Applicable<br>"
   ]
  },
  {
   "cell_type": "markdown",
   "id": "8122b1af",
   "metadata": {},
   "source": [
    "##   10. How do you create a Document object for a new Word document?"
   ]
  },
  {
   "cell_type": "code",
   "execution_count": null,
   "id": "4eee06ba",
   "metadata": {},
   "outputs": [],
   "source": [
    "import docx as doc1\n",
    "document   = doc1.Document()\n",
    "document.add_paragraph(\"I'm a Aspiring Data Scientist\")\n",
    "document.save('Mynewdoc.docx')"
   ]
  },
  {
   "cell_type": "markdown",
   "id": "30853a2f",
   "metadata": {},
   "source": [
    "##  11. How do you add a paragraph with the text 'Hello, there!' to a Document object stored in a variable named doc"
   ]
  },
  {
   "cell_type": "code",
   "execution_count": null,
   "id": "a313a631",
   "metadata": {},
   "outputs": [],
   "source": [
    "import docx as doc1\n",
    "document   = doc1.Document()\n",
    "document.add_paragraph(\"Hello,there!\")\n",
    "document.save('Mydocument.docx')"
   ]
  },
  {
   "cell_type": "markdown",
   "id": "5ceb4ad2",
   "metadata": {},
   "source": [
    "## 12. What integers represent the levels of headings available in Word documents"
   ]
  },
  {
   "cell_type": "markdown",
   "id": "e36d9afc",
   "metadata": {},
   "source": [
    "**Ans:-** The levels for a heading in a word document can be specified by using the level attribute inside the add_heading method. There are a total of 5 levels statring for 0 t0 4. where level 0 makes a headline with the horizontal line below the text, whereas the heading level 1 is the main heading. Similarly, the other headings are sub-heading with their's font-sizes in decreasing order."
   ]
  },
  {
   "cell_type": "code",
   "execution_count": null,
   "id": "b2a78f72",
   "metadata": {},
   "outputs": [],
   "source": []
  }
 ],
 "metadata": {
  "kernelspec": {
   "display_name": "Python 3",
   "language": "python",
   "name": "python3"
  },
  "language_info": {
   "codemirror_mode": {
    "name": "ipython",
    "version": 3
   },
   "file_extension": ".py",
   "mimetype": "text/x-python",
   "name": "python",
   "nbconvert_exporter": "python",
   "pygments_lexer": "ipython3",
   "version": "3.8.8"
  }
 },
 "nbformat": 4,
 "nbformat_minor": 5
}

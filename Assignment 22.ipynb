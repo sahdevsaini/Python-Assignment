{
 "cells": [
  {
   "cell_type": "code",
   "execution_count": null,
   "id": "3b8bf7eb-691f-4683-94f9-1fb4e3454067",
   "metadata": {},
   "outputs": [],
   "source": [
    "1. What is the result of the code, and explain?\n",
    ">>> X = 'iNeuron'\n",
    ">>> def func():\n",
    "     print(X)\n",
    "\n",
    "\n",
    ">>> func()\n",
    "\n"
   ]
  },
  {
   "cell_type": "markdown",
   "id": "c0a9ae59-2248-4ca9-86a2-cc2e5434efca",
   "metadata": {},
   "source": [
    "**Ans:-** <br>result :- iNeuron<br>\n",
    "because X is a global varible and we can used it any where in code"
   ]
  },
  {
   "cell_type": "code",
   "execution_count": null,
   "id": "a3b94c6f-3023-4b77-8a4f-fbcb4054dfbe",
   "metadata": {},
   "outputs": [],
   "source": [
    "2. What is the result of the code, and explain?\n",
    "\n",
    "\n",
    ">>> X = 'iNeuron'\n",
    ">>> def func():\n",
    "X = 'NI!'\n",
    "\n",
    "\n",
    ">>> func()\n",
    ">>> print(X)"
   ]
  },
  {
   "cell_type": "markdown",
   "id": "19235903-734a-453c-bcaf-884bf21d1a88",
   "metadata": {},
   "source": [
    "**Ans:-** <br>result :- iNeuron<br>\n",
    "because function is not return any value and having print statement <br>\n",
    "So, print function directly print the value of X\n"
   ]
  },
  {
   "cell_type": "code",
   "execution_count": null,
   "id": "26297abb-3049-40d8-81d5-26978cc2565e",
   "metadata": {},
   "outputs": [],
   "source": [
    "3. What does this code print, and why?\n",
    "\n",
    "\n",
    ">>> X = 'iNeuron'\n",
    ">>> def func():\n",
    "X = 'NI'\n",
    "print(X)\n",
    "\n",
    "\n",
    ">>> func()\n",
    ">>> print(X)"
   ]
  },
  {
   "cell_type": "markdown",
   "id": "3de9cd5f-4668-4e62-b909-2441ef2074cd",
   "metadata": {},
   "source": [
    "**Ans:-** NI<br> \n",
    "iNeuron<br>\n",
    "NI will be printed due to functionn calling.<br>\n",
    "And Ineuron will be printed due to print function.\n"
   ]
  },
  {
   "cell_type": "code",
   "execution_count": null,
   "id": "07a0ef66-9d39-4fcf-83a1-4eeae9dad77b",
   "metadata": {},
   "outputs": [],
   "source": [
    "4. What output does this code produce? Why?\n",
    "\n",
    "\n",
    ">>> X = 'iNeuron'\n",
    ">>> def func():\n",
    "global X\n",
    "X = 'NI'\n",
    "\n",
    "\n",
    ">>> func()\n",
    ">>> print(X)"
   ]
  },
  {
   "cell_type": "markdown",
   "id": "3742f47e-9cd7-4986-b96b-3c6bd7d903ed",
   "metadata": {},
   "source": [
    "**Ans:-** NI because X declare as global varible inside the function.<br>\n",
    "after function calling value of X will be updated with NI."
   ]
  },
  {
   "cell_type": "code",
   "execution_count": null,
   "id": "f4ebc916-d68d-463f-bcb9-e1d2a3e26ff1",
   "metadata": {},
   "outputs": [],
   "source": [
    "5. What about this code—what’s the output, and why?\n",
    "\n",
    "\n",
    ">>> X = 'iNeuron'\n",
    ">>> def func():\n",
    "X = 'NI'\n",
    "def nested():\n",
    "print(X)\n",
    "nested()\n",
    "\n",
    "\n",
    ">>> func()\n",
    ">>> X\n"
   ]
  },
  {
   "cell_type": "markdown",
   "id": "16d8be77-b0a6-4396-b4bc-dc8e5577de14",
   "metadata": {},
   "source": [
    "**Ans:-** NI will be printed due to function calling.<br>\n",
    "    and 'iNeuron will be printed due to X."
   ]
  },
  {
   "cell_type": "code",
   "execution_count": null,
   "id": "aa4ad21a-f13d-4e89-842e-ff4795d4627d",
   "metadata": {},
   "outputs": [],
   "source": [
    "6. How about this code: what is its output in Python 3, and explain?\n",
    "\n",
    "\n",
    ">>> def func():\n",
    "X = 'NI'\n",
    "def nested():\n",
    "nonlocal X\n",
    "X = 'Spam'\n",
    "nested()\n",
    "print(X)\n",
    "\n",
    "\n",
    ">>> func()"
   ]
  },
  {
   "cell_type": "markdown",
   "id": "4f1bc7e3-465d-4ccb-830e-3e37aa69ba76",
   "metadata": {},
   "source": [
    "**Ans:-** spam "
   ]
  },
  {
   "cell_type": "code",
   "execution_count": null,
   "id": "f2c90513-975b-4952-882e-12469e8daf5e",
   "metadata": {},
   "outputs": [],
   "source": []
  }
 ],
 "metadata": {
  "kernelspec": {
   "display_name": "Python 3 (ipykernel)",
   "language": "python",
   "name": "python3"
  },
  "language_info": {
   "codemirror_mode": {
    "name": "ipython",
    "version": 3
   },
   "file_extension": ".py",
   "mimetype": "text/x-python",
   "name": "python",
   "nbconvert_exporter": "python",
   "pygments_lexer": "ipython3",
   "version": "3.10.6"
  }
 },
 "nbformat": 4,
 "nbformat_minor": 5
}

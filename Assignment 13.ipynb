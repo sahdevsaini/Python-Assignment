{
 "cells": [
  {
   "cell_type": "markdown",
   "id": "74751477-7eed-4129-94e8-e093ad63b1c9",
   "metadata": {},
   "source": [
    "## 1. What advantages do Excel spreadsheets have over CSV spreadsheets?"
   ]
  },
  {
   "cell_type": "markdown",
   "id": "2309db77-9e8a-4bf0-9cf6-73a08b64fc0b",
   "metadata": {},
   "source": [
    "**Ans:-** <br>The Advantages of Excel over CSV are:<br>\n",
    "\n",
    "**1.)Excel (XLS and XLSX)** file formats are better for storing and analysing complex data.<br>\n",
    "**2.)** An Excel not only stores data but can also do operations on the data using macros, formulas etc<br>\n",
    "**3.)CSV files** are plain-text files, Does not contain formatting, formulas, macros, etc. It is also known as **flat files** "
   ]
  },
  {
   "cell_type": "markdown",
   "id": "dc64d7da-8ec9-4a4f-aa5a-99bfaecf902b",
   "metadata": {},
   "source": [
    "## 2.What do you pass to csv.reader() and csv.writer() to create reader and writer objects?"
   ]
  },
  {
   "cell_type": "markdown",
   "id": "91afcaf4-0539-491b-8eeb-8989b8413abd",
   "metadata": {},
   "source": [
    "**Ans:-**<br>\n",
    "we pass filename"
   ]
  },
  {
   "cell_type": "code",
   "execution_count": 17,
   "id": "c8600415-0427-41b6-bc47-31f01a0e4c1c",
   "metadata": {},
   "outputs": [
    {
     "name": "stdout",
     "output_type": "stream",
     "text": [
      "['Jam', 'Jong', 'Protagonist']\n"
     ]
    }
   ],
   "source": [
    "import csv as c\n",
    "file = open('Sample.csv','r',encoding=\"utf8\", errors='ignore')\n",
    "filecsv = c.reader(file,delimiter=',')\n",
    "for i in filecsv:\n",
    "    print(i)"
   ]
  },
  {
   "cell_type": "code",
   "execution_count": 16,
   "id": "8442cdec-a623-4a84-9348-cda6b72bff31",
   "metadata": {},
   "outputs": [
    {
     "data": {
      "text/plain": [
       "22"
      ]
     },
     "execution_count": 16,
     "metadata": {},
     "output_type": "execute_result"
    }
   ],
   "source": [
    "import csv as c\n",
    "file = open('Sample.csv','w', newline='')\n",
    "writer = c.writer(file)\n",
    "writer.writerow([\"Jam\", \"Jong\", \"Protagonist\"])"
   ]
  },
  {
   "cell_type": "markdown",
   "id": "19522329-8647-47bb-98fb-e1d6c726fb12",
   "metadata": {},
   "source": [
    "## 3. What modes do File objects for reader and writer objects need to be opened in?"
   ]
  },
  {
   "cell_type": "markdown",
   "id": "d838edac-8d64-4a68-9327-60eaa427a2d2",
   "metadata": {},
   "source": [
    "**And:-**<br> For **csv.reader()**  file objects needed to be opened in read mode mode='**'r'**<br>\n",
    "               For **csv.writer()** file objects needed to be opened in read mode mode=**'w'**<br>"
   ]
  },
  {
   "cell_type": "markdown",
   "id": "d30576ba-ba24-49e7-922e-fd2194b5c001",
   "metadata": {},
   "source": [
    "\n",
    "## 4. What method takes a list argument and writes it to a CSV file?"
   ]
  },
  {
   "cell_type": "code",
   "execution_count": null,
   "id": "182d79b8-333f-4b3d-bd4f-073117979f7c",
   "metadata": {},
   "outputs": [],
   "source": [
    "import csv as c\n",
    "file = open('Sample.csv','w', newline='')\n",
    "writer = c.writer(file)\n",
    "writer.writerow([\"Jam\", \"Jong\", \"Protagonist\"])"
   ]
  },
  {
   "cell_type": "markdown",
   "id": "d638284a-5153-4840-b0b2-47f6399771cf",
   "metadata": {},
   "source": [
    "## 5. What do the keyword arguments delimiter and line terminator do?"
   ]
  },
  {
   "cell_type": "markdown",
   "id": "95412e7d-19b5-45b5-b222-bcfbc5c3da12",
   "metadata": {},
   "source": [
    "**Ans:-**<br> Lets take the example of a csv file:<br>\n",
    "First Name, Last Name, Age<br>\n",
    "Mano, Vishnu, 24<br>\n",
    "Vishnu, Vardhan, 21<br>\n",
    "Here **',' is Delimiter**. We can use any Character as per our needs if required. <br>\n",
    "Similarly **Line Terminator** comes at end of line by default it is **newline** and can be changed accourding to Requirement."
   ]
  },
  {
   "cell_type": "markdown",
   "id": "89ba7850-afd7-4304-abd9-2be2e5846789",
   "metadata": {},
   "source": [
    "## 6. What function takes a string of JSON data and returns a Python data structure?"
   ]
  },
  {
   "cell_type": "markdown",
   "id": "307e9ddd-01c3-462c-8e59-b8ad1f377532",
   "metadata": {},
   "source": [
    "**Ans:- loads()** method takes a string of JSON data and returns a Python data structure"
   ]
  },
  {
   "cell_type": "code",
   "execution_count": 19,
   "id": "e15b83b4-469e-48b4-b66e-cd30bde60358",
   "metadata": {},
   "outputs": [
    {
     "name": "stdout",
     "output_type": "stream",
     "text": [
      "{\n",
      "    \"Name\": \"Mano Vishnu\",\n",
      "    \"Qualification\": \"Bachelor of Technology\",\n",
      "    \"Stream\": \"Computer Science and Engineering\"\n",
      "}\n",
      "Type of my_details_json is <class 'str'>\n",
      "{'Name': 'Mano Vishnu', 'Qualification': 'Bachelor of Technology', 'Stream': 'Computer Science and Engineering'}\n",
      "Type of my_details is <class 'dict'>\n"
     ]
    }
   ],
   "source": [
    "# Example of json.loads() method\n",
    "import json\n",
    "my_details_json ='''{\n",
    "    \"Name\": \"Sahdev Saini\",\n",
    "    \"Qualification\": \"Master of Technology\",\n",
    "    \"Stream\": \"Computer Science and Engineering\"\n",
    "}'''\n",
    "print(my_details_json)\n",
    "print(f'Type of my_details_json is {type(my_details_json)}')\n",
    "my_details = json.loads(my_details_json)\n",
    "print(my_details)\n",
    "print(f'Type of my_details is {type(my_details)}')"
   ]
  },
  {
   "cell_type": "markdown",
   "id": "86b75c60-34df-4092-b97a-a99c09eae16b",
   "metadata": {},
   "source": [
    "## 7. What function takes a Python data structure and returns a string of JSON data?"
   ]
  },
  {
   "cell_type": "markdown",
   "id": "4db9770f-3a38-4405-97ad-b37f7f457071",
   "metadata": {},
   "source": [
    "**Ans:- dumps()** method takes a python data structure and returns a string of JSON data\n",
    "\n"
   ]
  },
  {
   "cell_type": "code",
   "execution_count": 22,
   "id": "c2e35dff-d59a-4773-aaae-970bd6a49613",
   "metadata": {},
   "outputs": [
    {
     "name": "stdout",
     "output_type": "stream",
     "text": [
      "{'Name': 'Sahdev Saini', 'Stream': 'Computer Science and Engineering', 'Qualification': 'Master of Technology'}\n",
      "Type of my_details is <class 'dict'>\n",
      "{\n",
      "    \"Name\": \"Sahdev Saini\",\n",
      "    \"Qualification\": \"Master of Technology\",\n",
      "    \"Stream\": \"Computer Science and Engineering\"\n",
      "}\n",
      "Type of my_details_json is <class 'str'>\n"
     ]
    }
   ],
   "source": [
    "# Example of json.dumps() method\n",
    "import json\n",
    "my_details = {\n",
    "    'Name':'Sahdev Saini',\n",
    "    'Stream':'Computer Science and Engineering',\n",
    "    'Qualification':'Master of Technology'\n",
    "}\n",
    "print(my_details)\n",
    "print(f'Type of my_details is {type(my_details)}')\n",
    "my_details_json = json.dumps(my_details, indent=4, sort_keys=True)\n",
    "print(my_details_json)\n",
    "print(f'Type of my_details_json is {type(my_details_json)}')"
   ]
  }
 ],
 "metadata": {
  "kernelspec": {
   "display_name": "Python 3 (ipykernel)",
   "language": "python",
   "name": "python3"
  },
  "language_info": {
   "codemirror_mode": {
    "name": "ipython",
    "version": 3
   },
   "file_extension": ".py",
   "mimetype": "text/x-python",
   "name": "python",
   "nbconvert_exporter": "python",
   "pygments_lexer": "ipython3",
   "version": "3.10.6"
  }
 },
 "nbformat": 4,
 "nbformat_minor": 5
}

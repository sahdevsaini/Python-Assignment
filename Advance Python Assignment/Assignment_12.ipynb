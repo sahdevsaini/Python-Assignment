{
 "cells": [
  {
   "cell_type": "markdown",
   "id": "55446dfa-c176-40d9-a289-2fbf9505dd2c",
   "metadata": {},
   "source": [
    "## ------------------------------------ Assignment-12 -------------------------------"
   ]
  },
  {
   "cell_type": "markdown",
   "id": "1ec0887f-355c-4f37-b12b-890bdc5102a3",
   "metadata": {},
   "source": [
    "## Q1. Does assigning a value to a string's indexed character violate Python's string immutability?"
   ]
  },
  {
   "cell_type": "markdown",
   "id": "ccde119a-bcc0-49ee-9073-804c548f6f78",
   "metadata": {},
   "source": [
    "**Ans:-** String’s indexed character cannot to be assigned a New value , as Strings are immutable."
   ]
  },
  {
   "cell_type": "code",
   "execution_count": 2,
   "id": "e73cc55b-2131-4e36-a747-77eb4eb8b7f4",
   "metadata": {},
   "outputs": [
    {
     "name": "stdout",
     "output_type": "stream",
     "text": [
      "139925011851952\n"
     ]
    },
    {
     "ename": "TypeError",
     "evalue": "'str' object does not support item assignment",
     "output_type": "error",
     "traceback": [
      "\u001b[0;31m---------------------------------------------------------------------------\u001b[0m",
      "\u001b[0;31mTypeError\u001b[0m                                 Traceback (most recent call last)",
      "Cell \u001b[0;32mIn [2], line 4\u001b[0m\n\u001b[1;32m      2\u001b[0m name \u001b[38;5;241m=\u001b[39m \u001b[38;5;124m\"\u001b[39m\u001b[38;5;124mReinforcement\u001b[39m\u001b[38;5;124m\"\u001b[39m\n\u001b[1;32m      3\u001b[0m \u001b[38;5;28mprint\u001b[39m(\u001b[38;5;28mid\u001b[39m(name)) \u001b[38;5;66;03m#73472\u001b[39;00m\n\u001b[0;32m----> 4\u001b[0m \u001b[43mname\u001b[49m\u001b[43m[\u001b[49m\u001b[38;5;241;43m0\u001b[39;49m\u001b[43m]\u001b[49m \u001b[38;5;241m=\u001b[39m \u001b[38;5;124m\"\u001b[39m\u001b[38;5;124mV\u001b[39m\u001b[38;5;124m\"\u001b[39m\n",
      "\u001b[0;31mTypeError\u001b[0m: 'str' object does not support item assignment"
     ]
    }
   ],
   "source": [
    "## Example:\n",
    "name = \"Reinforcement\"\n",
    "print(id(name)) #73472\n",
    "name[0] = \"V\" # Raises TypeError"
   ]
  },
  {
   "cell_type": "markdown",
   "id": "25b0428e-1375-428e-90ea-4e0d07768962",
   "metadata": {},
   "source": [
    "## Q2. Does using the += operator to concatenate strings violate Python's string immutability? Why or why not?"
   ]
  },
  {
   "cell_type": "markdown",
   "id": "7b459709-5704-49fd-a69f-75cc582b09d6",
   "metadata": {},
   "source": [
    "**Ans:-** += operator is used to concatenate strings, it **does not** violate Python’s string immutability Property. Because **doing so new creates a new association with data and variable**.<br> **E.g. str_1=\"a\"** and **str_1+=\"b**. effect of this statements to create string ab and reassign it to variable str_1, any string data is not actually modified."
   ]
  },
  {
   "cell_type": "code",
   "execution_count": 3,
   "id": "163fb37c-7b11-4766-aaa5-bb6d61333fc0",
   "metadata": {},
   "outputs": [
    {
     "name": "stdout",
     "output_type": "stream",
     "text": [
      "139925058613744\n",
      "139925011854448\n"
     ]
    }
   ],
   "source": [
    "str_1 = 'a'\n",
    "print(id(str_1))\n",
    "str_1 += 'b'\n",
    "print(id(str_1)) # Does not Modify existing string, Creates a New String Object"
   ]
  },
  {
   "cell_type": "markdown",
   "id": "e358fae1-cb45-4929-9925-00f575997d9a",
   "metadata": {},
   "source": [
    "## Q3. In Python, how many different ways are there to index a character?"
   ]
  },
  {
   "cell_type": "markdown",
   "id": "2a0b33c0-8190-453f-a3aa-ac18b5a8c3b4",
   "metadata": {},
   "source": [
    "**Ans:-** A Character in string can be indexed **using string name followed by index number of character in square bracket**.<br> **Positive Indexing** <br>i.e. first index is 0 an so on, or <br>**Negative Indexing** <br>i.e. last letter is -1 <br>and so on can be used to index a character"
   ]
  },
  {
   "cell_type": "code",
   "execution_count": 4,
   "id": "7f1481a9-a5ab-4e54-bc3d-a8b8ae12b14b",
   "metadata": {},
   "outputs": [
    {
     "name": "stdout",
     "output_type": "stream",
     "text": [
      "u l e\n",
      "e i c\n"
     ]
    }
   ],
   "source": [
    "in_string = \"iNeuron Full Stack Data Science\"\n",
    "print(in_string[9],in_string[10],in_string[2]) # Positive Indexing\n",
    "print(in_string[-1],in_string[-5],in_string[-2]) # Negative Indexing"
   ]
  },
  {
   "cell_type": "markdown",
   "id": "52e562d7-6659-4768-a642-59258113d3dd",
   "metadata": {},
   "source": [
    "## Q4. What is the relationship between indexing and slicing?"
   ]
  },
  {
   "cell_type": "markdown",
   "id": "1056b936-d616-4df7-86f5-5a5d6e65a70e",
   "metadata": {},
   "source": [
    "**Ans:-** We can access elements of sequence datatypes by using slicing and indexing.<br> **Indexing** is used to obtaining **individual** element <br>while **slicing for sequence of elements**."
   ]
  },
  {
   "cell_type": "code",
   "execution_count": 5,
   "id": "914aa1a3-d462-417e-925e-37b3a4cbb762",
   "metadata": {},
   "outputs": [
    {
     "name": "stdout",
     "output_type": "stream",
     "text": [
      "N u o\n",
      "Neuron Full St\n"
     ]
    }
   ],
   "source": [
    "in_string = \"iNeuron Full Stack Data Science\"\n",
    "print(in_string[1],in_string[3],in_string[5]) # Indexing\n",
    "print(in_string[1:15]) # Slicing"
   ]
  },
  {
   "cell_type": "markdown",
   "id": "a19e316c-50f9-484a-b806-d4ce25675839",
   "metadata": {},
   "source": [
    "## Q5. What is an indexed character's exact data type? What is the data form of a slicing-generated substring?"
   ]
  },
  {
   "cell_type": "markdown",
   "id": "a7f4500b-1099-4e69-9d40-0531e6141b90",
   "metadata": {},
   "source": [
    "**Ans:-** Indexed characters and sliced substrings have **datatype String**."
   ]
  },
  {
   "cell_type": "code",
   "execution_count": 6,
   "id": "e490495e-f9d1-4611-999d-35a73d22e1eb",
   "metadata": {},
   "outputs": [
    {
     "name": "stdout",
     "output_type": "stream",
     "text": [
      "<class 'str'>\n",
      "<class 'str'>\n"
     ]
    }
   ],
   "source": [
    "in_string = \"iNeuron Full Stack Data Science\"\n",
    "print(type(in_string[3])) # Indexing -> str\n",
    "print(type(in_string[1:10])) # Indexing -> str"
   ]
  },
  {
   "cell_type": "markdown",
   "id": "5c7dc0b2-9625-4c3b-8c2a-21c3f9b0f3f8",
   "metadata": {},
   "source": [
    "## Q6. What is the relationship between string and character \"types\" in Python?"
   ]
  },
  {
   "cell_type": "markdown",
   "id": "1b1f484a-5718-424f-ae9e-6f0ac70daabc",
   "metadata": {},
   "source": [
    "**Ans:-** Object that contains sequence of character datatypes are called **String**."
   ]
  },
  {
   "cell_type": "markdown",
   "id": "8c159542-2026-4f95-b1b4-cb9a36dcf40c",
   "metadata": {},
   "source": [
    "## Q7. Identify at least two operators and one method that allow you to combine one or more smaller strings to create a larger string."
   ]
  },
  {
   "cell_type": "markdown",
   "id": "64c3fd81-22a7-45d3-9bca-0327da57d2d4",
   "metadata": {},
   "source": [
    "**Ans:-** <br>1.) + <br>2.) += <br>3.) * <br>allow to combine one or more smaller strings to create a larger string.<br> **\\<string>.join(\\<sep>)** method joins element of iterable type like **list and tuple** to get a combined string."
   ]
  },
  {
   "cell_type": "code",
   "execution_count": 7,
   "id": "3fb51ea6-f482-417b-8f07-5ac88d40b849",
   "metadata": {},
   "outputs": [
    {
     "name": "stdout",
     "output_type": "stream",
     "text": [
      "iNeuron Full Stack Data Science FSDS\n",
      "FSDS FSDS FSDS \n",
      "I N E U R O N\n",
      "i n e u r o n\n"
     ]
    }
   ],
   "source": [
    "in_string = 'iNeuron '\n",
    "in_string += 'Full Stack Data Science'\n",
    "print(in_string + ' FSDS')\n",
    "print('FSDS '*3)\n",
    "print(\" \".join(['I','N','E','U','R','O','N'])) # List Iterable\n",
    "print(\" \".join(('I','N','E','U','R','O','N')).lower()) # Tuple Iterable"
   ]
  },
  {
   "cell_type": "markdown",
   "id": "a4614060-6f7e-4dab-b313-bc5e0ba49aaf",
   "metadata": {},
   "source": [
    "## Q8. What is the benefit of first checking the target string with in or not in before using the index method to find a substring?"
   ]
  },
  {
   "cell_type": "markdown",
   "id": "e41ee45b-bd24-48e2-a3e5-c2ddc589600b",
   "metadata": {},
   "source": [
    "**Ans:-** Checking the target **string with in or not Operators** before using the **index method** to find a substring just helps confirming availability of substring and thus avoid **raising of ValueError**."
   ]
  },
  {
   "cell_type": "markdown",
   "id": "6a86c4a4-28ea-4dca-bf6d-e9613f42c74f",
   "metadata": {},
   "source": [
    "## Q9. Which operators and built-in string methods produce simple Boolean (true/false) results?"
   ]
  },
  {
   "cell_type": "markdown",
   "id": "9bee35ef-5ab2-4dac-af80-63814ad4380d",
   "metadata": {},
   "source": [
    "**Ans:-** The String Operators and built-in methods to Produce Simple Boolean (True/False) Results are:"
   ]
  },
  {
   "cell_type": "markdown",
   "id": "337cdf96-af1d-4bc7-90c6-66d1162d3b8e",
   "metadata": {},
   "source": [
    "**in<br>**\n",
    "**not<br>**\n",
    "**<string>.isalpha()<br>**\n",
    "**<string>.isalnum()<br>**\n",
    "**<string>.isdecimal()<br>**\n",
    "**<string>.isdigit()<br>**\n",
    "**<string>.islower()<br>**\n",
    "**<string>.isnumeric()<br>**\n",
    "**<string>.isprintable()<br>**\n",
    "**<string>.isspace()<br>**\n",
    "**<string>.istitle()<br>**"
   ]
  },
  {
   "cell_type": "code",
   "execution_count": null,
   "id": "9b02438f-a994-4ab9-a491-9e41898094d8",
   "metadata": {},
   "outputs": [],
   "source": []
  }
 ],
 "metadata": {
  "kernelspec": {
   "display_name": "Python 3 (ipykernel)",
   "language": "python",
   "name": "python3"
  },
  "language_info": {
   "codemirror_mode": {
    "name": "ipython",
    "version": 3
   },
   "file_extension": ".py",
   "mimetype": "text/x-python",
   "name": "python",
   "nbconvert_exporter": "python",
   "pygments_lexer": "ipython3",
   "version": "3.10.6"
  }
 },
 "nbformat": 4,
 "nbformat_minor": 5
}

{
 "cells": [
  {
   "cell_type": "markdown",
   "id": "e52c73d3-470b-4ab7-b206-86552331ddc3",
   "metadata": {},
   "source": [
    "## ------------------------- Assignment_8 ------------------------"
   ]
  },
  {
   "cell_type": "markdown",
   "id": "046d12b2-3dee-4a1a-8efb-faa3151bf08a",
   "metadata": {},
   "source": [
    "## Q1. What are the two latest user-defined exception constraints in Python 3.X?"
   ]
  },
  {
   "cell_type": "markdown",
   "id": "4a26eb4f-77e2-4be0-aefd-d5e94e7bf254",
   "metadata": {},
   "source": [
    "**Ans:-** **raise** and **assert** are the two latest user-defined exception constraints in Python 3.X"
   ]
  },
  {
   "cell_type": "markdown",
   "id": "88e1ac25-57ff-4193-8f04-38d3c071f3ac",
   "metadata": {},
   "source": [
    "## Q2. How are class-based exceptions that have been raised matched to handlers?"
   ]
  },
  {
   "cell_type": "markdown",
   "id": "f043cdb1-812f-421e-9809-7ab05673ea6d",
   "metadata": {},
   "source": [
    "**Ans:-** In python, Users can define custom exceptions by creating a **new class**. This exception class has to be derived, either directly or indirectly from built-in **Exception class**. This new exception class like other exceptions can be raised using the **raise** statement with an optional error message."
   ]
  },
  {
   "cell_type": "code",
   "execution_count": 1,
   "id": "fe65aaf3-63d7-44b0-b795-68a46878680c",
   "metadata": {},
   "outputs": [
    {
     "ename": "ToYoungException",
     "evalue": "To Young For Voting",
     "output_type": "error",
     "traceback": [
      "\u001b[0;31m---------------------------------------------------------------------------\u001b[0m",
      "\u001b[0;31mToYoungException\u001b[0m                          Traceback (most recent call last)",
      "Cell \u001b[0;32mIn [1], line 5\u001b[0m\n\u001b[1;32m      3\u001b[0m         \u001b[38;5;28mself\u001b[39m\u001b[38;5;241m.\u001b[39mmsg \u001b[38;5;241m=\u001b[39m msg\n\u001b[1;32m      4\u001b[0m age \u001b[38;5;241m=\u001b[39m \u001b[38;5;241m12\u001b[39m\n\u001b[0;32m----> 5\u001b[0m \u001b[38;5;28;01mif\u001b[39;00m age \u001b[38;5;241m<\u001b[39m\u001b[38;5;241m=\u001b[39m \u001b[38;5;241m18\u001b[39m: \u001b[38;5;28;01mraise\u001b[39;00m ToYoungException(\u001b[38;5;124m'\u001b[39m\u001b[38;5;124mTo Young For Voting\u001b[39m\u001b[38;5;124m'\u001b[39m)\n",
      "\u001b[0;31mToYoungException\u001b[0m: To Young For Voting"
     ]
    }
   ],
   "source": [
    "class ToYoungException(Exception):\n",
    "    def __init__(self,msg):\n",
    "        self.msg = msg\n",
    "age = 12\n",
    "if age <= 18: raise ToYoungException('To Young For Voting')"
   ]
  },
  {
   "cell_type": "markdown",
   "id": "cd0e3ab5-7efe-4f76-8047-cf32dd4c9ff6",
   "metadata": {},
   "source": [
    "## Q3. Describe two methods for attaching context information to exception artefacts."
   ]
  },
  {
   "cell_type": "markdown",
   "id": "3deae257-edc2-40a7-8555-5ba7c0d3db2e",
   "metadata": {},
   "source": [
    "**Ans:-** The **process()** method of LoggerAdapter is where the contextual information is added to the logging output. its passes the message and keyword arguments of the logging call, and it passes back modified versions of these to use in the call to the underlying logger.\n",
    "\n",
    "Other method that can be used is **exception()**, Logs a messgae with level ERROR on this logger. The arguments are interpreted as for **debug()**. Exception info is added to the logging message."
   ]
  },
  {
   "cell_type": "markdown",
   "id": "b5a41cf3-35a5-4da9-900b-962c82d8ae1f",
   "metadata": {},
   "source": [
    "## Q4. Describe two methods for specifying the text of an exception object's error message."
   ]
  },
  {
   "cell_type": "markdown",
   "id": "c9499b00-641f-4994-aada-5c8bd4d3f492",
   "metadata": {},
   "source": [
    "**Ans:-** **raise** and **assert** are two methods for specifying the text of an exception object's error message.raise statement is used to trigger explicit exception, if certain condition is not as per requirement of programmer. it helps in triggering exception as per need of programmer and logic.\n",
    "\n",
    "There are few assertions that programmer always want to be True to avoid code failure. This type of requirment is fullfilled by assert statement. This statement takes a Boolean Condition output of which if True, further program executes. if output of assert statement is False it raises an Assertion Error."
   ]
  },
  {
   "cell_type": "markdown",
   "id": "2e4d15d5-578c-4a88-abdb-cdc84912e17b",
   "metadata": {},
   "source": [
    "## Q5. Why do you no longer use string-based exceptions"
   ]
  },
  {
   "cell_type": "markdown",
   "id": "79d8a719-1f10-475d-8846-f3d4f9b344b9",
   "metadata": {},
   "source": [
    "**Ans:-** String-based Exceptions doesn't inherit from Exceptions. so plain exceptions catch all exceptions and not only system."
   ]
  },
  {
   "cell_type": "code",
   "execution_count": null,
   "id": "ab3b8280-749c-44db-beac-c0bb07acce91",
   "metadata": {},
   "outputs": [],
   "source": []
  }
 ],
 "metadata": {
  "kernelspec": {
   "display_name": "Python 3 (ipykernel)",
   "language": "python",
   "name": "python3"
  },
  "language_info": {
   "codemirror_mode": {
    "name": "ipython",
    "version": 3
   },
   "file_extension": ".py",
   "mimetype": "text/x-python",
   "name": "python",
   "nbconvert_exporter": "python",
   "pygments_lexer": "ipython3",
   "version": "3.10.6"
  }
 },
 "nbformat": 4,
 "nbformat_minor": 5
}

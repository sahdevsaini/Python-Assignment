{
 "cells": [
  {
   "cell_type": "markdown",
   "id": "6bf1cad4-f3ef-47e4-a324-a655aa6cb093",
   "metadata": {},
   "source": [
    "## ---------------------------------- Assingment-11 ------------------------------------"
   ]
  },
  {
   "cell_type": "markdown",
   "id": "0cc534d3-0075-4ac1-8846-5f684bad204e",
   "metadata": {},
   "source": [
    "## Q1. What is the concept of a metaclass?"
   ]
  },
  {
   "cell_type": "markdown",
   "id": "fe3172bf-3d00-4b95-9fae-03a337311f0a",
   "metadata": {},
   "source": [
    "**Ans:- Metaclass** in Python is a class of a class that defines **how a class behaves**. A class is itself a **instance of Metaclass**, and any Instance of Class in Python is an Instance of type metaclass. <br>E.g. Type of of int, str, float, list, tuple and many more is of metaclass type."
   ]
  },
  {
   "cell_type": "markdown",
   "id": "b260597e-f43a-4c59-b515-1d1d6b5da0aa",
   "metadata": {},
   "source": [
    "## Q2. What is the best way to declare a class's metaclass?"
   ]
  },
  {
   "cell_type": "markdown",
   "id": "e6664366-2910-4b6f-a97a-d6a64aca7e24",
   "metadata": {},
   "source": [
    "**Ans:-** A way to declare a class’ metaclass is by using **metaclass keyword** in class definition."
   ]
  },
  {
   "cell_type": "code",
   "execution_count": 1,
   "id": "7b9ab0c9-e349-4c85-8f0a-e0aa3732b9a3",
   "metadata": {},
   "outputs": [
    {
     "name": "stdout",
     "output_type": "stream",
     "text": [
      "<class 'type'>\n",
      "<class '__main__.meta'>\n"
     ]
    }
   ],
   "source": [
    "class meta(type):\n",
    "    pass\n",
    "class class_meta(metaclass=meta):\n",
    "    pass\n",
    "print(type(meta))\n",
    "print(type(class_meta))"
   ]
  },
  {
   "cell_type": "markdown",
   "id": "5a3a3abe-6841-4856-8ee0-b3666ff7392e",
   "metadata": {},
   "source": [
    "## Q3. How do class decorators overlap with metaclasses for handling classes?"
   ]
  },
  {
   "cell_type": "markdown",
   "id": "1db5d26e-af0a-4d17-9135-148827dbe96e",
   "metadata": {},
   "source": [
    "**Ans:-** Anything you can do with a class decorator, you can of course do with a custom metaclasses (just apply the functionality of the \"decorator function\", <br>i.e., the one that takes a class object and modifies it, in the course of the metaclass's **\\_\\_new__** or **\\_\\_init__** that make the class object!)"
   ]
  },
  {
   "cell_type": "markdown",
   "id": "0853346b-3835-4439-808f-ead36fff3326",
   "metadata": {},
   "source": [
    "## Q4. How do class decorators overlap with metaclasses for handling instances?"
   ]
  },
  {
   "cell_type": "markdown",
   "id": "49466052-8d94-4719-8a6f-ebaf1145ad6d",
   "metadata": {},
   "source": [
    "**Ans:-** Anything you can do with a class decorator, you can of course do with a custom metaclasses (just apply the functionality of the \"decorator function\", <br>i.e., the one that takes a class object and modifies it, in the course of the metaclass's **\\_\\_new__** or **\\_\\_init__** that make the class object!)"
   ]
  }
 ],
 "metadata": {
  "kernelspec": {
   "display_name": "Python 3 (ipykernel)",
   "language": "python",
   "name": "python3"
  },
  "language_info": {
   "codemirror_mode": {
    "name": "ipython",
    "version": 3
   },
   "file_extension": ".py",
   "mimetype": "text/x-python",
   "name": "python",
   "nbconvert_exporter": "python",
   "pygments_lexer": "ipython3",
   "version": "3.10.6"
  }
 },
 "nbformat": 4,
 "nbformat_minor": 5
}

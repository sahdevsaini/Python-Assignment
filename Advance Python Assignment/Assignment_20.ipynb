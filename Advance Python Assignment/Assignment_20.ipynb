{
 "cells": [
  {
   "cell_type": "markdown",
   "id": "eaf52bd4-c884-4ce9-8e80-32f7540c5172",
   "metadata": {},
   "source": [
    "## ---------------------------------- Assignment_20 ------------------------------"
   ]
  },
  {
   "cell_type": "markdown",
   "id": "5ecc19d1-9d05-462b-8927-cff9737918d4",
   "metadata": {},
   "source": [
    "## 1. Compare and contrast the float and Decimal classes' benefits and drawbacks."
   ]
  },
  {
   "cell_type": "markdown",
   "id": "a1fb64bf-a1ec-4072-9acf-e11d0bdeab2b",
   "metadata": {},
   "source": [
    "**Ans:-** Both the **float** and **decimal** types store numerical values in Python.<br>\n",
    "Use **floats** when convenience and speed matter. A float gives you an **approximation** of the number you declare.<br>\n",
    "Use **decimals** when **precision** matters. **Decimals** can suffer from their own precision issues, but generally, decimals are more precise than floats. <br>The performance difference between **float** and **decimal**, with Python 3, is not outlandish, and in my experience, the **precision** benefits of a **decimal** outweigh the performance benefits of a float."
   ]
  },
  {
   "cell_type": "markdown",
   "id": "06eceff7-668f-483d-a75c-6b96227f5a0e",
   "metadata": {},
   "source": [
    "## 2. Decimal('1.200') and Decimal('1.2') are two objects to consider. In what sense are these the same object? Are these just two ways of representing the exact same value, or do they correspond to different internal states?"
   ]
  },
  {
   "cell_type": "markdown",
   "id": "2d146649-5c16-49ae-a37a-ac56e54bf90d",
   "metadata": {},
   "source": [
    "**Ans:-** Both values are same but internal representation at storage Is different.<br>Decimal('1.200') is more precise and accurate than Decimal('1.2')"
   ]
  },
  {
   "cell_type": "markdown",
   "id": "8a5cbee8-0607-463f-9598-81acd7aff089",
   "metadata": {},
   "source": [
    "## 3. What happens if the equality of Decimal('1.200') and Decimal('1.2') is checked?"
   ]
  },
  {
   "cell_type": "markdown",
   "id": "567a50e3-39e9-45c8-b8e8-b289edda5ea6",
   "metadata": {},
   "source": [
    "**Ans:-** Both value are checked to equal only fodderencein precision."
   ]
  },
  {
   "cell_type": "code",
   "execution_count": 1,
   "id": "6fdc5cf0-b246-4d6b-87e5-8402b6ad91bf",
   "metadata": {},
   "outputs": [
    {
     "name": "stdout",
     "output_type": "stream",
     "text": [
      "True\n"
     ]
    }
   ],
   "source": [
    "if 1.200 == 1.2:\n",
    "    print('True')"
   ]
  },
  {
   "cell_type": "markdown",
   "id": "fe490e8e-cc8e-42ee-96b5-c57c5896fe4a",
   "metadata": {},
   "source": [
    "## 4. Why is it preferable to start a Decimal object with a string rather than a floating-point value?"
   ]
  },
  {
   "cell_type": "markdown",
   "id": "50925c67-ef90-4aa3-b3b2-5c7534a74070",
   "metadata": {},
   "source": [
    "**Ans:-** **Floating-point** value is converted to **Decimal** format. **Decimal** can store float value with **absolute precision**.<br>But when **float value** is given as Decimal object,<br>it first has to be converted from floating point value which might already have rounding error.\n",
    "\n",
    "Hence it is preferable to start a Decimal object with a string."
   ]
  },
  {
   "cell_type": "markdown",
   "id": "17cd9520-29d1-4e48-b063-d6cb8ea37827",
   "metadata": {},
   "source": [
    "## 5. In an arithmetic phrase, how simple is it to combine Decimal objects with integers?"
   ]
  },
  {
   "cell_type": "markdown",
   "id": "916ab08b-8fb0-4392-b6cb-e1747c94c8d1",
   "metadata": {},
   "source": [
    "**Ans:-** We can do it with use of **Decimal()**"
   ]
  },
  {
   "cell_type": "markdown",
   "id": "3cebdf5b-92c9-407d-85cf-8d92a092ef61",
   "metadata": {},
   "source": [
    "## 6. Can Decimal objects and floating-point values be combined easily?"
   ]
  },
  {
   "cell_type": "markdown",
   "id": "b51bf304-7f7c-4191-aef3-8c12aa2acfba",
   "metadata": {},
   "source": [
    "**Ans:-**<br> Arithmetic operations like **Adding**,**subtracting** or **multiplying** a decimal object by a floating-point value is **generates an error**.<br>\n",
    "\n",
    "To do these operations, the floating point has to be converted to a Decimal."
   ]
  },
  {
   "cell_type": "markdown",
   "id": "ca55deef-6c70-48d1-a988-3b65373cb77d",
   "metadata": {},
   "source": [
    "## 7. Using the Fraction class but not the Decimal class, give an example of a quantity that can be expressed with absolute precision."
   ]
  },
  {
   "cell_type": "markdown",
   "id": "27914d96-ec4a-4866-8b12-07b983e3ecef",
   "metadata": {},
   "source": [
    "**Ans-** Value of 0.5 will be represented as ½"
   ]
  },
  {
   "cell_type": "markdown",
   "id": "cfe1eb9c-b0b8-426a-9d0a-3ff59dc769cb",
   "metadata": {},
   "source": [
    "## 8. Describe a quantity that can be accurately expressed by the Decimal or Fraction classes but not by a floating-point value."
   ]
  },
  {
   "cell_type": "markdown",
   "id": "adafe101-3a95-49a1-9db3-13307eb3e371",
   "metadata": {},
   "source": [
    "**Ans:-** Any number which cannot be written as the sum of **positive and negative powers of 2** cannot be exactly represented as a floating-point number.<br>\n",
    "**Example :-** 1/3, 2/3, 1/5."
   ]
  },
  {
   "cell_type": "markdown",
   "id": "f44de5f4-b2e5-4cf1-bad5-048e3b0ae030",
   "metadata": {},
   "source": [
    "## Q9.Consider the following two fraction objects: Fraction(1, 2) and Fraction(1, 2). (5, 10). Is the internal state of these two objects the same? Why do you think that is?"
   ]
  },
  {
   "cell_type": "markdown",
   "id": "a1b8aed5-a411-4ea8-81bb-6b05a667d101",
   "metadata": {},
   "source": [
    "**Ans:-** Both will be reduced to 1/2"
   ]
  },
  {
   "cell_type": "markdown",
   "id": "333a3a94-e9f7-4921-acaf-fceef6b3794b",
   "metadata": {},
   "source": [
    "## Q10. How do the Fraction class and the integer type (int) relate to each other? Containment or inheritance?"
   ]
  },
  {
   "cell_type": "markdown",
   "id": "73ca1faa-f392-4514-9061-8f52b795f4f1",
   "metadata": {},
   "source": [
    "**Ans:-** Fraction class and integer type(int) are related in form of a container.It contains two ints, one the numerator and the other the denominator"
   ]
  },
  {
   "cell_type": "code",
   "execution_count": null,
   "id": "dc3f578d-e814-4646-b4a1-e33b9917dfa5",
   "metadata": {},
   "outputs": [],
   "source": []
  }
 ],
 "metadata": {
  "kernelspec": {
   "display_name": "Python 3 (ipykernel)",
   "language": "python",
   "name": "python3"
  },
  "language_info": {
   "codemirror_mode": {
    "name": "ipython",
    "version": 3
   },
   "file_extension": ".py",
   "mimetype": "text/x-python",
   "name": "python",
   "nbconvert_exporter": "python",
   "pygments_lexer": "ipython3",
   "version": "3.10.6"
  }
 },
 "nbformat": 4,
 "nbformat_minor": 5
}

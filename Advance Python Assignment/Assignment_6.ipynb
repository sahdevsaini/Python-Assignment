{
 "cells": [
  {
   "cell_type": "markdown",
   "id": "7cd28a96-d938-449a-a5fa-9619414fd21c",
   "metadata": {},
   "source": [
    "## ------------------------------- Assignment_6 -----------------------------"
   ]
  },
  {
   "cell_type": "markdown",
   "id": "fccdd68f-2961-43a6-a99e-b8606bd5cac1",
   "metadata": {},
   "source": [
    "## Q1. Describe three applications for exception processing.\n"
   ]
  },
  {
   "cell_type": "markdown",
   "id": "13978c83-d0fa-48c3-9cfa-a03056d6c86c",
   "metadata": {},
   "source": [
    "**Ans:- Exception Processing** is important to find exceptions that causes the **runtime error**.<br> As runtime errors Halt the program execution when exception occurs.<br>\n",
    "\n",
    "Exception Processing is used in Various Applications of which few examples are:<br>\n",
    "<br>\n",
    "Checking Appropriate use of input in an application<br>\n",
    "Checking for Arithmetic exceptions in mathematical executions<br>\n",
    "Checking File I/O exceptions during File handling"
   ]
  },
  {
   "cell_type": "markdown",
   "id": "8b2e35c8-9a1f-4f1d-b45b-df44511de897",
   "metadata": {},
   "source": [
    "## Q2. What happens if you don't do something extra to treat an exception?"
   ]
  },
  {
   "cell_type": "markdown",
   "id": "392c60f2-3223-4c72-bfb8-f2c81d57802a",
   "metadata": {},
   "source": [
    "**Ans:-** If **Exceptions** are not handled flow of program will be broken during the run time which might lead to a abnormal termination of the program. <br>In short inability of program to handle exceptions will result in crashing of program."
   ]
  },
  {
   "cell_type": "markdown",
   "id": "a878b113-f844-4510-a871-1f69d473cce0",
   "metadata": {},
   "source": [
    "## Q3. What are your options for recovering from an exception in your script?"
   ]
  },
  {
   "cell_type": "markdown",
   "id": "e32941f8-3abd-4394-a0c7-c11044cbc8b4",
   "metadata": {},
   "source": [
    "**Ans:-** Python provides **try** and **except** statements for recovering from an exception in your script."
   ]
  },
  {
   "cell_type": "markdown",
   "id": "07c08de0-c68d-4656-9421-57033eda92b9",
   "metadata": {},
   "source": [
    "## Q4. Describe two methods for triggering exceptions in your script."
   ]
  },
  {
   "cell_type": "markdown",
   "id": "8c12760a-851d-4b55-bfa4-02b1864cc60c",
   "metadata": {},
   "source": [
    "**Ans:-** **raise** and **assert** are two methods that can be used to trigger manual exceptions in your script.<br>\n",
    "\n",
    "**raise method** triggers an exception if condition provided to it turns out to be **True**.<br>\n",
    "**assert** will let the program to continue execution if condition provided to it turns out to be True else exception will be raised"
   ]
  },
  {
   "cell_type": "code",
   "execution_count": 1,
   "id": "6c38434f-89cf-430c-a5a3-975ea9ab874d",
   "metadata": {},
   "outputs": [
    {
     "ename": "Exception",
     "evalue": "X Value Should not exceed 5 The Provided Value of X is 10",
     "output_type": "error",
     "traceback": [
      "\u001b[0;31m---------------------------------------------------------------------------\u001b[0m",
      "\u001b[0;31mException\u001b[0m                                 Traceback (most recent call last)",
      "Cell \u001b[0;32mIn [1], line 3\u001b[0m\n\u001b[1;32m      1\u001b[0m \u001b[38;5;66;03m# Example of raise\u001b[39;00m\n\u001b[1;32m      2\u001b[0m x \u001b[38;5;241m=\u001b[39m \u001b[38;5;241m10\u001b[39m\n\u001b[0;32m----> 3\u001b[0m \u001b[38;5;28;01mraise\u001b[39;00m \u001b[38;5;167;01mException\u001b[39;00m(\u001b[38;5;124mf\u001b[39m\u001b[38;5;124m'\u001b[39m\u001b[38;5;124mX Value Should not exceed 5 The Provided Value of X is \u001b[39m\u001b[38;5;132;01m{\u001b[39;00mx\u001b[38;5;132;01m}\u001b[39;00m\u001b[38;5;124m'\u001b[39m)\n",
      "\u001b[0;31mException\u001b[0m: X Value Should not exceed 5 The Provided Value of X is 10"
     ]
    }
   ],
   "source": [
    "# Example of raise\n",
    "x = 10\n",
    "raise Exception(f'X Value Should not exceed 5 The Provided Value of X is {x}')"
   ]
  },
  {
   "cell_type": "code",
   "execution_count": 2,
   "id": "5eab7251-ca6c-4f44-92c0-49118839f6bd",
   "metadata": {},
   "outputs": [
    {
     "ename": "AssertionError",
     "evalue": "2 is not equal to 4",
     "output_type": "error",
     "traceback": [
      "\u001b[0;31m---------------------------------------------------------------------------\u001b[0m",
      "\u001b[0;31mAssertionError\u001b[0m                            Traceback (most recent call last)",
      "Cell \u001b[0;32mIn [2], line 2\u001b[0m\n\u001b[1;32m      1\u001b[0m \u001b[38;5;66;03m# Example of assert\u001b[39;00m\n\u001b[0;32m----> 2\u001b[0m \u001b[38;5;28;01massert\u001b[39;00m(\u001b[38;5;241m2\u001b[39m\u001b[38;5;241m==\u001b[39m\u001b[38;5;241m4\u001b[39m), \u001b[38;5;124m\"\u001b[39m\u001b[38;5;124m2 is not equal to 4\u001b[39m\u001b[38;5;124m\"\u001b[39m\n",
      "\u001b[0;31mAssertionError\u001b[0m: 2 is not equal to 4"
     ]
    }
   ],
   "source": [
    "# Example of assert\n",
    "assert(2==4), \"2 is not equal to 4\""
   ]
  },
  {
   "cell_type": "markdown",
   "id": "dd041590-9edd-435f-8401-28d1a5298a00",
   "metadata": {},
   "source": [
    "## Q5. Identify two methods for specifying actions to be executed at termination time, regardless of whether or not an exception exists"
   ]
  },
  {
   "cell_type": "markdown",
   "id": "025fbd23-2a26-47db-954d-035cb1fb52ba",
   "metadata": {},
   "source": [
    "**Ans:-** Python Provides **else** and **finally** blocks for specifying actions to be executed at termination time, regardless of whether an exceptions exists or not."
   ]
  },
  {
   "cell_type": "code",
   "execution_count": null,
   "id": "87fc4ad5-244b-459d-8f1b-1bc145a42fe2",
   "metadata": {},
   "outputs": [],
   "source": []
  }
 ],
 "metadata": {
  "kernelspec": {
   "display_name": "Python 3 (ipykernel)",
   "language": "python",
   "name": "python3"
  },
  "language_info": {
   "codemirror_mode": {
    "name": "ipython",
    "version": 3
   },
   "file_extension": ".py",
   "mimetype": "text/x-python",
   "name": "python",
   "nbconvert_exporter": "python",
   "pygments_lexer": "ipython3",
   "version": "3.10.6"
  }
 },
 "nbformat": 4,
 "nbformat_minor": 5
}

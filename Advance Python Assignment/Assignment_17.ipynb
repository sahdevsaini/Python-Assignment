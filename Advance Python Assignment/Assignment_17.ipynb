{
 "cells": [
  {
   "cell_type": "markdown",
   "id": "73d99899-d267-4256-b7c2-439704261afa",
   "metadata": {},
   "source": [
    "## ------------------------------------------ Assignment- 17 --------------------------------------"
   ]
  },
  {
   "cell_type": "markdown",
   "id": "79b5ce06-3c8c-4a17-9de6-22879a039412",
   "metadata": {},
   "source": [
    "Q1. Explain the difference between greedy and non-greedy syntax with visual terms in as few words as possible. What is the bare minimum effort required to transform a greedy pattern into a non-greedy one? What characters or characters can you introduce or change?"
   ]
  },
  {
   "cell_type": "markdown",
   "id": "0b1c07f2-5baa-4a84-af16-851dac3df924",
   "metadata": {},
   "source": [
    "**Ans:-** The Main difference between Greedy and Non Greedy Match Syntax is The Greedy Match will try to match as **many repetitions of the quantified pattern** as possible Whereas The Non Greedy Match will try to match as **few repetitions of the quantified pattern** as possible"
   ]
  },
  {
   "cell_type": "code",
   "execution_count": 1,
   "id": "64ff3f52-0366-4317-8682-6ead6164991c",
   "metadata": {},
   "outputs": [
    {
     "name": "stdout",
     "output_type": "stream",
     "text": [
      "['vvvvvv', '']\n",
      "['', 'v', '', 'v', '', 'v', '', 'v', '', 'v', '', 'v', '']\n"
     ]
    }
   ],
   "source": [
    "import re\n",
    "print(re.findall(\"v*\", \"vvvvvv\")) # Greedy Match Synatx\n",
    "print(re.findall(\"v*?\", \"vvvvvv\")) # Non Greddy Syntax"
   ]
  },
  {
   "cell_type": "markdown",
   "id": "fcbc7acc-9e4a-409a-8393-38f6974c19ea",
   "metadata": {},
   "source": [
    "Q2. When exactly does greedy versus non-greedy make a difference?  What if you're looking for a non-greedy match but the only one available is greedy?"
   ]
  },
  {
   "cell_type": "markdown",
   "id": "665502c0-ccc6-4338-9af2-7eb084f1f719",
   "metadata": {},
   "source": [
    "**Ans:-** The Greedy Match will try to match as many repetitions of the quantified pattern as possible. The Non Greedy Match will try to match as few repetitions of the quantified pattern as possible. If only Non Greedy Match is available, we can use other filtering or pattern matching methods of regex and further identify the required pattern."
   ]
  },
  {
   "cell_type": "markdown",
   "id": "4fba3bad-9909-4304-a7cd-534e94c99ec1",
   "metadata": {},
   "source": [
    "Q3. In a simple match of a string, which looks only for one match and does not do any replacement, is the use of a nontagged group likely to make any practical difference?"
   ]
  },
  {
   "cell_type": "markdown",
   "id": "42782008-a5ae-4a14-ba61-ac1ac76cf18f",
   "metadata": {},
   "source": [
    "**Ans:-** In this Case The Non Tagged Group will not make any diffrence in this case."
   ]
  },
  {
   "cell_type": "code",
   "execution_count": 2,
   "id": "32cdb88a-3757-4057-a903-df169e189514",
   "metadata": {},
   "outputs": [
    {
     "name": "stdout",
     "output_type": "stream",
     "text": [
      "Phone number found -> 234\n",
      "Phone number found -> 234\n"
     ]
    }
   ],
   "source": [
    "import re\n",
    "phoneNumRegex = re.compile(r'\\d\\d\\d')\n",
    "num = phoneNumRegex.search('My number is 234-567-8901.')\n",
    "print(f'Phone number found -> {num.group()}') # Non Tagged group\n",
    "print(f'Phone number found -> {num.group(0)}') # Tagged Group"
   ]
  },
  {
   "cell_type": "markdown",
   "id": "e80b6dc0-c91a-4c76-bb2b-e8bd56852a9c",
   "metadata": {},
   "source": [
    "Q4. Describe a scenario in which using a nontagged category would have a significant impact on the program's outcomes."
   ]
  },
  {
   "cell_type": "markdown",
   "id": "c7d60fde-5331-4516-a593-71b69b3f4da3",
   "metadata": {},
   "source": [
    "**Ans-** Here in the below Code Snippet . decimal is not tagged or captured. It will useful in scenarios where the separator of value in a string is of no use and we need to capture only the values."
   ]
  },
  {
   "cell_type": "code",
   "execution_count": null,
   "id": "f3db2806-da9e-4c79-b36c-8f92d2599467",
   "metadata": {},
   "outputs": [],
   "source": [
    "import re\n",
    "text='135.456'\n",
    "pattern=r'(\\d+)(?:.)(\\d+)'\n",
    "regobj=re.compile(pattern)\n",
    "matobj=regobj.search(text)\n",
    "matobj.groups()"
   ]
  },
  {
   "cell_type": "markdown",
   "id": "d824c7ec-c6f0-4e79-9814-cc1c93dfc2f0",
   "metadata": {},
   "source": [
    "\n",
    "Q5. Unlike a normal regex pattern, a look-ahead condition does not consume the characters it examines. Describe a situation in which this could make a difference in the results of your programme."
   ]
  },
  {
   "cell_type": "markdown",
   "id": "cc44f027-e162-4c18-b9ba-0d5632c19ef3",
   "metadata": {},
   "source": [
    "**Ans:-** While counting the number of multiple lines or mutiple sentence in a string the positive look ahead makes a difference, without which we wont get the correct count of lines or sentences in a string."
   ]
  },
  {
   "cell_type": "markdown",
   "id": "d33220eb-9e4f-4078-b8eb-f0382415bccb",
   "metadata": {},
   "source": [
    "Q6. In standard expressions, what is the difference between positive look-ahead and negative look-ahead?"
   ]
  },
  {
   "cell_type": "markdown",
   "id": "af15dbac-a383-4180-8308-ce0f425403e9",
   "metadata": {},
   "source": [
    "**Ans:-** Positive Lookahead allows to add a condition for what follows. Negative Lookahead is similar, but it looks behind. That is, it allows to match a pattern only if there’s something before it."
   ]
  },
  {
   "cell_type": "markdown",
   "id": "dd959385-269d-4f73-938c-ac19acfc1793",
   "metadata": {},
   "source": [
    "Q7. What is the benefit of referring to groups by name rather than by number in a standard expression?"
   ]
  },
  {
   "cell_type": "markdown",
   "id": "02fa20ac-c86b-4345-9166-db062f11eaa3",
   "metadata": {},
   "source": [
    "**Ans:-** Referring to groups by name rather than by number in a standard expression helps to keep the code clear and easy to understand."
   ]
  },
  {
   "cell_type": "markdown",
   "id": "e086d921-9331-4f33-a303-da51460b1347",
   "metadata": {},
   "source": [
    "Q8. Can you identify repeated items within a target string using named groups, as in \"The cow jumped over the moon\"?\n"
   ]
  },
  {
   "cell_type": "code",
   "execution_count": 3,
   "id": "7e9146ab-241c-4807-9d09-212dd49840c7",
   "metadata": {},
   "outputs": [
    {
     "data": {
      "text/plain": [
       "['The', 'the']"
      ]
     },
     "execution_count": 3,
     "metadata": {},
     "output_type": "execute_result"
    }
   ],
   "source": [
    "import re\n",
    "text = \"The cow jumped over the moon\"\n",
    "regobj=re.compile(r'(?P<w1>The)',re.I)\n",
    "regobj.findall(text)"
   ]
  },
  {
   "cell_type": "markdown",
   "id": "2b8736ab-d771-4b74-9025-7ff0489d39c4",
   "metadata": {},
   "source": [
    "Q9. When parsing a string, what is at least one thing that the Scanner interface does for you that the re.findall feature does not?"
   ]
  },
  {
   "cell_type": "markdown",
   "id": "2f0e08fc-1a5b-4829-8b63-c20ce73f7d1f",
   "metadata": {},
   "source": [
    "**Ans:-** `re.findall()` module is used to search for `all` occurrences that match a given pattern. In contrast, `re.search()` will only return the first occurrence that matches the specified pattern. `re.findall()` will iterate over all the lines of the file and will return all non-overlapping matches of pattern in a single step."
   ]
  },
  {
   "cell_type": "markdown",
   "id": "d26fa1f7-6862-4376-801c-c86afa78cd72",
   "metadata": {},
   "source": [
    "Q10. Does a scanner object have to be named scanner?"
   ]
  },
  {
   "cell_type": "markdown",
   "id": "e05b54ff-2af4-4c43-be36-b64bdffb6adc",
   "metadata": {},
   "source": [
    "\n",
    "Ans: Yes, It may have any name."
   ]
  },
  {
   "cell_type": "markdown",
   "id": "3fa419cd-f62c-4b02-a908-5e4418fc6a3f",
   "metadata": {},
   "source": [
    "# "
   ]
  }
 ],
 "metadata": {
  "kernelspec": {
   "display_name": "Python 3 (ipykernel)",
   "language": "python",
   "name": "python3"
  },
  "language_info": {
   "codemirror_mode": {
    "name": "ipython",
    "version": 3
   },
   "file_extension": ".py",
   "mimetype": "text/x-python",
   "name": "python",
   "nbconvert_exporter": "python",
   "pygments_lexer": "ipython3",
   "version": "3.10.6"
  }
 },
 "nbformat": 4,
 "nbformat_minor": 5
}

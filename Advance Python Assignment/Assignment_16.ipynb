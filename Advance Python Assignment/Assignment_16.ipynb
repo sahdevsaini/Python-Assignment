{
 "cells": [
  {
   "cell_type": "markdown",
   "id": "0889a8ee-57d0-42b8-8d8b-a9d7e985b79a",
   "metadata": {},
   "source": [
    "## --------------------------------- Assignment -17 -----------------------------"
   ]
  },
  {
   "cell_type": "markdown",
   "id": "0f1c18e3-022b-45ec-985c-b1d79410efd9",
   "metadata": {},
   "source": [
    "### Q1. What is the benefit of regular expressions?"
   ]
  },
  {
   "cell_type": "markdown",
   "id": "e33ece33-19ab-48aa-ad43-6bae5eb16e24",
   "metadata": {},
   "source": [
    "**Ans:-** Regular Expressions, also known as **regex or regexp**, are used to match strings of text such as particular characters, words, or patterns of characters. It means that we can match and extract any string pattern from the text with the help of regular expressions. it helps the programmers to Write less and cleaner code. it also avoids multiple use of **if/else** statements."
   ]
  },
  {
   "cell_type": "markdown",
   "id": "6afb5268-a9ec-40f9-a75f-36579b737978",
   "metadata": {},
   "source": [
    "### Q2. Describe the difference between the effects of \"(ab)c+\" and \"a(bc)+.\" Which of these, if any, is the unqualified pattern \"abc+\"?"
   ]
  },
  {
   "cell_type": "markdown",
   "id": "f0fbc5d9-f4e2-42bc-a237-2804f291eda3",
   "metadata": {},
   "source": [
    "**Ans:-** Both **(ab)c+ and a(bc)+** are valid patterns. the difference between both these patterns is in (ab)c+ ab is group whereas in a(bc)+ bc is a group."
   ]
  },
  {
   "cell_type": "markdown",
   "id": "07d4d020-d119-45db-b935-7cb650c81104",
   "metadata": {},
   "source": [
    "### Q3. How much do you need to use the following sentence while using regular expressions?\n",
    "### import re"
   ]
  },
  {
   "cell_type": "markdown",
   "id": "7f9cd130-9987-4a91-adae-3060b54d22de",
   "metadata": {},
   "source": [
    "**Ans:- import re** statement always has to be imported before using regular expressions."
   ]
  },
  {
   "cell_type": "code",
   "execution_count": 1,
   "id": "304d1028-94d5-40fa-b313-832678fbb824",
   "metadata": {},
   "outputs": [],
   "source": [
    "import re as r         # here r is varible of re library we can use it cakking all function and method existy in library."
   ]
  },
  {
   "cell_type": "markdown",
   "id": "06ad5f00-8375-4f30-8662-5670f49116c7",
   "metadata": {},
   "source": [
    "### Q4. Which characters have special significance in square brackets when expressing a range, and under what circumstances?`m"
   ]
  },
  {
   "cell_type": "markdown",
   "id": "6b880138-d26a-415c-90c7-38f01ae9b3b1",
   "metadata": {},
   "source": [
    "**Ans:-** The Characters `.`,`*`,`?`,`^`,or,`()`, have a special signiface when used with square brackets. They need not be be explicitly escaped by `\\` as in case of pattern texts in a raw string."
   ]
  },
  {
   "cell_type": "markdown",
   "id": "56c705d7-21bc-4951-999d-9f965602fd7b",
   "metadata": {},
   "source": [
    "### Q5. How does compiling a regular-expression object benefit you?"
   ]
  },
  {
   "cell_type": "markdown",
   "id": "0c5f238c-1c05-4e37-a1ca-c75c306c9aa0",
   "metadata": {},
   "source": [
    "**Ans:-** We can Combine a regular expression pattern into pattern Objects.Which can be used for pattern matching. it also helps to search a pattern again without rewritting it."
   ]
  },
  {
   "cell_type": "markdown",
   "id": "7a1b28ef-9ac2-4c66-afca-e590ae5359a8",
   "metadata": {},
   "source": [
    "### Q6. What are some examples of how to use the match object returned by re.match and re.search?"
   ]
  },
  {
   "cell_type": "markdown",
   "id": "c4e22bef-be9d-4515-9361-54dc9ae91a76",
   "metadata": {},
   "source": [
    "**Ans:-** The `re.search()` and `re.match()` both are functions of re module in python. These functions are very efficient and fast for searching in strings. The function searches for some substring in a string and returns a match object if found, else it returns none.\n",
    "\n",
    "There is a difference between the use of both functions. Both return the first match of a substring found in the string, but `re.match()` searches only from the beginning of the string and return match object if found. But if a match of substring is found somewhere in the middle of the string, it returns none.\n",
    "\n",
    "While `re.search()` searches for the whole string even if the string contains multi-lines and tries to find a match of the substring in all the lines of string"
   ]
  },
  {
   "cell_type": "code",
   "execution_count": 2,
   "id": "823f11c9-bebd-41c4-a77f-85b81506f3f7",
   "metadata": {},
   "outputs": [
    {
     "name": "stdout",
     "output_type": "stream",
     "text": [
      "<re.Match object; span=(66, 72), match='string'>\n",
      "None\n",
      "<re.Match object; span=(0, 6), match='string'>\n",
      "<re.Match object; span=(0, 6), match='string'>\n"
     ]
    }
   ],
   "source": [
    "import re\n",
    "Substring ='string' \n",
    "String1 ='We are learning regex with geeksforgeeks regex is very useful for string matching. It is fast too.' \n",
    "String2 ='string We are learning regex with geeksforgeeks regex is very useful for string matching. It is fast too.'\n",
    "print(re.search(Substring, String1, re.IGNORECASE))\n",
    "print(re.match(Substring, String1, re.IGNORECASE))\n",
    "print(re.search(Substring, String2, re.IGNORECASE))\n",
    "print(re.match(Substring, String2, re.IGNORECASE))"
   ]
  },
  {
   "cell_type": "markdown",
   "id": "86b1c6e9-8b7a-435b-860a-00a5a6761e5b",
   "metadata": {},
   "source": [
    "\n",
    "### Q7. What is the difference between using a vertical bar (|) as an alteration and using square brackets as a character set?"
   ]
  },
  {
   "cell_type": "markdown",
   "id": "3524a169-5948-4b0f-bd8b-4db1040f25e3",
   "metadata": {},
   "source": [
    "**Ans:-** When `|` us used then patterns searches for or option. i.e `<pattern_1>|<pattern_2>` means it searches as `<pattern_1>or<<pattern_2>` in the searched string. the first occurance of matched string will be returned as the Match Object. Using Character set in square Brackets searches for all the character set in the square bracket and if match is found, it returns it."
   ]
  },
  {
   "cell_type": "markdown",
   "id": "f3c959c6-abbf-4f50-bad2-1278200c3b38",
   "metadata": {},
   "source": [
    "### Q8. In regular-expression search patterns, why is it necessary to use the raw-string indicator (r)? In   replacement strings?"
   ]
  },
  {
   "cell_type": "markdown",
   "id": "fac3d5fe-188e-4ca7-9129-50d72e1018f6",
   "metadata": {},
   "source": [
    "**Ans:-** Raw Strings are used in the regular-expression search patterns, so that blackslashes donot have to be escaped."
   ]
  },
  {
   "cell_type": "code",
   "execution_count": null,
   "id": "78202336-e536-4824-8d65-4000c7681ffa",
   "metadata": {},
   "outputs": [],
   "source": []
  }
 ],
 "metadata": {
  "kernelspec": {
   "display_name": "Python 3 (ipykernel)",
   "language": "python",
   "name": "python3"
  },
  "language_info": {
   "codemirror_mode": {
    "name": "ipython",
    "version": 3
   },
   "file_extension": ".py",
   "mimetype": "text/x-python",
   "name": "python",
   "nbconvert_exporter": "python",
   "pygments_lexer": "ipython3",
   "version": "3.10.6"
  }
 },
 "nbformat": 4,
 "nbformat_minor": 5
}

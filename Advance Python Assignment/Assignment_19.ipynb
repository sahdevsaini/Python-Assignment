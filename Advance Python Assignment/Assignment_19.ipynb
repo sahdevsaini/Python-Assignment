{
 "cells": [
  {
   "cell_type": "markdown",
   "id": "ff88902e-feed-453b-99e8-f2c9a8216a19",
   "metadata": {},
   "source": [
    "# ---------------------------- Assignment 19 -------------------------"
   ]
  },
  {
   "cell_type": "markdown",
   "id": "4512043c-c53b-4aa1-b7d1-ac7853972d75",
   "metadata": {},
   "source": [
    "### Q1. Define the relationship between a class and its instances. Is it a one-to-one or a one-to-many partnership, for example?"
   ]
  },
  {
   "cell_type": "markdown",
   "id": "c1428555-a4c6-43f4-8079-f69f5822b9f1",
   "metadata": {},
   "source": [
    "```python\n",
    "Ans: Relationship between a class and its instances is a one to many partnership.\n",
    "```"
   ]
  },
  {
   "cell_type": "markdown",
   "id": "31b88dad-f536-4e7e-8410-77f39122a95c",
   "metadata": {},
   "source": [
    "### Q2. What kind of data is held only in an instance?"
   ]
  },
  {
   "cell_type": "markdown",
   "id": "09431bf4-f90e-42ea-9fdb-fdc9f5627650",
   "metadata": {},
   "source": [
    "```python\n",
    "Ans: Instance objects contains the Instance variables which are specific to that specific Instance object.\n",
    "```"
   ]
  },
  {
   "cell_type": "markdown",
   "id": "8164630b-7df0-425e-9950-e2cb2df2904a",
   "metadata": {},
   "source": [
    "### Q3. What kind of knowledge is stored in a class?"
   ]
  },
  {
   "cell_type": "markdown",
   "id": "fb11962f-5354-46af-8a21-7d086271835a",
   "metadata": {},
   "source": [
    "```python\n",
    "Ans: Class creates a user-defined data structure, which holds its own data members and member functions, which can be accessed and used by creating an instance of that class. A class is like a blueprint for an object.\n",
    "```"
   ]
  },
  {
   "cell_type": "markdown",
   "id": "ccbf1396-4164-42e3-adc0-9f4ceec188ea",
   "metadata": {},
   "source": [
    "### Q4. What exactly is a method, and how is it different from a regular function?"
   ]
  },
  {
   "cell_type": "markdown",
   "id": "76a94d84-3063-435b-8dee-0b2d7c8b2c5a",
   "metadata": {},
   "source": [
    "```python\n",
    "Ans: The methods with a class can be used to access the insatnce variables of its instance. So,the object's state can be modified by its method. Function can't access the attributes of an instance of a class or can't modify the state of the object.\n",
    "```"
   ]
  },
  {
   "cell_type": "markdown",
   "id": "9a032408-c70d-41cb-8e2f-82268772ad82",
   "metadata": {},
   "source": [
    "### Q5. Is inheritance supported in Python, and if so, what is the syntax?"
   ]
  },
  {
   "cell_type": "markdown",
   "id": "56ca0172-a8f7-4abc-a2f9-038ea9cd16e4",
   "metadata": {},
   "source": [
    "```python\n",
    "Ans: Yes,Python supports inheritance. The Types of Inheritence Supported by Python are:\n",
    "\n",
    "1. Simple Inheritence\n",
    "2. Multiple Inheritence\n",
    "3. Multilevel lInheritence\n",
    "4. Hybrid Inheritence\n",
    "5. Hierracial Inheritence\n",
    "```"
   ]
  },
  {
   "cell_type": "code",
   "execution_count": 1,
   "id": "56a729cb-8a2f-446d-bee8-e5ae33f6d656",
   "metadata": {},
   "outputs": [],
   "source": [
    "class Person:\n",
    "    def __init__(self, fname, lname):\n",
    "        self.first_name = fname\n",
    "        self.last_name = lname\n",
    "class Student(Person):\n",
    "    pass"
   ]
  },
  {
   "cell_type": "markdown",
   "id": "bb08a866-6dc1-4b62-94a2-f037ba388fe6",
   "metadata": {},
   "source": [
    "### Q6. How much encapsulation (making instance or class variables private) does Python support?"
   ]
  },
  {
   "cell_type": "markdown",
   "id": "c3e8fdc3-e34d-4209-b489-159e566b679c",
   "metadata": {},
   "source": [
    "```python\n",
    "Ans:- Encapsulation describes the idea of wrapping data and the methods that work on data within one unit. This puts restrictions on accessing variables and methods directly and can prevent the accidental modification of data. To prevent accidental change, an objects variable can only be changed by an objects method.\n",
    "```"
   ]
  },
  {
   "cell_type": "markdown",
   "id": "857e5bbc-6e3d-4745-8577-d62faee8874c",
   "metadata": {},
   "source": [
    "### Q7. How do you distinguish between a class variable and an instance variable?"
   ]
  },
  {
   "cell_type": "markdown",
   "id": "b3187637-6b37-4998-b276-4bc3b2c9f1c3",
   "metadata": {},
   "source": [
    "```python\n",
    "Ans: The Class Attribute is available to all the instance objects of that class. whereas Instance Attributes are accessible only to the object or Instance of that class.\n",
    "\n",
    "A single copy of Class attributes is maintained by pvm at the class level. Whereas difference copies of instance attributes are maintained by pvm at objects/instance level.\n",
    "```"
   ]
  },
  {
   "cell_type": "markdown",
   "id": "34558bcd-031e-4b14-93db-e7d33442247b",
   "metadata": {},
   "source": [
    "### Q8. When, if ever, can self be included in a class&#39;s method definitions?"
   ]
  },
  {
   "cell_type": "markdown",
   "id": "366fcef5-e4ce-4534-95f9-9f2ed5fdf377",
   "metadata": {},
   "source": [
    "```python\n",
    "Ans: Yes, self can included in class method definations to access the instance variables inside class methods.\n",
    "```"
   ]
  },
  {
   "cell_type": "markdown",
   "id": "c92eddeb-062a-46f0-ab5d-69c4bd39893e",
   "metadata": {},
   "source": [
    "### Q9. What is the difference between the _ _add_ _ and the _ _radd_ _ methods?"
   ]
  },
  {
   "cell_type": "markdown",
   "id": "d1e42ad4-aa68-453d-951a-e43b61b64d53",
   "metadata": {},
   "source": [
    "```python\n",
    "Ans: Entering __radd__ Python will first try __add__(), and if that returns Not Implemented Python will check if the right-hand operand implements __radd__, and if it does, it will call __radd__() rather than raising a TypeError.\n",
    "```"
   ]
  },
  {
   "cell_type": "markdown",
   "id": "d5f40913-97b2-4695-a6e5-d15b96b8c707",
   "metadata": {},
   "source": [
    "### Q10. When is it necessary to use a reflection method? When do you not need it, even though you support the operation in question?"
   ]
  },
  {
   "cell_type": "markdown",
   "id": "949e22f7-e9aa-4690-985c-059ab7c1701e",
   "metadata": {},
   "source": [
    "```python\n",
    "Ans: Reflection method we often encounter the requirement that a method in the executing object, or a variable in the calling object, or a field of the object should be assigned, while the method name or field name can not be determined when encoding the code, and need to be input in the form of passing strings through parameters.\n",
    "```"
   ]
  },
  {
   "cell_type": "markdown",
   "id": "02e571ec-6245-4a39-8e4c-cd9d55935c1f",
   "metadata": {},
   "source": [
    "### Q11. What is the _ _iadd_ _ method called?"
   ]
  },
  {
   "cell_type": "markdown",
   "id": "443112d3-9e83-49e0-9622-e9dfcf18f728",
   "metadata": {},
   "source": [
    "```python\n",
    "Ans: __iadd__ method is called when we use implementation like a+=b which is a.__iadd__(b)\n",
    "```"
   ]
  },
  {
   "cell_type": "markdown",
   "id": "e3d5f0af-da95-44a4-9199-f271e0916d5b",
   "metadata": {},
   "source": [
    "### Q12. Is the _ _init_ _ method inherited by subclasses? What do you do if you need to customize its behavior within a subclass?"
   ]
  },
  {
   "cell_type": "markdown",
   "id": "67605fc5-925b-413a-835d-9bced73e4944",
   "metadata": {},
   "source": [
    "```python\n",
    "Ans: Yes, __init__ method will be inherited by subclasses. if we want to customize its behaviour within a subclass we can use super() method.\n",
    "```"
   ]
  },
  {
   "cell_type": "code",
   "execution_count": null,
   "id": "d1a7e363-e056-4d16-93e0-a5deeb5b268d",
   "metadata": {},
   "outputs": [],
   "source": []
  }
 ],
 "metadata": {
  "kernelspec": {
   "display_name": "Python 3 (ipykernel)",
   "language": "python",
   "name": "python3"
  },
  "language_info": {
   "codemirror_mode": {
    "name": "ipython",
    "version": 3
   },
   "file_extension": ".py",
   "mimetype": "text/x-python",
   "name": "python",
   "nbconvert_exporter": "python",
   "pygments_lexer": "ipython3",
   "version": "3.10.8"
  }
 },
 "nbformat": 4,
 "nbformat_minor": 5
}

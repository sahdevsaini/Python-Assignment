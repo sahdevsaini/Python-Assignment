{
 "cells": [
  {
   "cell_type": "markdown",
   "id": "643f08f8-4892-401c-b2aa-a2d92519de3e",
   "metadata": {},
   "source": [
    "## --------------------------- Assignment_7 -------------------------"
   ]
  },
  {
   "cell_type": "markdown",
   "id": "e3fa1634-1150-46f0-96bd-317365ea4a98",
   "metadata": {},
   "source": [
    "Q1. What is the purpose of the try statement?"
   ]
  },
  {
   "cell_type": "markdown",
   "id": "2efebc99-deac-4550-9c1d-e692dcee6141",
   "metadata": {},
   "source": [
    "**Ans:- try** statement is used for exception handling in python. It consists of a block of **risky statements** which might cause an exception during **runtime**. If code within **try** block raises exception, then the exception will be reverted to the corresponding except block if multiple except blocks are present, else it willbe reverted to the default except block. In short try and except in union avoid programs from crashing during runtime due to exceptions."
   ]
  },
  {
   "cell_type": "code",
   "execution_count": 1,
   "id": "835c9e35-08be-47e2-9820-039c12bf0366",
   "metadata": {},
   "outputs": [
    {
     "name": "stdout",
     "output_type": "stream",
     "text": [
      "division by zero exception:\n"
     ]
    }
   ],
   "source": [
    "try:\n",
    "    print(10/0)\n",
    "except ZeroDivisionError:\n",
    "    print(\"division by zero exception:\")"
   ]
  },
  {
   "cell_type": "markdown",
   "id": "af520f9a-fd95-4f29-919e-c4e7f8a15744",
   "metadata": {},
   "source": [
    "Q2. What are the two most popular try statement variations?"
   ]
  },
  {
   "cell_type": "markdown",
   "id": "eedea882-fa21-4a4c-8738-424e0b1d5bb6",
   "metadata": {},
   "source": [
    "**Ans:-** The Popular try statement variations are:<br>\n",
    "<br>\n",
    "  **1. try,except<br>\n",
    "  2. try,except,finally<br>\n",
    "  3.try,except,finally,else**<br>\n",
    "  <br>\n",
    "The **try** block is used to check code for exceptions during runtime. ie code inside try block will execute completely when there is no error in the program. Whereas the code inside except block will execute whenever the program encounters some error in the preceeding try block.<br>\n",
    "<br>\n",
    "Whereas the code enters the else block if and only if the try clause does not raise and exception. The code in the finally block will execute irrespective of exception."
   ]
  },
  {
   "cell_type": "markdown",
   "id": "ee95f2d3-4c31-40d5-ac0d-314fe698ac57",
   "metadata": {},
   "source": [
    "Q3. What is the purpose of the raise statement?"
   ]
  },
  {
   "cell_type": "markdown",
   "id": "d05f78dc-6ede-4ccb-8034-ac1787ff146a",
   "metadata": {},
   "source": [
    "**Ans:- raise** statement is used to trigger an exception explicitly, if a certain condition is not as per requirement of programmer. **raise** statement helps in triggering exception as per programming logic."
   ]
  },
  {
   "cell_type": "markdown",
   "id": "55cb9efa-8e62-459a-9753-08994f675040",
   "metadata": {},
   "source": [
    "Q4. What does the assert statement do, and what other statement is it like?"
   ]
  },
  {
   "cell_type": "markdown",
   "id": "21b3ae11-c7d2-442b-8809-50cd851f08ba",
   "metadata": {},
   "source": [
    "**Ans:-** There are few assertions that programmer always want to be true to avoid code failure. This type of requirement is fulfilled by **assert** statement. This statement takes a boolean condition output of which is True, Further Program Executes. if output of **assert** statement is **False**, it raises an **Assertion Error**."
   ]
  },
  {
   "cell_type": "code",
   "execution_count": 4,
   "id": "94536b7a-1fd6-4226-abf8-e6d0b376443e",
   "metadata": {},
   "outputs": [
    {
     "ename": "AssertionError",
     "evalue": "This is not a valid Statement",
     "output_type": "error",
     "traceback": [
      "\u001b[0;31m---------------------------------------------------------------------------\u001b[0m",
      "\u001b[0;31mAssertionError\u001b[0m                            Traceback (most recent call last)",
      "Cell \u001b[0;32mIn [4], line 1\u001b[0m\n\u001b[0;32m----> 1\u001b[0m \u001b[38;5;28;01massert\u001b[39;00m (\u001b[38;5;241m1\u001b[39m\u001b[38;5;241m==\u001b[39m\u001b[38;5;241m2\u001b[39m), \u001b[38;5;124mf\u001b[39m\u001b[38;5;124m'\u001b[39m\u001b[38;5;124mThis is not a valid Statement\u001b[39m\u001b[38;5;124m'\u001b[39m\n",
      "\u001b[0;31mAssertionError\u001b[0m: This is not a valid Statement"
     ]
    }
   ],
   "source": [
    "assert (1==2), f'This is not a valid Statement'"
   ]
  },
  {
   "cell_type": "markdown",
   "id": "faf4bda5-fe86-4bd6-958c-c088c2ba5798",
   "metadata": {},
   "source": [
    "Q5. What is the purpose of the with/as argument, and what other statement is it like?"
   ]
  },
  {
   "cell_type": "markdown",
   "id": "8bb9df96-35f5-411f-b8d3-a4de1bdcb62e",
   "metadata": {},
   "source": [
    "**Ans:- with/as** statement simplifies use of **file handling** in python. When we use a **with** statement for file reading, there is no need for programmer to explicitly takecare of activities like **resource deallocation** and **file closing** by using **file.close()** method. **with** statement itself ensures proper acquisition and release of resources. this avoids triggering of exceptions if file closing is unknowingly forgotten in the code execution.\n",
    "\n",
    "**Example:-** <br>\n",
    "**with open('sample_file.txt','w') as file: file.write('Hello World')**"
   ]
  },
  {
   "cell_type": "code",
   "execution_count": null,
   "id": "d9daeaaf-90ca-47fd-9f1d-18eef6b7df84",
   "metadata": {},
   "outputs": [],
   "source": []
  }
 ],
 "metadata": {
  "kernelspec": {
   "display_name": "Python 3 (ipykernel)",
   "language": "python",
   "name": "python3"
  },
  "language_info": {
   "codemirror_mode": {
    "name": "ipython",
    "version": 3
   },
   "file_extension": ".py",
   "mimetype": "text/x-python",
   "name": "python",
   "nbconvert_exporter": "python",
   "pygments_lexer": "ipython3",
   "version": "3.10.6"
  }
 },
 "nbformat": 4,
 "nbformat_minor": 5
}

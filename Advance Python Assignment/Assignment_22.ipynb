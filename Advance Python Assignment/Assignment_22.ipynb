{
 "cells": [
  {
   "cell_type": "markdown",
   "id": "96716cb3-15ec-4d50-807e-f4897ee5879c",
   "metadata": {},
   "source": [
    "# ----------------------- Assignment 22 ---------------------"
   ]
  },
  {
   "cell_type": "markdown",
   "id": "a193c76c-fdcb-4230-ab0b-dfa9922234b8",
   "metadata": {},
   "source": [
    "### Q1. What are the benefits of the built-in array package, if any?"
   ]
  },
  {
   "cell_type": "markdown",
   "id": "848ea7c3-1f82-4146-ae3b-0d12880f1228",
   "metadata": {},
   "source": [
    "**Ans:-**\n",
    "```python \n",
    "Arrays represent multiple data items of the same type using a single name. In arrays, the elements can be accessed randomly by using the index number. Arrays allocate memory in contiguous memory locations for all its elements. Hence there is no chance of extra memory being allocated in case of arrays. This avoids memory overflow or shortage of memory in arrays.\n",
    "```"
   ]
  },
  {
   "cell_type": "markdown",
   "id": "e0493692-a569-483e-8332-c6c8cacde3f0",
   "metadata": {},
   "source": [
    "### Q2. What are some of the array package&#39;s limitations?"
   ]
  },
  {
   "cell_type": "markdown",
   "id": "cd88ad6f-4c0e-459c-a823-1c86f065c2a8",
   "metadata": {},
   "source": [
    "**Ans:-** \n",
    "```python\n",
    "The number of elements to be stored in an array should be known in advance. An array is a static structure (which means the array is of fixed size). Once declared the size of the array cannot be modified. The memory which is allocated to it cannot be increased or decreased.\n",
    "\n",
    "Insertion and deletion are quite difficult in an array as the elements are stored in consecutive memory locations and the shifting operation is costly.\n",
    "\n",
    "Allocating more memory than the requirement leads to wastage of memory space and less allocation of memory also leads to a problem\n",
    "```"
   ]
  },
  {
   "cell_type": "markdown",
   "id": "ff6458f3-0d03-4b25-8117-db25e48cbaf2",
   "metadata": {},
   "source": [
    "### Q3. Describe the main differences between the array and numpy packages.### "
   ]
  },
  {
   "cell_type": "markdown",
   "id": "f0fc551b-ac3e-4dec-9ded-8933287efb68",
   "metadata": {},
   "source": [
    "**Ans-** \n",
    "```python\n",
    "The array package doesn't provide any help with numerical calculation with the items insdie it in number form while NumPy give you a wide variety of numerical operations.\n",
    "\n",
    "An array is a single dimensional entity which hold the numerical data, while numpy can have more than 1 dimension.\n",
    "\n",
    "In case of array, item can be accessed by its index position and it is easy task while in numpy item is accessed by its column and row index, which makes it slightly time taking. Same goes with appending operation.\n",
    "\n",
    "In case of array we do not form a tabular structure, while in numpy it forms a tabular structure\n",
    "```"
   ]
  },
  {
   "cell_type": "markdown",
   "id": "5c815d35-8f9e-4079-9689-364889dad54d",
   "metadata": {},
   "source": [
    "### Q4. Explain the distinctions between the empty, ones, and zeros functions."
   ]
  },
  {
   "cell_type": "markdown",
   "id": "0d1a821b-e811-4b37-80a8-cb39efdb3a27",
   "metadata": {},
   "source": [
    "**Ans:-** \n",
    "```python\n",
    "The distinctions between the empty, ones, and zero functions are as follows :\n",
    "Empty function: An empty function is a function that does not contain any statement within its body. If you try to write a function definition without any statement in python ,it will return an error. To avoid this, we use pass statement. pass is a special statement in Python that does nothing. It only works as a dummy statement.\n",
    "Ones: This function returns a new array of given shape and data type, where the element’s value is 1.\n",
    "Zeros: This function returns a new array of given shape and data type, where the element’s value is 0.\n",
    "```"
   ]
  },
  {
   "cell_type": "markdown",
   "id": "b6708432-d4ab-4bcb-98f5-16f10b80271b",
   "metadata": {},
   "source": [
    "### Q5. In the fromfunction function, which is used to construct new arrays, what is the role of the callable argument?"
   ]
  },
  {
   "cell_type": "markdown",
   "id": "39bd3c49-364b-4af3-b147-5d79ff90db6c",
   "metadata": {},
   "source": [
    "**Ans:-** \n",
    "```python\n",
    "Its function is to execute the function over each coordinate and the resulting array. The function is called with N parameters, where N is the rank of shape. Each parameter represents the coordinates of the array varying along a specific axis.\n",
    "```"
   ]
  },
  {
   "cell_type": "markdown",
   "id": "85c3ac6f-28b9-41af-98b8-1ce75758b5dc",
   "metadata": {},
   "source": [
    "### Q6. What happens when a numpy array is combined with a single-value operand (a scalar, such as\n",
    "an int or a floating-point value) through addition, as in the expression A + n?"
   ]
  },
  {
   "cell_type": "markdown",
   "id": "311bfb42-99d7-4a94-a340-97845be3d59d",
   "metadata": {},
   "source": [
    "**Ans:-**\n",
    "```python\n",
    "If any scaler value such as integer is added to the numpy array then all the elements inside the array will add that value in it.\n",
    "```"
   ]
  },
  {
   "cell_type": "markdown",
   "id": "92fb2bc9-7007-49a4-b9f1-110be27554ae",
   "metadata": {},
   "source": [
    "### Q7. Can array-to-scalar operations use combined operation-assign operators (such as += or *=)? What is the outcome?"
   ]
  },
  {
   "cell_type": "markdown",
   "id": "c98b821f-4391-421d-9d67-fc161a546669",
   "metadata": {},
   "source": [
    "```python\n",
    "Ans: It will carry out provided operation on all elements of array.\n",
    "```"
   ]
  },
  {
   "cell_type": "markdown",
   "id": "e1473d2e-1896-44c5-8e98-d31fc4071410",
   "metadata": {},
   "source": [
    "### Q8. Does a numpy array contain fixed-length strings? What happens if you allocate a longer string to one of these arrays?\n"
   ]
  },
  {
   "cell_type": "markdown",
   "id": "21d10839-8754-4113-a794-8f17acea3a2d",
   "metadata": {},
   "source": [
    "**Ans:-**\n",
    "```python \n",
    "Yes, it is possible that we can include a string of fixed length in numpy array. The dtype of any numpy array containing string values is the maximum length of any string present in the array.Once set, it will only be able to store new string having length not more than the maximum length at the time of the creation. If we try to reassign some another string value having length greater than the maximum length of the existing elements, it simply discards all the values beyond the maximum length accept upto those values which are under the limit.\n",
    "```"
   ]
  },
  {
   "cell_type": "markdown",
   "id": "1b403034-10f0-440e-a75c-36599f291c07",
   "metadata": {},
   "source": [
    "### Q9. What happens when you combine two numpy arrays using an operation like addition (+) or multiplication (*)? What are the conditions for combining two numpy arrays?"
   ]
  },
  {
   "cell_type": "markdown",
   "id": "c673b75a-bb4c-439e-a12e-4f5afa7a6121",
   "metadata": {},
   "source": [
    "```python\n",
    "Ans: It will simply add or multiply element to element at same position.\n",
    "```"
   ]
  },
  {
   "cell_type": "markdown",
   "id": "7545e480-a896-4f72-b343-46410178f64d",
   "metadata": {},
   "source": [
    "### Q10. What is the best way to use a Boolean array to mask another array?"
   ]
  },
  {
   "cell_type": "markdown",
   "id": "c576e651-1513-4671-b55f-e8c460fcf312",
   "metadata": {},
   "source": [
    "```python\n",
    "Ans: The best way to use a Boolean array to mask another array is by Using masked_where of numpy package\n",
    "```"
   ]
  },
  {
   "cell_type": "markdown",
   "id": "db5f9fbc-d221-491d-8acb-c8de896d5696",
   "metadata": {},
   "source": [
    "### Q11. What are three different ways to get the standard deviation of a wide collection of data using both standard Python and its packages? Sort the three of them by how quickly they execute."
   ]
  },
  {
   "cell_type": "markdown",
   "id": "4e4f3f27-91be-46da-ace2-c9849698a412",
   "metadata": {},
   "source": [
    "**Ans:-**\n",
    "```python \n",
    "np.std and math package can be used individually.\n",
    "```"
   ]
  },
  {
   "cell_type": "markdown",
   "id": "97f179c5-7b32-43f0-8fd8-14e4d5f29162",
   "metadata": {},
   "source": [
    "### 12. What is the dimensionality of a Boolean mask-generated array?"
   ]
  },
  {
   "cell_type": "markdown",
   "id": "5990435a-d897-4601-a1ac-9ab4effb0c1f",
   "metadata": {},
   "source": [
    "**Ans:-** \n",
    "```python\n",
    "It will have same dimensionality as input array.\n",
    "```"
   ]
  },
  {
   "cell_type": "code",
   "execution_count": null,
   "id": "31b0fd28-a827-4950-88a1-ac26d7a7c03a",
   "metadata": {},
   "outputs": [],
   "source": []
  }
 ],
 "metadata": {
  "kernelspec": {
   "display_name": "Python 3 (ipykernel)",
   "language": "python",
   "name": "python3"
  },
  "language_info": {
   "codemirror_mode": {
    "name": "ipython",
    "version": 3
   },
   "file_extension": ".py",
   "mimetype": "text/x-python",
   "name": "python",
   "nbconvert_exporter": "python",
   "pygments_lexer": "ipython3",
   "version": "3.10.8"
  }
 },
 "nbformat": 4,
 "nbformat_minor": 5
}

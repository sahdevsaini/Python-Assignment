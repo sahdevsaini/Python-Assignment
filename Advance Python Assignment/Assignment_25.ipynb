{
 "cells": [
  {
   "cell_type": "markdown",
   "id": "ae0f9c40",
   "metadata": {},
   "source": [
    "# ----------------------- Assignment 25 -----------------------"
   ]
  },
  {
   "cell_type": "markdown",
   "id": "447d192c-58b0-472b-b850-1c90276a3b88",
   "metadata": {},
   "source": [
    "#### Q1. What is the distinction between a numpy array and a pandas data frame? Is there a way to convert between the two if there is ?"
   ]
  },
  {
   "cell_type": "markdown",
   "id": "bb43a46e",
   "metadata": {},
   "source": [
    "**Ans:**\n",
    "```python\n",
    "Numpy Ndarray provides a lot of convenient and optimized methods for performing several mathematical operations on vectors.\n",
    "\n",
    "Pandas Dataframe is an in-memory 2-dimensional tabular representation of data. In simpler words, it can be seen as a spreadsheet having rows and columns.\n",
    "\n",
    "Conversion : `Dataframe=pandas.DataFrame(array)`\n",
    "```"
   ]
  },
  {
   "cell_type": "markdown",
   "id": "a6fb8e51-07fb-4d66-b242-b021f90d392c",
   "metadata": {},
   "source": [
    "#### Q2. Identify some of the plotting techniques that are used to produce a stock-market chart ?"
   ]
  },
  {
   "cell_type": "markdown",
   "id": "24146fcb",
   "metadata": {},
   "source": [
    "**Ans:**\n",
    "```python \n",
    "Bar chart, Line Chart are used for plotting. \n",
    "```"
   ]
  },
  {
   "cell_type": "markdown",
   "id": "7788a551-cecb-46f5-8d13-c4c9e28d5954",
   "metadata": {},
   "source": [
    "#### Q3. Why is it essential to print a legend on a stock market chart ?"
   ]
  },
  {
   "cell_type": "markdown",
   "id": "f0fdf95b",
   "metadata": {},
   "source": [
    "**Ans:** \n",
    "```python\n",
    "Legend will help comparison between different stocks, so will be essential on a stock market chart\n",
    "```"
   ]
  },
  {
   "cell_type": "markdown",
   "id": "765225ee-46ea-40a6-9505-ab44f2c403ff",
   "metadata": {},
   "source": [
    "#### Q4. What is the best way to limit the length of a pandas data frame to less than a year ?"
   ]
  },
  {
   "cell_type": "markdown",
   "id": "186d0d51",
   "metadata": {},
   "source": [
    "**Ans:** : \n",
    "```python \n",
    "We can use start and end parameters for that. In start we write the date from where we are starting and at the end we write the end date. SO within this span we can restric the duration.Also we can use the parameters like periods for how much times we need the duration and we can also use the frequency parameter.\n",
    "```"
   ]
  },
  {
   "cell_type": "markdown",
   "id": "78302a6e-f6ec-42ed-85a0-41226cbbd16e",
   "metadata": {},
   "source": [
    "### Q5. What is the definition of a 180-day moving average ?"
   ]
  },
  {
   "cell_type": "markdown",
   "id": "5805fa40",
   "metadata": {},
   "source": [
    "**Ans:-** \n",
    "```python\n",
    "The 180-day moving average is represented as a line on charts and represents the average price over the past 180 days. The moving average can give traders a sense regarding whether the trend is up or down, while also identifying potential support or resistance areas.\n",
    "```"
   ]
  },
  {
   "cell_type": "code",
   "execution_count": null,
   "id": "c39fc067-3be6-4f7c-a426-dbd86f9d97a4",
   "metadata": {},
   "outputs": [],
   "source": []
  }
 ],
 "metadata": {
  "kernelspec": {
   "display_name": "Python 3 (ipykernel)",
   "language": "python",
   "name": "python3"
  },
  "language_info": {
   "codemirror_mode": {
    "name": "ipython",
    "version": 3
   },
   "file_extension": ".py",
   "mimetype": "text/x-python",
   "name": "python",
   "nbconvert_exporter": "python",
   "pygments_lexer": "ipython3",
   "version": "3.10.8"
  }
 },
 "nbformat": 4,
 "nbformat_minor": 5
}

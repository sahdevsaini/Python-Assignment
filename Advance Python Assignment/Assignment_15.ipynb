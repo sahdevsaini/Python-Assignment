{
 "cells": [
  {
   "cell_type": "markdown",
   "id": "e5129091-c1b2-4549-8a84-949da271f9e9",
   "metadata": {},
   "source": [
    "## --------------------------------- Assignment- 15 --------------------------------"
   ]
  },
  {
   "cell_type": "markdown",
   "id": "b4b71208-7e55-4e57-96ff-5b86913b94f8",
   "metadata": {},
   "source": [
    "## Q.1.\tWhat are the new features added in Python 3.8 version?"
   ]
  },
  {
   "cell_type": "markdown",
   "id": "5839df6f-e4eb-4c4f-9bd3-752a8420412a",
   "metadata": {},
   "source": [
    "**Ans:-** Some New Features Added in Python 3.8 Version are:\n",
    "\n",
    "**Walrus Operator:** This operator is used to assign and return a value in the same expression. This removes the need for initializing the variable upfront. The major benefit of this is it saves some lines of code. It is also known as The Walrus Operator due to its similarity to the eyes and tusks of a walrus.\n",
    "\n",
    "**yield** and **return** statements do not require parentheses to return multiple values.\n",
    "\n",
    "Reversed works with a dictionary. The built-in method **reversed()** can be used for accessing the elements in the reverse order of insertion\n",
    "\n",
    "**Dict comprehensions** have been modified so that the key is computed first and the value second.\n",
    "\n",
    "**importlib_metadata** is a new **library** added in the Python’s standard utility modules, that provides an **API** for accessing an **installed package’s metadata**, such as its entry points or its top-level name.\n",
    "\n",
    "**f-strings** now support =, to make string **interpolation** easy. Python 3.8 allows the use of the above-discussed assignment operator and equal sign (=) inside the f-strings.\n",
    "\n",
    "In the **three-argument** form of **pow()**, when the exponent is **-1**, it calculates the **modular multiplicative inverse** of the given value\n",
    "\n",
    "The **csv.DictReader** now returns **instances of dictionary** instead of a collections.OrderedDict.\n",
    "\n",
    "If you **miss a comma** in your code such as a = [(1, 2) (3, 4)], instead of throwing TypeError, it displays an informative Syntax warning."
   ]
  },
  {
   "cell_type": "code",
   "execution_count": 2,
   "id": "ff149def-45cb-4020-95cc-265d5ba7bc61",
   "metadata": {},
   "outputs": [
    {
     "name": "stdout",
     "output_type": "stream",
     "text": [
      "15\n",
      "('Hello', 'Good Morning')\n",
      "(0, 0) (1, 1) (2, 4) (3, 9) (4, 16) \n",
      "Role:\"Data Scientist\"\n",
      "Name:\"Sahdev Saini\"\n",
      "The length of string is len_string = 31\n"
     ]
    },
    {
     "name": "stderr",
     "output_type": "stream",
     "text": [
      "<>:26: SyntaxWarning: 'tuple' object is not callable; perhaps you missed a comma?\n",
      "<>:26: SyntaxWarning: 'tuple' object is not callable; perhaps you missed a comma?\n",
      "/tmp/ipykernel_84/414928630.py:26: SyntaxWarning: 'tuple' object is not callable; perhaps you missed a comma?\n",
      "  r_list = [(1,2) (3,4)]\n",
      "/tmp/ipykernel_84/414928630.py:26: SyntaxWarning: 'tuple' object is not callable; perhaps you missed a comma?\n",
      "  r_list = [(1,2) (3,4)]\n",
      "/tmp/ipykernel_84/414928630.py:26: SyntaxWarning: 'tuple' object is not callable; perhaps you missed a comma?\n",
      "  r_list = [(1,2) (3,4)]\n"
     ]
    },
    {
     "ename": "TypeError",
     "evalue": "'tuple' object is not callable",
     "output_type": "error",
     "traceback": [
      "\u001b[0;31m---------------------------------------------------------------------------\u001b[0m",
      "\u001b[0;31mTypeError\u001b[0m                                 Traceback (most recent call last)",
      "Cell \u001b[0;32mIn [2], line 26\u001b[0m\n\u001b[1;32m     23\u001b[0m \u001b[38;5;28mprint\u001b[39m(\u001b[38;5;124mf\u001b[39m\u001b[38;5;124m'\u001b[39m\u001b[38;5;124mThe length of string is \u001b[39m\u001b[38;5;132;01m{\u001b[39;00mlen_string \u001b[38;5;132;01m= }\u001b[39;00m\u001b[38;5;124m'\u001b[39m)\n\u001b[1;32m     25\u001b[0m \u001b[38;5;66;03m# Example of Infomrative syntax instead of synatx error while missing comma.\u001b[39;00m\n\u001b[0;32m---> 26\u001b[0m r_list \u001b[38;5;241m=\u001b[39m [\u001b[43m(\u001b[49m\u001b[38;5;241;43m1\u001b[39;49m\u001b[43m,\u001b[49m\u001b[38;5;241;43m2\u001b[39;49m\u001b[43m)\u001b[49m\u001b[43m \u001b[49m\u001b[43m(\u001b[49m\u001b[38;5;241;43m3\u001b[39;49m\u001b[43m,\u001b[49m\u001b[38;5;241;43m4\u001b[39;49m\u001b[43m)\u001b[49m]\n",
      "\u001b[0;31mTypeError\u001b[0m: 'tuple' object is not callable"
     ]
    }
   ],
   "source": [
    "# Example of Walrus Operator\n",
    "if (sum := 10 + 5) > 10: # its always recommended to use paranthesis with walrus operator\n",
    "    print(sum) #return 15 \n",
    "\n",
    "# Example of yield and return\n",
    "def hello():\n",
    "    return 'Hello','Good Morning'\n",
    "print(hello())\n",
    "def count():\n",
    "    for i in range(5):\n",
    "        yield i,i**2\n",
    "for ele in count():\n",
    "    print(ele, end=\" \")\n",
    "print()\n",
    "    \n",
    "# Example of Reversed Support for dict\n",
    "t_dict = {\"Name\":\"Sahdev Saini\",\"Role\":\"Data Scientist\"}\n",
    "for ele in reversed(t_dict):\n",
    "    print(f'{ele}:\"{t_dict[ele]}\"')\n",
    "    \n",
    "# Example of using = in F-strings\n",
    "len_string = len(\"Ineuron Full Stack Data Science\")\n",
    "print(f'The length of string is {len_string = }')\n",
    "\n",
    "# Example of Infomrative syntax instead of synatx error while missing comma.\n",
    "r_list = [(1,2) (3,4)]"
   ]
  },
  {
   "cell_type": "markdown",
   "id": "bc873466-3d64-428d-8279-8ed1e3652264",
   "metadata": {},
   "source": [
    "## Q.2.\tWhat is monkey patching in Python?"
   ]
  },
  {
   "cell_type": "markdown",
   "id": "a437204c-da0e-4b79-bce0-0a027d7664fd",
   "metadata": {},
   "source": [
    "**Ans:-** In Python, the term **monkey patch** refers to making **dynamic (or run-time) modifications** to a class or module. In Python, we can actually change the behavior of code at run-time."
   ]
  },
  {
   "cell_type": "code",
   "execution_count": 3,
   "id": "ef70faff-8c65-423a-892a-16065e653a31",
   "metadata": {},
   "outputs": [
    {
     "name": "stdout",
     "output_type": "stream",
     "text": [
      "monkey_f() is being called\n"
     ]
    }
   ],
   "source": [
    "class A:\n",
    "    def func(self):\n",
    "        print(\"func() is being called\")\n",
    "\n",
    "def monkey_f(self):\n",
    "    print(\"monkey_f() is being called\")\n",
    "\n",
    "A.func = monkey_f\n",
    "some_object = A()\n",
    "some_object.func()"
   ]
  },
  {
   "cell_type": "markdown",
   "id": "ef4e5b41-77d9-4b20-b1d2-b4aa1c75893b",
   "metadata": {},
   "source": [
    "## Q.3.\tWhat is the difference between a shallow copy and deep copy?"
   ]
  },
  {
   "cell_type": "markdown",
   "id": "3e41e9b3-13ad-4780-8033-e38090a183e2",
   "metadata": {},
   "source": [
    "**Ans:-** The Differences between a **Shallow Copy** and **deep copy** are as follows:\n",
    "\n",
    "When an object is copied using **copy()**, it is called **shallow copy** as changes made in **copied object** will also make corresponding changes in **original object**, because both the objects will be referencing same address location.\n",
    "\n",
    "When an object is copied using **deepcopy()**, it is called **deep copy** as changes made in **copied object** will not make corresponding changes in **original object**, because both the objects will not be referencing same address location."
   ]
  },
  {
   "cell_type": "code",
   "execution_count": 4,
   "id": "50e91fda-ede7-48e4-b81b-e052fc50ba79",
   "metadata": {},
   "outputs": [
    {
     "name": "stdout",
     "output_type": "stream",
     "text": [
      "Original Elements of each List\n",
      "[1, 2, [3, 4], 5, 6]\n",
      "[1, 2, [3, 4], 5, 6]\n",
      "[1, 2, [3, 4], 5, 6]\n",
      "New Elements of each List\n",
      "[1, 2, [3, 4], 5, 20]\n",
      "[10, 2, [3, 4], 5, 6]\n",
      "[1, 2, [3, 4], 5, 20]\n"
     ]
    }
   ],
   "source": [
    "from copy import deepcopy, copy\n",
    "l_one = [1,2,[3,4],5,6]\n",
    "l_two = deepcopy(l_one)\n",
    "l_three = l_one\n",
    "print(f'Original Elements of each List\\n{l_one}\\n{l_two}\\n{l_three}')\n",
    "l_two[0] = 10\n",
    "l_three[-1] = 20\n",
    "print(f'New Elements of each List\\n{l_one}\\n{l_two}\\n{l_three}')"
   ]
  },
  {
   "cell_type": "markdown",
   "id": "bd974d7a-ba92-4b2b-8e38-bf403d4ec20b",
   "metadata": {},
   "source": [
    "## Q.4.\tWhat is the maximum possible length of an identifier?"
   ]
  },
  {
   "cell_type": "markdown",
   "id": "f13b4cca-2588-4b18-b989-09acc460566a",
   "metadata": {},
   "source": [
    "**Ans:-** In Python, the highest possible length of an identifier is **79 characters**. Python is a high level programming language. It’s also a complex form and a collector of waste.\n",
    "\n",
    "Python, particularly when combined with identifiers, is case-sensitive.\n",
    "When writing or using identifiers in Python, it has a maximum of 79 characters.\n",
    "Unlikely, Python gives the identifiers unlimited length.\n",
    "However, the layout of PEP-8 prevents the user from breaking the rules and includes a 79-character limit."
   ]
  },
  {
   "cell_type": "markdown",
   "id": "bbd83a55-f1e2-482a-a78d-7b72e9d6de44",
   "metadata": {},
   "source": [
    "## Q.5.\tWhat is generator comprehension?"
   ]
  },
  {
   "cell_type": "markdown",
   "id": "d9b09487-faa9-49cb-8bd7-e2c7bc03e09e",
   "metadata": {},
   "source": [
    "**Ans:-** A generator comprehension is a single-line specification for defining a generator in Python.\n",
    "\n",
    "It is absolutely essential to learn this syntax in order to write simple and readable code.\n",
    "Generator comprehension uses round bracket unlike square bracket in list comprehension.\n",
    "The generator yields one item at a time and generates item only when in demand. Whereas, in a list comprehension, Python reserves memory for the whole list. Thus we can say that the generator expressions are memory efficient than the lists."
   ]
  },
  {
   "cell_type": "code",
   "execution_count": 5,
   "id": "842cfe4f-8319-49b2-98cc-38013b6544d6",
   "metadata": {},
   "outputs": [
    {
     "name": "stdout",
     "output_type": "stream",
     "text": [
      "[0, 1, 2, 3, 4, 5, 6, 7, 8, 9]\n",
      "<generator object <genexpr> at 0x7fe2910dca50>\n",
      "0 2 4 6 8 "
     ]
    }
   ],
   "source": [
    "in_list = [x for x in range(10)] # List Comprehension\n",
    "print(in_list)\n",
    "out_gen = (x for x in in_list if x%2 == 0) # Generator Comprehension\n",
    "print(out_gen) # Returns a Generator Object\n",
    "for ele in out_gen:\n",
    "    print(ele, end=\" \")"
   ]
  },
  {
   "cell_type": "code",
   "execution_count": null,
   "id": "8a921118-d242-48a9-9576-4994387200b6",
   "metadata": {},
   "outputs": [],
   "source": []
  }
 ],
 "metadata": {
  "kernelspec": {
   "display_name": "Python 3 (ipykernel)",
   "language": "python",
   "name": "python3"
  },
  "language_info": {
   "codemirror_mode": {
    "name": "ipython",
    "version": 3
   },
   "file_extension": ".py",
   "mimetype": "text/x-python",
   "name": "python",
   "nbconvert_exporter": "python",
   "pygments_lexer": "ipython3",
   "version": "3.10.6"
  }
 },
 "nbformat": 4,
 "nbformat_minor": 5
}

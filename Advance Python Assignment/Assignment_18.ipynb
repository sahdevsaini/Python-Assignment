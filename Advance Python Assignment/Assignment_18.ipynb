{
 "cells": [
  {
   "cell_type": "markdown",
   "id": "b4089b50-94db-4674-a702-022f369dd541",
   "metadata": {},
   "source": [
    "## ---------------------------------- Assignment- 18 -----------------------------"
   ]
  },
  {
   "cell_type": "markdown",
   "id": "dbea8e77-3c27-43e0-81dd-d5f3bb1a1da8",
   "metadata": {},
   "source": [
    "### Q1. Describe the differences between text and binary files in a single paragraph."
   ]
  },
  {
   "cell_type": "markdown",
   "id": "ba20996b-ff2b-490c-82ed-4001798a9943",
   "metadata": {},
   "source": [
    "**Ans:-** The differences between Text Files and Binary Files are:\n",
    "\n",
    "**Text files** are special subset of binary files that are used to **store human readable characters** as a rich text document or plain text document. Text files also store data in sequential bytes but bits in text file represents characters.\n",
    "\n",
    "**Binary files** are those typical files that store data in the form of **sequence of bytes** grouped into eight bits or sometimes sixteen bits. These bits represent custom data and such files can store multiple types of data **(images, audio, text, etc)** under a single file."
   ]
  },
  {
   "cell_type": "markdown",
   "id": "db529467-ee69-4b9b-9a0e-017b50a96431",
   "metadata": {},
   "source": [
    "### Q2. What are some scenarios where using text files will be the better option? When would you like to use binary files instead of text files?"
   ]
  },
  {
   "cell_type": "markdown",
   "id": "4f84a0c7-7829-483e-b6f0-8626ce9eeef2",
   "metadata": {},
   "source": [
    "**Ans:- Text files** are `less prone to get corrupted` as any undesired change may just show up once the file is opened and then can easily be removed. Whereas Use binary files instead of text files for image data."
   ]
  },
  {
   "cell_type": "markdown",
   "id": "d52a14ea-d59c-4ff7-a08f-27d676c37930",
   "metadata": {},
   "source": [
    "### Q3. What are some of the issues with using binary operations to read and write a Python integer directly to disc?"
   ]
  },
  {
   "cell_type": "markdown",
   "id": "be4a23d5-28a0-47bf-99f4-92c79fff86f5",
   "metadata": {},
   "source": [
    "**Ans:-** When we read or write a python integer using binary operations\n",
    "\n",
    "**1.)** Binary operations deal with raw data.<br>\n",
    "**2.)** One needs to identify how many bytes one would read or write."
   ]
  },
  {
   "cell_type": "markdown",
   "id": "365e6cf9-096c-41a0-b8b1-6df46c1288b7",
   "metadata": {},
   "source": [
    "### Q4. Describe a benefit of using the with keyword instead of explicitly opening a file."
   ]
  },
  {
   "cell_type": "markdown",
   "id": "bafca9b3-139e-429f-a5c7-5fda6a38542a",
   "metadata": {},
   "source": [
    "**Ans:-** When a file is opened using the `with` keyword, if **some exceptions occur after opening** a file, or at the end of the file it automatically does the closing of the file. There by not leaving an file in open mode and there would no need to explicitly close a file."
   ]
  },
  {
   "cell_type": "markdown",
   "id": "ed550d1c-d89f-4e7e-b191-9e36d8ac9239",
   "metadata": {},
   "source": [
    "### Q5. Does Python have the trailing newline while reading a line of text? Does Python append a newline when you write a line of text?"
   ]
  },
  {
   "cell_type": "markdown",
   "id": "9f2d40ab-545f-4ba7-9fa2-9a779f927e23",
   "metadata": {},
   "source": [
    "**Ans:-** Yes, Python have the trailing newline while reading a line of text. When we write a newline has to be provided in python excpicitly."
   ]
  },
  {
   "cell_type": "markdown",
   "id": "d993fc27-db3c-41f1-92db-debf75b7c903",
   "metadata": {},
   "source": [
    "#### Q6. What file operations enable for random-access operation?"
   ]
  },
  {
   "cell_type": "markdown",
   "id": "c845fee4-e18f-4be1-9874-c5bf6d18ac9a",
   "metadata": {},
   "source": [
    "**Ans:-** The file operations enable for random-access operation are `seek()` and `tell()`"
   ]
  },
  {
   "cell_type": "markdown",
   "id": "84cbd37e-fd99-4022-8f68-cc6f248e31dc",
   "metadata": {},
   "source": [
    "### Q7. When do you think you'll use the struct package the most?"
   ]
  },
  {
   "cell_type": "markdown",
   "id": "54aed89f-fcac-4da8-9185-ab93666d5313",
   "metadata": {},
   "source": [
    "**Ans:-** The `struct` package is mostly used while converting a common python types into `C` language types."
   ]
  },
  {
   "cell_type": "markdown",
   "id": "46aaa1dd-a1f6-4a67-92b0-47ba3cdcd892",
   "metadata": {},
   "source": [
    "### Q8. When is pickling the best option?"
   ]
  },
  {
   "cell_type": "markdown",
   "id": "ed37b77e-effc-4e89-86c5-6aa075fa8c9f",
   "metadata": {},
   "source": [
    "**Ans:-** `Pickling` is best option for creating a new binary file using python."
   ]
  },
  {
   "cell_type": "markdown",
   "id": "095f706b-67a1-4be5-b403-9fbc62721cc6",
   "metadata": {},
   "source": [
    "### Q9. When will it be best to use the shelve package?"
   ]
  },
  {
   "cell_type": "markdown",
   "id": "f7f43adb-6654-4e91-89f7-b67d4542682e",
   "metadata": {},
   "source": [
    "**Ans:-** `Shelve` package is used to pickle data but treats the entire file as dictionary."
   ]
  },
  {
   "cell_type": "markdown",
   "id": "f226ff49-871b-46b1-a3f5-f6440083e463",
   "metadata": {},
   "source": [
    "### Q10. What is a special restriction when using the shelve package, as opposed to using other data dictionaries"
   ]
  },
  {
   "cell_type": "markdown",
   "id": "a7c1d8f8-b3f2-4629-a64a-4aa6f8b89fcb",
   "metadata": {},
   "source": [
    "**Ans:-** Only string data type can be used as key in this special dictionary object, whereas any picklable Python object can be used as value."
   ]
  },
  {
   "cell_type": "code",
   "execution_count": null,
   "id": "cf21e896-53b9-477b-abe6-52dbba86cb08",
   "metadata": {},
   "outputs": [],
   "source": []
  }
 ],
 "metadata": {
  "kernelspec": {
   "display_name": "Python 3 (ipykernel)",
   "language": "python",
   "name": "python3"
  },
  "language_info": {
   "codemirror_mode": {
    "name": "ipython",
    "version": 3
   },
   "file_extension": ".py",
   "mimetype": "text/x-python",
   "name": "python",
   "nbconvert_exporter": "python",
   "pygments_lexer": "ipython3",
   "version": "3.10.6"
  }
 },
 "nbformat": 4,
 "nbformat_minor": 5
}

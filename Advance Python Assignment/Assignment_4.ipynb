{
 "cells": [
  {
   "cell_type": "markdown",
   "id": "fcbc6042-92b6-466b-84e6-f0606bf9af77",
   "metadata": {},
   "source": [
    "## ---------------------------------- Assignment_4-----------------------------"
   ]
  },
  {
   "cell_type": "markdown",
   "id": "bf0d4508-672e-44d3-bf8d-b7ea09807715",
   "metadata": {},
   "source": [
    "## Q1. Which two operator overloading methods can you use in your classes to support iteration?"
   ]
  },
  {
   "cell_type": "markdown",
   "id": "a85f9b38-7f5c-4f15-9a07-866a22d2f6ce",
   "metadata": {},
   "source": [
    "**Ans: **\\_\\_iter__** and \\_\\_next__** are the operator overloading methods in python that support iteration and are collectively called **iterator protocol**.\n",
    "\n",
    "**\\_\\_iter__** returns the **iterator** object and is called at the start of loop in our respective class.<br>\n",
    "**_\\_next__** is called at each **loop increment**, it returns the incremented value. Also Stopiteration is raised when there is no value to return."
   ]
  },
  {
   "cell_type": "code",
   "execution_count": 1,
   "id": "3f9b5a9a-a6cc-4585-b362-81e9a4e88d5c",
   "metadata": {},
   "outputs": [
    {
     "name": "stdout",
     "output_type": "stream",
     "text": [
      "5 6 7 8 9 10 11 12 13 14 15 "
     ]
    }
   ],
   "source": [
    "class Counter:\n",
    "    def __init__(self,low,high):\n",
    "        self.current = low\n",
    "        self.high = high\n",
    "    def __iter__(self):\n",
    "        return self\n",
    "    def __next__(self):\n",
    "        if self.current > self.high:\n",
    "            raise StopIteration\n",
    "        else:\n",
    "            self.current += 1\n",
    "            return self.current - 1\n",
    "for ele in Counter(5,15):\n",
    "    print(ele, end=\" \")"
   ]
  },
  {
   "cell_type": "markdown",
   "id": "44f99c79-3c38-4eba-8659-a46bc639edf7",
   "metadata": {},
   "source": [
    "## Q2. In what contexts do the two operator overloading methods manage printing?"
   ]
  },
  {
   "cell_type": "markdown",
   "id": "70282969-6696-4f4f-8d77-c3c21585d0a1",
   "metadata": {},
   "source": [
    "Ans: __str__ and __repr__ are two operator overloading methods that manage printing.\n",
    "\n",
    "In Short, the difference between both these operators is the goal of __repr__ is to be unambiguous and __str__ is to be readable.\n",
    "Whenever we are printing any object reference internally __str__ method will be called by default.\n",
    "The main purpose of __str__ is for readability. it prints the informal string representation of an object, one that is useful for printing the object. it may not be possible to convert result string to original object.\n",
    "__repr__ is used to print official string representation of an object, so it includes all information and development."
   ]
  },
  {
   "cell_type": "code",
   "execution_count": 3,
   "id": "e239823a-4a0a-40c6-857a-1664658c33b6",
   "metadata": {},
   "outputs": [
    {
     "name": "stdout",
     "output_type": "stream",
     "text": [
      "<__main__.Student object at 0x7fdd91f0bdc0>\n",
      "Student Name: Mano and Roll No: 1\n",
      "2023-10-09 08:25:53.240549\n",
      "Unable to convert back to original object\n",
      "datetime.datetime(2023, 10, 9, 8, 25, 53, 240549)\n",
      "2023-10-09 08:25:53.240549\n"
     ]
    }
   ],
   "source": [
    "class Student:\n",
    "    def __init__(self,name,roll_no):\n",
    "        self.name = name\n",
    "        self.roll_no = roll_no\n",
    "        \n",
    "\n",
    "s1 = Student(\"Mano\",1)\n",
    "print(str(s1))\n",
    "\n",
    "class Student:\n",
    "    def __init__(self,name,roll_no):\n",
    "        self.name = name\n",
    "        self.roll_no = roll_no\n",
    "    def __str__(self):\n",
    "        return f'Student Name: {self.name} and Roll No: {self.roll_no}'\n",
    "    \n",
    "s1 = Student(\"Mano\",1)\n",
    "print(str(s1))\n",
    "\n",
    "import datetime\n",
    "today = datetime.datetime.now()\n",
    "\n",
    "s = str(today) # converting datetime object to presentable str\n",
    "print(s)\n",
    "try: d = eval(s) # converting str back to datetime object\n",
    "except: print(\"Unable to convert back to original object\")\n",
    "    \n",
    "u = repr(today) # converting datetime object to str\n",
    "print(u)\n",
    "e = eval(u) # converting str back to datetime object\n",
    "print(e)"
   ]
  },
  {
   "cell_type": "markdown",
   "id": "6b202098-d723-496d-96c3-3288cbee2892",
   "metadata": {},
   "source": [
    "## Q3. In a class, how do you intercept slice operations?"
   ]
  },
  {
   "cell_type": "markdown",
   "id": "e75b15b8-ea55-4ab4-be3f-57029ec4ce5f",
   "metadata": {},
   "source": [
    "**Ans:-** In a class use of **slice()** in **\\_\\_getitem__ method** is used for intercept **slice operation**. <br>This slice method is provided with start integer number, stop integer number and step integer number.\n",
    "\n",
    "Example: **\\_\\_getitem__(slice(start,stop,step))**"
   ]
  },
  {
   "cell_type": "markdown",
   "id": "c78c8a92-d8fc-4906-909c-24d4383bee4f",
   "metadata": {},
   "source": [
    "## Q4. In a class, how do you capture in-place addition?\n"
   ]
  },
  {
   "cell_type": "markdown",
   "id": "76560da9-6494-44ea-ae55-a63b19f7871c",
   "metadata": {},
   "source": [
    "**Ans:-**  **a+b** is normal addition. Whereas **a+=b** is inplace addition operation. In this in-place addition **a** itself will store the value of addition. In a class **\\_\\_iadd__** method is used for this in-place operation"
   ]
  },
  {
   "cell_type": "code",
   "execution_count": 2,
   "id": "7568ea8f-7fc6-4772-a80a-c1d760805212",
   "metadata": {},
   "outputs": [
    {
     "name": "stdout",
     "output_type": "stream",
     "text": [
      "30\n"
     ]
    }
   ],
   "source": [
    "class Pack:\n",
    "    def __init__(self,cards):\n",
    "        self.cards = cards\n",
    "    def __iadd__(self,other):\n",
    "        self.cards += other.cards\n",
    "        return self.cards\n",
    "        \n",
    "b1 = Pack(10)\n",
    "b2 = Pack(20)\n",
    "b1+=b2\n",
    "print(b1)"
   ]
  },
  {
   "cell_type": "markdown",
   "id": "257531a0-9c70-4f36-859b-4ad8068023ad",
   "metadata": {},
   "source": [
    "## Q5. When is it appropriate to use operator overloading?"
   ]
  },
  {
   "cell_type": "markdown",
   "id": "9acd0f72-7ce3-46c8-846e-342be020653c",
   "metadata": {},
   "source": [
    "**Ans:-** Operator overloading is used when we want to use an operator other than its normal operation to have different meaning according to the context required in user defined function."
   ]
  },
  {
   "cell_type": "code",
   "execution_count": 3,
   "id": "d73d7a28-3906-447f-b8cd-e2bcd3a3f41a",
   "metadata": {},
   "outputs": [
    {
     "name": "stdout",
     "output_type": "stream",
     "text": [
      "Total Number of Pages -> 500\n"
     ]
    }
   ],
   "source": [
    "class Book:\n",
    "    def __init__(self,pages):\n",
    "        self.pages = pages\n",
    "    def __add__(self,other):\n",
    "        return self.pages+other.pages\n",
    "b1 = Book(200)\n",
    "b2 = Book(300)\n",
    "print(f'Total Number of Pages -> {b1+b2}')"
   ]
  },
  {
   "cell_type": "code",
   "execution_count": null,
   "id": "20bdb436-c787-4706-beb1-1be33ce7cb22",
   "metadata": {},
   "outputs": [],
   "source": []
  }
 ],
 "metadata": {
  "kernelspec": {
   "display_name": "Python 3 (ipykernel)",
   "language": "python",
   "name": "python3"
  },
  "language_info": {
   "codemirror_mode": {
    "name": "ipython",
    "version": 3
   },
   "file_extension": ".py",
   "mimetype": "text/x-python",
   "name": "python",
   "nbconvert_exporter": "python",
   "pygments_lexer": "ipython3",
   "version": "3.10.6"
  }
 },
 "nbformat": 4,
 "nbformat_minor": 5
}

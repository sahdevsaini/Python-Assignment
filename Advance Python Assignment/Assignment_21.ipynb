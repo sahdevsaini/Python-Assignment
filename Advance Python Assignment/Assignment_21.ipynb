{
 "cells": [
  {
   "cell_type": "markdown",
   "id": "4b00e1b9-1a8c-41ca-8ba3-636400862838",
   "metadata": {},
   "source": [
    "## ---------------------------------- Assignment-21 --------------------------------"
   ]
  },
  {
   "cell_type": "markdown",
   "id": "1fe7897f-fd1b-4c60-8817-bec8152a61ce",
   "metadata": {},
   "source": [
    "## Q1. What is a probability distribution, exactly? If the values are meant to be random, how can you predict them at all?"
   ]
  },
  {
   "cell_type": "markdown",
   "id": "2ede4351-965c-48d3-a71d-8f3831cc5ae8",
   "metadata": {},
   "source": [
    "**Ans:-** A **probability distribution** describes how a random variable is distributed.\n",
    "\n",
    "It tells us which values a random variable is **most likely** to take on and which values are less likely. <br>Based on the previous data and the occurences of the random event, we can predict the outcome in terms of probabilities."
   ]
  },
  {
   "cell_type": "markdown",
   "id": "17a68d63-4d9d-4b42-b239-e36dbfc7ea70",
   "metadata": {},
   "source": [
    "## Q2. Is there a distinction between true random numbers and pseudo-random numbers, if there is one? Why are the latter considered “good enough”?"
   ]
  },
  {
   "cell_type": "markdown",
   "id": "09ed5787-721c-4f22-824c-e51b07dfe792",
   "metadata": {},
   "source": [
    "**Ans:- True Random Numbers** are **true physical** values while **pseudo-random numbers** are **generated internally** by a program . Latter is considered good enough as they have sort of uniform distribution."
   ]
  },
  {
   "cell_type": "markdown",
   "id": "95869536-fe09-4550-af3e-dac6ae886b98",
   "metadata": {},
   "source": [
    "## Q3. What are the two main factors that influence the behaviour of a \"normal\" probability distribution?"
   ]
  },
  {
   "cell_type": "markdown",
   "id": "19cdefbe-8724-43d7-b897-3f2fa4a089fd",
   "metadata": {},
   "source": [
    "**Ans:-** Normal Probability Distribution are influenced by two factors **mean** and the **variance**."
   ]
  },
  {
   "cell_type": "markdown",
   "id": "18f15abc-1525-4c4f-8c88-eae1809f4ed7",
   "metadata": {},
   "source": [
    "## Q4. Provide a real-life example of a normal distribution."
   ]
  },
  {
   "cell_type": "markdown",
   "id": "f7db0a9e-d41c-4324-9160-4f61d2127948",
   "metadata": {},
   "source": [
    "**Ans:-** A Real-life example of a normal distribution are **heights or blood pressure** measurements"
   ]
  },
  {
   "cell_type": "markdown",
   "id": "d910121e-2586-40d8-a68e-d5197ad9d1a7",
   "metadata": {},
   "source": [
    "## Q5. In the short term, how can you expect a probability distribution to behave? What do you think will happen as the number of trials grows?"
   ]
  },
  {
   "cell_type": "markdown",
   "id": "432ea50f-90a3-4e5e-8159-309937e28138",
   "metadata": {},
   "source": [
    "**Ans:-** Variance will **decrease** with number of trials"
   ]
  },
  {
   "cell_type": "markdown",
   "id": "bb9ac81d-517e-47a0-9d56-a45680802a4a",
   "metadata": {},
   "source": [
    "## Q6. What kind of object can be shuffled by using random.shuffle?"
   ]
  },
  {
   "cell_type": "markdown",
   "id": "2c964d0b-f4e6-46fe-be7a-d09f6c520b13",
   "metadata": {},
   "source": [
    "**Ans:-** lists (**list**), strings (**str**) and tuples (**tuple**) objects can be shuffled by using random.shuffle."
   ]
  },
  {
   "cell_type": "markdown",
   "id": "cb54d5c3-bb3a-4c1c-bd27-f61f8bbfddf0",
   "metadata": {},
   "source": [
    "## Q7. Describe the math package's general categories of functions."
   ]
  },
  {
   "cell_type": "markdown",
   "id": "f96c901a-5c64-4321-b3f2-452124b8e379",
   "metadata": {},
   "source": [
    "**Ans:-** The Math package's general categories of functions are:<br>\n",
    "\n",
    "**1.** Trigonometric functions<br>\n",
    "**2.** Quadratic functions<br>\n",
    "**3.** Exponential functions<br>\n",
    "**4.** Hyperbolic functions<br>\n",
    "**5.** Periodic functions<br>\n",
    "**6.** Arithmetic functions<br>\n",
    "**7.** functions<br>\n",
    "**8.** Conversions to Integer"
   ]
  },
  {
   "cell_type": "markdown",
   "id": "b128206f-01a6-4409-a9ee-85867bfc48f6",
   "metadata": {},
   "source": [
    "## Q8. What is the relationship between exponentiation and logarithms?"
   ]
  },
  {
   "cell_type": "markdown",
   "id": "382e6388-ce53-4434-83e8-56f7414b9d4f",
   "metadata": {},
   "source": [
    "**Ans:-** Exponentiation and logarithms are **inverse** of each other."
   ]
  },
  {
   "cell_type": "markdown",
   "id": "42caba32-fb30-4cd9-b7aa-41629685a22f",
   "metadata": {},
   "source": [
    "## Q9. What are the three logarithmic functions that Python supports?"
   ]
  },
  {
   "cell_type": "markdown",
   "id": "064fb4af-727a-4fe3-bcdd-1049a5cd4688",
   "metadata": {},
   "source": [
    "**Ans:-** The Three Logarithmic Functions that Python supports are:<br>\n",
    "\n",
    "**log2(x)** - logarithmic value of x to base 2<br>\n",
    "**log10(x)** - logarithmic value of x to base 10<br>\n",
    "**log1p(a)** - This function is used to compute logarithm(1+a).<br>"
   ]
  },
  {
   "cell_type": "code",
   "execution_count": null,
   "id": "7f35207a-1266-4ea1-9e97-601b4021aa2a",
   "metadata": {},
   "outputs": [],
   "source": []
  }
 ],
 "metadata": {
  "kernelspec": {
   "display_name": "Python 3 (ipykernel)",
   "language": "python",
   "name": "python3"
  },
  "language_info": {
   "codemirror_mode": {
    "name": "ipython",
    "version": 3
   },
   "file_extension": ".py",
   "mimetype": "text/x-python",
   "name": "python",
   "nbconvert_exporter": "python",
   "pygments_lexer": "ipython3",
   "version": "3.10.6"
  }
 },
 "nbformat": 4,
 "nbformat_minor": 5
}

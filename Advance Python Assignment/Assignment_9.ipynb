{
 "cells": [
  {
   "cell_type": "code",
   "execution_count": null,
   "id": "a0f89388-43a7-41ee-928a-6997dc98b5e2",
   "metadata": {},
   "outputs": [],
   "source": []
  },
  {
   "cell_type": "code",
   "execution_count": null,
   "id": "f5d2ec59-81e8-46fc-a834-b8f5a06d5339",
   "metadata": {},
   "outputs": [],
   "source": [
    "Q1. In Python 3.X, what are the names and functions of string object types?"
   ]
  },
  {
   "cell_type": "markdown",
   "id": "7f6e4344-5f1e-4bfd-ab8a-ff9c3398185b",
   "metadata": {},
   "source": [
    "Ans: The following are the names and functions of string object types in Python 3.X\n",
    "\n",
    "**\\<stirng>.isdecimal()** -> Returns True if all characters in a string are decimal.<br>\n",
    "**\\<string>.isalnum()** -> Returns True if all characters in the string are AlphaNumeric.<br>\n",
    "**\\<string>.istitle()** -> Returns True if first character in a string is in Uppercase.<br>\n",
    "**\\<string>.partition(<sub_string>)** -> Splits string at first occurance of sub string and returns a tuple of 3 elements.<br>\n",
    "**\\<string>.rpartition(<sub_string>)** -> Splits string at last occurance of sub string and returns a tuple of 3 elements.<br>\n",
    "**\\<string>.isidentifier()** -> Returns True if give string is a valid identifier name.<br>\n",
    "**len**(\\<string>) -> Returns the length of the given string.<br>\n",
    "**\\<string>**.index**(<\\sub_string>) -> Returns the lowest index of substring if substring is found in the string.<br>\n",
    "**\\<string>**.rindex**(\\<sub_string>) -> Returns the highest index of substring if substring is found in the string.<br>\n",
    "**max(\\<string>)** -> Returns the highest Alphabetical Character in the string as per ASCII.<br>\n",
    "**min(\\<string>)** -> Returns the lowest Alphabetical Character in the string as per ASCII.<br>\n",
    "**\\<string>.splitlines()** -> Returns a list of lines in the string.<br>\n",
    "**\\<string>.capitalize()** -> Returns the string with first character capitalized.<br>\n",
    "**\\<string>.upper()** -> Returns the string with all characters in uppercase.<br>\n",
    "**\\<string>.lower()** -> Returns the string with all characters in lowercase<br>\n",
    "****\\<string>.casefold()** -> Returns the string in lowercase which can be used for caseless comparisions.<br>\n",
    "**\\<string>.expandtabs(no_of_spaces)** -> Replaces tabs in a string with specified no of spaces default is 8<br>\n",
    "**\\<string>.find(<sub_string>)** -> Returns lowest index of substring if substring is found in the string else returns -1.<br>\n",
    "**\\<string>.rfind(<sub_string>)** -> Returns highest index of substring if substring is found in the string else returns -1.<br>\n",
    "**\\<string>.count(\\<char>)** -> Returns the no of occurances of the char in the given string.<br>\n",
    "**\\<string>.split(\\<sep>)** -> Returns list of words seperated by given sep else seperated by whitespace.<br>\n",
    "**\\<string>.rsplit(\\<sep>)** -> Returns list of words seperated by given sep else seperated by whitespace scanning from end.<br>\n",
    "**\\<string>.lstrip()** -> Returns a copy of where leading whitespaces are removed.<br>\n",
    "**\\<string>.rstrip()** -> Returns a copy of where trailed whitespaces are removed.<br>\n",
    "**\\<string>.strip()** -> Returns a copy of where both leading and trailing whitespaces are removed.<br>\n",
    "**\\<string>.swapcase()** -> Swaps lowercase characters with uppercase and vice versa.<br>\n",
    "**\\<sep>.join(\\<list>)** -> Concatenates a list or tuple of words with intervening occuernces of sep.<br>\n",
    "**\\<string>.translate(\\<mapping_table>)** -> translates the characters using table.<br>\n",
    "**\\<string>.maketrans(\\<dict>)** -> Creating a mapping translation tbale usable for \\<string>.translate(\\<mapping_table>)<br>\n",
    "**\\<string>.replace(\\<char_1>,\\<char_2>)** -> Replace all occurances of char_1 with char_2 in string.<br>\n",
    "**\\<string>.encode()** -> Encodes string into any encoding supported by python. Default encoding is UTF-8.<br>\n",
    "**\\<string>.ljust(<no_of_spaces>)** -> Left-justify in a field of given width.<br>\n",
    "**\\<string>.rjust(<no_of_spaces>)** -> Right-justify in a field of given width.<br>\n",
    "**\\<string>.center(<no_of_spaces>)** -> Center-justify in a field of given width.<br>\n",
    "**\\<stirng>.zfill(\\<length>)** -> Zfill adds zeros to the begining of string until the specified length is reached."
   ]
  },
  {
   "cell_type": "code",
   "execution_count": 2,
   "id": "a89418ca-bc14-47f2-9cea-7f0bdf82f67c",
   "metadata": {},
   "outputs": [
    {
     "name": "stdout",
     "output_type": "stream",
     "text": [
      "True\n",
      "True\n",
      "False\n",
      "('\"I could eat ', 'bananas', ' all day, bananas are my favorite fruit\"')\n",
      "('\"I could eat bananas all day, ', 'bananas', ' are my favorite fruit\"')\n",
      "True\n",
      "17\n",
      "1\n",
      "6\n",
      "t\n",
      "A\n",
      "['Ineuron ', ' Full Stack ', ' Data Science ', ' Course ']\n",
      "Finding nemo\n",
      "DATAPIPELINES\n",
      "mlops\n",
      "doloris jane umbridge\n",
      "Data science    Data Analyst\n",
      "1\n",
      "6\n",
      "2\n",
      "['i', 'euro', '']\n",
      "['i', 'euro', '']\n",
      "EDA \n",
      " EDA\n",
      "EDA\n",
      "eXPLORATORY dATA aNALYSIS\n",
      "Iris_flower_Dataset\n",
      "Hello Pam!\n",
      "Hello Pam!\n",
      "I2euro2\n",
      "b'Natural Language Processing'\n",
      "Nemo      \n",
      "      Nemo\n",
      "   Nemo   \n",
      "00000Hello\n"
     ]
    }
   ],
   "source": [
    "print('1234567890'.isdecimal())\n",
    "print('IneuronFullStackDS'.isalnum())\n",
    "print('Ineuron Full Stack Data science'.istitle())\n",
    "print('\"I could eat bananas all day, bananas are my favorite fruit\"'.partition('bananas'))\n",
    "print('\"I could eat bananas all day, bananas are my favorite fruit\"'.rpartition('bananas'))\n",
    "print('GeeksForFreaks'.isidentifier())\n",
    "print(len('Linear Regression'))\n",
    "print('Ineuron'.index('n'))\n",
    "print('Ineuron'.rindex('n'))\n",
    "print(max('Data_Scientist'))\n",
    "print(min('Data_Analyst'))\n",
    "print('Ineuron \\n Full Stack \\n Data Science \\n Course '.splitlines())\n",
    "print('finding nemo'.capitalize())\n",
    "print('datapipelines'.upper())\n",
    "print('MLOPS'.lower())\n",
    "print('Doloris Jane Umbridge'.casefold())\n",
    "print('Data science\\tData Analyst'.expandtabs(8))\n",
    "print('Ineuron'.find('n'))\n",
    "print('Ineuron'.rfind('n'))\n",
    "print('Transformers'.count('s'))\n",
    "print('ineuron'.split('n'))\n",
    "print('ineuron'.rsplit('n'))\n",
    "print(' EDA '.lstrip())\n",
    "print(' EDA '.rstrip())\n",
    "print(' EDA '.strip())\n",
    "print('Exploratory Data Analysis'.swapcase())\n",
    "print('_'.join(['Iris','flower','Dataset']))\n",
    "\n",
    "mydict = {83:  80}\n",
    "print(\"Hello Sam!\".translate(mydict))\n",
    "\n",
    "txt = \"Hello Sam!\"\n",
    "mytable = txt.maketrans(\"S\", \"P\")\n",
    "print(txt.translate(mytable))\n",
    "\n",
    "print('Ineuron'.replace('n','2'))\n",
    "print('Natural Language Processing'.encode())\n",
    "print('Nemo'.ljust(10))\n",
    "print('Nemo'.rjust(10))\n",
    "print('Nemo'.center(10))\n",
    "print('Hello'.zfill(10))"
   ]
  },
  {
   "cell_type": "code",
   "execution_count": null,
   "id": "2e51b963-3ade-45f2-a17c-732bb6a33c7d",
   "metadata": {},
   "outputs": [],
   "source": [
    "Q2. How do the string forms in Python 3.X vary in terms of operations?"
   ]
  },
  {
   "cell_type": "markdown",
   "id": "e5899b06-caba-4977-802c-44a16787f661",
   "metadata": {},
   "source": [
    "Ans: In Python3 default format of strings is Unicode Whereas in Pyton2 we need to explicitly mention Unicode value using u."
   ]
  },
  {
   "cell_type": "markdown",
   "id": "25c9c5fd-9921-4f14-8787-fd6b1087f8d2",
   "metadata": {},
   "source": [
    "Q3. In 3.X, how do you put non-ASCII Unicode characters in a string?"
   ]
  },
  {
   "cell_type": "markdown",
   "id": "513be54f-f51e-4b3a-bbc5-6b3855d7837e",
   "metadata": {},
   "source": [
    "Ans: In Python 3.x unidecode() method from unidecode library can be used to put non-ASCII Unicode Characters in a string."
   ]
  },
  {
   "cell_type": "code",
   "execution_count": 3,
   "id": "e59aa63c-a15e-4a3e-bee1-f65e617ee362",
   "metadata": {},
   "outputs": [
    {
     "name": "stdout",
     "output_type": "stream",
     "text": [
      "Collecting Unidecode\n",
      "  Downloading Unidecode-1.3.7-py3-none-any.whl (235 kB)\n",
      "\u001b[2K     \u001b[90m━━━━━━━━━━━━━━━━━━━━━━━━━━━━━━━━━━━━━━\u001b[0m \u001b[32m235.5/235.5 kB\u001b[0m \u001b[31m12.9 MB/s\u001b[0m eta \u001b[36m0:00:00\u001b[0m\n",
      "\u001b[?25hInstalling collected packages: Unidecode\n",
      "Successfully installed Unidecode-1.3.7\n",
      "Note: you may need to restart the kernel to use updated packages.\n"
     ]
    }
   ],
   "source": [
    "pip install Unidecode"
   ]
  },
  {
   "cell_type": "code",
   "execution_count": 6,
   "id": "e0c5127e-d545-4b78-8957-a1200d468d45",
   "metadata": {},
   "outputs": [
    {
     "name": "stdout",
     "output_type": "stream",
     "text": [
      "Sahzuscek\n",
      "meraa naam shdev sainii haa\n",
      "Xie Xie Ni \n",
      "arigatou. \n",
      "ulybat'sia Vladimir Putin\n"
     ]
    }
   ],
   "source": [
    "from unidecode import unidecode\n",
    "print(unidecode(u'Sah\\u017eu\\u0161\\u010dek'))\n",
    "print(unidecode(\"मेरा नाम सहदेव सैनी हा\"))\n",
    "print(unidecode(\"谢谢你\"))\n",
    "print(unidecode(\"ありがとう。\"))\n",
    "print(unidecode(\"улыбаться Владимир Путин\"))"
   ]
  },
  {
   "cell_type": "markdown",
   "id": "8aec7156-ccc1-4b48-a310-7cbc37413ca2",
   "metadata": {},
   "source": [
    "Q4. In Python 3.X, what are the key differences between text-mode and binary-mode files?"
   ]
  },
  {
   "cell_type": "markdown",
   "id": "d02fa99e-75cd-4826-ab99-ca2636b83e91",
   "metadata": {},
   "source": [
    "**Ans:-** The major difference between these two is that a text file contains textual information in the form of **alphabets, digits and special characters or symbols**. On the other hand, a binary file contains **bytes or a compiled version of a text file**.\n",
    "\n",
    "When a file is opened in text mode, reading its data automatically decodes its content (as per the platform default or as per provided encoding), and returns it as a str; writing operation takes a **str**, and automatically encodes it before transferring to the file. Text mode files also support universal end-of-line translation, and encoding specification arguments.\n",
    "\n",
    "When a file is opened in **binary mode** by adding a b to the mode string argument in the **open()** call, reading its data does not decode it in any way, and simply returns its content raw and unchanged, as a bytes object; writing takes a bytes object and transfers it to the file unchanged. Binary-mode files also accept a bytearray object for the content to be written to the file."
   ]
  },
  {
   "cell_type": "markdown",
   "id": "49c747db-baf9-4e3a-8116-6ed2dec4791a",
   "metadata": {},
   "source": [
    "Q5. How can you interpret a Unicode text file containing text encoded in a different encoding than your platform's default?"
   ]
  },
  {
   "cell_type": "markdown",
   "id": "dfefa75d-b922-4049-a68a-aae661f79867",
   "metadata": {},
   "source": [
    "**Ans:-** Use of **encode()** and **decode()** method can be used to you interpret a Unicode text file containing text encoded in a different encoding than your platform's default, by default encoding parameter is UTF-8"
   ]
  },
  {
   "cell_type": "markdown",
   "id": "125ad0ab-9159-43d4-8ba6-a6b4eccf9246",
   "metadata": {},
   "source": [
    "Q6. What is the best way to make a Unicode text file in a particular encoding format?"
   ]
  },
  {
   "cell_type": "markdown",
   "id": "5ad887e1-b98a-43c7-aa57-8e7056e1107b",
   "metadata": {},
   "source": [
    "**Ans:-** Use **str.encode()** and **file.write()** to make a Unicode text file in a particular encoding format, default encoding format is **UTF-18**.\n",
    "\n",
    "Call **str.encode(encoding)** with encoding set to utf8 to encode str.<br>\n",
    "Call **open(file, mode)** to open a file with mode set to wb . wb writes to files in binary mode & preserves UTF-8format.<Br>\n",
    "Call **file.write(data)** to write data to the file."
   ]
  },
  {
   "cell_type": "code",
   "execution_count": 1,
   "id": "e0f2a0fe-0a4c-41c4-b5b7-936781cf504d",
   "metadata": {},
   "outputs": [
    {
     "name": "stdout",
     "output_type": "stream",
     "text": [
      "b'\\xd1\\x83\\xd0\\xbb\\xd1\\x8b\\xd0\\xb1\\xd0\\xb0\\xd1\\x82\\xd1\\x8c\\xd1\\x81\\xd1\\x8f \\xd0\\x92\\xd0\\xbb\\xd0\\xb0\\xd0\\xb4\\xd0\\xb8\\xd0\\xbc\\xd0\\xb8\\xd1\\x80 \\xd0\\x9f\\xd1\\x83\\xd1\\x82\\xd0\\xb8\\xd0\\xbd'\n",
      "\n",
      "b'\\xd1\\x83\\xd0\\xbb\\xd1\\x8b\\xd0\\xb1\\xd0\\xb0\\xd1\\x82\\xd1\\x8c\\xd1\\x81\\xd1\\x8f \\xd0\\x92\\xd0\\xbb\\xd0\\xb0\\xd0\\xb4\\xd0\\xb8\\xd0\\xbc\\xd0\\xb8\\xd1\\x80 \\xd0\\x9f\\xd1\\x83\\xd1\\x82\\xd0\\xb8\\xd0\\xbd'\n"
     ]
    }
   ],
   "source": [
    "unicode_text = u\"улыбаться Владимир Путин\"\n",
    "encoded_unicode_text = unicode_text.encode(\"utf-8\")\n",
    "print(encoded_unicode_text,end=\"\\n\\n\")\n",
    "\n",
    "w_file = open(\"w_file.txt\",\"wb\")\n",
    "w_file.write(encoded_unicode_text)\n",
    "w_file.close()\n",
    "\n",
    "r_file = open(\"w_file.txt\",\"rb\")\n",
    "data = r_file.read()\n",
    "print(data)"
   ]
  },
  {
   "cell_type": "markdown",
   "id": "70c13346-e257-40ed-8aba-8147770acdfc",
   "metadata": {},
   "source": [
    "Q7. What qualifies ASCII text as a form of Unicode text?"
   ]
  },
  {
   "cell_type": "markdown",
   "id": "c12ac6ec-1200-4f24-b645-a4dce2221667",
   "metadata": {},
   "source": [
    "**Ans:-** Unicode represents most written languages in the world. ASCII has its equivalent in Unicode. The difference between ASCII and Unicode is that ASCII represents **lowercase letters (a-z), uppercase letters (A-Z), digits (0–9)** and symbols such as punctuation marks while Unicode represents letters of English, Arabic, Greek etc. mathematical symbols, historical scripts, emoji covering a wide range of characters than ASCII."
   ]
  },
  {
   "cell_type": "markdown",
   "id": "394affc0-a777-4bed-810e-fbee63075426",
   "metadata": {},
   "source": [
    "Q8. How much of an effect does the change in string types in Python 3.X have on your code?"
   ]
  },
  {
   "cell_type": "markdown",
   "id": "ca0dc883-0dc5-4d1e-a65b-7f0fe7ccd9eb",
   "metadata": {},
   "source": [
    "**Ans:-** Python 3 stores **strings as Unicode by default** whereas Python 2 requires you to mark a **string with a u** if you want to store it as Unicode. Unicode strings are more versatile than ASCII strings, which are the Python 3.X default, as they can store letters from foreign languages as well as emoji and the standard Roman letters and numerals."
   ]
  },
  {
   "cell_type": "code",
   "execution_count": null,
   "id": "367a2b58-5c9d-4c30-a6d5-6dfc857f7461",
   "metadata": {},
   "outputs": [],
   "source": []
  }
 ],
 "metadata": {
  "kernelspec": {
   "display_name": "Python 3 (ipykernel)",
   "language": "python",
   "name": "python3"
  },
  "language_info": {
   "codemirror_mode": {
    "name": "ipython",
    "version": 3
   },
   "file_extension": ".py",
   "mimetype": "text/x-python",
   "name": "python",
   "nbconvert_exporter": "python",
   "pygments_lexer": "ipython3",
   "version": "3.10.6"
  }
 },
 "nbformat": 4,
 "nbformat_minor": 5
}

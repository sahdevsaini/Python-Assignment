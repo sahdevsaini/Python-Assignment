{
 "cells": [
  {
   "cell_type": "markdown",
   "id": "d419e979-7292-409e-b343-3608d33923d4",
   "metadata": {},
   "source": [
    "## ------------------------------------ Assignment 20 ------------------------"
   ]
  },
  {
   "cell_type": "markdown",
   "id": "ba74a0e3-1ff5-4c6f-bc5a-5207111b3fa5",
   "metadata": {},
   "source": [
    "1. Set the variable test1 to the string 'This is a test of the emergency text system,' and save test1 to a file named test.txt."
   ]
  },
  {
   "cell_type": "code",
   "execution_count": 12,
   "id": "3ba815f1-5066-46a0-8ab1-a0fbffa46950",
   "metadata": {},
   "outputs": [],
   "source": [
    "test1 = 'This is a test of the emergency text system,'\n",
    "f = open('text.txt','w')\n",
    "f.write(test1)\n",
    "f.close()\n",
    "# read the contents of test.txt\n"
   ]
  },
  {
   "cell_type": "code",
   "execution_count": null,
   "id": "ebffac6d-8ae4-4dc1-ba8f-0e53c206c3ca",
   "metadata": {},
   "outputs": [],
   "source": []
  },
  {
   "cell_type": "code",
   "execution_count": 3,
   "id": "ceeee286-de65-40a4-b1b7-5e59cd64bad2",
   "metadata": {},
   "outputs": [],
   "source": [
    "2. Read the contents of the file test.txt into the variable test2. Is there a difference between test 1 and test 2?"
   ]
  },
  {
   "cell_type": "code",
   "execution_count": 10,
   "id": "2faf1447-2a63-4bc7-b494-86ba0fbf653f",
   "metadata": {},
   "outputs": [
    {
     "name": "stdout",
     "output_type": "stream",
     "text": [
      "This is a test of the emergency text system,\n"
     ]
    }
   ],
   "source": [
    "with open('text.txt','r') as f1:\n",
    "    test2 = f1.read()\n",
    "\n",
    "print(test2)"
   ]
  },
  {
   "cell_type": "code",
   "execution_count": null,
   "id": "2a435595-5672-4a2e-bce5-97b89892f346",
   "metadata": {},
   "outputs": [],
   "source": [
    "3. Create a CSV file called books.csv by using these lines:\n",
    "title,author,year\n",
    "The Weirdstone of Brisingamen,Alan Garner,1960\n",
    "Perdido Street Station,China Miéville,2000\n",
    "Thud!,Terry Pratchett,2005\n",
    "The Spellman Files,Lisa Lutz,2007\n",
    "Small Gods,Terry Pratchett,1992"
   ]
  },
  {
   "cell_type": "code",
   "execution_count": 15,
   "id": "a86e6067-875d-4709-898a-18ec35066667",
   "metadata": {},
   "outputs": [],
   "source": [
    "st = '''title,author,year\n",
    "The Weirdstone of Brisingamen,Alan Garner,1960\n",
    "Perdido Street Station,China Miéville,2000\n",
    "Thud!,Terry Pratchett,2005\n",
    "The Spellman Files,Lisa Lutz,2007\n",
    "Small Gods,Terry Pratchett,1992'''\n",
    "\n",
    "file = open('books.csv','w')\n",
    "file.write(st)\n",
    "file.close()"
   ]
  },
  {
   "cell_type": "markdown",
   "id": "e3e332d1-a55a-4d44-b57c-6d6536a2fc11",
   "metadata": {},
   "source": [
    "4. Use the sqlite3 module to create a SQLite database called books.db, and a table called books with these fields: title (text), author (text), and year (integer)."
   ]
  },
  {
   "cell_type": "code",
   "execution_count": 25,
   "id": "01c0d47e-b5ee-426a-8aba-78b3b5841f74",
   "metadata": {},
   "outputs": [],
   "source": [
    "import sqlite3 as sq\n",
    "db = sq.connect('books.db')\n",
    "cursor = db.cursor()\n",
    "cursor.execute(\"create TABLE books (title text author text year int) \")\n",
    "db.commit()\n",
    "db.close()"
   ]
  },
  {
   "cell_type": "code",
   "execution_count": 22,
   "id": "86ead427-0325-4946-a430-1c0c1056379f",
   "metadata": {},
   "outputs": [],
   "source": [
    "5. Read books.csv and insert its data into the book table."
   ]
  },
  {
   "cell_type": "code",
   "execution_count": 23,
   "id": "f6ff6dce-af65-4144-aaac-3a9176795822",
   "metadata": {},
   "outputs": [],
   "source": [
    "import sqlite3  as sq\n",
    "import csv\n",
    "con = sq.connect('books.db')\n",
    "cursor = con.cursor()\n",
    "fi = open('books.csv','r')\n",
    "books = csv.DictReader(fi)\n",
    "for book in books:\n",
    "    cursor.execute()\n"
   ]
  },
  {
   "cell_type": "markdown",
   "id": "f5107b97-e3d4-4a6b-882e-538790b2dafa",
   "metadata": {},
   "source": [
    "\n",
    "\n",
    "\n",
    "\n",
    "\n",
    "6. Select and print the title column from the book table in alphabetical order.\n",
    "7. From the book table, select and print all columns in the order of publication.\n",
    "8. Use the sqlalchemy module to connect to the sqlite3 database books.db that you just made in exercise 6.\n",
    "9. Install the Redis server and the Python redis library (pip install redis) on your computer. Create a Redis hash called test with the fields count (1) and name ('Fester Bestertester'). Print all the fields for test.\n",
    "10. Increment the count field of test and print it.\n",
    "\n",
    "`"
   ]
  },
  {
   "cell_type": "code",
   "execution_count": null,
   "id": "8f41a47c-4257-43fb-bc50-ee5f466db09c",
   "metadata": {},
   "outputs": [],
   "source": []
  }
 ],
 "metadata": {
  "kernelspec": {
   "display_name": "Python 3 (ipykernel)",
   "language": "python",
   "name": "python3"
  },
  "language_info": {
   "codemirror_mode": {
    "name": "ipython",
    "version": 3
   },
   "file_extension": ".py",
   "mimetype": "text/x-python",
   "name": "python",
   "nbconvert_exporter": "python",
   "pygments_lexer": "ipython3",
   "version": "3.10.6"
  }
 },
 "nbformat": 4,
 "nbformat_minor": 5
}

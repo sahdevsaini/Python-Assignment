{
 "cells": [
  {
   "cell_type": "markdown",
   "id": "7714b142-1081-46ad-8b86-e440a1312265",
   "metadata": {},
   "source": [
    "## ------------------------------------ Assignment- 24 -----------------------------------------"
   ]
  },
  {
   "cell_type": "markdown",
   "id": "2b54fef0-19e6-4d81-a092-a7253fb3e7aa",
   "metadata": {},
   "source": [
    "## 1. What is the relationship between def statements and lambda expressions ?"
   ]
  },
  {
   "cell_type": "markdown",
   "id": "1b7978b1-c279-4c34-80d6-5330f5cb6306",
   "metadata": {},
   "source": [
    "**Ans:-**<br>\n",
    "**def** statement is used to create a normal function. where as **lamba expressions** are used to create Anonymous functions.<br> which can be assigned to a variable and can be called using the variable later in function.\n",
    "\n",
    "**Lambda's** body is a single expression and not a block of statements like **def statement**. <br>The lambda expression's body is similar to what we'd put in a def body's return statement.<br>We simply type the result as an expression instead of explicitly returning it. <br>Because it is limited to an expression, a lambda is less general than a def statement."
   ]
  },
  {
   "cell_type": "markdown",
   "id": "9f466f12-8f3b-424e-8fc7-fdbdd3eb5906",
   "metadata": {},
   "source": [
    "## 2. What is the benefit of lambda?"
   ]
  },
  {
   "cell_type": "markdown",
   "id": "3e69b82d-ff20-4c73-930e-0d4b13f80867",
   "metadata": {},
   "source": [
    "**Ans:-** The following are some of the benefits of lambda expressions:-<br>\n",
    "\n",
    "**1.)** Can be used to create Nameless/Anonymous functions inside some complex functions if we are planning to use it only once.<br>\n",
    "**2.)** Moderate to small functions can be created in a single line.<br>\n",
    "**3.)** Fuctions created using lambda expressions can be assigned to a variable and can be used by simply calling the variable."
   ]
  },
  {
   "cell_type": "markdown",
   "id": "56ef9007-fc1a-4e7f-826f-12d96197a1a0",
   "metadata": {},
   "source": [
    "## 3. Compare and contrast map, filter, and reduce."
   ]
  },
  {
   "cell_type": "markdown",
   "id": "d786348b-2482-449e-b87c-b9c2185a4f07",
   "metadata": {},
   "source": [
    "**Ans:-** The differences between **map, filter and reduce** :-\n",
    "\n",
    "**1.) map():-** The map() function is a type of higher-order. This function takes another function as a parameter\n",
    "along with a sequence of iterables and returns an output after applying the function to each iterable present in the sequence.<br> \n",
    "**2.) filter():-** The filter() function is used to create an output list consisting of values for which the function returns true.<br>\n",
    "**3.) reduce():-** The reduce() function, as the name describes, applies a given function to the iterables and returns a single value"
   ]
  },
  {
   "cell_type": "code",
   "execution_count": 8,
   "id": "c4727ebc-5c9b-475c-ae35-03c977651708",
   "metadata": {},
   "outputs": [
    {
     "name": "stdout",
     "output_type": "stream",
     "text": [
      "Map--> [1, 4, 9, 25]\n",
      "Filter--> [1, 3, 5]\n",
      "Reduce--> 32\n"
     ]
    }
   ],
   "source": [
    "from functools import reduce\n",
    "print(\"Map-->\",list(map(lambda x:x*x,[1,2,3,5])))\n",
    "print(\"Filter-->\",list(filter(lambda x:x%2 !=0 ,[1,2,3,5])))\n",
    "print(\"Reduce-->\",reduce(lambda x,y:x+y,[1,2,3,5,6,7,8]))"
   ]
  },
  {
   "cell_type": "markdown",
   "id": "0b3c0d40-b051-4c22-a37d-16cdd781812d",
   "metadata": {},
   "source": [
    "## 4. What are function annotations, and how are they used?"
   ]
  },
  {
   "cell_type": "markdown",
   "id": "9d23fb40-4fb6-430f-9bf5-4fd2529f3c05",
   "metadata": {},
   "source": [
    "**Ans:- Function annotations** provide a way of associating various parts of a function with arbitrary python expressions at compile time.<br>\n",
    "**Annotations** of simple parameters **def func(x: expression, y: expression = 20):**<br>\n",
    "Whereas the **annotations** for excess parameters are as − **def func (**args: expression, **kwargs: expression):**"
   ]
  },
  {
   "cell_type": "markdown",
   "id": "13f0f0a9-8085-423f-b41f-12d395285b14",
   "metadata": {},
   "source": [
    "## 5. What are recursive functions, and how are they used?"
   ]
  },
  {
   "cell_type": "markdown",
   "id": "3c93a682-f0ca-4597-97c0-4c16d1c6eef6",
   "metadata": {},
   "source": [
    "**Ans:-**<br>\n",
    "A **recursive function** is a function that calls itself during its execution.<br>The process may repeat several times, outputting the result and the end of each iteration."
   ]
  },
  {
   "cell_type": "markdown",
   "id": "f1047780-41b9-46ca-9ddb-e4b1cbc60079",
   "metadata": {},
   "source": [
    "## 6. What are some general design guidelines for coding functions?"
   ]
  },
  {
   "cell_type": "markdown",
   "id": "e62619b1-d2da-41ab-afac-571bd4267b52",
   "metadata": {},
   "source": [
    "**Ans:-** Some of the general design guidelines for coding functions are:<br>\n",
    "\n",
    "**1.)** Always use a docstring to explain the functionality of the function.<br>\n",
    "**2.)** Avoid using or limited use of global variables.<br>\n",
    "**3.)** Proper Identation to increase the code readability.<br>\n",
    "**4.)** Try to follow a naming convention for function names (pascalCase or camelCase) and stick with the same convention throughout the application.<br>\n",
    "**5.)** Avoid using digits while choosing a variable name<br>\n",
    "**6.)** Try to use a name for the function which conveys the purpose of the function<br>\n",
    "**7.)** Local variables should be named using camelCase format (ex: localVariable) whereas Global variables names should be using PascalCase (ex:GlobalVariable).<br>\n",
    "**8.)** Constant should be represented in allcaps (ex:CONSTANT)."
   ]
  },
  {
   "cell_type": "markdown",
   "id": "b6c80b0c-ac46-4a2d-a26a-166479fe74d0",
   "metadata": {},
   "source": [
    "## 7. Name three or more ways that functions can communicate results to a caller."
   ]
  },
  {
   "cell_type": "markdown",
   "id": "ef3d3316-071b-48ff-965b-565cd5c8bb75",
   "metadata": {},
   "source": [
    "**Ans:-** Some of the ways in which a function can communicate with the calling function is:<br>\n",
    "1.) print<br>\n",
    "2.) return<br>\n",
    "3.)yield"
   ]
  },
  {
   "cell_type": "code",
   "execution_count": null,
   "id": "f91d782c-8741-4b6e-8f10-a3de886ced44",
   "metadata": {},
   "outputs": [],
   "source": []
  }
 ],
 "metadata": {
  "kernelspec": {
   "display_name": "Python 3 (ipykernel)",
   "language": "python",
   "name": "python3"
  },
  "language_info": {
   "codemirror_mode": {
    "name": "ipython",
    "version": 3
   },
   "file_extension": ".py",
   "mimetype": "text/x-python",
   "name": "python",
   "nbconvert_exporter": "python",
   "pygments_lexer": "ipython3",
   "version": "3.10.6"
  }
 },
 "nbformat": 4,
 "nbformat_minor": 5
}

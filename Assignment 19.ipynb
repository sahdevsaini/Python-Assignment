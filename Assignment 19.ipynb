{
 "cells": [
  {
   "cell_type": "markdown",
   "id": "fb227652-b915-4a48-9962-d366c89c5b06",
   "metadata": {},
   "source": [
    "## 1. Make a class called Thing with no contents and print it. Then, create an object called example from this class and also print it. Are the printed values the same or different?"
   ]
  },
  {
   "cell_type": "code",
   "execution_count": 9,
   "id": "5d5ab700-8f61-418b-bfda-78b885a39916",
   "metadata": {},
   "outputs": [
    {
     "name": "stdout",
     "output_type": "stream",
     "text": [
      "<class '__main__.Thing'>\n",
      "<__main__.Thing object at 0x7f95604436d0>\n"
     ]
    }
   ],
   "source": [
    "class Thing:\n",
    "    pass\n",
    "print(Thing) \n",
    "example = Thing()\n",
    "print(example)\n",
    "# Printed value are different"
   ]
  },
  {
   "cell_type": "markdown",
   "id": "f241ce16-a6b1-4c18-ab6a-02bf1cb63c16",
   "metadata": {},
   "source": [
    "2. Create a new class called Thing2 and add the value 'abc' to the letters class attribute. Letters should be printed."
   ]
  },
  {
   "cell_type": "code",
   "execution_count": 13,
   "id": "3791e6be-4c41-4a09-9dd0-f6f9c67800cb",
   "metadata": {},
   "outputs": [
    {
     "name": "stdout",
     "output_type": "stream",
     "text": [
      "abc\n"
     ]
    }
   ],
   "source": [
    "class Things2:\n",
    "        letters = 'abc'\n",
    "print(Things2.letters)"
   ]
  },
  {
   "cell_type": "markdown",
   "id": "e1063611-a326-4c9f-b6e9-ea7c51de0643",
   "metadata": {},
   "source": [
    "3. Make yet another class called, of course, Thing3. This time, assign the value 'xyz' to an instance (object) attribute called letters. Print letters. Do you need to make an object from the class to do this?"
   ]
  },
  {
   "cell_type": "code",
   "execution_count": 1,
   "id": "bfc08b4c-70be-4e07-bab7-68e6ba196ec6",
   "metadata": {},
   "outputs": [],
   "source": [
    "class Thing3:\n",
    "    letters = 'xyz'"
   ]
  },
  {
   "cell_type": "code",
   "execution_count": 3,
   "id": "6bae7c1f-4d5e-4f65-bffe-dcd27d849fc8",
   "metadata": {},
   "outputs": [
    {
     "name": "stdout",
     "output_type": "stream",
     "text": [
      "xyz\n"
     ]
    }
   ],
   "source": [
    "obj = Thing3()\n",
    "print(obj.letters)"
   ]
  },
  {
   "cell_type": "markdown",
   "id": "a6f031e3-8474-4760-83a7-faa695fff2c9",
   "metadata": {},
   "source": [
    "4. Create an Element class with the instance attributes name, symbol, and number. Create a class object with the values 'Hydrogen,' 'H,' and 1."
   ]
  },
  {
   "cell_type": "code",
   "execution_count": 7,
   "id": "651e563e-0cce-400a-ac6e-b40a5089c6bc",
   "metadata": {},
   "outputs": [
    {
     "name": "stdout",
     "output_type": "stream",
     "text": [
      "('Hydrogen', 'H,', 1)\n"
     ]
    }
   ],
   "source": [
    "class Element :\n",
    "    def __init__(self,name,symbol,number):\n",
    "        self.name = name\n",
    "        self.symbol=symbol\n",
    "        self.number=number\n",
    "\n",
    "my_elements = ('Hydrogen', 'H,',1)\n",
    "print(my_elements)"
   ]
  },
  {
   "cell_type": "markdown",
   "id": "a2ea7402-27bd-4130-be1c-405cf4e85144",
   "metadata": {},
   "source": [
    "5. Make a dictionary with these keys and values: 'name': 'Hydrogen', 'symbol': 'H', 'number': 1. Then, create an object called hydrogen from class Element using this dictionary."
   ]
  },
  {
   "cell_type": "code",
   "execution_count": 12,
   "id": "b810378b-8c94-4750-9c33-c94218e7cc46",
   "metadata": {},
   "outputs": [
    {
     "name": "stdout",
     "output_type": "stream",
     "text": [
      "{'name': 'Hydrogen', 'symbol': 'H', 'number': 1}\n",
      "\n",
      "The Values are:- \tHydrogen\tH\t1\n"
     ]
    }
   ],
   "source": [
    "dic = {'name': 'Hydrogen', \n",
    "       'symbol': 'H', \n",
    "       'number': 1\n",
    "      }\n",
    "print(dic)\n",
    "\n",
    "hydrogen = Element(*dic.values())\n",
    "print(\"\\nThe Values are:- \",hydrogen.name,hydrogen.symbol,hydrogen.number,sep='\\t')"
   ]
  },
  {
   "cell_type": "markdown",
   "id": "8bf6a7ba-2489-4fc3-9b59-ce609b92775b",
   "metadata": {},
   "source": [
    "6. For the Element class, define a method called dump() that prints the values of the object’s attributes (name, symbol, and number). Create the hydrogen object from this new definition and use dump() to print its attributes."
   ]
  },
  {
   "cell_type": "code",
   "execution_count": 8,
   "id": "a264b164-4ee1-4186-92c3-2b923c390361",
   "metadata": {},
   "outputs": [],
   "source": [
    "class Element :\n",
    "    def __init__(self,name,symbol,number):\n",
    "        self.name = name\n",
    "        self.symbol=symbol\n",
    "        self.number=number\n",
    "        \n",
    "    def dump(self):\n",
    "        print(self.name,\"\\n\",self.symbol,\"\\n\",self.number,\"\\n\")\n",
    "        \n",
    "        "
   ]
  },
  {
   "cell_type": "code",
   "execution_count": 12,
   "id": "f064458c-69ad-47c4-90e8-80287e76431a",
   "metadata": {},
   "outputs": [
    {
     "name": "stdout",
     "output_type": "stream",
     "text": [
      "Hydrogen \n",
      " H, \n",
      " 1 \n",
      "\n"
     ]
    }
   ],
   "source": [
    "hydrogen = Element('Hydrogen', 'H,',1)\n",
    "hydrogen.dump()"
   ]
  },
  {
   "cell_type": "markdown",
   "id": "b50c95b5-1b48-4342-b27e-2f950b027601",
   "metadata": {},
   "source": [
    "7. Call print(hydrogen). In the definition of Element, change the name of method dump to __str__, create a new hydrogen object, and call print(hydrogen) again."
   ]
  },
  {
   "cell_type": "code",
   "execution_count": 17,
   "id": "6074c6d0-5ed4-4bba-bd4a-31d3dbdd1bac",
   "metadata": {},
   "outputs": [
    {
     "data": {
      "text/plain": [
       "'Hydrogen  H  1'"
      ]
     },
     "execution_count": 17,
     "metadata": {},
     "output_type": "execute_result"
    }
   ],
   "source": [
    "class Element :\n",
    "    def __init__(self,name,symbol,number):\n",
    "        self.name = name\n",
    "        self.symbol=symbol\n",
    "        self.number=number\n",
    "        \n",
    "    def __str__(self):\n",
    "        return f'{self.name}  {self.symbol}  {self.number}'\n",
    "\n",
    "hydrogen = Element('Hydrogen','H',1)\n",
    "hydrogen.__str__()        "
   ]
  },
  {
   "cell_type": "markdown",
   "id": "8cc2f40a-426a-49a4-8a33-650485a92bde",
   "metadata": {},
   "source": [
    "8. Modify Element to make the attributes name, symbol, and number private. Define a getter property for each to return its value."
   ]
  },
  {
   "cell_type": "code",
   "execution_count": 25,
   "id": "72b6482b-6ec9-4d2c-9daf-241df794fddd",
   "metadata": {},
   "outputs": [
    {
     "name": "stdout",
     "output_type": "stream",
     "text": [
      "Hydrogen\n",
      "H\n",
      "1\n"
     ]
    }
   ],
   "source": [
    "class Element :\n",
    "    def __init__(self,name,symbol,number):\n",
    "        self.__name = name\n",
    "        self.__symbol=symbol\n",
    "        self.__number=number\n",
    "        \n",
    "    @property\n",
    "    def get_name(self):\n",
    "        return self.__name\n",
    "    @property\n",
    "    def get_symbol(self):\n",
    "        return self.__symbol\n",
    "    @property\n",
    "    def get_number(self):\n",
    "        return self.__number\n",
    "    \n",
    "hydrogen = Element('Hydrogen','H',1)\n",
    "print(hydrogen.get_name) \n",
    "print(hydrogen.get_symbol) \n",
    "print(hydrogen.get_number) "
   ]
  },
  {
   "cell_type": "markdown",
   "id": "cb584274-7ca6-4c51-bc61-fcc5b447d81b",
   "metadata": {},
   "source": [
    "9. Define three classes: Bear, Rabbit, and Octothorpe. For each, define only one method: eats(). This should return 'berries' (Bear), 'clover' (Rabbit), or 'campers' (Octothorpe). Create one object from each and print what it eats."
   ]
  },
  {
   "cell_type": "code",
   "execution_count": 39,
   "id": "23c776ae-7b0f-4829-973f-9312a16704dc",
   "metadata": {},
   "outputs": [
    {
     "name": "stdout",
     "output_type": "stream",
     "text": [
      "barries\n",
      "clover\n",
      "campers\n"
     ]
    }
   ],
   "source": [
    "class Bear:\n",
    "    def eats(self):\n",
    "         print('barries')\n",
    "    \n",
    "class Rabbit:\n",
    "    def eats(self):\n",
    "        print('clover')\n",
    "    \n",
    "class Octothorpe:\n",
    "    def eats(self):\n",
    "        print('campers') \n",
    "    \n",
    "obj = Bear()\n",
    "obj1 = Rabbit()\n",
    "obj2 = Octothorpe()\n",
    "\n",
    "obj.eats()\n",
    "obj1.eats()\n",
    "obj2.eats()"
   ]
  },
  {
   "cell_type": "markdown",
   "id": "761cf97d-f96d-4a8d-806a-58817d842ee3",
   "metadata": {},
   "source": [
    "10. Define these classes: Laser, Claw, and SmartPhone. Each has only one method: does(). This returns 'disintegrate' (Laser), 'crush' (Claw), or 'ring' (SmartPhone). Then, define the class Robot that has one instance (object) of each of these. Define a does() method for the Robot that prints what its component objects do."
   ]
  },
  {
   "cell_type": "code",
   "execution_count": 45,
   "id": "7eac009e-6336-49a4-a51c-b7dd3f6ad8f8",
   "metadata": {},
   "outputs": [],
   "source": [
    "class Laser:\n",
    "    def does(self):\n",
    "        return 'disntegrate'\n",
    "        \n",
    "class Claw:\n",
    "    def does(self):\n",
    "        return 'crush'\n",
    "\n",
    "class SmartPhone:\n",
    "    def does(self):\n",
    "        return 'ring'       "
   ]
  },
  {
   "cell_type": "code",
   "execution_count": 47,
   "id": "6294732f-4dc8-469f-9fda-1b219f5b25f5",
   "metadata": {},
   "outputs": [
    {
     "name": "stdout",
     "output_type": "stream",
     "text": [
      "disntegrate crush ring\n"
     ]
    }
   ],
   "source": [
    "class Robot:\n",
    "    def __init__(self):\n",
    "        self.laser = Laser()\n",
    "        self.claw = Claw()\n",
    "        self.smartphone = SmartPhone()\n",
    "        \n",
    "    def does(self):\n",
    "        print(self.laser.does(),self.claw.does(),self.smartphone.does())\n",
    "        \n",
    "obj3 = Robot()\n",
    "obj3.does()\n",
    "    "
   ]
  },
  {
   "cell_type": "code",
   "execution_count": null,
   "id": "507b07ef-dcfc-4d1e-839b-ba4c3117497f",
   "metadata": {},
   "outputs": [],
   "source": []
  }
 ],
 "metadata": {
  "kernelspec": {
   "display_name": "Python 3 (ipykernel)",
   "language": "python",
   "name": "python3"
  },
  "language_info": {
   "codemirror_mode": {
    "name": "ipython",
    "version": 3
   },
   "file_extension": ".py",
   "mimetype": "text/x-python",
   "name": "python",
   "nbconvert_exporter": "python",
   "pygments_lexer": "ipython3",
   "version": "3.10.6"
  }
 },
 "nbformat": 4,
 "nbformat_minor": 5
}

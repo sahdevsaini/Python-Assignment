{
  "metadata": {
    "language_info": {
      "codemirror_mode": {
        "name": "python",
        "version": 3
      },
      "file_extension": ".py",
      "mimetype": "text/x-python",
      "name": "python",
      "nbconvert_exporter": "python",
      "pygments_lexer": "ipython3",
      "version": "3.8"
    },
    "kernelspec": {
      "name": "python",
      "display_name": "Python (Pyodide)",
      "language": "python"
    }
  },
  "nbformat_minor": 4,
  "nbformat": 4,
  "cells": [
    {
      "cell_type": "markdown",
      "source": "# ------------------------Assignment-6(Sahdev Saini)------------------------------------",
      "metadata": {}
    },
    {
      "cell_type": "markdown",
      "source": "### 1. What are escape characters, and how do you use them?",
      "metadata": {}
    },
    {
      "cell_type": "markdown",
      "source": "### Ans:- sequence of characters that doesn't represent itself when used inside string literal or character.\n          \\n     new line\n          \\t      tab\n          \\b      backspace\n          \\'      single quotes\n          \\ \"    Double quotes\n          \\\\      backspace ",
      "metadata": {}
    },
    {
      "cell_type": "code",
      "source": "print('sahdev\\'saini')\nprint(\"sahdevsaini\")\nprint(\"Sahdev\\tSaini\")\nprint(\"sahdev\\nsaini\")\nprint(\"\")",
      "metadata": {
        "trusted": true
      },
      "execution_count": 4,
      "outputs": [
        {
          "name": "stdout",
          "text": "sahdev'saini\nsahdevsaini\nSahdev\tSaini\nsahdev\nsaini\n",
          "output_type": "stream"
        }
      ]
    },
    {
      "cell_type": "markdown",
      "source": "### 2. What do the escape characters n and t stand for?",
      "metadata": {}
    },
    {
      "cell_type": "markdown",
      "source": "### Ans:- \n### \\n = new line\n### \\t= tab\n       ",
      "metadata": {}
    },
    {
      "cell_type": "code",
      "source": "print(\"Sahdev\\tSaini\")\nprint(\"sahdev\\nsaini\")",
      "metadata": {
        "trusted": true
      },
      "execution_count": 5,
      "outputs": [
        {
          "name": "stdout",
          "text": "Sahdev\tSaini\nsahdev\nsaini\n",
          "output_type": "stream"
        }
      ]
    },
    {
      "cell_type": "markdown",
      "source": "### 3. What is the way to include backslash characters in a string?",
      "metadata": {}
    },
    {
      "cell_type": "code",
      "source": "print(\"Sahdev\\\\Saini\")",
      "metadata": {
        "trusted": true
      },
      "execution_count": 13,
      "outputs": [
        {
          "name": "stdout",
          "text": "Sahdev\\Saini\n",
          "output_type": "stream"
        }
      ]
    },
    {
      "cell_type": "markdown",
      "source": "### 4. The string \"Howl's Moving Castle\" is a correct value. Why isn't the single quote character in the word Howl's not escaped a problem?",
      "metadata": {}
    },
    {
      "cell_type": "markdown",
      "source": "### Ans:- 1. Because here single quote is use as affotice.\n### 2. We can pass ssingle quote inside a double but we can't pass single quote inside a single quotes.",
      "metadata": {}
    },
    {
      "cell_type": "code",
      "source": "print(\"Howl's Moving Castle\")",
      "metadata": {
        "trusted": true
      },
      "execution_count": 15,
      "outputs": [
        {
          "name": "stdout",
          "text": "Howl's Moving Castle\n",
          "output_type": "stream"
        }
      ]
    },
    {
      "cell_type": "markdown",
      "source": "### 5. How do you write a string of newlines if you don't want to use the n character?",
      "metadata": {}
    },
    {
      "cell_type": "code",
      "source": "print(\"Sahdev\")\nprint(\"Saini\")",
      "metadata": {
        "trusted": true
      },
      "execution_count": 22,
      "outputs": [
        {
          "name": "stdout",
          "text": "Sahdev\nSaini\n",
          "output_type": "stream"
        }
      ]
    },
    {
      "cell_type": "markdown",
      "source": "### 6. What are the values of the given expressions?\n### 'Hello, world!'[1]\n### 'Hello, world!'[0:5]\n### 'Hello, world!'[:5]\n### 'Hello, world!'[3:]\n",
      "metadata": {}
    },
    {
      "cell_type": "markdown",
      "source": "### Ans:- \n### 'e'\n###  'Hello'\n###  'Hello'\n###  'lo, world!'",
      "metadata": {}
    },
    {
      "cell_type": "markdown",
      "source": "### 7. What are the values of the following expressions?\n### 'Hello'.upper()\n### 'Hello'.upper().isupper()\n### 'Hello'.upper().lower()\n",
      "metadata": {}
    },
    {
      "cell_type": "markdown",
      "source": "### Ans:- \n### 'Hello'.upper():- ;HELLO' \n### 'Hello'.upper().isupper() :- 'HELLO TRUE'\n### 'Hello'.upper().lower()   :- 'hello'",
      "metadata": {}
    },
    {
      "cell_type": "code",
      "source": "",
      "metadata": {},
      "execution_count": null,
      "outputs": []
    },
    {
      "cell_type": "markdown",
      "source": "### 8. What are the values of the following expressions?\n### 'Remember, remember, the fifth of July.'.split()\n### '-'.join('There can only one.'.split())\n",
      "metadata": {}
    },
    {
      "cell_type": "markdown",
      "source": "### Ans:- \n### Split() function convert a string into list.\n### join() is used to replace the separater of string also can be used for converting a list into the string.\n",
      "metadata": {}
    },
    {
      "cell_type": "code",
      "source": "s='Remember, remember, the fifth of July'",
      "metadata": {
        "trusted": true
      },
      "execution_count": 29,
      "outputs": []
    },
    {
      "cell_type": "code",
      "source": "s.split()   \n",
      "metadata": {
        "trusted": true
      },
      "execution_count": 31,
      "outputs": [
        {
          "execution_count": 31,
          "output_type": "execute_result",
          "data": {
            "text/plain": "['Remember,', 'remember,', 'the', 'fifth', 'of', 'July']"
          },
          "metadata": {}
        }
      ]
    },
    {
      "cell_type": "code",
      "source": "'-'.join('There can only one.'.split())",
      "metadata": {
        "trusted": true
      },
      "execution_count": 32,
      "outputs": [
        {
          "execution_count": 32,
          "output_type": "execute_result",
          "data": {
            "text/plain": "'There-can-only-one.'"
          },
          "metadata": {}
        }
      ]
    },
    {
      "cell_type": "markdown",
      "source": "### 9. What are the methods for right-justifying, left-justifying, and centering a string?",
      "metadata": {}
    },
    {
      "cell_type": "code",
      "source": "### Ans:- \n### rjust() :- used for right- justification\n### ljust():- used for left - justification\n### centre is used for debtering ",
      "metadata": {
        "trusted": true
      },
      "execution_count": 33,
      "outputs": []
    },
    {
      "cell_type": "code",
      "source": "str=\"my name is sahdev saini\"\nstr.rjust(40)\n",
      "metadata": {
        "trusted": true
      },
      "execution_count": 46,
      "outputs": [
        {
          "execution_count": 46,
          "output_type": "execute_result",
          "data": {
            "text/plain": "'                 my name is sahdev saini'"
          },
          "metadata": {}
        }
      ]
    },
    {
      "cell_type": "code",
      "source": "str.ljust(70)",
      "metadata": {
        "trusted": true
      },
      "execution_count": 51,
      "outputs": [
        {
          "execution_count": 51,
          "output_type": "execute_result",
          "data": {
            "text/plain": "'my name is sahdev saini                                               '"
          },
          "metadata": {}
        }
      ]
    },
    {
      "cell_type": "code",
      "source": "str.center(30)",
      "metadata": {
        "trusted": true
      },
      "execution_count": 50,
      "outputs": [
        {
          "execution_count": 50,
          "output_type": "execute_result",
          "data": {
            "text/plain": "'   my name is sahdev saini    '"
          },
          "metadata": {}
        }
      ]
    },
    {
      "cell_type": "markdown",
      "source": "### 10. What is the best way to remove whitespace characters from the start or end?",
      "metadata": {}
    },
    {
      "cell_type": "markdown",
      "source": "### Ans:- \n### By using lstrip() and rstrip() method we can use whitespace character from start and end. ",
      "metadata": {}
    },
    {
      "cell_type": "code",
      "source": "st=\"      I'm a engineer Trainee\"\nst.lstrip()",
      "metadata": {
        "trusted": true
      },
      "execution_count": 52,
      "outputs": [
        {
          "execution_count": 52,
          "output_type": "execute_result",
          "data": {
            "text/plain": "\"I'm a engineer Trainee\""
          },
          "metadata": {}
        }
      ]
    },
    {
      "cell_type": "code",
      "source": "st=\"I'm a engineer Trainee       \"\nst.rstrip()",
      "metadata": {
        "trusted": true
      },
      "execution_count": 53,
      "outputs": [
        {
          "execution_count": 53,
          "output_type": "execute_result",
          "data": {
            "text/plain": "\"I'm a engineer Trainee\""
          },
          "metadata": {}
        }
      ]
    },
    {
      "cell_type": "code",
      "source": "",
      "metadata": {},
      "execution_count": null,
      "outputs": []
    }
  ]
}
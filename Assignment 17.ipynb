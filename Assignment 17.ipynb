{
 "cells": [
  {
   "cell_type": "markdown",
   "id": "9b1a0638-a411-498e-9690-049f01d69706",
   "metadata": {},
   "source": [
    "## ----------------------------------  Assignment 17 ----------------------------------------"
   ]
  },
  {
   "cell_type": "markdown",
   "id": "86d13b06-9ff6-4662-8210-1f316dd33b7d",
   "metadata": {},
   "source": [
    "1. Assign the value 7 to the variable guess_me. Then, write the conditional tests (if, else, and elif) to print the string 'too low' if guess_me is less than 7, 'too high' if greater than 7, and 'just right' if equal to 7."
   ]
  },
  {
   "cell_type": "code",
   "execution_count": 12,
   "id": "1fc6206b-e4a2-4562-9dea-e87a2c1db96c",
   "metadata": {},
   "outputs": [
    {
     "name": "stdout",
     "output_type": "stream",
     "text": [
      "too low\n",
      "just right\n",
      "too high\n"
     ]
    }
   ],
   "source": [
    "\n",
    "def guess_me(guess_me):\n",
    "    \n",
    "    if guess_me < 7:\n",
    "        print(\"too low\")\n",
    "    elif guess_me == 7:\n",
    "        print(\"just right\")\n",
    "    else:\n",
    "        print(\"too high\")\n",
    "\n",
    "guess_me(guess_me = 6)\n",
    "guess_me(guess_me = 7)   \n",
    "guess_me(guess_me = 9)   "
   ]
  },
  {
   "cell_type": "markdown",
   "id": "9f6de1a0-ef47-4ea0-9aa0-1758479af40a",
   "metadata": {},
   "source": [
    "2. Assign the value 7 to the variable guess_me and the value 1 to the variable start. Write a while loop that compares start with guess_me. Print too low if start is less than guess me. If start equals guess_me, print 'found it!' and exit the loop. If start is greater than guess_me, print 'oops' and exit the loop. Increment start at the end of the loop."
   ]
  },
  {
   "cell_type": "code",
   "execution_count": 13,
   "id": "5c4b703f-b438-4ccc-b8b1-81216f40dd59",
   "metadata": {},
   "outputs": [
    {
     "name": "stdout",
     "output_type": "stream",
     "text": [
      "too low\n",
      "too low\n",
      "too low\n",
      "too low\n",
      "too low\n",
      "too low\n",
      "found it!\n"
     ]
    }
   ],
   "source": [
    "guess_me = 7\n",
    "start = 1\n",
    "while True:\n",
    "    if start <guess_me:\n",
    "        print(\"too low\")\n",
    "    elif start == guess_me:\n",
    "        print(\"found it!\") \n",
    "        break\n",
    "    else:\n",
    "        print(\"oops\")\n",
    "        break\n",
    "            \n",
    "    start = start+1    \n",
    "        \n",
    "        "
   ]
  },
  {
   "cell_type": "code",
   "execution_count": null,
   "id": "2b8cfe2f-7561-4507-ad6b-d4946781626d",
   "metadata": {},
   "outputs": [],
   "source": [
    "\n",
    "3. Print the following values of the list [3, 2, 1, 0] using a for loop."
   ]
  },
  {
   "cell_type": "code",
   "execution_count": 14,
   "id": "74b99019-b5a1-4cc3-ba95-dafe4918f4cb",
   "metadata": {},
   "outputs": [
    {
     "name": "stdout",
     "output_type": "stream",
     "text": [
      "3\n",
      "2\n",
      "1\n",
      "0\n"
     ]
    }
   ],
   "source": [
    "lis = [3, 2, 1, 0]\n",
    "for i in lis:\n",
    "    print(i)"
   ]
  },
  {
   "cell_type": "code",
   "execution_count": null,
   "id": "ca550595-fc9e-4934-b2ab-bafc082338a9",
   "metadata": {},
   "outputs": [],
   "source": [
    "\n",
    "4. Use a list comprehension to make a list of the even numbers in range(10)"
   ]
  },
  {
   "cell_type": "code",
   "execution_count": 16,
   "id": "3e80c936-bb62-43b4-a284-993116aec3f2",
   "metadata": {},
   "outputs": [
    {
     "name": "stdout",
     "output_type": "stream",
     "text": [
      "[0, 2, 4, 6, 8]\n"
     ]
    }
   ],
   "source": [
    "print([i for i in range(10) if i%2==0])"
   ]
  },
  {
   "cell_type": "markdown",
   "id": "c0fc6c6f-a0c3-4664-b53d-de31a3a45d9e",
   "metadata": {},
   "source": [
    "5. Use a dictionary comprehension to create the dictionary squares. Use range(10) to return the keys, and use the square of each key as its value."
   ]
  },
  {
   "cell_type": "code",
   "execution_count": 17,
   "id": "4dc9e076-cd61-4032-a0fe-9d1321259400",
   "metadata": {},
   "outputs": [
    {
     "name": "stdout",
     "output_type": "stream",
     "text": [
      "{0: 0, 1: 1, 2: 4, 3: 9, 4: 16, 5: 25, 6: 36, 7: 49, 8: 64, 9: 81}\n"
     ]
    }
   ],
   "source": [
    "print({x:x**2 for x in range(10) })"
   ]
  },
  {
   "cell_type": "code",
   "execution_count": null,
   "id": "8fbb0e0c-6586-4c5d-9698-a530b46dae5b",
   "metadata": {},
   "outputs": [],
   "source": [
    "6. Construct the set odd from the odd numbers in the range using a set comprehension (10)."
   ]
  },
  {
   "cell_type": "code",
   "execution_count": 19,
   "id": "5d33b3b4-23e9-471c-a252-54a7eab796a7",
   "metadata": {},
   "outputs": [
    {
     "name": "stdout",
     "output_type": "stream",
     "text": [
      "{1, 3, 5, 7, 9}\n"
     ]
    }
   ],
   "source": [
    "print({x for x in range(10) if x%2!=0})"
   ]
  },
  {
   "cell_type": "markdown",
   "id": "2431f8da-3354-4cd3-a54a-f4dc08e0ed62",
   "metadata": {},
   "source": [
    "7. Use a generator comprehension to return the string 'Got ' and a number for the numbers in range(10). Iterate through this by using a for loop."
   ]
  },
  {
   "cell_type": "code",
   "execution_count": null,
   "id": "54fcd359-af9b-44f5-b615-936cfe9b3fc7",
   "metadata": {},
   "outputs": [],
   "source": [
    "get = ('Got_'+str(x) for x in range(10))"
   ]
  },
  {
   "cell_type": "markdown",
   "id": "fd5dcb2d-a598-4ac7-bc64-188d34a80f9e",
   "metadata": {},
   "source": [
    "8. Define a function called good that returns the list ['Harry', 'Ron', 'Hermione']."
   ]
  },
  {
   "cell_type": "code",
   "execution_count": 2,
   "id": "dc423e41-ee38-45d3-9c8d-d1c23449c9f6",
   "metadata": {},
   "outputs": [
    {
     "name": "stdout",
     "output_type": "stream",
     "text": [
      "['Harry', 'Ron', 'Hermione']\n"
     ]
    }
   ],
   "source": [
    "def good():\n",
    "    x= ['Harry','Ron','Hermione']\n",
    "    return x\n",
    "\n",
    "print(good())"
   ]
  },
  {
   "cell_type": "markdown",
   "id": "9d2e579d-dc12-4c93-9e0f-86d6d8a84f8a",
   "metadata": {},
   "source": [
    "9. Define a generator function called get_odds that returns the odd numbers from range(10). Use a for loop to find and print the third value returned."
   ]
  },
  {
   "cell_type": "code",
   "execution_count": 3,
   "id": "24228054-d503-46e8-a9f4-2723bcafc82f",
   "metadata": {},
   "outputs": [
    {
     "name": "stdout",
     "output_type": "stream",
     "text": [
      "1\n",
      "3\n",
      "5\n",
      "7\n",
      "9\n",
      "None\n"
     ]
    }
   ],
   "source": [
    "def get_oods():\n",
    "    for i in range(10):\n",
    "        if i%2!=0:\n",
    "            print(i)\n",
    "            \n",
    "print(get_oods())            "
   ]
  },
  {
   "cell_type": "markdown",
   "id": "2d700426-f44d-4728-a924-5f2214c9f765",
   "metadata": {},
   "source": [
    "10. Define an exception called OopsException. Raise this exception to see what happens. Then write the code to catch this exception and print 'Caught an oops'."
   ]
  },
  {
   "cell_type": "code",
   "execution_count": 1,
   "id": "0454a4b9-bb0f-405e-a75f-74aa2675f3e6",
   "metadata": {},
   "outputs": [
    {
     "name": "stdout",
     "output_type": "stream",
     "text": [
      "Caught an oops---->  -100\n"
     ]
    }
   ],
   "source": [
    "class OopsException(Exception):\n",
    "    pass\n",
    "\n",
    "def test1(a):\n",
    "    if a<0:\n",
    "        raise OopsException(a)\n",
    "        \n",
    "try:\n",
    "    test1(-100)\n",
    "except Exception as e:\n",
    "    print(\"Caught an oops----> \", e)\n",
    "           "
   ]
  },
  {
   "cell_type": "markdown",
   "id": "6e3702bf-be6e-4fb3-a166-c90f83cc9c8e",
   "metadata": {},
   "source": [
    "11. Use zip() to make a dictionary called movies that pairs these lists: titles = ['Creature of Habit', 'Crewel Fate'] and plots = ['A nun turns into a monster', 'A haunted yarn shop']."
   ]
  },
  {
   "cell_type": "code",
   "execution_count": 4,
   "id": "89a0e513-8857-4607-8698-2eb95e1b3622",
   "metadata": {},
   "outputs": [
    {
     "name": "stdout",
     "output_type": "stream",
     "text": [
      "{'Creature of Habit': 'A nun turns into a monster', 'Crewel Fate': 'A haunted yarn shop'}\n"
     ]
    }
   ],
   "source": [
    "titles = ['Creature of Habit', 'Crewel Fate']\n",
    "plots = ['A nun turns into a monster', 'A haunted yarn shop']\n",
    "resu = dict(zip(titles,plots))\n",
    "print(resu)"
   ]
  },
  {
   "cell_type": "code",
   "execution_count": null,
   "id": "3d9a9cd4-6a5e-4eb3-b0cc-30e9dcf8ad81",
   "metadata": {},
   "outputs": [],
   "source": []
  }
 ],
 "metadata": {
  "kernelspec": {
   "display_name": "Python 3 (ipykernel)",
   "language": "python",
   "name": "python3"
  },
  "language_info": {
   "codemirror_mode": {
    "name": "ipython",
    "version": 3
   },
   "file_extension": ".py",
   "mimetype": "text/x-python",
   "name": "python",
   "nbconvert_exporter": "python",
   "pygments_lexer": "ipython3",
   "version": "3.10.6"
  }
 },
 "nbformat": 4,
 "nbformat_minor": 5
}

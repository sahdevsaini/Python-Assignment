{
 "cells": [
  {
   "cell_type": "markdown",
   "id": "a9a77479-8aed-4823-ba5e-83c50034b166",
   "metadata": {},
   "source": [
    "## ------------------------------- Assingment - 16 ------------------------------"
   ]
  },
  {
   "cell_type": "markdown",
   "id": "59224a8d-aa30-489a-b504-862887e28d43",
   "metadata": {},
   "source": [
    "## 1. Create a list called years_list, starting with the year of your birth, and each year thereafter until the year of your fifth birthday. For example, if you were born in 1980. the list would be years_list = [1980, 1981, 1982, 1983, 1984, 1985]."
   ]
  },
  {
   "cell_type": "code",
   "execution_count": 23,
   "id": "416cb84b-0597-45b5-a38f-dacc8eb3659c",
   "metadata": {},
   "outputs": [
    {
     "name": "stdout",
     "output_type": "stream",
     "text": [
      "[1996, 1997, 1998, 1999, 2000]\n"
     ]
    }
   ],
   "source": [
    "years_list = [1996,1997,1998,1999,2000]\n",
    "print(years_list)"
   ]
  },
  {
   "cell_type": "markdown",
   "id": "1cb1b33b-52fc-4835-b99c-9612aa789870",
   "metadata": {},
   "source": [
    "## 2. In which year in years_list was your third birthday? Remember, you were 0 years of age for your first year."
   ]
  },
  {
   "cell_type": "code",
   "execution_count": 24,
   "id": "0e82db8a-f081-45ea-b9fa-9e78b6f110d3",
   "metadata": {},
   "outputs": [
    {
     "name": "stdout",
     "output_type": "stream",
     "text": [
      "Third birthday in year list:-  1999\n"
     ]
    }
   ],
   "source": [
    "print(\"Third birthday in year list:- \",years_list[3])"
   ]
  },
  {
   "cell_type": "markdown",
   "id": "fc02244a-4fcc-43e3-a5bd-3bd7dfbfaa27",
   "metadata": {},
   "source": [
    "## 3.In the years list, which year were you the oldest?"
   ]
  },
  {
   "cell_type": "code",
   "execution_count": 25,
   "id": "98f3d213-8c3f-4f76-98bc-f91027fe0b42",
   "metadata": {},
   "outputs": [
    {
     "name": "stdout",
     "output_type": "stream",
     "text": [
      "I were the oldest in year :-  2000\n"
     ]
    }
   ],
   "source": [
    "print(\"I were the oldest in year :- \",years_list[4])"
   ]
  },
  {
   "cell_type": "markdown",
   "id": "44510698-564d-4b9f-b10c-376745ecf6f1",
   "metadata": {},
   "source": [
    "## 4. Make a list called things with these three strings as elements: \"mozzarella\", \"cinderella\", \"salmonella\"."
   ]
  },
  {
   "cell_type": "code",
   "execution_count": 27,
   "id": "935583ee-2e5e-42ce-8c72-eadf6cedd17d",
   "metadata": {},
   "outputs": [
    {
     "name": "stdout",
     "output_type": "stream",
     "text": [
      "['mozzarella', 'cinderella', 'salmonella']\n"
     ]
    }
   ],
   "source": [
    "things = [\"mozzarella\", \"cinderella\", \"salmonella\"]\n",
    "print(things)"
   ]
  },
  {
   "cell_type": "markdown",
   "id": "96f62a9b-72eb-4ff0-998a-67be9c7e3c3e",
   "metadata": {},
   "source": [
    "## 5. Capitalize the element in things that refers to a person and then print the list. Did it change the element in the list?"
   ]
  },
  {
   "cell_type": "code",
   "execution_count": 28,
   "id": "e427d250-209f-498a-a46f-87f669ed8fbf",
   "metadata": {},
   "outputs": [
    {
     "name": "stdout",
     "output_type": "stream",
     "text": [
      "['Mozzarella', 'Cinderella', 'Salmonella']\n"
     ]
    }
   ],
   "source": [
    "lis = [ i.capitalize() for i in things]\n",
    "print(lis)\n",
    "# No it didn't change the element in the list"
   ]
  },
  {
   "cell_type": "markdown",
   "id": "ff9ab250-896a-4d6c-bc5d-dfbf755b24c6",
   "metadata": {},
   "source": [
    "## 6. Make a surprise list with the elements \"Groucho,\" \"Chico,\" and \"Harpo.\""
   ]
  },
  {
   "cell_type": "code",
   "execution_count": 29,
   "id": "a1ad49f3-475b-4f10-a1d4-d9ed89fb3822",
   "metadata": {},
   "outputs": [
    {
     "name": "stdout",
     "output_type": "stream",
     "text": [
      "['Groucho', 'Chico', 'Harpo']\n"
     ]
    }
   ],
   "source": [
    "surprise = [ \"Groucho\",\"Chico\",\"Harpo\"]\n",
    "print(surprise)"
   ]
  },
  {
   "cell_type": "markdown",
   "id": "43c2687f-3e02-46e6-a880-93b62f943d3d",
   "metadata": {},
   "source": [
    "## 7. Lowercase the last element of the surprise list, reverse it, and then capitalize it."
   ]
  },
  {
   "cell_type": "code",
   "execution_count": 30,
   "id": "3ca8de47-3cf4-4687-b161-94a3052cc107",
   "metadata": {},
   "outputs": [
    {
     "name": "stdout",
     "output_type": "stream",
     "text": [
      "harpo\n"
     ]
    }
   ],
   "source": [
    "st = surprise[2].lower()\n",
    "print(st)"
   ]
  },
  {
   "cell_type": "code",
   "execution_count": 31,
   "id": "59544ee4-c64f-40b4-a107-0c22fb992f39",
   "metadata": {},
   "outputs": [
    {
     "name": "stdout",
     "output_type": "stream",
     "text": [
      "oprah\n"
     ]
    }
   ],
   "source": [
    "st1 = st[::-1]\n",
    "print(st1)"
   ]
  },
  {
   "cell_type": "code",
   "execution_count": 32,
   "id": "606c2b68-ab48-47db-982b-670d2aca6eff",
   "metadata": {},
   "outputs": [
    {
     "name": "stdout",
     "output_type": "stream",
     "text": [
      "Oprah\n"
     ]
    }
   ],
   "source": [
    "print(st1.capitalize())"
   ]
  },
  {
   "cell_type": "markdown",
   "id": "5044bf85-0aab-4c0b-a5f0-8b440fa3a2aa",
   "metadata": {},
   "source": [
    "## 8. Make an English-to-French dictionary called e2f and print it. Here are your starter words: dog is chien, cat is chat, and walrus is morse."
   ]
  },
  {
   "cell_type": "code",
   "execution_count": 33,
   "id": "db3f6968-26d3-4b2e-8e0c-cfb36cc1d06b",
   "metadata": {},
   "outputs": [
    {
     "name": "stdout",
     "output_type": "stream",
     "text": [
      "{'dog': 'chien', 'cat': 'chat', 'walrus': 'morse'}\n"
     ]
    }
   ],
   "source": [
    "e2f = {'dog':'chien', 'cat':'chat', 'walrus': 'morse'}\n",
    "print(e2f)"
   ]
  },
  {
   "cell_type": "markdown",
   "id": "268166c4-0546-41c6-bfc7-07f280e7a511",
   "metadata": {},
   "source": [
    "## 9. Write the French word for walrus in your three-word dictionary e2f."
   ]
  },
  {
   "cell_type": "code",
   "execution_count": 34,
   "id": "b9b6aa93-45b6-467d-901b-a94a53420aa5",
   "metadata": {},
   "outputs": [
    {
     "data": {
      "text/plain": [
       "'morse'"
      ]
     },
     "execution_count": 34,
     "metadata": {},
     "output_type": "execute_result"
    }
   ],
   "source": [
    "e2f.get('walrus')"
   ]
  },
  {
   "cell_type": "markdown",
   "id": "20f7ea61-6e32-4ac5-ba15-779f7d44850d",
   "metadata": {},
   "source": [
    "## 10. Make a French-to-English dictionary called f2e from e2f. Use the items method."
   ]
  },
  {
   "cell_type": "code",
   "execution_count": 35,
   "id": "9a29e3b8-b250-423f-b375-d12deec5f32b",
   "metadata": {},
   "outputs": [
    {
     "name": "stdout",
     "output_type": "stream",
     "text": [
      "{'chien': 'dog', 'chat': 'cat', 'morse': 'walrus'}\n"
     ]
    }
   ],
   "source": [
    "f2e =  dict([i[::-1] for i in e2f.items()])\n",
    "print(f2e)"
   ]
  },
  {
   "cell_type": "markdown",
   "id": "b133e5e8-0cce-413e-843c-68faca7111f2",
   "metadata": {},
   "source": [
    "## 11. Print the English version of the French word chien using f2e."
   ]
  },
  {
   "cell_type": "code",
   "execution_count": 37,
   "id": "440c175f-1c30-4bf4-9a31-45f2682abc5c",
   "metadata": {},
   "outputs": [
    {
     "name": "stdout",
     "output_type": "stream",
     "text": [
      "dog\n"
     ]
    }
   ],
   "source": [
    "print(f2e.get('chien'))"
   ]
  },
  {
   "cell_type": "markdown",
   "id": "ea5cea5a-f46e-44c6-a551-6895c30c9da9",
   "metadata": {},
   "source": [
    "## 12. Make and print a set of English words from the keys in e2f."
   ]
  },
  {
   "cell_type": "code",
   "execution_count": 38,
   "id": "3d33bc8f-61a5-4055-88c4-ceceace13ff8",
   "metadata": {},
   "outputs": [
    {
     "name": "stdout",
     "output_type": "stream",
     "text": [
      "['chien', 'chat', 'morse']\n"
     ]
    }
   ],
   "source": [
    "print(list(f2e.keys()))"
   ]
  },
  {
   "cell_type": "markdown",
   "id": "0fc0e858-7766-45d9-8762-bd426dcf3084",
   "metadata": {},
   "source": [
    "## 13. Make a multilevel dictionary called life. Use these strings for the topmost keys: 'animals', 'plants', and 'other'. Make the 'animals' key refer to another dictionary with the keys 'cats', 'octopi', and 'emus'. Make the 'cats' key refer to a list of strings with the values 'Henri', 'Grumpy', and 'Lucy'. Make all the other keys refer to empty dictionaries."
   ]
  },
  {
   "cell_type": "code",
   "execution_count": 39,
   "id": "45d1dc62-39db-4650-8e9d-6d9395708152",
   "metadata": {},
   "outputs": [
    {
     "name": "stdout",
     "output_type": "stream",
     "text": [
      "{'animals': {'cats': ['Henri', 'Grumpy', 'Lucy'], 'octopi': {}, 'emus': {}}, 'plants': {}, 'others': {}}\n"
     ]
    }
   ],
   "source": [
    "life = {'animals':\n",
    "                 {'cats':['Henri', 'Grumpy', 'Lucy'],\n",
    "                   'octopi':{},\n",
    "                    'emus': {}\n",
    "                 },\n",
    "       'plants':{},\n",
    "       'others':{}\n",
    "}\n",
    "print(life)"
   ]
  },
  {
   "cell_type": "markdown",
   "id": "a4d124ba-e2e6-44b1-bf1e-b015b6f467dd",
   "metadata": {},
   "source": [
    "## 14. Print the top-level keys of life."
   ]
  },
  {
   "cell_type": "code",
   "execution_count": 7,
   "id": "a19a3e32-418b-48a4-9a64-7ca2a8576357",
   "metadata": {},
   "outputs": [
    {
     "name": "stdout",
     "output_type": "stream",
     "text": [
      "['animals', 'plants', 'others']\n"
     ]
    }
   ],
   "source": [
    "print(list(life.keys()))"
   ]
  },
  {
   "cell_type": "markdown",
   "id": "cc224e43-14bc-4ca5-808f-5288e389ff33",
   "metadata": {},
   "source": [
    "## 15. Print the keys for life['animals']."
   ]
  },
  {
   "cell_type": "code",
   "execution_count": 11,
   "id": "50e8ac1c-c0ed-4e80-aef4-7bbf7e06d87f",
   "metadata": {},
   "outputs": [
    {
     "name": "stdout",
     "output_type": "stream",
     "text": [
      "['cats', 'octopi', 'emus']\n"
     ]
    }
   ],
   "source": [
    "print(list(life['animals'].keys()))"
   ]
  },
  {
   "cell_type": "code",
   "execution_count": 40,
   "id": "40aec2b4-786e-4fbb-808b-56a96220d8a8",
   "metadata": {},
   "outputs": [],
   "source": [
    "## 16. Print the values for life['animals']['cats']"
   ]
  },
  {
   "cell_type": "code",
   "execution_count": 18,
   "id": "3287f17d-204c-4355-b304-59e5419453e5",
   "metadata": {},
   "outputs": [
    {
     "name": "stdout",
     "output_type": "stream",
     "text": [
      "['Henri', 'Grumpy', 'Lucy']\n"
     ]
    }
   ],
   "source": [
    "print(life['animals']['cats'])"
   ]
  },
  {
   "cell_type": "code",
   "execution_count": null,
   "id": "da58de95-4de4-4cad-bc46-5f461aef6e69",
   "metadata": {},
   "outputs": [],
   "source": []
  }
 ],
 "metadata": {
  "kernelspec": {
   "display_name": "Python 3 (ipykernel)",
   "language": "python",
   "name": "python3"
  },
  "language_info": {
   "codemirror_mode": {
    "name": "ipython",
    "version": 3
   },
   "file_extension": ".py",
   "mimetype": "text/x-python",
   "name": "python",
   "nbconvert_exporter": "python",
   "pygments_lexer": "ipython3",
   "version": "3.10.6"
  }
 },
 "nbformat": 4,
 "nbformat_minor": 5
}

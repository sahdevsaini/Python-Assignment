{
 "cells": [
  {
   "cell_type": "code",
   "execution_count": null,
   "id": "b6367e2f-43fe-4c26-ab90-9f20af47ae02",
   "metadata": {},
   "outputs": [],
   "source": [
    "1. What is the result of the code, and why?\n",
    ">>> def func(a, b=6, c=8):\n",
    "print(a, b, c)\n",
    ">>> func(1, 2)"
   ]
  },
  {
   "cell_type": "code",
   "execution_count": 16,
   "id": "847cf5f0-d11f-41d2-9d6e-623c912ca071",
   "metadata": {},
   "outputs": [
    {
     "name": "stdout",
     "output_type": "stream",
     "text": [
      "1 2 8\n"
     ]
    }
   ],
   "source": [
    "def func(a, b=6, c=8):\n",
    "    print(a, b, c)\n",
    "func(1, 2)"
   ]
  },
  {
   "cell_type": "markdown",
   "id": "1e03df36-eeb8-49ac-ba0c-67040a122df7",
   "metadata": {},
   "source": [
    "**Ans:-**    1 2 8  <br>functoion will take b value as 1"
   ]
  },
  {
   "cell_type": "code",
   "execution_count": null,
   "id": "2e4c51f5-c4de-4096-8b4b-b6293fed74fb",
   "metadata": {},
   "outputs": [],
   "source": [
    "2. What is the result of this code, and why?\n",
    ">>> def func(a, b, c=5):\n",
    "print(a, b, c)\n",
    ">>> func(1, c=3, b=2)"
   ]
  },
  {
   "cell_type": "code",
   "execution_count": 17,
   "id": "14a981b3-db7f-4c64-b8df-5ac5e99e3f2a",
   "metadata": {},
   "outputs": [
    {
     "name": "stdout",
     "output_type": "stream",
     "text": [
      "1 2 3\n"
     ]
    }
   ],
   "source": [
    "def func(a, b, c=5):\n",
    "    print(a, b, c)\n",
    "func(1, c=3, b=2)"
   ]
  },
  {
   "cell_type": "markdown",
   "id": "f2608a47-f1db-4ea1-8c16-81d70f662dbe",
   "metadata": {},
   "source": [
    "**Ans:-** 1 2 3<br>\n",
    "It will take the values passing at the time of calling a=1 b=2 c=3"
   ]
  },
  {
   "cell_type": "code",
   "execution_count": null,
   "id": "a6a90b2a-4ffe-445a-a9e0-01ea932b2657",
   "metadata": {},
   "outputs": [],
   "source": [
    "3. How about this code: what is its result, and why?\n",
    ">>> def func(a, *pargs):\n",
    "print(a, pargs)\n",
    ">>> func(1, 2, 3)"
   ]
  },
  {
   "cell_type": "code",
   "execution_count": 19,
   "id": "ae1ea3bb-256d-4c02-a0e9-605c9eb4d3a5",
   "metadata": {},
   "outputs": [
    {
     "name": "stdout",
     "output_type": "stream",
     "text": [
      "1 (2, 3)\n"
     ]
    }
   ],
   "source": [
    "def func(a, *pargs):\n",
    "    print(a, pargs)\n",
    "func(1, 2, 3)"
   ]
  },
  {
   "cell_type": "markdown",
   "id": "3c67a7e3-ef05-4379-a7d6-3d229e55c57a",
   "metadata": {},
   "source": [
    "**Ans:-** 1 (2,3)<br>\n",
    "It take 1st parameter for and remaining inside *Pargs"
   ]
  },
  {
   "cell_type": "code",
   "execution_count": null,
   "id": "bb1f0e38-8c47-4bbb-b69c-810756a892a5",
   "metadata": {},
   "outputs": [],
   "source": [
    "4. What does this code print, and why?\n",
    ">>> def func(a, **kargs):\n",
    "print(a, kargs)\n",
    ">>> func(a=1, c=3, b=2)"
   ]
  },
  {
   "cell_type": "code",
   "execution_count": 20,
   "id": "4a58bed0-6577-4d48-8308-66f297e9231f",
   "metadata": {},
   "outputs": [
    {
     "name": "stdout",
     "output_type": "stream",
     "text": [
      "1 {'c': 3, 'b': 2}\n"
     ]
    }
   ],
   "source": [
    "def func(a, **kargs):\n",
    "    print(a, kargs)\n",
    "func(a=1, c=3, b=2)"
   ]
  },
  {
   "cell_type": "markdown",
   "id": "03c5574d-d1fb-4fb8-9dbf-44d333a657ce",
   "metadata": {},
   "source": [
    "**Ans:-** 1 'c':3,'b':2 <br>\n",
    "it will take first value as a paraameter and <br>\n",
    "remainig inside the **kargs"
   ]
  },
  {
   "cell_type": "code",
   "execution_count": null,
   "id": "48fee938-41b5-4b09-9dc7-d1252d77b567",
   "metadata": {},
   "outputs": [],
   "source": [
    "5. What gets printed by this, and explain?\n",
    ">>> def func(a, b, c=8, d=5): print(a, b, c, d)\n",
    ">>> func(1, *(5, 6))"
   ]
  },
  {
   "cell_type": "code",
   "execution_count": 21,
   "id": "5e01e020-e417-46e6-83ca-413ba0deb5a7",
   "metadata": {},
   "outputs": [
    {
     "name": "stdout",
     "output_type": "stream",
     "text": [
      "1 5 6 5\n"
     ]
    }
   ],
   "source": [
    "def func(a, b, c=8, d=5): print(a, b, c, d)\n",
    "func(1, *(5, 6))"
   ]
  },
  {
   "cell_type": "markdown",
   "id": "cb62b427-a5b1-4491-8e4d-27b9df6d7e7a",
   "metadata": {},
   "source": [
    "**1 5 6 5 it will take a=1 and remaing in b,c d"
   ]
  },
  {
   "cell_type": "code",
   "execution_count": null,
   "id": "7cc9dd6e-e967-4d3b-9149-bb7efda9f110",
   "metadata": {},
   "outputs": [],
   "source": [
    "6. what is the result of this, and explain?\n",
    ">>> def func(a, b, c): a = 2; b[0] = 'x'; c['a'] = 'y'\n",
    ">>> l=1; m=[1]; n={'a':0}\n",
    ">>> func(l, m, n)\n",
    ">>> l, m, n"
   ]
  },
  {
   "cell_type": "code",
   "execution_count": 15,
   "id": "b8a02d1f-00f0-4290-a0d4-506727566e26",
   "metadata": {},
   "outputs": [
    {
     "data": {
      "text/plain": [
       "(1, ['x'], {'a': 'y'})"
      ]
     },
     "execution_count": 15,
     "metadata": {},
     "output_type": "execute_result"
    }
   ],
   "source": [
    "def func(a, b, c): a = 2; b[0] = 'x'; c['a'] = 'y'\n",
    "l=1; m=[1]; n={'a':0}\n",
    "func(l, m, n)\n",
    "l, m, n"
   ]
  },
  {
   "cell_type": "code",
   "execution_count": null,
   "id": "580328cf-b3ad-46e8-858e-eb2da9356bdf",
   "metadata": {},
   "outputs": [],
   "source": []
  }
 ],
 "metadata": {
  "kernelspec": {
   "display_name": "Python 3 (ipykernel)",
   "language": "python",
   "name": "python3"
  },
  "language_info": {
   "codemirror_mode": {
    "name": "ipython",
    "version": 3
   },
   "file_extension": ".py",
   "mimetype": "text/x-python",
   "name": "python",
   "nbconvert_exporter": "python",
   "pygments_lexer": "ipython3",
   "version": "3.10.6"
  }
 },
 "nbformat": 4,
 "nbformat_minor": 5
}

{
 "cells": [
  {
   "cell_type": "markdown",
   "id": "db409f41-a81b-4b26-80a0-3e9da6c71b9e",
   "metadata": {},
   "source": [
    "## ---------------------------------- Asssignment - 15 -----------------------------------"
   ]
  },
  {
   "cell_type": "markdown",
   "id": "029c6a7b-04f6-4c73-938b-f267e34f9e03",
   "metadata": {},
   "source": [
    "## 1. How do you distinguish between shutil.copy() and shutil.copytree()?"
   ]
  },
  {
   "cell_type": "markdown",
   "id": "a5f4f414-2ab3-4e8b-98c8-cca8f7174206",
   "metadata": {},
   "source": [
    "**Ans:-shutil.copy()** method is used to copy the contents of a file from one file to another file/folder, it primary takes two arguments **src,dest, src** represents the file to be copied where as destination refers to the file/folder to where the **src** data should be copied, if **dest** is a folder name the src with exact name will be copied to the dest folder, if its a file then the contents of **src** will be copied to **dest** where dest retains it name.\n",
    "\n",
    "**shutil.copytree()** function is used to copy the entire contents of a folder to other folder. it also takes two arguments src & dest, it copies all the content recursively and stores it in dest. the important catch here is dest must not exist prior to this and it will be created during the copy operation. Permissions and times of directories are copied with **shutil.copystat()** and individual files are copied using **shutil.copy2()** by default which can be modified using copy_function attribute."
   ]
  },
  {
   "cell_type": "markdown",
   "id": "6e049c1e-5f46-4c6f-ac96-7709812cf906",
   "metadata": {},
   "source": [
    "## 2. What function is used to rename files??"
   ]
  },
  {
   "cell_type": "markdown",
   "id": "a995ba14-f492-4a48-8022-23847b990bb5",
   "metadata": {},
   "source": [
    "**Ans:- os.rename()** function is used to rename files or directories using a python program, <br>this function takes two arguments **src** and **dest**, <br>**src** represents the name file/directory which we want to rename, whereas <br>**dest** represents the new name of the file/directory."
   ]
  },
  {
   "cell_type": "markdown",
   "id": "b64e03ec-880e-4fbe-976a-d1037264cadc",
   "metadata": {},
   "source": [
    "## 3. What is the difference between the delete functions in the send2trash and shutil modules?"
   ]
  },
  {
   "cell_type": "markdown",
   "id": "77b88f17-bfdc-496e-90b2-e588d4de576a",
   "metadata": {},
   "source": [
    "**Ans: Shutil module** provides a funciton called as **shutil.rmtree()** which deletes a directory and all its contents. <br>The other functions with similar functionality are **os.remove()** -> removes a file, <br>**os.rmdir()** removes a empty directory. The problem with these functions is once a file is deleted. it will be lost permanently, if a file is deleted accidentally using these methods there is no way we can recover the deleted file\n",
    "\n",
    "Where as **send2trash module** provides a function called **send2trash.send2trash()** to delete a file/directory. these methods moves the files/directories to trash folder instead of permanently deleting them. hence if a file/folder is deleted accidentally it can be still recovered from trash folder, if is deleted using the **send2trash.send2trash() function.** send2trash is not included with python standard libary like os & shutil modules. it needs to be installed explicitly using the command **!pip install send2trash**"
   ]
  },
  {
   "cell_type": "markdown",
   "id": "24fab8b2-0a99-44a4-957a-c4c5b346bdcc",
   "metadata": {},
   "source": [
    "## 4.ZipFile objects have a close() method just like File objects’ close() method. What ZipFile method is equivalent to File objects’ open() method?"
   ]
  },
  {
   "cell_type": "markdown",
   "id": "ac4f0cb6-c6c4-486a-8314-b49c8f7609fa",
   "metadata": {},
   "source": [
    "**Ans:- ZipFile Module** provides a method called as **zipfile.ZipFile()** to read and write to zipFiles. <br>it takes arugments like **filename** and **mode** etc zipfile.ZipFile('filename', mode = 'r')"
   ]
  },
  {
   "cell_type": "markdown",
   "id": "1505b19c-da55-4a24-9c10-71b2e186c510",
   "metadata": {},
   "source": [
    "## 5. Create a programme that searches a folder tree for files with a certain file extension (such as .pdf or .jpg). Copy these files from whatever location they are in to a new folder."
   ]
  },
  {
   "cell_type": "code",
   "execution_count": 2,
   "id": "7f4e1cf8-2846-48f9-ac33-a84a057851ae",
   "metadata": {},
   "outputs": [],
   "source": [
    "import os\n",
    "import shutil\n",
    "\n",
    "def search_and_copy(source,destination,extensions):\n",
    "    source = os.path.abspath(source)\n",
    "    destination = os.path.abspath(destination)\n",
    "    for foldername, subfolder, filenames in os.walk(source):\n",
    "        print(f'Folder Name ➞ {foldername}',end='\\n\\n')\n",
    "        print(f'Sub Folders ➞ {subfolder}',end='\\n\\n')\n",
    "        print(f'Files ➞ {filenames}',end='\\n\\n')\n",
    "        for filename in filenames:\n",
    "            fileName,extension = os.path.splitext(filename)\n",
    "            if extension in extensions:\n",
    "                targetFile = foldername+os.path.sep+fileName+extension\n",
    "                shutil.copy(targetFile, destination)\n",
    "        print(f'Files copied successfully from {source} to {destination}')\n",
    "    \n",
    "extensions = ['.pdf','.jpg','.ipynb']\n",
    "source = 'Dummy Source'\n",
    "destination = 'Dummy Destination'\n",
    "search_and_copy(source, destination, extensions)"
   ]
  },
  {
   "cell_type": "code",
   "execution_count": 3,
   "id": "7f765c7e-d57e-47e7-a3b2-7551de021830",
   "metadata": {},
   "outputs": [],
   "source": []
  },
  {
   "cell_type": "code",
   "execution_count": null,
   "id": "76d8f6f9-3b2b-486c-ac87-1861c60e44ae",
   "metadata": {},
   "outputs": [],
   "source": []
  }
 ],
 "metadata": {
  "kernelspec": {
   "display_name": "Python 3 (ipykernel)",
   "language": "python",
   "name": "python3"
  },
  "language_info": {
   "codemirror_mode": {
    "name": "ipython",
    "version": 3
   },
   "file_extension": ".py",
   "mimetype": "text/x-python",
   "name": "python",
   "nbconvert_exporter": "python",
   "pygments_lexer": "ipython3",
   "version": "3.10.6"
  }
 },
 "nbformat": 4,
 "nbformat_minor": 5
}

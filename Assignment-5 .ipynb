{
  "metadata": {
    "language_info": {
      "codemirror_mode": {
        "name": "python",
        "version": 3
      },
      "file_extension": ".py",
      "mimetype": "text/x-python",
      "name": "python",
      "nbconvert_exporter": "python",
      "pygments_lexer": "ipython3",
      "version": "3.8"
    },
    "kernelspec": {
      "name": "python",
      "display_name": "Python (Pyodide)",
      "language": "python"
    }
  },
  "nbformat_minor": 4,
  "nbformat": 4,
  "cells": [
    {
      "cell_type": "markdown",
      "source": "## ---------------------------------------Assignment-5 (Sahdev Saini)-------------------------------------",
      "metadata": {}
    },
    {
      "cell_type": "markdown",
      "source": "### 1. What does an empty dictionary's code look like?",
      "metadata": {}
    },
    {
      "cell_type": "code",
      "source": "dic={}\ntype(dic)",
      "metadata": {
        "trusted": true
      },
      "execution_count": 2,
      "outputs": [
        {
          "execution_count": 2,
          "output_type": "execute_result",
          "data": {
            "text/plain": "dict"
          },
          "metadata": {}
        }
      ]
    },
    {
      "cell_type": "markdown",
      "source": "### 2. What is the value of a dictionary value with the key 'foo' and the value 42?",
      "metadata": {}
    },
    {
      "cell_type": "code",
      "source": "dict={\"foo\":42}\ndict[\"foo\"]",
      "metadata": {
        "trusted": true
      },
      "execution_count": 7,
      "outputs": [
        {
          "execution_count": 7,
          "output_type": "execute_result",
          "data": {
            "text/plain": "42"
          },
          "metadata": {}
        }
      ]
    },
    {
      "cell_type": "markdown",
      "source": "### 3. What is the most significant distinction between a dictionary and a list?",
      "metadata": {}
    },
    {
      "cell_type": "markdown",
      "source": "### Ans- \n                     Dictionary \t                                List \n### 1. It is hashed structure of key and value.         \t1. Collection of index value  pair \n### 2. Created by placing data in [] square bracket.    \t2. Created by placing data in {} curly braces .\n### 3. The key of dictionary may  any data type         \t3. . The indices  of list are always integers and started from 0.\n### 4. The elements are accessed via indices.           \t4. The elements are accessed via key-values.\n\n",
      "metadata": {}
    },
    {
      "cell_type": "markdown",
      "source": "",
      "metadata": {}
    },
    {
      "cell_type": "markdown",
      "source": "### 4. What happens if you try to access spam['foo'] if spam is {'bar': 100}?",
      "metadata": {}
    },
    {
      "cell_type": "code",
      "source": "spam={\"bar\":100}\nspam[\"foo\"]                    # Showing error because \"foo\" key is not define in spam dictationary.",
      "metadata": {
        "trusted": true
      },
      "execution_count": 9,
      "outputs": [
        {
          "ename": "<class 'KeyError'>",
          "evalue": "'foo'",
          "traceback": [
            "\u001b[0;31m---------------------------------------------------------------------------\u001b[0m",
            "\u001b[0;31mKeyError\u001b[0m                                  Traceback (most recent call last)",
            "Cell \u001b[0;32mIn [9], line 2\u001b[0m\n\u001b[1;32m      1\u001b[0m spam\u001b[38;5;241m=\u001b[39m{\u001b[38;5;124m\"\u001b[39m\u001b[38;5;124mbar\u001b[39m\u001b[38;5;124m\"\u001b[39m:\u001b[38;5;241m100\u001b[39m}\n\u001b[0;32m----> 2\u001b[0m spam[\u001b[38;5;124m\"\u001b[39m\u001b[38;5;124mfoo\u001b[39m\u001b[38;5;124m\"\u001b[39m]\n",
            "\u001b[0;31mKeyError\u001b[0m: 'foo'"
          ],
          "output_type": "error"
        }
      ]
    },
    {
      "cell_type": "markdown",
      "source": "### 5. If a dictionary is stored in spam, what is the difference between the expressions 'cat' in spam and 'cat' in spam.keys()?",
      "metadata": {}
    },
    {
      "cell_type": "markdown",
      "source": "### Ans:- Their is no diffference in both the cases we try to search \"cat \" in spam dictationary.",
      "metadata": {}
    },
    {
      "cell_type": "code",
      "source": "spam={\"cat\": 10}\n'cat' in spam",
      "metadata": {
        "trusted": true
      },
      "execution_count": 10,
      "outputs": [
        {
          "execution_count": 10,
          "output_type": "execute_result",
          "data": {
            "text/plain": "True"
          },
          "metadata": {}
        }
      ]
    },
    {
      "cell_type": "code",
      "source": "'cat' in spam.keys() ",
      "metadata": {
        "trusted": true
      },
      "execution_count": 11,
      "outputs": [
        {
          "execution_count": 11,
          "output_type": "execute_result",
          "data": {
            "text/plain": "True"
          },
          "metadata": {}
        }
      ]
    },
    {
      "cell_type": "markdown",
      "source": "### 6. If a dictionary is stored in spam, what is the difference between the expressions 'cat' in spam and 'cat' in spam.values()?",
      "metadata": {}
    },
    {
      "cell_type": "code",
      "source": "spam={\"cat\":20}\n'cat' in spam",
      "metadata": {
        "trusted": true
      },
      "execution_count": 13,
      "outputs": [
        {
          "execution_count": 13,
          "output_type": "execute_result",
          "data": {
            "text/plain": "True"
          },
          "metadata": {}
        }
      ]
    },
    {
      "cell_type": "code",
      "source": "'cat' in spam.values()",
      "metadata": {
        "trusted": true
      },
      "execution_count": 14,
      "outputs": [
        {
          "execution_count": 14,
          "output_type": "execute_result",
          "data": {
            "text/plain": "False"
          },
          "metadata": {}
        }
      ]
    },
    {
      "cell_type": "markdown",
      "source": "### In 'cat' in spam cursor try to search 'cat' in both keys and values but in case of 'cat' in sapm.values() cursor search the 'cat' in values and their is no vlaue with 'cat', showing result false  ",
      "metadata": {}
    },
    {
      "cell_type": "code",
      "source": "",
      "metadata": {},
      "execution_count": null,
      "outputs": []
    },
    {
      "cell_type": "markdown",
      "source": "### 7. What is a shortcut for the following code?\n### if 'color' not in spam:\n### spam['color'] = 'black'\n",
      "metadata": {}
    },
    {
      "cell_type": "code",
      "source": "spam ={'cat':100}\nspam.setdefault('color','black')\nspam\n",
      "metadata": {
        "trusted": true
      },
      "execution_count": 15,
      "outputs": [
        {
          "execution_count": 15,
          "output_type": "execute_result",
          "data": {
            "text/plain": "{'cat': 100, 'color': 'black'}"
          },
          "metadata": {}
        }
      ]
    },
    {
      "cell_type": "markdown",
      "source": "### 8. How do you \"pretty print\" dictionary values using which module and function?",
      "metadata": {}
    },
    {
      "cell_type": "code",
      "source": "import pprint\ndct = [ {'Name': 'Shiva', 'Age': '23', 'Country': 'India'},\n  {'Name': 'Anna', 'Age': '44', 'Country': 'China'},\n  {'Name': 'Joe', 'Age': '29', 'Country': 'UK'},\n  {'Name': 'Chumlee', 'Age': '35', 'Country': 'USA'}]\ndct\n\n",
      "metadata": {
        "trusted": true
      },
      "execution_count": 18,
      "outputs": [
        {
          "execution_count": 18,
          "output_type": "execute_result",
          "data": {
            "text/plain": "[{'Name': 'Shiva', 'Age': '23', 'Country': 'India'},\n {'Name': 'Anna', 'Age': '44', 'Country': 'China'},\n {'Name': 'Joe', 'Age': '29', 'Country': 'UK'},\n {'Name': 'Chumlee', 'Age': '35', 'Country': 'USA'}]"
          },
          "metadata": {}
        }
      ]
    },
    {
      "cell_type": "code",
      "source": "",
      "metadata": {
        "trusted": true
      },
      "execution_count": null,
      "outputs": []
    },
    {
      "cell_type": "code",
      "source": "",
      "metadata": {},
      "execution_count": null,
      "outputs": []
    }
  ]
}
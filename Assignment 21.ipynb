{
 "cells": [
  {
   "cell_type": "markdown",
   "id": "d917b363-cef8-426a-ba3b-802397462209",
   "metadata": {},
   "source": [
    "## 1. Add the current date to the text file today.txt as a string."
   ]
  },
  {
   "cell_type": "code",
   "execution_count": 15,
   "id": "035729e4-0c76-476f-9599-fb8520f3f019",
   "metadata": {},
   "outputs": [
    {
     "name": "stdout",
     "output_type": "stream",
     "text": [
      "18-09-23\n"
     ]
    }
   ],
   "source": [
    "import datetime\n",
    "f = open('today.txt','w')\n",
    "f.write(datetime.datetime.now().strftime(\"%d-%m-%y\"))\n",
    "f.close()\n",
    "## step for read the file\n",
    "\n",
    "f1 = open('today.txt','r')\n",
    "print(f1.read())\n",
    "f1.close()"
   ]
  },
  {
   "cell_type": "markdown",
   "id": "10deddaf-fc07-4c88-97b3-19d8286d355b",
   "metadata": {},
   "source": [
    "## 2. Read the text file today.txt into the string today_string"
   ]
  },
  {
   "cell_type": "code",
   "execution_count": 18,
   "id": "143c5a3b-9aad-45a8-8b74-0366fe28da85",
   "metadata": {},
   "outputs": [
    {
     "name": "stdout",
     "output_type": "stream",
     "text": [
      "18-09-23\n"
     ]
    }
   ],
   "source": [
    "file = open('today.txt','r')\n",
    "today_string = file.read()\n",
    "print(today_string)"
   ]
  },
  {
   "cell_type": "code",
   "execution_count": null,
   "id": "7a1ad76a-060a-4ec5-95a0-76e2776599ee",
   "metadata": {},
   "outputs": [],
   "source": [
    "3. Parse the date from today_string."
   ]
  },
  {
   "cell_type": "code",
   "execution_count": 25,
   "id": "c9647c6d-63ff-404d-a6e5-3640efc95c37",
   "metadata": {},
   "outputs": [
    {
     "name": "stdout",
     "output_type": "stream",
     "text": [
      "2023-09-18 00:00:00\n"
     ]
    }
   ],
   "source": [
    "from datetime import datetime as t\n",
    "parsed_data = t.strptime(today_string,'%d-%m-%y')\n",
    "print(parsed_data)"
   ]
  },
  {
   "cell_type": "code",
   "execution_count": null,
   "id": "93711fa2-d06f-488f-ad3e-51a085acae13",
   "metadata": {},
   "outputs": [],
   "source": [
    "4. List the files in your current directory"
   ]
  },
  {
   "cell_type": "code",
   "execution_count": 30,
   "id": "d0e769ec-00bc-4b5a-9df2-de28074cfc86",
   "metadata": {},
   "outputs": [
    {
     "name": "stdout",
     "output_type": "stream",
     "text": [
      "18.) Python Pillow module.ipynb\n",
      "README.md\n",
      "Assignment 10 .ipynb\n",
      "sample-code.ipynb\n",
      "Assignment 16.ipynb\n",
      "Assignment 17.ipynb\n",
      "Assignment 19.ipynb\n",
      "Mynewdoc.docx\n",
      "Assignment 18.ipynb\n",
      "Assignment 15.ipynb\n",
      "Assignment 21.ipynb\n",
      "Assignment 7.ipynb\n",
      "Untitled.ipynb\n",
      "today.txt\n",
      "Assignment 14.ipynb\n",
      "Assingment 8.ipynb\n",
      "Assignment 20.ipynb\n",
      "packed-refs\n",
      "HEAD\n",
      "index\n",
      "config\n",
      "description\n",
      "HEAD\n",
      "main\n",
      "HEAD\n",
      "exclude\n",
      "pack-290036e657c294196be1b61a981e44da145e2135.pack\n",
      "pack-290036e657c294196be1b61a981e44da145e2135.idx\n",
      "pre-push.sample\n",
      "prepare-commit-msg.sample\n",
      "applypatch-msg.sample\n",
      "pre-applypatch.sample\n",
      "commit-msg.sample\n",
      "pre-rebase.sample\n",
      "pre-receive.sample\n",
      "update.sample\n",
      "fsmonitor-watchman.sample\n",
      "pre-merge-commit.sample\n",
      "pre-commit.sample\n",
      "push-to-checkout.sample\n",
      "post-update.sample\n",
      "main\n",
      "HEAD\n",
      "sample-code-checkpoint.ipynb\n",
      "today-checkpoint.txt\n",
      "Assignment 17-checkpoint.ipynb\n",
      "Assignment 10 -checkpoint.ipynb\n",
      "Assignment 14-checkpoint.ipynb\n",
      "Assignment 20-checkpoint.ipynb\n",
      "Assignment 21-checkpoint.ipynb\n",
      "Assignment 18-checkpoint.ipynb\n",
      "Assignment 19-checkpoint.ipynb\n",
      "18.) Python Pillow module-checkpoint.ipynb\n",
      "Assingment 8-checkpoint.ipynb\n",
      "Assignment 15-checkpoint.ipynb\n",
      "Untitled-checkpoint.ipynb\n",
      "Assignment 7-checkpoint.ipynb\n",
      "Assignment 16-checkpoint.ipynb\n"
     ]
    }
   ],
   "source": [
    "import os\n",
    "for folders,subfolders,files in os.walk(os.getcwd()):\n",
    "    for file in files:\n",
    "        print(file)"
   ]
  },
  {
   "cell_type": "code",
   "execution_count": null,
   "id": "dde480b9-6e43-4adb-a924-729104edc39e",
   "metadata": {},
   "outputs": [],
   "source": [
    "5. Create a list of all of the files in your parent directory (minimum five files should be available)."
   ]
  },
  {
   "cell_type": "code",
   "execution_count": 31,
   "id": "059ae3e9-6781-40ea-b0a6-c53c1cdc275b",
   "metadata": {},
   "outputs": [
    {
     "data": {
      "text/plain": [
       "['18.) Python Pillow module.ipynb',\n",
       " 'README.md',\n",
       " 'Assignment 10 .ipynb',\n",
       " 'sample-code.ipynb',\n",
       " 'Assignment 16.ipynb',\n",
       " 'Assignment 17.ipynb',\n",
       " 'Assignment 19.ipynb',\n",
       " '.git',\n",
       " 'Mynewdoc.docx',\n",
       " 'Assignment 18.ipynb',\n",
       " 'Assignment 15.ipynb',\n",
       " 'Assignment 21.ipynb',\n",
       " 'Assignment 7.ipynb',\n",
       " 'Untitled.ipynb',\n",
       " '.ipynb_checkpoints',\n",
       " 'today.txt',\n",
       " 'Assignment 14.ipynb',\n",
       " 'Assingment 8.ipynb',\n",
       " 'Assignment 20.ipynb']"
      ]
     },
     "execution_count": 31,
     "metadata": {},
     "output_type": "execute_result"
    }
   ],
   "source": [
    "os.listdir()"
   ]
  },
  {
   "cell_type": "markdown",
   "id": "413ef867-8dfd-46fa-b428-2f68a141f213",
   "metadata": {},
   "source": [
    "6. Use multiprocessing to create three separate processes. Make each one wait a random number of seconds between one and five, print the current time, and then exit."
   ]
  },
  {
   "cell_type": "code",
   "execution_count": 33,
   "id": "3b987c6e-1ac3-4bdf-8208-3ab119e21ca1",
   "metadata": {},
   "outputs": [
    {
     "name": "stdout",
     "output_type": "stream",
     "text": [
      "Proc_one_Starttime -> 2023-09-18 09:53:56.527869Proc_one_Starttime -> 2023-09-18 09:53:56.535090\n",
      "Proc_one_Starttime -> 2023-09-18 09:53:56.559846\n",
      "\n",
      "Proc_one_Endtime -> 2023-09-18 09:53:57.602296\n",
      "Proc_one_Endtime -> 2023-09-18 09:53:58.599202\n",
      "Proc_one_Endtime -> 2023-09-18 09:54:00.632994\n"
     ]
    }
   ],
   "source": [
    "import time \n",
    "import random\n",
    "import datetime\n",
    "import multiprocessing\n",
    "\n",
    "def procOne():\n",
    "    print(f'Proc_one_Starttime -> {datetime.datetime.now()}')\n",
    "    time.sleep(random.randint(1,5))\n",
    "    print(f'Proc_one_Endtime -> {datetime.datetime.now()}')\n",
    "    \n",
    "def procTwo():\n",
    "    print(f'Proc_one_Starttime -> {datetime.datetime.now()}')\n",
    "    time.sleep(random.randint(1,5))\n",
    "    print(f'Proc_one_Endtime -> {datetime.datetime.now()}') \n",
    "    \n",
    "def procThree():\n",
    "    print(f'Proc_one_Starttime -> {datetime.datetime.now()}')\n",
    "    time.sleep(random.randint(1,5))\n",
    "    print(f'Proc_one_Endtime -> {datetime.datetime.now()}') \n",
    "    \n",
    "    \n",
    "    \n",
    "    \n",
    "if __name__ == \"__main__\":    \n",
    "    p1 = multiprocessing.Process(target=procOne)\n",
    "    p2 = multiprocessing.Process(target=procTwo)\n",
    "    p3 = multiprocessing.Process(target=procThree)\n",
    "    \n",
    "    \n",
    "    p1.start()\n",
    "    p2.start()\n",
    "    p3.start()\n",
    "\n",
    "    p1.join()\n",
    "    p2.join()\n",
    "    p3.join()\n",
    "    \n"
   ]
  },
  {
   "cell_type": "code",
   "execution_count": null,
   "id": "bca42783-aa25-423b-89aa-1e031aeb0c5f",
   "metadata": {},
   "outputs": [],
   "source": [
    "7. Create a date object of your day of birth."
   ]
  },
  {
   "cell_type": "code",
   "execution_count": 38,
   "id": "b7079f88-198b-4b8e-ae43-8a6943f9ca71",
   "metadata": {},
   "outputs": [
    {
     "name": "stdout",
     "output_type": "stream",
     "text": [
      "1996-04-01 00:00:00 <class 'datetime.datetime'>\n"
     ]
    }
   ],
   "source": [
    "from datetime import datetime\n",
    "date_of_birth = datetime.strptime('01-04-1996',\"%d-%m-%Y\")\n",
    "print(date_of_birth,type(date_of_birth))"
   ]
  },
  {
   "cell_type": "code",
   "execution_count": null,
   "id": "1bd1a364-1968-4c6c-9ecc-69347aa2d00b",
   "metadata": {},
   "outputs": [],
   "source": [
    "8. What day of the week was your day of birth?"
   ]
  },
  {
   "cell_type": "code",
   "execution_count": 44,
   "id": "1fe785d8-3fd9-476d-a333-b4b5aeceee60",
   "metadata": {},
   "outputs": [
    {
     "data": {
      "text/plain": [
       "'Monday'"
      ]
     },
     "execution_count": 44,
     "metadata": {},
     "output_type": "execute_result"
    }
   ],
   "source": [
    "from datetime import datetime\n",
    "day_of_dob = datetime(1996,4,1)\n",
    "day_of_dob.strftime(\"%A\")"
   ]
  },
  {
   "cell_type": "code",
   "execution_count": null,
   "id": "b0fc428c-d396-41e5-ab8b-c38865ee9764",
   "metadata": {},
   "outputs": [],
   "source": [
    "9. When will you be (or when were you) 10,000 days old?"
   ]
  },
  {
   "cell_type": "code",
   "execution_count": 49,
   "id": "fd0784d1-1966-474e-a4f6-b0bb4812f99b",
   "metadata": {},
   "outputs": [
    {
     "name": "stdout",
     "output_type": "stream",
     "text": [
      "1722-06-17 00:00:00\n"
     ]
    }
   ],
   "source": [
    "from datetime import datetime,timedelta\n",
    "day_of_dob = datetime.strptime(\"01/04/1996\",'%d/%m/%Y')\n",
    "future_date = day_of_dob -timedelta(100000)\n",
    "print(future_date)"
   ]
  },
  {
   "cell_type": "code",
   "execution_count": null,
   "id": "fd31444e-2718-4776-8595-4abf4cb2b407",
   "metadata": {},
   "outputs": [],
   "source": []
  }
 ],
 "metadata": {
  "kernelspec": {
   "display_name": "Python 3 (ipykernel)",
   "language": "python",
   "name": "python3"
  },
  "language_info": {
   "codemirror_mode": {
    "name": "ipython",
    "version": 3
   },
   "file_extension": ".py",
   "mimetype": "text/x-python",
   "name": "python",
   "nbconvert_exporter": "python",
   "pygments_lexer": "ipython3",
   "version": "3.10.6"
  }
 },
 "nbformat": 4,
 "nbformat_minor": 5
}

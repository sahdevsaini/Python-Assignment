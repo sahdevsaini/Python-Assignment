{
 "cells": [
  {
   "cell_type": "markdown",
   "id": "1ce72da9",
   "metadata": {},
   "source": [
    "##  --------------------------------------  Assignment 11 ----------------------------------------------------------"
   ]
  },
  {
   "cell_type": "markdown",
   "id": "22a3c55c",
   "metadata": {},
   "source": [
    "## Q1. Create an assert statement that throws an AssertionError if the variable spam is a negative integer."
   ]
  },
  {
   "cell_type": "code",
   "execution_count": 5,
   "id": "19620f25",
   "metadata": {},
   "outputs": [
    {
     "name": "stdout",
     "output_type": "stream",
     "text": [
      "-2\n",
      "spam is Negative\n"
     ]
    }
   ],
   "source": [
    "spam= int(input())\n",
    "try:\n",
    "    assert spam>0 ,'spam is Negative'\n",
    "except Exception as e:\n",
    "    print(e)"
   ]
  },
  {
   "cell_type": "markdown",
   "id": "51d4c4dd",
   "metadata": {},
   "source": [
    "## 2. Write an assert statement that triggers an AssertionError if the variables eggs and bacon contain strings that are the same as each other, even if their cases are different (that is, 'hello' and 'hello' are considered the same, and 'goodbye' and 'GOODbye' are also considered the same)."
   ]
  },
  {
   "cell_type": "code",
   "execution_count": 11,
   "id": "508a1f70",
   "metadata": {},
   "outputs": [
    {
     "name": "stdout",
     "output_type": "stream",
     "text": [
      "goodbye\n",
      "Goodbye\n",
      "Both Strings are Same\n"
     ]
    }
   ],
   "source": [
    "eggs = str(input())\n",
    "bacon = str(input())\n",
    "try:\n",
    "    assert eggs.lower() != bacon.lower(), 'Both Strings are Same'\n",
    "except Exception as e:\n",
    "    print(e)"
   ]
  },
  {
   "cell_type": "markdown",
   "id": "8a6cf96a",
   "metadata": {},
   "source": [
    "## 3. Create an assert statement that throws an AssertionError every time."
   ]
  },
  {
   "cell_type": "code",
   "execution_count": 12,
   "id": "b89bb823",
   "metadata": {},
   "outputs": [
    {
     "ename": "AssertionError",
     "evalue": "",
     "output_type": "error",
     "traceback": [
      "\u001b[1;31m---------------------------------------------------------------------------\u001b[0m",
      "\u001b[1;31mAssertionError\u001b[0m                            Traceback (most recent call last)",
      "\u001b[1;32m<ipython-input-12-ea101c3b0d3f>\u001b[0m in \u001b[0;36m<module>\u001b[1;34m\u001b[0m\n\u001b[0;32m      2\u001b[0m     \u001b[1;32massert\u001b[0m  \u001b[1;32mFalse\u001b[0m\u001b[1;33m\u001b[0m\u001b[1;33m\u001b[0m\u001b[0m\n\u001b[0;32m      3\u001b[0m \u001b[1;33m\u001b[0m\u001b[0m\n\u001b[1;32m----> 4\u001b[1;33m \u001b[0massert_always\u001b[0m\u001b[1;33m(\u001b[0m\u001b[1;33m)\u001b[0m\u001b[1;33m\u001b[0m\u001b[1;33m\u001b[0m\u001b[0m\n\u001b[0m",
      "\u001b[1;32m<ipython-input-12-ea101c3b0d3f>\u001b[0m in \u001b[0;36massert_always\u001b[1;34m()\u001b[0m\n\u001b[0;32m      1\u001b[0m \u001b[1;32mdef\u001b[0m \u001b[0massert_always\u001b[0m\u001b[1;33m(\u001b[0m\u001b[1;33m)\u001b[0m\u001b[1;33m:\u001b[0m\u001b[1;33m\u001b[0m\u001b[1;33m\u001b[0m\u001b[0m\n\u001b[1;32m----> 2\u001b[1;33m     \u001b[1;32massert\u001b[0m  \u001b[1;32mFalse\u001b[0m\u001b[1;33m\u001b[0m\u001b[1;33m\u001b[0m\u001b[0m\n\u001b[0m\u001b[0;32m      3\u001b[0m \u001b[1;33m\u001b[0m\u001b[0m\n\u001b[0;32m      4\u001b[0m \u001b[0massert_always\u001b[0m\u001b[1;33m(\u001b[0m\u001b[1;33m)\u001b[0m\u001b[1;33m\u001b[0m\u001b[1;33m\u001b[0m\u001b[0m\n",
      "\u001b[1;31mAssertionError\u001b[0m: "
     ]
    }
   ],
   "source": [
    "def assert_always():\n",
    "    assert  False\n",
    "    \n",
    "assert_always()    "
   ]
  },
  {
   "cell_type": "markdown",
   "id": "25f4d7af",
   "metadata": {},
   "source": [
    "## 4. What are the two lines that must be present in your software in order to call logging.debug()?"
   ]
  },
  {
   "cell_type": "markdown",
   "id": "1a44fc65",
   "metadata": {},
   "source": [
    "**Ans:-** "
   ]
  },
  {
   "cell_type": "code",
   "execution_count": 8,
   "id": "bd45896b",
   "metadata": {
    "scrolled": true
   },
   "outputs": [],
   "source": [
    "import logging\n",
    "logging.basicConfig(filename = 'test.txt', level = logging.DEBUG, format = ' %(asctime)s - %(levelname)s - %(message)')"
   ]
  },
  {
   "cell_type": "markdown",
   "id": "ddd5a82a",
   "metadata": {},
   "source": [
    "## 5. What are the two lines that your program must have in order to have logging.debug() send a logging message to a file named programLog.txt?"
   ]
  },
  {
   "cell_type": "markdown",
   "id": "1954ec7a",
   "metadata": {},
   "source": [
    "**Ans:-**"
   ]
  },
  {
   "cell_type": "code",
   "execution_count": 6,
   "id": "44adffaf",
   "metadata": {},
   "outputs": [],
   "source": [
    "import logging\n",
    "logging.basicConfig(filename = 'programLog.txt', level = logging.DEBUG, format = ' %(asctime)s - %(levelname)s - %(message)')\n",
    "logging.debug(\"This is Logging data\")\n",
    "logging.debug(\"This is end of line \")"
   ]
  },
  {
   "cell_type": "markdown",
   "id": "50efbb18",
   "metadata": {},
   "source": [
    "## 6. What are the five levels of logging?"
   ]
  },
  {
   "cell_type": "markdown",
   "id": "4c200543",
   "metadata": {},
   "source": [
    "**Ans:-** <br>  \n",
    "**The Five level of logging :-** <br>\n",
    "**1.)** DEBUG <br>\n",
    "**2.)** INFO <br>\n",
    "**3.)** WARNING <BR>\n",
    "**4.)** ERROR  <BR>\n",
    "**1.)**CRITICAL <BR>"
   ]
  },
  {
   "cell_type": "markdown",
   "id": "974c6467",
   "metadata": {},
   "source": [
    "## 7. What line of code would you add to your software to disable all logging messages?"
   ]
  },
  {
   "cell_type": "markdown",
   "id": "a2f959c4",
   "metadata": {},
   "source": [
    "**Ans:-** "
   ]
  },
  {
   "cell_type": "code",
   "execution_count": 9,
   "id": "2aaffe1b",
   "metadata": {},
   "outputs": [],
   "source": [
    "logging.disable = True"
   ]
  },
  {
   "cell_type": "markdown",
   "id": "1bbb614b",
   "metadata": {},
   "source": [
    "## 8.Why is using logging messages better than using print() to display the same message?"
   ]
  },
  {
   "cell_type": "markdown",
   "id": "c3f2ef0a",
   "metadata": {},
   "source": [
    "**Ans:-**"
   ]
  },
  {
   "cell_type": "markdown",
   "id": "2ce010e7",
   "metadata": {},
   "source": [
    "You can disable logging messages without removing the logging function, \n",
    "whereas you need to **manually remove print()** statements, which is tedious activity.\n",
    "and also print is used when you want to display any particular message or help \n",
    "whereas logging is used to record all events like **error, info, debug messages, timestamps.**"
   ]
  },
  {
   "cell_type": "markdown",
   "id": "24558d0c",
   "metadata": {},
   "source": [
    "## 9. What are the differences between the Step Over, Step In, and Step Out buttons in the debugger?"
   ]
  },
  {
   "cell_type": "markdown",
   "id": "f79b161f",
   "metadata": {},
   "source": [
    "**Ans:-** "
   ]
  },
  {
   "cell_type": "markdown",
   "id": "ba82aee7",
   "metadata": {},
   "source": [
    "**Step Over:-** Step In button will cause the debugger to execute the next line of code and then pause again.<br>\n",
    "**Step  In:-** Step Over button will execute the next line of code, similar to the Step In button. However, if the next line of code is a function call, the Step Over button will “step over” the code in the function. The function’s code will be executed at full speed, and the debugger will pause as soon as the function call returns..<br>\n",
    "**Step Out:-**  Step Out button will cause the debugger to execute lines of code at full speed until it returns from the current function.<br>"
   ]
  },
  {
   "cell_type": "markdown",
   "id": "c9f913aa",
   "metadata": {},
   "source": [
    "##   10.After you click Continue, when will the debugger stop ?"
   ]
  },
  {
   "cell_type": "markdown",
   "id": "04ff1d98",
   "metadata": {},
   "source": [
    "**ANS:-**  <br>\n",
    "    This will cause the program to continue running normally, without pausing for debugging untill it terminates or reaches a breakpoint."
   ]
  },
  {
   "cell_type": "markdown",
   "id": "3bd22688",
   "metadata": {},
   "source": [
    "## 11. What is the concept of a breakpoint?\n"
   ]
  },
  {
   "cell_type": "markdown",
   "id": "1f70206c",
   "metadata": {},
   "source": [
    "**Ans:-** <br>\n",
    "    Breakpoint is a setting on a line of code that causes the debugger to pause when the program execution reaches the line"
   ]
  },
  {
   "cell_type": "code",
   "execution_count": null,
   "id": "c08a5262",
   "metadata": {},
   "outputs": [],
   "source": []
  }
 ],
 "metadata": {
  "kernelspec": {
   "display_name": "Python 3",
   "language": "python",
   "name": "python3"
  },
  "language_info": {
   "codemirror_mode": {
    "name": "ipython",
    "version": 3
   },
   "file_extension": ".py",
   "mimetype": "text/x-python",
   "name": "python",
   "nbconvert_exporter": "python",
   "pygments_lexer": "ipython3",
   "version": "3.8.8"
  }
 },
 "nbformat": 4,
 "nbformat_minor": 5
}

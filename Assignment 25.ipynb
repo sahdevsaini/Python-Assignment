{
 "cells": [
  {
   "cell_type": "code",
   "execution_count": null,
   "id": "2b54ac33-bba8-45ad-a78f-54688ae138b0",
   "metadata": {},
   "outputs": [],
   "source": []
  },
  {
   "cell_type": "markdown",
   "id": "af879203-557a-4445-aebe-3020c5dffa1e",
   "metadata": {},
   "source": [
    "## 1) . What is the difference between enclosing a list comprehension in square brackets and parentheses?"
   ]
  },
  {
   "cell_type": "markdown",
   "id": "5060d416-54a6-45ad-953d-5ebf97c03df4",
   "metadata": {},
   "source": [
    "**Ans:-** <br>Enclosing a list comprehension in square brackets return a **list**.<br>\n",
    "whereas Enclosing a list comprehension in parenthesis return a **Generator object**"
   ]
  },
  {
   "cell_type": "code",
   "execution_count": 5,
   "id": "7999d5b4-fc4c-490d-918f-efe48d771d61",
   "metadata": {},
   "outputs": [
    {
     "name": "stdout",
     "output_type": "stream",
     "text": [
      "Enclosed list in square brackets:-  [0, 1, 2, 3, 4, 5, 6, 7, 8, 9]\n",
      "Enclosed list in Parenthesis :-  <generator object <genexpr> at 0x7fdc200c84a0>\n"
     ]
    }
   ],
   "source": [
    "print(\"Enclosed list in square brackets:- \", [i for i in range(10)])\n",
    "print(\"Enclosed list in Parenthesis :- \",(i for i in range(10)))"
   ]
  },
  {
   "cell_type": "code",
   "execution_count": null,
   "id": "c74d99f0-9cdd-4e32-932b-6432b8bc3840",
   "metadata": {},
   "outputs": [],
   "source": [
    "#2) What is the relationship between generators and iterators?"
   ]
  },
  {
   "cell_type": "markdown",
   "id": "8dc96084-7ce6-4f67-b33e-0864907a5e50",
   "metadata": {},
   "source": [
    "**Ans:-**<br>\n",
    "An **iterator** is an object which contains a countable number of values and it is used to iterate over iterable objects like list, tuples, sets, etc. Iterators are implemented using a class. It follows lazy evaluation where the evaluation of the expression will be on hold and stored in the memory until the item is called specifically which helps us to avoid repeated evaluation. As lazy evaluation is implemented, it requires only 1 memory location to process the value and when we are using a large dataset then, wastage of RAM space will be reduced the need to load the entire dataset at the same time will not be there.For an iterator: iter() keyword is used to create an iterator containing an iterable object.next() keyword is used to call the next element in the iterable object.\n",
    "\n",
    "Similarly **Generators** are an another way of creating iterators in a simple way where it uses the keyword yield statement instead of return statement in a defined function.Generators are implemented using a function. Just as iterators, generators also follow lazy evaluation. Here, the yield function returns the data without affecting or exiting the function. It will return a sequence of data in an iterable format where we need to iterate over the sequence to use the data as they won’t store the entire sequence in the memory."
   ]
  },
  {
   "cell_type": "code",
   "execution_count": 22,
   "id": "310304e5-5b2e-456c-8497-b9fb8ac217d5",
   "metadata": {},
   "outputs": [
    {
     "name": "stdout",
     "output_type": "stream",
     "text": [
      "<class 'list_iterator'>\n",
      "The Iterative element of List L are as follows:- \n",
      "5\n",
      "6\n",
      "7\n",
      "8\n",
      "9\n",
      "4\n",
      "The Generative element:-  \n",
      "0\n",
      "1\n",
      "8\n",
      "27\n",
      "64\n"
     ]
    }
   ],
   "source": [
    "l =iter([5,6,7,8,9,4])\n",
    "print(type(l))\n",
    "print(\"The Iterative element of List L are as follows:- \")\n",
    "for i in l:\n",
    "    print(i)\n",
    "\n",
    "\n",
    "print(\"The Generative element:-  \")\n",
    "def cube_numbers(in_num):\n",
    "    for ele in range(in_num+1):\n",
    "        yield ele**3\n",
    "\n",
    "        \n",
    "out_num = cube_numbers(4)\n",
    "print(next(out_num))\n",
    "print(next(out_num))\n",
    "print(next(out_num))\n",
    "print(next(out_num))\n",
    "print(next(out_num))"
   ]
  },
  {
   "cell_type": "code",
   "execution_count": null,
   "id": "fd007795-44dd-4589-b48a-775c81e324a2",
   "metadata": {},
   "outputs": [],
   "source": [
    "3) What are the signs that a function is a generator function?"
   ]
  },
  {
   "cell_type": "markdown",
   "id": "eb65cfd0-d8fa-4dd6-95be-4ddbe4781e75",
   "metadata": {},
   "source": [
    "**Ans:-** <br>\n",
    "A **generator function** uses a **yield** statement instead of a **return** statement.<br> \n",
    "A generator function will always return a iterable object called generator.<br>where as a normal function can return a string/list/tuple/dict/NoneType ... etc"
   ]
  },
  {
   "cell_type": "code",
   "execution_count": null,
   "id": "fadaaa49-c751-4f0e-95e1-58ab3aa0b0d6",
   "metadata": {},
   "outputs": [],
   "source": [
    "4) What is the purpose of a yield statement?"
   ]
  },
  {
   "cell_type": "markdown",
   "id": "4bbb3eff-2021-488b-a945-e2e65944162b",
   "metadata": {},
   "source": [
    "**Ans:-**<br>\n",
    "The **yield** statement suspends function’s execution and sends a value back to the caller, but retains enough state to enable function to resume where it is left off. When resumed, the function continues execution immediately after the last yield run. This allows its code to produce a series of values over time, rather than computing them at once and sending them back like a list."
   ]
  },
  {
   "cell_type": "code",
   "execution_count": null,
   "id": "8df4f12a-b35b-4bb7-a469-75e99d64c2b5",
   "metadata": {},
   "outputs": [],
   "source": [
    "5) What is the relationship between map calls and list comprehensions? Make a comparison and contrast between the two."
   ]
  },
  {
   "cell_type": "markdown",
   "id": "65e37cdc-7957-406c-ab5b-557583aaa72f",
   "metadata": {},
   "source": [
    "**Ans:-** <br>The main differences between map calls and list comprehensiosn are:<br>\n",
    "\n",
    "**1.)** List comprehension is more concise and easier to read as compared to map.<br>\n",
    "**2.)List comprehension** allows filtering. **In map**, we have no such facility.<br> For example, to print all odd numbers in range of 50, we can write [n for n in range(50) if n%2 != 0]. There is no alternate for it in map<br>\n",
    "**3.)** List comprehension are used when a list of results is required as final output.but map only returns a map object. it needs to be explicitly coverted to desired datatype.<br>\n",
    "**4.)** List comprehension is faster than map when we need to evaluate expressions that are too long or complicated to express\n",
    "Map is faster in case of calling an already defined function on a set of values.m"
   ]
  },
  {
   "cell_type": "code",
   "execution_count": null,
   "id": "9b6c5e0f-06ce-4285-b8b0-ee2f8b7345ca",
   "metadata": {},
   "outputs": [],
   "source": []
  }
 ],
 "metadata": {
  "kernelspec": {
   "display_name": "Python 3 (ipykernel)",
   "language": "python",
   "name": "python3"
  },
  "language_info": {
   "codemirror_mode": {
    "name": "ipython",
    "version": 3
   },
   "file_extension": ".py",
   "mimetype": "text/x-python",
   "name": "python",
   "nbconvert_exporter": "python",
   "pygments_lexer": "ipython3",
   "version": "3.10.6"
  }
 },
 "nbformat": 4,
 "nbformat_minor": 5
}

{
 "cells": [
  {
   "cell_type": "markdown",
   "id": "4cecb682",
   "metadata": {},
   "source": [
    "### 1.\tWrite a Python Program to Add Two Matrices?"
   ]
  },
  {
   "cell_type": "code",
   "execution_count": 11,
   "id": "35f719b4",
   "metadata": {},
   "outputs": [
    {
     "name": "stdout",
     "output_type": "stream",
     "text": [
      "[8, 10, 12]\n",
      "[8, 10, 12]\n",
      "[9, 15, 18]\n"
     ]
    }
   ],
   "source": [
    "A=[[1,2,3],\n",
    "  [4,5,6],\n",
    "  [7,8,9]]\n",
    "\n",
    "B=[[7,8,9],\n",
    "  [4,5,6],\n",
    "  [2,7,9,]]\n",
    "\n",
    "matrix_sum=[[0,0,0],\n",
    "           [0,0,0],\n",
    "           [0,0,0]]\n",
    "\n",
    "for i in range(len(A)):\n",
    "    for j in range(len(A[0])):\n",
    "        matrix_sum[i][j]=A[i][j] + B[i][j]\n",
    "        \n",
    "for k in matrix_sum:\n",
    "    print(k)\n",
    "        \n"
   ]
  },
  {
   "cell_type": "markdown",
   "id": "0a9a6e94",
   "metadata": {},
   "source": [
    "### 2.\tWrite a Python Program to Multiply Two Matrices?"
   ]
  },
  {
   "cell_type": "code",
   "execution_count": 12,
   "id": "bca3bbc4",
   "metadata": {},
   "outputs": [
    {
     "name": "stdout",
     "output_type": "stream",
     "text": [
      "[7, 16, 27]\n",
      "[16, 25, 36]\n",
      "[14, 56, 81]\n"
     ]
    }
   ],
   "source": [
    "A=[[1,2,3],\n",
    "  [4,5,6],\n",
    "  [7,8,9]]\n",
    "\n",
    "B=[[7,8,9],\n",
    "  [4,5,6],\n",
    "  [2,7,9,]]\n",
    "\n",
    "matrix_Multiplication=[[0,0,0],\n",
    "           [0,0,0],\n",
    "           [0,0,0]]\n",
    "\n",
    "for i in range(len(A)):\n",
    "    for j in range(len(A[0])):\n",
    "        matrix_Multiplication[i][j]+=A[i][j] * B[i][j]\n",
    "        \n",
    "for k in matrix_Multiplication:\n",
    "    print(k)\n",
    "        \n"
   ]
  },
  {
   "cell_type": "markdown",
   "id": "8bc491aa",
   "metadata": {},
   "source": [
    "### 3.\tWrite a Python Program to Transpose a Matrix?"
   ]
  },
  {
   "cell_type": "code",
   "execution_count": 14,
   "id": "991c7d1f",
   "metadata": {},
   "outputs": [
    {
     "name": "stdout",
     "output_type": "stream",
     "text": [
      "[1, 4, 7]\n",
      "[2, 5, 8]\n",
      "[3, 6, 9]\n"
     ]
    }
   ],
   "source": [
    "A=[[1,2,3],\n",
    "  [4,5,6],\n",
    "  [7,8,9]]\n",
    "\n",
    "\n",
    "matrix_Transpose=[[0,0,0],\n",
    "           [0,0,0],\n",
    "           [0,0,0]]\n",
    "\n",
    "for i in range(len(A)):\n",
    "    for j in range(len(A[0])):\n",
    "        matrix_Transpose[i][j]=A[j][i] \n",
    "        \n",
    "for k in matrix_Transpose:\n",
    "    print(k)\n",
    "        \n"
   ]
  },
  {
   "cell_type": "markdown",
   "id": "5987d571",
   "metadata": {},
   "source": [
    "### 4.\tWrite a Python Program to Sort Words in Alphabetic Order?"
   ]
  },
  {
   "cell_type": "code",
   "execution_count": 23,
   "id": "27a207a0",
   "metadata": {},
   "outputs": [
    {
     "name": "stdout",
     "output_type": "stream",
     "text": [
      "is my name sahdev saini\n"
     ]
    }
   ],
   "source": [
    "s='My name is sahdev saini'\n",
    "a=s.split()\n",
    "for i in range(len(a)):\n",
    "    a[i]=a[i].lower()\n",
    "    \n",
    "b=sorted(a)\n",
    "print(' '.join(b))"
   ]
  },
  {
   "cell_type": "markdown",
   "id": "416af147",
   "metadata": {},
   "source": [
    "### 5.\tWrite a Python Program to Remove Punctuation From a String?"
   ]
  },
  {
   "cell_type": "code",
   "execution_count": 31,
   "id": "c7ca2a21",
   "metadata": {},
   "outputs": [
    {
     "name": "stdout",
     "output_type": "stream",
     "text": [
      "Original String :-  I'm a Sahdev saini, I'm a engineer!,< work @motherson>\n",
      "\n",
      "String without punctution :- Im a Sahdev saini Im a engineer work motherson\n"
     ]
    }
   ],
   "source": [
    "string=\"I'm a Sahdev saini, I'm a engineer!,< work @motherson>\"\n",
    "print(\"Original String :-  \" +string)\n",
    "punc = '''!()-[]{};:'\"\\,<>./?@#$%^&*_~'''\n",
    "for i in string:\n",
    "    if i in punc:\n",
    "        string=string.replace(i, \"\")\n",
    "\n",
    "print(\"\\nString without punctution :- \" + string)\n"
   ]
  },
  {
   "cell_type": "code",
   "execution_count": null,
   "id": "a6bd6be6",
   "metadata": {},
   "outputs": [],
   "source": []
  }
 ],
 "metadata": {
  "kernelspec": {
   "display_name": "Python 3",
   "language": "python",
   "name": "python3"
  },
  "language_info": {
   "codemirror_mode": {
    "name": "ipython",
    "version": 3
   },
   "file_extension": ".py",
   "mimetype": "text/x-python",
   "name": "python",
   "nbconvert_exporter": "python",
   "pygments_lexer": "ipython3",
   "version": "3.8.8"
  }
 },
 "nbformat": 4,
 "nbformat_minor": 5
}

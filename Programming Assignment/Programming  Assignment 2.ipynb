{
 "cells": [
  {
   "cell_type": "markdown",
   "id": "5407dee5",
   "metadata": {},
   "source": [
    "### 1.Write a Python program to convert kilometers to miles?\n",
    "\n",
    "\n",
    "\n",
    "\n"
   ]
  },
  {
   "cell_type": "code",
   "execution_count": 6,
   "id": "1c456eea",
   "metadata": {},
   "outputs": [
    {
     "name": "stdout",
     "output_type": "stream",
     "text": [
      "Enter the distance in kilometer : 100\n",
      "100.0 km is equal to = 62.137 miles\n"
     ]
    }
   ],
   "source": [
    "distance=float(input(\"Enter the distance in kilometer : \"))\n",
    "miles=round((distance*0.62137),5)\n",
    "print(f\"{distance} km is equal to = {miles} miles\")\n"
   ]
  },
  {
   "cell_type": "markdown",
   "id": "bcb2f3dd",
   "metadata": {},
   "source": [
    "### 2. Write a Python program to convert Celsius to Fahrenheit?"
   ]
  },
  {
   "cell_type": "code",
   "execution_count": 12,
   "id": "7b5f6705",
   "metadata": {},
   "outputs": [
    {
     "name": "stdout",
     "output_type": "stream",
     "text": [
      "Enter the temperature in celsius:- 273\n",
      "273.0 celsius is equal to = 523.4 Fahrenheit\n"
     ]
    }
   ],
   "source": [
    "temp=float(input(\"Enter the temperature in celsius:- \"))\n",
    "Fahrenheit= ((9*temp)/5)+32\n",
    "print(f\"{temp} celsius is equal to = {Fahrenheit} Fahrenheit\")"
   ]
  },
  {
   "cell_type": "markdown",
   "id": "38b86f15",
   "metadata": {},
   "source": [
    "### 3.Write a Python program to display calendar?\n"
   ]
  },
  {
   "cell_type": "code",
   "execution_count": 15,
   "id": "e4f6fcac",
   "metadata": {},
   "outputs": [
    {
     "name": "stdout",
     "output_type": "stream",
     "text": [
      "    October 2022\n",
      "Mo Tu We Th Fr Sa Su\n",
      "                1  2\n",
      " 3  4  5  6  7  8  9\n",
      "10 11 12 13 14 15 16\n",
      "17 18 19 20 21 22 23\n",
      "24 25 26 27 28 29 30\n",
      "31\n",
      "\n"
     ]
    }
   ],
   "source": [
    "import calendar \n",
    "yy=2022\n",
    "mm=10\n",
    "print(calendar.month(yy,mm))"
   ]
  },
  {
   "cell_type": "markdown",
   "id": "c1f241c5",
   "metadata": {},
   "source": [
    "### 4.Write a Python program to solve quadratic equation?"
   ]
  },
  {
   "cell_type": "code",
   "execution_count": 20,
   "id": "7d540187",
   "metadata": {},
   "outputs": [
    {
     "name": "stdout",
     "output_type": "stream",
     "text": [
      "Enter the Value of a: 1\n",
      "Enter the Value of b: 5\n",
      "Enter the value of c: 6\n",
      "Solution of 1x2 + 5x + c  are: -2.0 and -3.0\n"
     ]
    }
   ],
   "source": [
    "a=int(input(\"Enter the Value of a: \"))\n",
    "b=int(input(\"Enter the Value of b: \"))\n",
    "c=int(input(\"Enter the value of c: \"))\n",
    "Disc=((b*b) -(4*a*c))**0.5\n",
    "x=(-b+Disc)/2*a\n",
    "y=(-b-Disc)/2*a\n",
    "print(f\"Solution of {a}x2 + {b}x + c  are: {x} and {y}\")"
   ]
  },
  {
   "cell_type": "markdown",
   "id": "8f1544af",
   "metadata": {},
   "source": [
    "### 5.Write a Python program to swap two variables without temp variable?"
   ]
  },
  {
   "cell_type": "code",
   "execution_count": 21,
   "id": "3875e7ce",
   "metadata": {},
   "outputs": [
    {
     "name": "stdout",
     "output_type": "stream",
     "text": [
      "Enter the value of a : 41\n",
      "Enter the value of b : 20\n",
      "The value of a and b after swaping is : 20.0 and 41.0 \n"
     ]
    }
   ],
   "source": [
    "a=float(input(\"Enter the value of a : \"))\n",
    "b=float(input(\"Enter the value of b : \"))\n",
    "a=a+b\n",
    "b=a-b\n",
    "a=a-b\n",
    "print(f\"The value of a and b after swaping is : {a} and {b} \")"
   ]
  },
  {
   "cell_type": "code",
   "execution_count": null,
   "id": "c3757e38",
   "metadata": {},
   "outputs": [],
   "source": []
  }
 ],
 "metadata": {
  "kernelspec": {
   "display_name": "Python 3",
   "language": "python",
   "name": "python3"
  },
  "language_info": {
   "codemirror_mode": {
    "name": "ipython",
    "version": 3
   },
   "file_extension": ".py",
   "mimetype": "text/x-python",
   "name": "python",
   "nbconvert_exporter": "python",
   "pygments_lexer": "ipython3",
   "version": "3.8.8"
  }
 },
 "nbformat": 4,
 "nbformat_minor": 5
}

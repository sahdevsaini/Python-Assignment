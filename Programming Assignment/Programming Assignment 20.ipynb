{
 "cells": [
  {
   "cell_type": "markdown",
   "id": "5f8cc204-4388-49f4-b976-c8a7aaf0c748",
   "metadata": {},
   "source": [
    "## -------------------------------------- Programming Assignment 20 -----------------------------------"
   ]
  },
  {
   "cell_type": "markdown",
   "id": "91cd3c27-fe7b-4ba0-b132-979c320504f8",
   "metadata": {},
   "source": [
    "## Question1 Create a function that takes a list of strings and integers, and filters out the list so that it returns a list of integers only.\n",
    "Examples<br>\n",
    "filter_list([1, 2, 3, \"a\", \"b\", 4]) ➞ [1, 2, 3, 4]\n",
    "\n",
    "filter_list([\"A\", 0, \"Edabit\", 1729, \"Python\", \"1729\"]) ➞ [0, 1729]\n",
    "\n",
    "filter_list([\"Nothing\", \"here\"]) ➞ []"
   ]
  },
  {
   "cell_type": "code",
   "execution_count": 10,
   "id": "cfb7c164-b8b8-47c6-a460-65eb72e00a92",
   "metadata": {},
   "outputs": [
    {
     "name": "stdout",
     "output_type": "stream",
     "text": [
      "filter_list([1, 2, 3, \"a\", \"b\", 4]) ➞ [1, 2, 3, 4]\n",
      "filter_list([\"A\", 0, \"Edabit\", 1729, \"Python\", \"1729\"]) ➞ [0, 1729]\n",
      "filter_list([\"Nothing\", \"here\"]) ➞ []\n"
     ]
    }
   ],
   "source": [
    "def filter_list(l):\n",
    "    l_out= []\n",
    "    for i in l:\n",
    "        if type(i) != str:\n",
    "            l_out.append(i)\n",
    "    return l_out \n",
    "\n",
    "print(f'filter_list([1, 2, 3, \"a\", \"b\", 4]) ➞ {filter_list([1, 2, 3, \"a\", \"b\", 4])}')\n",
    "print(f'filter_list([\"A\", 0, \"Edabit\", 1729, \"Python\", \"1729\"]) ➞ {filter_list([\"A\", 0, \"Edabit\", 1729, \"Python\", \"1729\"])}')\n",
    "print(f'filter_list([\"Nothing\", \"here\"]) ➞ {filter_list([\"Nothing\", \"here\"])}')"
   ]
  },
  {
   "cell_type": "markdown",
   "id": "9d1f9569-9c12-45f9-8487-a8a26d1e9e77",
   "metadata": {},
   "source": [
    "## Question2 Given a list of numbers, create a function which returns the list but with each element's index in the list added to itself. This means you add 0 to the number at index 0, add 1 to the number at index 1, etc...\n",
    "Examples<br>\n",
    "add_indexes([0, 0, 0, 0, 0]) ➞ [0, 1, 2, 3, 4]\n",
    "\n",
    "add_indexes([1, 2, 3, 4, 5]) ➞ [1, 3, 5, 7, 9]\n",
    "\n",
    "add_indexes([5, 4, 3, 2, 1]) ➞ [5, 5, 5, 5, 5]"
   ]
  },
  {
   "cell_type": "code",
   "execution_count": 11,
   "id": "5b2664ef-1ddd-4c82-8ac0-cb16c67cb1d7",
   "metadata": {},
   "outputs": [
    {
     "name": "stdout",
     "output_type": "stream",
     "text": [
      "[0, 1, 2, 3, 4]\n",
      "[1, 3, 5, 7, 9]\n",
      "[5, 5, 5, 5, 5]\n"
     ]
    }
   ],
   "source": [
    "def add_indexes(l):\n",
    "    l_out = []\n",
    "    for i in range(len(l)):\n",
    "        l_out.append(i + l[i])\n",
    "    return l_out\n",
    "\n",
    "print(add_indexes([0, 0, 0, 0, 0]))\n",
    "print(add_indexes([1, 2, 3, 4, 5]))\n",
    "print(add_indexes([5, 4, 3, 2, 1]))"
   ]
  },
  {
   "cell_type": "markdown",
   "id": "fcf96500-ba6a-465e-bc7b-b6c4f63221ad",
   "metadata": {},
   "source": [
    "## Question3 Create a function that takes the height and radius of a cone as arguments and returns the volume of the cone rounded to the nearest hundredth. See the resources tab for the formula.\n",
    " \n",
    "Examples<br>\n",
    "cone_volume(3, 2) ➞ 12.57\n",
    "\n",
    "cone_volume(15, 6) ➞ 565.49\n",
    "\n",
    "cone_volume(18, 0) ➞ 0"
   ]
  },
  {
   "cell_type": "code",
   "execution_count": 22,
   "id": "adc52edc-a7ff-4af1-8a44-22f512c8c76e",
   "metadata": {},
   "outputs": [
    {
     "name": "stdout",
     "output_type": "stream",
     "text": [
      "cone_volume(3, 2) ➞ 12.57\n",
      "cone_volume(3, 2) ➞ 565.49\n",
      "cone_volume(3, 2) ➞ 0.00\n"
     ]
    }
   ],
   "source": [
    "import math as m\n",
    "def cone_volume(h,r):\n",
    "    vol = ((m.pi)*r*r*h)/3\n",
    "    print(f'cone_volume(3, 2) ➞ {vol:.2f}')\n",
    "    \n",
    "    \n",
    "cone_volume(3,2)\n",
    "cone_volume(15, 6)\n",
    "cone_volume(18, 0)"
   ]
  },
  {
   "cell_type": "markdown",
   "id": "c7cb4586-dab5-4bd3-adde-52c4a6b290e6",
   "metadata": {},
   "source": [
    "## Question4 This Triangular Number Sequence is generated from a pattern of dots that form a triangle. The first 5 numbers of the sequence, or dots, are: <br>\n",
    "1, 3, 6, 10, 15 <br>\n",
    "This means that the first triangle has just one dot, the second one has three dots, the third one has 6 dots and so on.<br>\n",
    "Write a function that gives the number of dots with its corresponding triangle number of the sequence.<br>\n",
    "Examples<br>\n",
    "triangle(1) ➞ 1\n",
    "\n",
    "triangle(6) ➞ 21\n",
    "\n",
    "triangle(215) ➞ 23220"
   ]
  },
  {
   "cell_type": "code",
   "execution_count": 27,
   "id": "af77e23b-fbc9-4eeb-b3c1-23317a7d229e",
   "metadata": {},
   "outputs": [
    {
     "name": "stdout",
     "output_type": "stream",
     "text": [
      "triangle(1) ➞ 1\n",
      "triangle(1) ➞ 21\n",
      "triangle(1) ➞ 23220\n"
     ]
    }
   ],
   "source": [
    "def triangle(num):\n",
    "    print(f'triangle(1) ➞ {int(num*(num+1)/2)}')\n",
    "    \n",
    "triangle(1)\n",
    "triangle(6)\n",
    "triangle(215)"
   ]
  },
  {
   "cell_type": "markdown",
   "id": "8265d2af-6b85-42ea-b149-b2e2dd85d0a5",
   "metadata": {},
   "source": [
    "## Question5 Create a function that takes a list of numbers between 1 and 10 (excluding one number) and returns the missing number.\n",
    "Examples <br>\n",
    "missing_num([1, 2, 3, 4, 6, 7, 8, 9, 10]) ➞ 5\n",
    "\n",
    "missing_num([7, 2, 3, 6, 5, 9, 1, 4, 8]) ➞ 10\n",
    "\n",
    "missing_num([10, 5, 1, 2, 4, 6, 8, 3, 9]) ➞ 7\n",
    "\n"
   ]
  },
  {
   "cell_type": "code",
   "execution_count": 31,
   "id": "64aad116-b855-48bc-b954-fe40a402c8de",
   "metadata": {},
   "outputs": [
    {
     "name": "stdout",
     "output_type": "stream",
     "text": [
      "missing_num([1, 2, 3, 4, 6, 7, 8, 9, 10])➞ 5\n",
      "missing_num([1, 2, 3, 4, 6, 7, 8, 9, 10])➞ 10\n",
      "missing_num([1, 2, 3, 4, 6, 7, 8, 9, 10])➞ 7\n"
     ]
    }
   ],
   "source": [
    "def missing_num(l):\n",
    "    for i in range(1,11):\n",
    "        if i not in l:\n",
    "            print(f'missing_num([1, 2, 3, 4, 6, 7, 8, 9, 10])➞ {i}')\n",
    "            \n",
    "missing_num([1, 2, 3, 4, 6, 7, 8, 9, 10])\n",
    "missing_num([7, 2, 3, 6, 5, 9, 1, 4, 8])\n",
    "missing_num([10, 5, 1, 2, 4, 6, 8, 3, 9])"
   ]
  },
  {
   "cell_type": "code",
   "execution_count": null,
   "id": "2391904f-7441-4a9f-bb75-969bd1bd2749",
   "metadata": {},
   "outputs": [],
   "source": []
  }
 ],
 "metadata": {
  "kernelspec": {
   "display_name": "Python 3 (ipykernel)",
   "language": "python",
   "name": "python3"
  },
  "language_info": {
   "codemirror_mode": {
    "name": "ipython",
    "version": 3
   },
   "file_extension": ".py",
   "mimetype": "text/x-python",
   "name": "python",
   "nbconvert_exporter": "python",
   "pygments_lexer": "ipython3",
   "version": "3.10.6"
  }
 },
 "nbformat": 4,
 "nbformat_minor": 5
}

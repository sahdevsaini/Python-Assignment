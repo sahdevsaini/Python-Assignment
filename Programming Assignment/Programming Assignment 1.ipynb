{
 "cells": [
  {
   "cell_type": "markdown",
   "id": "2d96aeaa",
   "metadata": {},
   "source": [
    "### 1.Write a Python program to print \"Hello Python\"?"
   ]
  },
  {
   "cell_type": "code",
   "execution_count": 2,
   "id": "63f8a60a",
   "metadata": {},
   "outputs": [
    {
     "name": "stdout",
     "output_type": "stream",
     "text": [
      "Hello Python\n"
     ]
    }
   ],
   "source": [
    "print(\"Hello Python\")"
   ]
  },
  {
   "cell_type": "markdown",
   "id": "8c08202f",
   "metadata": {},
   "source": [
    "### 2.Write a Python program to do arithmetical operations addition and division.?"
   ]
  },
  {
   "cell_type": "code",
   "execution_count": 4,
   "id": "c7fa39b2",
   "metadata": {},
   "outputs": [
    {
     "name": "stdout",
     "output_type": "stream",
     "text": [
      "Enter the first number: 25\n",
      "Enter the Second number: 5\n",
      "The addition of 25.0 and 5.0 is 30.0\n",
      "The Division  of 25.0 and 5.0 is 5.0\n"
     ]
    }
   ],
   "source": [
    "num1=float(input(\"Enter the first number: \"))\n",
    "num2=float(input(\"Enter the Second number: \"))\n",
    "addition=num1+num2\n",
    "division=num1/num2\n",
    "print(f\"The addition of {num1} and {num2} is {addition}\")\n",
    "print(f\"The Division  of {num1} and {num2} is {division}\")"
   ]
  },
  {
   "cell_type": "markdown",
   "id": "a423e837",
   "metadata": {},
   "source": [
    "### 3.\tWrite a Python program to find the area of a triangle?"
   ]
  },
  {
   "cell_type": "code",
   "execution_count": 8,
   "id": "e8b43272",
   "metadata": {},
   "outputs": [
    {
     "name": "stdout",
     "output_type": "stream",
     "text": [
      "Enter the radius of circle: 7\n",
      "The area of circle of radius 7.0 is 153.86\n"
     ]
    }
   ],
   "source": [
    "radius=float(input(\"Enter the radius of circle: \"))\n",
    "Area=3.14*((radius)**2)\n",
    "print(f\"The area of circle of radius {radius} is {Area}\")"
   ]
  },
  {
   "cell_type": "markdown",
   "id": "72a4f2a2",
   "metadata": {},
   "source": [
    "### 4.\tWrite a Python program to swap two variables?"
   ]
  },
  {
   "cell_type": "code",
   "execution_count": 10,
   "id": "02a476fd",
   "metadata": {},
   "outputs": [
    {
     "name": "stdout",
     "output_type": "stream",
     "text": [
      "8\n",
      "7\n",
      "value of a and b  after swapping is 7.0 & 8.0\n"
     ]
    }
   ],
   "source": [
    "a=float(input())\n",
    "b=float(input())\n",
    "a=a+b\n",
    "b=a-b\n",
    "a=a-b\n",
    "print(f\"value of a and b  after swapping is {a} & {b}\")\n",
    "\n"
   ]
  },
  {
   "cell_type": "markdown",
   "id": "75b45bef",
   "metadata": {},
   "source": [
    "### 5.\tWrite a Python program to generate a random number?\n"
   ]
  },
  {
   "cell_type": "code",
   "execution_count": 13,
   "id": "e46d9cd2",
   "metadata": {},
   "outputs": [
    {
     "name": "stdout",
     "output_type": "stream",
     "text": [
      "9\n"
     ]
    }
   ],
   "source": [
    "import random\n",
    "num=random.randint(0,9)\n",
    "print(num)"
   ]
  },
  {
   "cell_type": "code",
   "execution_count": null,
   "id": "315923b9",
   "metadata": {},
   "outputs": [],
   "source": []
  }
 ],
 "metadata": {
  "kernelspec": {
   "display_name": "Python 3",
   "language": "python",
   "name": "python3"
  },
  "language_info": {
   "codemirror_mode": {
    "name": "ipython",
    "version": 3
   },
   "file_extension": ".py",
   "mimetype": "text/x-python",
   "name": "python",
   "nbconvert_exporter": "python",
   "pygments_lexer": "ipython3",
   "version": "3.8.8"
  }
 },
 "nbformat": 4,
 "nbformat_minor": 5
}

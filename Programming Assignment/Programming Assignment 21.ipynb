{
 "cells": [
  {
   "cell_type": "markdown",
   "id": "cf9e5715-f7a5-40a4-8ea2-bf041f6c6974",
   "metadata": {},
   "source": [
    "## -------------------------------------- Programming Assignment 21 -------------------------"
   ]
  },
  {
   "cell_type": "markdown",
   "id": "2e4601c9-0f0d-4b80-981b-4840c45cd769",
   "metadata": {},
   "source": [
    "## Question1 Write a function that takes a list and a number as arguments. Add the number to the end of the list, then remove the first element of the list. The function should then return the updated list. <br>\n",
    "Examples<br>\n",
    "next_in_line([5, 6, 7, 8, 9], 1) ➞ [6, 7, 8, 9, 1]<br>\n",
    "<br>\n",
    "next_in_line([7, 6, 3, 23, 17], 10) ➞ [6, 3, 23, 17, 10]<br>\n",
    "<br>\n",
    "next_in_line([1, 10, 20, 42 ], 6) ➞ [10, 20, 42, 6]<br>\n",
    "<br>\n",
    "next_in_line([], 6) ➞ \"No list has been selected\""
   ]
  },
  {
   "cell_type": "code",
   "execution_count": 19,
   "id": "5456ae7e-ba3b-48a9-a5c0-f09c7ede765e",
   "metadata": {},
   "outputs": [
    {
     "name": "stdout",
     "output_type": "stream",
     "text": [
      "next_in_line([5, 6, 7, 8, 9], 1) ➞ [6, 7, 8, 9, 1]\n"
     ]
    }
   ],
   "source": [
    "def next_in_line(l,n):\n",
    "    l1= l\n",
    "    l1.append(n)\n",
    "    l1.pop(0)\n",
    "    print(f'next_in_line([5, 6, 7, 8, 9], 1) ➞ {l1}')\n",
    "    \n",
    "\n",
    "\n",
    "next_in_line([5, 6, 7, 8, 9], 1)    "
   ]
  },
  {
   "cell_type": "markdown",
   "id": "447d3825-8279-4aed-b258-e26b3bf669d3",
   "metadata": {},
   "source": [
    "## Question2 Create the function that takes a list of dictionaries and returns the sum of people's budgets. <br>\n",
    "Examples <br>\n",
    "get_budgets([ <br>\n",
    "  { \"name\": \"John\", \"age\": 21, \"budget\": 23000 }, <br>\n",
    "  { \"name\": \"Steve\",  \"age\": 32, \"budget\": 40000 },<br>\n",
    "  { \"name\": \"Martin\",  \"age\": 16, \"budget\": 2700 } <br>\n",
    "]) ➞ 65700<br>\n",
    "<br>\n",
    "get_budgets([<br>\n",
    "  { \"name\": \"John\",  \"age\": 21, \"budget\": 29000 },<br>\n",
    "  { \"name\": \"Steve\",  \"age\": 32, \"budget\": 32000 },<br>\n",
    "  { \"name\": \"Martin\",  \"age\": 16, \"budget\": 1600 }<br>\n",
    "]) ➞ 62600"
   ]
  },
  {
   "cell_type": "code",
   "execution_count": 9,
   "id": "6f27bef2-7c18-4d8a-b0e1-324727a8c53c",
   "metadata": {},
   "outputs": [
    {
     "name": "stdout",
     "output_type": "stream",
     "text": [
      " output -> 65700\n",
      " output -> 62600\n"
     ]
    }
   ],
   "source": [
    "def get_budgets(d):\n",
    "    sum = 0\n",
    "    for i in d:\n",
    "        sum = sum + i['budget']\n",
    "    print(f' output -> {sum}')        \n",
    "\n",
    "        \n",
    "get_budgets([\n",
    "  { \"name\": \"John\", \"age\": 21, \"budget\": 23000 },\n",
    "  { \"name\": \"Steve\",  \"age\": 32, \"budget\": 40000 },\n",
    "  { \"name\": \"Martin\",  \"age\": 16, \"budget\": 2700 }]) \n",
    "\n",
    "get_budgets([\n",
    "  { \"name\": \"John\",  \"age\": 21, \"budget\": 29000 },\n",
    "  { \"name\": \"Steve\",  \"age\": 32, \"budget\": 32000 },\n",
    "  { \"name\": \"Martin\",  \"age\": 16, \"budget\": 1600 }\n",
    "])"
   ]
  },
  {
   "cell_type": "markdown",
   "id": "f5980fa4-863d-4356-8df0-6b42672cad0f",
   "metadata": {},
   "source": [
    "## Question3 Create a function that takes a string and returns a string with its letters in alphabetical order.<br>\n",
    "Examples<br>\n",
    "alphabet_soup(\"hello\") ➞ \"ehllo\"<br>\n",
    "<br>\n",
    "alphabet_soup(\"edabit\") ➞ \"abdeit\"<br>\n",
    "<br>\n",
    "alphabet_soup(\"hacker\") ➞ \"acehkr\"<br>\n",
    "<br>\n",
    "alphabet_soup(\"geek\") ➞ \"eegk\" <br>\n",
    "<br> \n",
    "alphabet_soup(\"javascript\") ➞ \"aacijprstv\""
   ]
  },
  {
   "cell_type": "code",
   "execution_count": 37,
   "id": "caa6a6bb-d3ec-4e2f-ac74-15f77cacd88f",
   "metadata": {},
   "outputs": [
    {
     "name": "stdout",
     "output_type": "stream",
     "text": [
      "alphabet_soup(\"hello\") ➞ \"ehllo\"\n",
      "alphabet_soup(\"hello\") ➞ \"abdeit\"\n",
      "alphabet_soup(\"hello\") ➞ \"acehkr\"\n",
      "alphabet_soup(\"hello\") ➞ \"eegk\"\n",
      "alphabet_soup(\"hello\") ➞ \"aacijprstv\"\n"
     ]
    }
   ],
   "source": [
    "def alphabet_soup(st):\n",
    "    s = tuple(st)\n",
    "    s1 = sorted(s)\n",
    "    str1 = ''.join(s1)\n",
    "    print(f'alphabet_soup(\"hello\") ➞ \"{str1}\"')\n",
    "    \n",
    "alphabet_soup(\"hello\")\n",
    "alphabet_soup(\"edabit\") \n",
    "alphabet_soup(\"hacker\")\n",
    "alphabet_soup(\"geek\")\n",
    "alphabet_soup(\"javascript\")"
   ]
  },
  {
   "cell_type": "markdown",
   "id": "d6bb617a-2793-48be-bffa-d6d4542c33c9",
   "metadata": {},
   "source": [
    "## Question4 Suppose that you invest $10,000 for 10 years at an interest rate of 6% compounded monthly. What will be the value of your investment at the end of the 10 year period?<br>Create a function that accepts the principal p, the term in years t, the interest rate r, and the number of compounding periods per year n. The function returns the value at the end of term rounded to the nearest cent.\n",
    "For the example above:<br>\n",
    "compound_interest(10000, 10, 0.06, 12) ➞ 18193.97<br>\n",
    "Note that the interest rate is given as a decimal and n=12 because with monthly compounding there are 12 periods per year. Compounding can also be done annually, quarterly, weekly, or daily.<br>\n",
    "Examples <br>\n",
    "compound_interest(100, 1, 0.05, 1) ➞ 105.0<br>\n",
    "<br>\n",
    "compound_interest(3500, 15, 0.1, 4) ➞ 15399.26 <br>\n",
    "<br>\n",
    "compound_interest(100000, 20, 0.15, 365) ➞ 2007316.26"
   ]
  },
  {
   "cell_type": "code",
   "execution_count": 46,
   "id": "6604bc00-75c2-460c-8199-94ce6e94fc7a",
   "metadata": {},
   "outputs": [
    {
     "name": "stdout",
     "output_type": "stream",
     "text": [
      "compound_interest(100, 1, 0.05, 1) ➞ 105.00\n",
      "compound_interest(100, 1, 0.05, 1) ➞ 15399.26\n",
      "compound_interest(100, 1, 0.05, 1) ➞ 2007316.26\n"
     ]
    }
   ],
   "source": [
    "\n",
    "def compound_interest(p,y,r,n):\n",
    "    cp = p*((1+r/n)**(y*n))\n",
    "    print(f'compound_interest(100, 1, 0.05, 1) ➞ {cp:.2f}')\n",
    "    \n",
    "\n",
    "compound_interest(100, 1, 0.05,1) \n",
    "compound_interest(3500, 15, 0.1, 4)\n",
    "compound_interest(100000, 20, 0.15, 365)"
   ]
  },
  {
   "cell_type": "markdown",
   "id": "03ce7a56-453c-4ac4-af8c-836efd4ddcee",
   "metadata": {},
   "source": [
    "## Question5 Write a function that takes a list of elements and returns only the integers.<br>\n",
    "Examples<br>\n",
    "return_only_integer([9, 2, \"space\", \"car\", \"lion\", 16]) ➞ [9, 2, 16]<br>\n",
    "<br>\n",
    "return_only_integer([\"hello\", 81, \"basketball\", 123, \"fox\"]) ➞ [81, 123]<br>\n",
    "<br>\n",
    "return_only_integer([10, \"121\", 56, 20, \"car\", 3, \"lion\"]) ➞ [10, 56, 20, 3]<br>\n",
    "<br>\n",
    "return_only_integer([\"String\",  True,  3.3,  1]) ➞ [1]\n"
   ]
  },
  {
   "cell_type": "code",
   "execution_count": 52,
   "id": "5c200412-ca9a-4f24-bf1c-07a088beb942",
   "metadata": {},
   "outputs": [
    {
     "name": "stdout",
     "output_type": "stream",
     "text": [
      "return_only_integer([9, 2, \"space\", \"car\", \"lion\", 16]) ➞ [9, 2, 16]\n",
      "return_only_integer([9, 2, \"space\", \"car\", \"lion\", 16]) ➞ [81, 123]\n",
      "return_only_integer([9, 2, \"space\", \"car\", \"lion\", 16]) ➞ [10, 56, 20, 3]\n",
      "return_only_integer([9, 2, \"space\", \"car\", \"lion\", 16]) ➞ [1]\n"
     ]
    }
   ],
   "source": [
    "def return_only_integer(l):\n",
    "    l1 = []\n",
    "    for i in l:\n",
    "        if type(i) == int:\n",
    "            l1.append(i)\n",
    "    print(f'return_only_integer([9, 2, \"space\", \"car\", \"lion\", 16]) ➞ {l1}')\n",
    "    \n",
    "    \n",
    "return_only_integer([9, 2, \"space\", \"car\", \"lion\", 16])\n",
    "return_only_integer([\"hello\", 81, \"basketball\", 123, \"fox\"])\n",
    "return_only_integer([10, \"121\", 56, 20, \"car\", 3, \"lion\"])\n",
    "return_only_integer([\"String\",  True,  3.3,  1])"
   ]
  }
 ],
 "metadata": {
  "kernelspec": {
   "display_name": "Python 3 (ipykernel)",
   "language": "python",
   "name": "python3"
  },
  "language_info": {
   "codemirror_mode": {
    "name": "ipython",
    "version": 3
   },
   "file_extension": ".py",
   "mimetype": "text/x-python",
   "name": "python",
   "nbconvert_exporter": "python",
   "pygments_lexer": "ipython3",
   "version": "3.10.6"
  }
 },
 "nbformat": 4,
 "nbformat_minor": 5
}

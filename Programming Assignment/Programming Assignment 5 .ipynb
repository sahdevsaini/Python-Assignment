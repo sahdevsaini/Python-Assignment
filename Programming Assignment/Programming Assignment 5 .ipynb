{
 "cells": [
  {
   "cell_type": "markdown",
   "id": "eb4f9b05",
   "metadata": {},
   "source": [
    "### 1.\tWrite a Python Program to Find LCM?"
   ]
  },
  {
   "cell_type": "code",
   "execution_count": 2,
   "id": "3ae515ba",
   "metadata": {},
   "outputs": [
    {
     "name": "stdout",
     "output_type": "stream",
     "text": [
      "Enter the first number: 12\n",
      "Enter the second number: 26\n",
      "The L.C.M. is 156\n"
     ]
    }
   ],
   "source": [
    "def compute_lcm(x, y):\n",
    "    if x > y:\n",
    "        greater = x\n",
    "    else:\n",
    "        greater = y\n",
    "\n",
    "    while(True):\n",
    "        if((greater % x == 0) and (greater % y == 0)):\n",
    "            lcm = greater\n",
    "            break\n",
    "        greater += 1\n",
    "\n",
    "    return lcm\n",
    "\n",
    "num1 = int(input(\"Enter the first number: \"))\n",
    "num2 = int(input(\"Enter the second number: \"))\n",
    "print(\"The L.C.M. is\", compute_lcm(num1, num2))"
   ]
  },
  {
   "cell_type": "markdown",
   "id": "c11585a4",
   "metadata": {},
   "source": [
    "### 2.\tWrite a Python Program to Find HCF?"
   ]
  },
  {
   "cell_type": "code",
   "execution_count": 3,
   "id": "0ea29743",
   "metadata": {},
   "outputs": [
    {
     "name": "stdout",
     "output_type": "stream",
     "text": [
      "Enter the first number: 8\n",
      "Enter the second number: 18\n",
      "The H.C.F of 8 and 18 is 2\n"
     ]
    }
   ],
   "source": [
    "def compute_HCF(a, b):\n",
    "    divisor=min(a,b)\n",
    "    while divisor:\n",
    "        if a % divisor == 0 and b % divisor == 0:\n",
    "            break\n",
    "        divisor -= 1\n",
    "    return divisor\n",
    "    \n",
    "\n",
    "num1 = int(input(\"Enter the first number: \"))\n",
    "num2 = int(input(\"Enter the second number: \"))\n",
    "print(f\"The H.C.F of {num1} and {num2} is\", compute_HCF(num1, num2))"
   ]
  },
  {
   "cell_type": "markdown",
   "id": "86e5a9fc",
   "metadata": {},
   "source": [
    "### 3.\tWrite a Python Program to Convert Decimal to Binary, Octal and Hexadecimal?"
   ]
  },
  {
   "cell_type": "code",
   "execution_count": 4,
   "id": "4c940e60",
   "metadata": {},
   "outputs": [
    {
     "name": "stdout",
     "output_type": "stream",
     "text": [
      "Enter the number in Decimal: 7\n",
      "The Binary of 7 is:  0b111\n",
      "The Octal of 7 is:  0o7\n",
      "The Hexadecimal of 7 is:  0x7\n"
     ]
    }
   ],
   "source": [
    "num=int(input(\"Enter the number in Decimal: \"))\n",
    "binary=bin(num)\n",
    "Octal= oct(num)\n",
    "Hexadecimal= hex(num)\n",
    "print(f\"The Binary of {num} is: \",binary)\n",
    "print(f\"The Octal of {num} is: \",Octal)\n",
    "print(f\"The Hexadecimal of {num} is: \",Hexadecimal)"
   ]
  },
  {
   "cell_type": "markdown",
   "id": "cb37e11e",
   "metadata": {},
   "source": [
    "### 4.\tWrite a Python Program To Find ASCII value of a character?"
   ]
  },
  {
   "cell_type": "code",
   "execution_count": 5,
   "id": "9493b69b",
   "metadata": {},
   "outputs": [
    {
     "name": "stdout",
     "output_type": "stream",
     "text": [
      "Enter the character : c\n",
      "The ASCII Value of c is :  99\n"
     ]
    }
   ],
   "source": [
    "character=str(input(\"Enter the character : \"))\n",
    "ASCII_Value=ord(character)\n",
    "print(f\"The ASCII Value of {character} is : \",ASCII_Value)"
   ]
  },
  {
   "cell_type": "markdown",
   "id": "347b2b23",
   "metadata": {},
   "source": [
    "### 5.\tWrite a Python Program to Make a Simple Calculator with 4 basic mathematical "
   ]
  },
  {
   "cell_type": "code",
   "execution_count": null,
   "id": "f4a8341d",
   "metadata": {},
   "outputs": [
    {
     "name": "stdout",
     "output_type": "stream",
     "text": [
      "Select operation.\n",
      "1.Add\n",
      "2.Subtract\n",
      "3.Multiply\n",
      "4.Divide\n",
      "Enter choice(1/2/3/4): 1\n",
      "Enter first number: 12\n",
      "Enter second number: 41\n",
      "Sum of 12.0 and 41.0 is :  53.0\n"
     ]
    }
   ],
   "source": [
    "def add(x, y):\n",
    "    return x + y\n",
    "\n",
    "\n",
    "def subtract(x, y):\n",
    "    return x - y\n",
    "\n",
    "def multiply(x, y):\n",
    "    return x * y\n",
    "\n",
    "\n",
    "def divide(x, y):\n",
    "    return x / y\n",
    "\n",
    "\n",
    "print(\"Select operation.\")\n",
    "print(\"1.Add\")\n",
    "print(\"2.Subtract\")\n",
    "print(\"3.Multiply\")\n",
    "print(\"4.Divide\")\n",
    "\n",
    "while True:\n",
    "    # take input from the user\n",
    "    choice = input(\"Enter choice(1/2/3/4): \")\n",
    "\n",
    "    # check if choice is one of the four options\n",
    "    if choice in ('1', '2', '3', '4'):\n",
    "        num1 = float(input(\"Enter first number: \"))\n",
    "        num2 = float(input(\"Enter second number: \"))\n",
    "\n",
    "        if choice == '1':\n",
    "            print(f\"Sum of {num1} and {num2} is : \",add(num1, num2))\n",
    "\n",
    "        elif choice == '2':\n",
    "            print(f\"Substraction  of {num1} and {num2} is : \", subtract(num1, num2))\n",
    "\n",
    "        elif choice == '3':\n",
    "            print(f\"Multiplication  of {num1} and {num2} is : \", multiply(num1, num2))\n",
    "\n",
    "        elif choice == '4':\n",
    "            print(f\"Division  of {num1} and {num2} is : \", divide(num1, num2))\n",
    "            \n",
    "        next_calculation = input(\"Let's do next calculation? (yes/no): \")\n",
    "        if next_calculation == \"no\":\n",
    "            break\n",
    "    \n",
    "    else:\n",
    "        print(\"Invalid Input\")"
   ]
  },
  {
   "cell_type": "code",
   "execution_count": null,
   "id": "8c230457",
   "metadata": {},
   "outputs": [],
   "source": [
    " "
   ]
  }
 ],
 "metadata": {
  "kernelspec": {
   "display_name": "Python 3",
   "language": "python",
   "name": "python3"
  },
  "language_info": {
   "codemirror_mode": {
    "name": "ipython",
    "version": 3
   },
   "file_extension": ".py",
   "mimetype": "text/x-python",
   "name": "python",
   "nbconvert_exporter": "python",
   "pygments_lexer": "ipython3",
   "version": "3.8.8"
  }
 },
 "nbformat": 4,
 "nbformat_minor": 5
}

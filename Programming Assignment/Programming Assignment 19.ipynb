{
 "cells": [
  {
   "cell_type": "markdown",
   "id": "5d11b112-aa2b-43cc-9239-1e0bf1f82a7e",
   "metadata": {},
   "source": [
    "## ------------------------------- Programming Assignment- 19 --------------------------------------"
   ]
  },
  {
   "cell_type": "code",
   "execution_count": null,
   "id": "841d4c93-8dea-4cf1-a59b-db6563dc5ad7",
   "metadata": {},
   "outputs": [],
   "source": [
    "Question1\n",
    "Create a function that takes a string and returns a string in which each character is repeated once.\n",
    "Examples\n",
    "double_char(\"String\") ➞ \"SSttrriinngg\"\n",
    "\n",
    "double_char(\"Hello World!\") ➞ \"HHeelllloo  WWoorrlldd!!\"\n",
    "\n",
    "double_char(\"1234!_ \") ➞ \"11223344!!__  \""
   ]
  },
  {
   "cell_type": "code",
   "execution_count": 10,
   "id": "9b9c2c7b-7f25-414c-ba98-a6cd641c1f0f",
   "metadata": {},
   "outputs": [
    {
     "name": "stdout",
     "output_type": "stream",
     "text": [
      "double_char(\"String\") ➞ \"SSttrriinngg\"\n",
      "double_char(\"Hello World!\") ➞ \"HHeelllloo  WWoorrlldd!!\"\n",
      "double_char(\"1234!_ \") ➞ \"11223344!!__  \"\n"
     ]
    }
   ],
   "source": [
    "def double_char(st): \n",
    "    st_out = ''\n",
    "    for i in st:\n",
    "        st_out= st_out+i*2\n",
    "    return st_out\n",
    "\n",
    "print(f'double_char(\"String\") ➞ \"{double_char(\"String\")}\"')\n",
    "print(f'double_char(\"Hello World!\") ➞ \"{double_char(\"Hello World!\")}\"')\n",
    "print(f'double_char(\"1234!_ \") ➞ \"{double_char(\"1234!_ \")}\"')"
   ]
  },
  {
   "cell_type": "markdown",
   "id": "16fbdaaf-69d1-432a-9459-33712b6be185",
   "metadata": {},
   "source": [
    "Question2\n",
    "Create a function that reverses a boolean value and returns the string \"boolean expected\" if another variable type is given.\n",
    "Examples\n",
    "reverse(True) ➞ False\n",
    "\n",
    "reverse(False) ➞ True\n",
    "\n",
    "reverse(0) ➞ \"boolean expected\"\n",
    "\n",
    "reverse(None) ➞ \"boolean expected\""
   ]
  },
  {
   "cell_type": "code",
   "execution_count": 14,
   "id": "2668b01e-8512-45b9-9790-5dfcf7e89b11",
   "metadata": {},
   "outputs": [
    {
     "name": "stdout",
     "output_type": "stream",
     "text": [
      "reverse(True) ➞ False\n",
      "reverse(False) ➞ True\n",
      "reverse(0) ➞ \"boolean Expected\"\n",
      "reverse(None) ➞ \"boolean Expected\"\n"
     ]
    }
   ],
   "source": [
    "def reverse(b):\n",
    "    if type(b)== bool:\n",
    "        if b == True:\n",
    "            return False\n",
    "        if b == False:\n",
    "            return True\n",
    "    else:\n",
    "        return 'boolean Expected'\n",
    "\n",
    "    \n",
    "print(f'reverse(True) ➞ {reverse(True)}')\n",
    "print(f'reverse(False) ➞ {reverse(False)}')  \n",
    "print(f'reverse(0) ➞ \"{reverse(0)}\"')  \n",
    "print(f'reverse(None) ➞ \"{reverse(None)}\"') "
   ]
  },
  {
   "cell_type": "code",
   "execution_count": null,
   "id": "2ef6a387-cfe6-4599-8484-aadf13cda2af",
   "metadata": {},
   "outputs": [],
   "source": [
    "Question3\n",
    "Create a function that returns the thickness (in meters) of a piece of paper after folding it n number of times. The paper starts off with a thickness of 0.5mm.\n",
    "Examples\n",
    "num_layers(1) ➞ \"0.001m\"\n",
    "# Paper folded once is 1mm (equal to 0.001m)\n",
    "\n",
    "num_layers(4) ➞ \"0.008m\"\n",
    "# Paper folded 4 times is 8mm (equal to 0.008m)\n",
    "\n",
    "num_layers(21) ➞ \"1048.576m\"\n",
    "# Paper folded 21 times is 1048576mm (equal to 1048.576m)"
   ]
  },
  {
   "cell_type": "code",
   "execution_count": 20,
   "id": "4e097ec3-b5f3-43dd-a78d-2c2cc5c2a13a",
   "metadata": {},
   "outputs": [
    {
     "name": "stdout",
     "output_type": "stream",
     "text": [
      "num_layers(1) ➞ \"0.001m\"\n",
      "num_layers(4) ➞ \"0.008m\"\n",
      "num_layers(21) ➞ \"1048.576m\"\n"
     ]
    }
   ],
   "source": [
    "def num_layers(n):\n",
    "    int_num = 0.5\n",
    "    for i in range(n):\n",
    "        int_num = int_num*2\n",
    "    print(f'num_layers({n}) ➞ \"{int_num/1000}m\"')\n",
    "    \n",
    "num_layers(1) \n",
    "num_layers(4) \n",
    "num_layers(21) "
   ]
  },
  {
   "cell_type": "code",
   "execution_count": null,
   "id": "a4167ea0-c4aa-40e8-8c20-972ef09c137b",
   "metadata": {},
   "outputs": [],
   "source": [
    "Question4\n",
    "Create a function that takes a single string as argument and returns an ordered list containing the indices of all capital letters in the string.\n",
    "Examples\n",
    "index_of_caps(\"eDaBiT\") ➞ [1, 3, 5]\n",
    "\n",
    "index_of_caps(\"eQuINoX\") ➞ [1, 3, 4, 6]\n",
    "\n",
    "index_of_caps(\"determine\") ➞ []\n",
    "\n",
    "index_of_caps(\"STRIKE\") ➞ [0, 1, 2, 3, 4, 5]\n",
    "\n",
    "index_of_caps(\"sUn\") ➞ [1]"
   ]
  },
  {
   "cell_type": "code",
   "execution_count": 43,
   "id": "502c797d-beb4-480c-bb11-691fc8136552",
   "metadata": {},
   "outputs": [
    {
     "name": "stdout",
     "output_type": "stream",
     "text": [
      "index_of_caps(\"eDaBiT\") ➞ [1, 3, 5]\n",
      "index_of_caps(\"eQuINoX\") ➞ [1, 3, 4, 6]\n",
      "index_of_caps(\"determine\") ➞ []\n",
      "index_of_caps(\"STRIKE\") ➞ [0, 1, 2, 3, 4, 5]\n",
      "index_of_caps(\"sUn\") ➞ [1]\n"
     ]
    }
   ],
   "source": [
    "def index_of_caps(s):\n",
    "    l= []\n",
    "    for i in s:\n",
    "        if i.isupper() == True:\n",
    "            l.append(s.index(i))\n",
    "    return l      \n",
    "\n",
    "\n",
    "print(f'index_of_caps(\"eDaBiT\") ➞ {index_of_caps(\"eDaBiT\")}')\n",
    "print(f'index_of_caps(\"eQuINoX\") ➞ {index_of_caps(\"eQuINoX\")}') \n",
    "print(f'index_of_caps(\"determine\") ➞ {index_of_caps(\"determine\")}') \n",
    "print(f'index_of_caps(\"STRIKE\") ➞ {index_of_caps(\"STRIKE\")}') \n",
    "print(f'index_of_caps(\"sUn\") ➞ {index_of_caps(\"sUn\")}')"
   ]
  },
  {
   "cell_type": "code",
   "execution_count": null,
   "id": "8750bc09-a602-48e2-9f25-c946c81a18f9",
   "metadata": {},
   "outputs": [],
   "source": [
    "\n",
    "Question5\n",
    "Using list comprehensions, create a function that finds all even numbers from 1 to the given number.\n",
    "Examples\n",
    "find_even_nums(8) ➞ [2, 4, 6, 8]\n",
    "\n",
    "find_even_nums(4) ➞ [2, 4]\n",
    "\n",
    "find_even_nums(2) ➞ [2]"
   ]
  },
  {
   "cell_type": "code",
   "execution_count": 47,
   "id": "877f29b0-88c6-4b94-860c-c9908703560c",
   "metadata": {},
   "outputs": [
    {
     "name": "stdout",
     "output_type": "stream",
     "text": [
      "find_even_nums(8) ➞ [2, 4, 6, 8]\n",
      "find_even_nums(8) ➞ [2, 4]\n",
      "find_even_nums(8) ➞ [2]\n"
     ]
    }
   ],
   "source": [
    "def find_even_nums(n):\n",
    "    lis = [i for i in range(1,n+1) if i%2==0 ]\n",
    "    print(f'find_even_nums(8) ➞ {lis}')\n",
    "    \n",
    "find_even_nums(8)\n",
    "find_even_nums(4)\n",
    "find_even_nums(2)"
   ]
  },
  {
   "cell_type": "code",
   "execution_count": null,
   "id": "620b5a46-5b6e-4a62-8c50-9c8e2fc7b2ff",
   "metadata": {},
   "outputs": [],
   "source": []
  }
 ],
 "metadata": {
  "kernelspec": {
   "display_name": "Python 3 (ipykernel)",
   "language": "python",
   "name": "python3"
  },
  "language_info": {
   "codemirror_mode": {
    "name": "ipython",
    "version": 3
   },
   "file_extension": ".py",
   "mimetype": "text/x-python",
   "name": "python",
   "nbconvert_exporter": "python",
   "pygments_lexer": "ipython3",
   "version": "3.10.6"
  }
 },
 "nbformat": 4,
 "nbformat_minor": 5
}

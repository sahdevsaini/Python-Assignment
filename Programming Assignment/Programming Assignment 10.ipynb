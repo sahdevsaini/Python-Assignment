{
 "cells": [
  {
   "cell_type": "markdown",
   "id": "0649a5f4-b6ed-44c9-96a6-a63bb6ee3d2d",
   "metadata": {},
   "source": [
    "## -------------------------------- Assignment 10 ---------------------------------"
   ]
  },
  {
   "cell_type": "markdown",
   "id": "af4f9890-333c-4fa7-943e-da71fccdcad7",
   "metadata": {},
   "source": [
    "## 1. Write a Python program to find sum of elements in list?"
   ]
  },
  {
   "cell_type": "code",
   "execution_count": 20,
   "id": "bf353f28-5d71-4c37-8aca-8d52251f5ce3",
   "metadata": {},
   "outputs": [
    {
     "name": "stdout",
     "output_type": "stream",
     "text": [
      "15\n"
     ]
    }
   ],
   "source": [
    "def add(m):\n",
    "    sum1 = 0\n",
    "    for i in m:\n",
    "        sum1 = sum1+i\n",
    "    return sum1  \n",
    "    \n",
    "l= [1,2,3,4,5]\n",
    "print(add(l))"
   ]
  },
  {
   "cell_type": "markdown",
   "id": "2774858f-a9aa-448a-a9d7-95a596861aa6",
   "metadata": {},
   "source": [
    "## 2. Write a Python program to Multiply all numbers in the list?"
   ]
  },
  {
   "cell_type": "code",
   "execution_count": 19,
   "id": "09e195d4-c11e-4b4b-a43d-60d4178b470f",
   "metadata": {},
   "outputs": [
    {
     "name": "stdout",
     "output_type": "stream",
     "text": [
      "120\n"
     ]
    }
   ],
   "source": [
    "l =[1,2,3,4,5]\n",
    "mul1 = 1\n",
    "for i in l:\n",
    "    mul1 = mul1*i\n",
    "print(mul1)"
   ]
  },
  {
   "cell_type": "markdown",
   "id": "cf20dbd5-9234-4111-8af6-86b330040ae8",
   "metadata": {},
   "source": [
    "## 3. Write a Python program to find smallest number in a list?"
   ]
  },
  {
   "cell_type": "code",
   "execution_count": 21,
   "id": "a5e19bd8-b1a7-4ae0-ac98-fe7626eae50b",
   "metadata": {},
   "outputs": [
    {
     "name": "stdout",
     "output_type": "stream",
     "text": [
      "1\n"
     ]
    }
   ],
   "source": [
    "def samllest(l):\n",
    "    small = l[0]  \n",
    "    for i in l:\n",
    "        if i < small:\n",
    "            small = i\n",
    "    return small  \n",
    "l= [1,3,2,9,5]\n",
    "print(samllest(l))\n",
    "    "
   ]
  },
  {
   "cell_type": "markdown",
   "id": "7c9e1dda-2f5d-4dc9-bde2-2100a4823216",
   "metadata": {},
   "source": [
    "## 4. Write a Python program to find largest number in a list?"
   ]
  },
  {
   "cell_type": "code",
   "execution_count": 15,
   "id": "00fd209a-03cf-49e6-8f97-c800f2b03dfe",
   "metadata": {},
   "outputs": [
    {
     "name": "stdout",
     "output_type": "stream",
     "text": [
      "9\n"
     ]
    }
   ],
   "source": [
    "def samllest(l):\n",
    "    small = l[0]  \n",
    "    for i in l:\n",
    "        if i > small:\n",
    "            small = i\n",
    "    return small  \n",
    "l= [1,3,2,9,5]\n",
    "print(samllest(l))\n",
    "    "
   ]
  },
  {
   "cell_type": "markdown",
   "id": "80c1f9e5-8481-494c-a488-7dba89325a36",
   "metadata": {},
   "source": [
    "## 5. Write a Python program to find second largest number in a list?"
   ]
  },
  {
   "cell_type": "code",
   "execution_count": 16,
   "id": "0a712fef-268c-4a23-a4b9-71a2ff88c2c0",
   "metadata": {},
   "outputs": [
    {
     "name": "stdout",
     "output_type": "stream",
     "text": [
      "5\n"
     ]
    }
   ],
   "source": [
    "def samllest(l):\n",
    "    l.sort()\n",
    "    return l[-2] \n",
    "l= [1,3,2,9,5]\n",
    "print(samllest(l))"
   ]
  },
  {
   "cell_type": "markdown",
   "id": "004a75dd-dd30-4067-9ed1-a60390569bf0",
   "metadata": {},
   "source": [
    "## 6. Write a Python program to find N largest elements from a list?"
   ]
  },
  {
   "cell_type": "code",
   "execution_count": 25,
   "id": "4bca2f9f-7eae-4ae4-bd49-8f6e355a58e8",
   "metadata": {},
   "outputs": [
    {
     "name": "stdout",
     "output_type": "stream",
     "text": [
      "2 max elements in  [2, 6, 41, 85, 0, 3, 7, 6, 10]\n",
      "[85, 41]\n"
     ]
    }
   ],
   "source": [
    "def N_max_elements(list, N):\n",
    "    result_list = []\n",
    "    for i in range(0, N): \n",
    "        maximum = 0\n",
    "        for j in range(len(list)):     \n",
    "             if list[j] > maximum:\n",
    "                maximum = list[j]\n",
    "                  \n",
    "        list.remove(maximum)\n",
    "        result_list.append(maximum)\n",
    "          \n",
    "    return result_list\n",
    "  \n",
    "#test\n",
    "list1 = [2, 6, 41, 85, 0, 3, 7, 6, 10]\n",
    "N = 2\n",
    "\n",
    "print(N, \"max elements in \",list1)\n",
    "print(N_max_elements(list1, N))"
   ]
  },
  {
   "cell_type": "markdown",
   "id": "4075ff50-ae47-4823-9e97-7ceae13b5bf8",
   "metadata": {},
   "source": [
    "## 7. Write a Python program to print even numbers in a list?"
   ]
  },
  {
   "cell_type": "code",
   "execution_count": 4,
   "id": "2ca4aacb-bd7a-4b10-a415-1d49bb965d75",
   "metadata": {},
   "outputs": [
    {
     "name": "stdout",
     "output_type": "stream",
     "text": [
      "The list of Even no in List :-  [2, 4, 2, 6]\n"
     ]
    }
   ],
   "source": [
    "def Even_num(l):\n",
    "    li =[]\n",
    "    for i in l:\n",
    "        if i%2==0:\n",
    "            li.append(i)\n",
    "    return li\n",
    "\n",
    "l= [2,4,5,2,6,9]\n",
    "print(\"The list of Even no in List :- \",Even_num(l))"
   ]
  },
  {
   "cell_type": "markdown",
   "id": "d8fe5c31-69a0-4e51-8335-502601f416da",
   "metadata": {},
   "source": [
    "## 8. Write a Python program to print odd numbers in a List?"
   ]
  },
  {
   "cell_type": "code",
   "execution_count": 5,
   "id": "7e18bb7c-3099-4f1e-b112-e952af9f8d65",
   "metadata": {},
   "outputs": [
    {
     "name": "stdout",
     "output_type": "stream",
     "text": [
      "The list of Odd no in List :-  [5, 9]\n"
     ]
    }
   ],
   "source": [
    "def Even_num(l):\n",
    "    li =[]\n",
    "    for i in l:\n",
    "        if i%2!=0:\n",
    "            li.append(i)\n",
    "    return li\n",
    "\n",
    "l= [2,4,5,2,6,9]\n",
    "print(\"The list of Odd no in List :- \",Even_num(l))"
   ]
  },
  {
   "cell_type": "markdown",
   "id": "7d6bb47f-4e19-4b90-995f-e049107b6cca",
   "metadata": {},
   "source": [
    "## 9. Write a Python program to Remove empty List from List?"
   ]
  },
  {
   "cell_type": "code",
   "execution_count": 9,
   "id": "21e7375d-91bb-4434-b194-d3614054b91e",
   "metadata": {},
   "outputs": [
    {
     "name": "stdout",
     "output_type": "stream",
     "text": [
      "Finala List after removing all empty list from list l :- [3, 5, 2, 's', 6, 7]\n"
     ]
    }
   ],
   "source": [
    "def Empty_list(l):\n",
    "    l1 =[]\n",
    "    for i in l:\n",
    "        if i != []:\n",
    "            l1.append(i)\n",
    "    return l1\n",
    "\n",
    "\n",
    "l= [3,5,2,'s',6,[],7,[]]\n",
    "print(\"Finala List after removing all empty list from list l :-\",Empty_list(l))\n",
    "            "
   ]
  },
  {
   "cell_type": "markdown",
   "id": "4d6091eb-8238-4c1a-83d7-628a575db33e",
   "metadata": {},
   "source": [
    "## 10. Write a Python program to Cloning or Copying a list?"
   ]
  },
  {
   "cell_type": "code",
   "execution_count": null,
   "id": "fbe9675c-72bb-4d8a-8c86-10c246d4cb43",
   "metadata": {},
   "outputs": [],
   "source": [
    "def Empty_list(l):\n",
    "    l1 =[]\n",
    "    for i in l:\n",
    "        if i != []:\n",
    "            l1.append(i)\n",
    "    return l1\n",
    "\n",
    "\n",
    "l= [3,5,2,'s',6,[],7,[]]\n",
    "print(\"Finala List after removing all empty list from list l :-\",Empty_list(l))"
   ]
  },
  {
   "cell_type": "markdown",
   "id": "e09e8aaf-478d-4d8e-b22f-ebf9b39fdbee",
   "metadata": {},
   "source": [
    "## 11. Write a Python program to Count occurrences of an element in a list?"
   ]
  },
  {
   "cell_type": "code",
   "execution_count": 12,
   "id": "ec850324-4625-4cfb-a076-13546852684d",
   "metadata": {},
   "outputs": [
    {
     "name": "stdin",
     "output_type": "stream",
     "text": [
      "Enter size of list  4\n",
      "Enter element of list  4\n",
      "Enter element of list  5\n",
      "Enter element of list  6\n",
      "Enter element of list  7\n"
     ]
    },
    {
     "name": "stdout",
     "output_type": "stream",
     "text": [
      "Original list:  [4, 5, 6, 7]\n"
     ]
    },
    {
     "name": "stdin",
     "output_type": "stream",
     "text": [
      "Enter element to be checked list:  4\n"
     ]
    },
    {
     "name": "stdout",
     "output_type": "stream",
     "text": [
      "4  has occurred  1 times\n"
     ]
    }
   ],
   "source": [
    "def count_Occurence(l,n):\n",
    "    count = 0\n",
    "    for i in l:\n",
    "        if i == n:\n",
    "            count = count+1\n",
    "    return count\n",
    "\n",
    "li=[]\n",
    "n=int(input(\"Enter size of list \"))\n",
    "for i in range(0,n):\n",
    "    e=int(input(\"Enter element of list \"))\n",
    "    li.append(e)\n",
    "print(\"Original list: \",li)\n",
    "\n",
    "x=int(input(\"Enter element to be checked list: \"))\n",
    "\n",
    "#function call\n",
    "print(x,\" has occurred \",count_Occurence(li, x),\"times\")\n"
   ]
  },
  {
   "cell_type": "code",
   "execution_count": null,
   "id": "c0340df0-ef42-4872-8c77-15863987af9d",
   "metadata": {},
   "outputs": [],
   "source": []
  }
 ],
 "metadata": {
  "kernelspec": {
   "display_name": "Python 3 (ipykernel)",
   "language": "python",
   "name": "python3"
  },
  "language_info": {
   "codemirror_mode": {
    "name": "ipython",
    "version": 3
   },
   "file_extension": ".py",
   "mimetype": "text/x-python",
   "name": "python",
   "nbconvert_exporter": "python",
   "pygments_lexer": "ipython3",
   "version": "3.10.6"
  }
 },
 "nbformat": 4,
 "nbformat_minor": 5
}

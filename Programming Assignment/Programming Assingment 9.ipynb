{
 "cells": [
  {
   "cell_type": "markdown",
   "id": "16423dd1",
   "metadata": {},
   "source": [
    "## ----------------------------------  Programming Assignment 9 -------------------------------------"
   ]
  },
  {
   "cell_type": "markdown",
   "id": "ededd9fd",
   "metadata": {},
   "source": [
    "### 1.\tWrite a Python program to check if the given number is a Disarium Number?"
   ]
  },
  {
   "cell_type": "code",
   "execution_count": 1,
   "id": "795541db",
   "metadata": {},
   "outputs": [
    {
     "name": "stdout",
     "output_type": "stream",
     "text": [
      "123\n",
      "321\n",
      "3\n",
      " Not Disarium\n",
      "The given number 123 is :-  None\n"
     ]
    }
   ],
   "source": [
    "def disarium(n):\n",
    "    y=int(str(n)[::-1])\n",
    "    z=len(str(n))\n",
    "    m=0\n",
    "    sum1=0\n",
    "    for i in range(1,z+1):\n",
    "        m=y%10\n",
    "        sum1+=m**i\n",
    "        y=y//10\n",
    "    if sum1==n:\n",
    "        return \"Disarium\"\n",
    "    else:\n",
    "        print(\" Not Disarium\")\n",
    "\n",
    "num=int(input())        \n",
    "print(f\"The given number {num} is :- \",disarium(num))"
   ]
  },
  {
   "cell_type": "markdown",
   "id": "6e12114a",
   "metadata": {},
   "source": [
    "### 2.\tWrite a Python program to print all disarium numbers between 1 to 100?"
   ]
  },
  {
   "cell_type": "code",
   "execution_count": 59,
   "id": "dfb15a9e",
   "metadata": {},
   "outputs": [
    {
     "name": "stdout",
     "output_type": "stream",
     "text": [
      "List of Disarium number from 1 to 100 is :- \n",
      "1\n",
      "2\n",
      "3\n",
      "4\n",
      "5\n",
      "6\n",
      "7\n",
      "8\n",
      "9\n",
      "89\n"
     ]
    }
   ],
   "source": [
    "def disarium1(n):\n",
    "    y=int(str(n)[::-1])\n",
    "    z=len(str(n))\n",
    "    m=0\n",
    "    sum1=0\n",
    "    for i in range(1,z+1):\n",
    "        m=y%10\n",
    "        sum1+=m**i\n",
    "        y=y//10\n",
    "    if sum1==n:\n",
    "        return n\n",
    "\n",
    "print(\"List of Disarium number from 1 to 100 is :- \")    \n",
    "for i in range(1,101):\n",
    "    if type(disarium1(i))==int:\n",
    "        print(disarium1(i))"
   ]
  },
  {
   "cell_type": "markdown",
   "id": "cca05593",
   "metadata": {},
   "source": [
    "### 3.\tWrite a Python program to check if the given number is Happy Number?"
   ]
  },
  {
   "cell_type": "code",
   "execution_count": 8,
   "id": "08b5e185",
   "metadata": {},
   "outputs": [
    {
     "name": "stdout",
     "output_type": "stream",
     "text": [
      "Enter the number:-78\n",
      "78 is not a happy number\n"
     ]
    }
   ],
   "source": [
    "def isHappyNumber(num):    \n",
    "    rem = sum = 0;    \n",
    "        \n",
    "    #Calculates the sum of squares of digits    \n",
    "    while(num > 0):    \n",
    "        rem = num%10;    \n",
    "        sum = sum + (rem*rem);    \n",
    "        num = num//10;    \n",
    "    return sum;    \n",
    "        \n",
    "\n",
    "    \n",
    "num = int(input(\"Enter the number:-\"))\n",
    "result = num;    \n",
    "     \n",
    "while(result != 1 and result != 4):    \n",
    "    result = isHappyNumber(result);       \n",
    "if(result == 1):\n",
    "    print(\"List of Disarium number from 1 to 100 is :- \")    \n",
    "for i in range(1,101):\n",
    "    if type(disarium1(i))==int:\n",
    "        print(disarium1(i))\n",
    "    print(str(num) + \" is a happy number\");     \n",
    "elif(result == 4):    \n",
    "    print(str(num) + \" is not a happy number\");   "
   ]
  },
  {
   "cell_type": "markdown",
   "id": "61556ebe",
   "metadata": {},
   "source": [
    "## 4.\tWrite a Python program to print all happy numbers between 1 and 100?"
   ]
  },
  {
   "cell_type": "code",
   "execution_count": 11,
   "id": "45ae455a",
   "metadata": {},
   "outputs": [
    {
     "name": "stdout",
     "output_type": "stream",
     "text": [
      "List of happy numbers between 1 and 100: \n",
      "1\n",
      "7\n",
      "10\n",
      "13\n",
      "19\n",
      "23\n",
      "28\n",
      "31\n",
      "32\n",
      "44\n",
      "49\n",
      "68\n",
      "70\n",
      "79\n",
      "82\n",
      "86\n",
      "91\n",
      "94\n",
      "97\n",
      "100\n"
     ]
    }
   ],
   "source": [
    "def isHappyNumber(num):    \n",
    "    rem = sum = 0;    \n",
    "    while(num > 0):    \n",
    "        rem = num%10;    \n",
    "        sum = sum + (rem*rem);    \n",
    "        num = num//10;    \n",
    "    return sum;    \n",
    "\n",
    "\n",
    "print(\"List of happy numbers between 1 and 100: \");    \n",
    "for i in range(1, 101):    \n",
    "    result = i;    \n",
    "         \n",
    "    while(result != 1 and result != 4):    \n",
    "        result = isHappyNumber(result);    \n",
    "        \n",
    "    if(result == 1):    \n",
    "        print(i),        "
   ]
  },
  {
   "cell_type": "markdown",
   "id": "e02c18db",
   "metadata": {},
   "source": [
    "## 5.\tWrite a Python program to determine whether the given number is a Harshad Number?"
   ]
  },
  {
   "cell_type": "code",
   "execution_count": 23,
   "id": "e2275aed",
   "metadata": {},
   "outputs": [
    {
     "name": "stdout",
     "output_type": "stream",
     "text": [
      "Enter the number: 25\n",
      "It is not Harshad number \n"
     ]
    }
   ],
   "source": [
    "def Harshad_number(n):\n",
    "    sum_ = 0\n",
    "    while (n != 0):\n",
    "        n1 = n%10\n",
    "        sum_ = sum_ + n1\n",
    "        n = n//10\n",
    "    return sum_\n",
    "\n",
    "\n",
    "n=int(input(\"Enter the number: \"))\n",
    "\n",
    "if n%Harshad_number(n) == 0:\n",
    "    print(\"It is Harshad Number:-\")\n",
    "else:\n",
    "    print('It is not Harshad number ')\n",
    "   "
   ]
  },
  {
   "cell_type": "markdown",
   "id": "01729150",
   "metadata": {},
   "source": [
    "## 6.\tWrite a Python program to print all pronic numbers between 1 and 100?"
   ]
  },
  {
   "cell_type": "code",
   "execution_count": 24,
   "id": "9d7729e5",
   "metadata": {},
   "outputs": [
    {
     "name": "stdout",
     "output_type": "stream",
     "text": [
      "Pronic numbers between 1 and 100: \n",
      "2\n",
      "6\n",
      "12\n",
      "20\n",
      "30\n",
      "42\n",
      "56\n",
      "72\n",
      "90\n"
     ]
    }
   ],
   "source": [
    "def isPronicNumber(num):    \n",
    "    flag = False;            \n",
    "    for j in range(1, num+1):        \n",
    "        if((j*(j+1)) == num):    \n",
    "            flag = True;    \n",
    "            break;    \n",
    "    return flag;    \n",
    "     \n",
    "\n",
    "    \n",
    "print(\"Pronic numbers between 1 and 100: \");    \n",
    "for i in range(1, 101):    \n",
    "    if(isPronicNumber(i)):    \n",
    "        print(i)    "
   ]
  },
  {
   "cell_type": "code",
   "execution_count": null,
   "id": "8ceafccb",
   "metadata": {},
   "outputs": [],
   "source": []
  }
 ],
 "metadata": {
  "kernelspec": {
   "display_name": "Python 3 (ipykernel)",
   "language": "python",
   "name": "python3"
  },
  "language_info": {
   "codemirror_mode": {
    "name": "ipython",
    "version": 3
   },
   "file_extension": ".py",
   "mimetype": "text/x-python",
   "name": "python",
   "nbconvert_exporter": "python",
   "pygments_lexer": "ipython3",
   "version": "3.11.4"
  }
 },
 "nbformat": 4,
 "nbformat_minor": 5
}

{
 "cells": [
  {
   "cell_type": "code",
   "execution_count": null,
   "id": "3e9e82cb-d79a-40b5-a4a6-0d2f741eb2dc",
   "metadata": {},
   "outputs": [],
   "source": []
  },
  {
   "cell_type": "code",
   "execution_count": null,
   "id": "d1145c10-db03-4319-8dbc-f77adb9c1806",
   "metadata": {},
   "outputs": [],
   "source": [
    "Question1. Create a function that takes three arguments a, b, c and returns the sum of the numbers that are evenly divided by c from the range a, b inclusive.\n",
    "Examples\n",
    "evenly_divisible(1, 10, 20) ➞ 0\n",
    "# No number between 1 and 10 can be evenly divided by 20.\n",
    "\n",
    "evenly_divisible(1, 10, 2) ➞ 30\n",
    "# 2 + 4 + 6 + 8 + 10 = 30\n",
    "\n",
    "evenly_divisible(1, 10, 3) ➞ 18\n",
    "# 3 + 6 + 9 = 18\n"
   ]
  },
  {
   "cell_type": "code",
   "execution_count": 9,
   "id": "b7d6f75b-1d79-4eed-8347-7dff85f977e8",
   "metadata": {},
   "outputs": [
    {
     "name": "stdout",
     "output_type": "stream",
     "text": [
      "evenly_divisible(1,10,20) ➞ 0\n",
      "evenly_divisible(1,10,2) ➞ 30\n",
      "evenly_divisible(1,10,3) ➞ 18\n"
     ]
    }
   ],
   "source": [
    " def evenly_divisible(a,b,c):\n",
    "    s = 0\n",
    "    for  i in range(a,b+1):\n",
    "        if i%c == 0:\n",
    "            s = s+i\n",
    "    print(f'evenly_divisible({a},{b},{c}) ➞',s)\n",
    "    \n",
    "\n",
    "evenly_divisible(1, 10, 20) \n",
    "evenly_divisible(1, 10, 2)\n",
    "evenly_divisible(1, 10, 3)"
   ]
  },
  {
   "cell_type": "code",
   "execution_count": null,
   "id": "44c566ba-8498-4011-b7ef-f8a619af9aad",
   "metadata": {},
   "outputs": [],
   "source": [
    "Question2. Create a function that returns True if a given inequality expression is correct and False otherwise.\n",
    "Examples\n",
    "correct_signs(\"3 < 7 < 11\") ➞ True\n",
    "\n",
    "correct_signs(\"13 > 44 > 33 > 1\") ➞ False\n",
    "\n",
    "correct_signs(\"1 < 2 < 6 < 9 > 3\") ➞ True"
   ]
  },
  {
   "cell_type": "code",
   "execution_count": 12,
   "id": "5044e868-2d23-4861-83cf-aee2015ccc0a",
   "metadata": {},
   "outputs": [
    {
     "name": "stdin",
     "output_type": "stream",
     "text": [
      "Enter the inequality:  3 > 7 > 11\n"
     ]
    },
    {
     "name": "stdout",
     "output_type": "stream",
     "text": [
      "3 > 7 > 11 ➞ False\n"
     ]
    },
    {
     "name": "stdin",
     "output_type": "stream",
     "text": [
      "Enter the inequality:  13 > 44 > 33 > 1\n"
     ]
    },
    {
     "name": "stdout",
     "output_type": "stream",
     "text": [
      "13 > 44 > 33 > 1 ➞ False\n"
     ]
    },
    {
     "name": "stdin",
     "output_type": "stream",
     "text": [
      "Enter the inequality:  1 < 2 < 6 < 9 > 3\n"
     ]
    },
    {
     "name": "stdout",
     "output_type": "stream",
     "text": [
      "1 < 2 < 6 < 9 > 3 ➞ True\n"
     ]
    }
   ],
   "source": [
    "def checkEquality():\n",
    "    in_string = input('Enter the inequality: ')\n",
    "    out_bool = eval(in_string)\n",
    "    print(f'{in_string} ➞ {out_bool}')\n",
    "\n",
    "for x in range(3):\n",
    "    checkEquality()"
   ]
  },
  {
   "cell_type": "code",
   "execution_count": null,
   "id": "386312ff-b375-4181-a21e-f712aea4a123",
   "metadata": {},
   "outputs": [],
   "source": [
    "Question3. Create a function that replaces all the vowels in a string with a specified character.\n",
    "Examples\n",
    "replace_vowels(\"the aardvark\", \"#\") ➞ \"th# ##rdv#rk\"\n",
    "\n",
    "replace_vowels(\"minnie mouse\", \"?\") ➞ \"m?nn?? m??s?\"\n",
    "\n",
    "replace_vowels(\"shakespeare\", \"*\") ➞ \"sh*k*sp**r*\""
   ]
  },
  {
   "cell_type": "code",
   "execution_count": 5,
   "id": "7108487f-7be4-43a8-a7af-cf3a5af7267f",
   "metadata": {},
   "outputs": [
    {
     "name": "stdin",
     "output_type": "stream",
     "text": [
      "Enter Stirng:-  the aardvark\n",
      "Replacement Character :-  #\n"
     ]
    },
    {
     "name": "stdout",
     "output_type": "stream",
     "text": [
      "replace_Vowel(\"the aardvark\", \"#\") ➞ \"th# ##rdv#rk\"\n"
     ]
    },
    {
     "name": "stdin",
     "output_type": "stream",
     "text": [
      "Enter Stirng:-  minnie mouse\n",
      "Replacement Character :-  ?\n"
     ]
    },
    {
     "name": "stdout",
     "output_type": "stream",
     "text": [
      "replace_Vowel(\"minnie mouse\", \"?\") ➞ \"m?nn?? m??s?\"\n"
     ]
    },
    {
     "name": "stdin",
     "output_type": "stream",
     "text": [
      "Enter Stirng:-  shakespeare\n",
      "Replacement Character :-  *\n"
     ]
    },
    {
     "name": "stdout",
     "output_type": "stream",
     "text": [
      "replace_Vowel(\"shakespeare\", \"*\") ➞ \"sh*k*sp**r*\"\n"
     ]
    }
   ],
   "source": [
    "def replace_Vowel():\n",
    "    n = input(\"Enter Stirng:- \")\n",
    "    n_copy = n\n",
    "    n1 = input(\"Replacement Character :- \")\n",
    "    vowels = ['a','e','i','o','u','A','E','I','O','U']\n",
    "    for i in n:\n",
    "        if i in vowels:\n",
    "            n_copy=n_copy.replace(i,n1)\n",
    "    print(f'replace_Vowel(\"{n}\", \"{n1}\") ➞ \"{n_copy}\"')        \n",
    "\n",
    "\n",
    "for i in range(3):\n",
    "    replace_Vowel()"
   ]
  },
  {
   "cell_type": "markdown",
   "id": "2cd7fe9d-e938-405d-874c-64b77003b9a9",
   "metadata": {},
   "source": [
    "Question4. Write a function that calculates the factorial of a number recursively.\n",
    "Examples\n",
    "factorial(5) ➞ 120\n",
    "\n",
    "factorial(3) ➞ 6\n",
    "\n",
    "factorial(1) ➞ 1\n",
    "\n",
    "factorial(0) ➞ 1"
   ]
  },
  {
   "cell_type": "code",
   "execution_count": 12,
   "id": "f5c78c2f-bd38-44b5-8447-3f3fd7d716bc",
   "metadata": {},
   "outputs": [
    {
     "name": "stdout",
     "output_type": "stream",
     "text": [
      "factorial(5) ➞ 120\n",
      "factorial(3) ➞ 6\n",
      "factorial(1) ➞ 1\n",
      "factorial(0) ➞ 1\n"
     ]
    }
   ],
   "source": [
    "def factorial(n):\n",
    "    if n == 0 or n==1:\n",
    "        return 1\n",
    "    else:\n",
    "        return n* factorial(n-1)\n",
    "        \n",
    "\n",
    "print(f'factorial(5) ➞ {factorial(5)}') \n",
    "print(f'factorial(3) ➞ {factorial(3)}')\n",
    "print(f'factorial(1) ➞ {factorial(1)}')\n",
    "print(f'factorial(0) ➞ {factorial(0)}')"
   ]
  },
  {
   "cell_type": "markdown",
   "id": "1bccc2b1-5bab-4d57-a508-732819d0c327",
   "metadata": {},
   "source": [
    "Question 5\n",
    "Hamming distance is the number of characters that differ between two strings.\n",
    "To illustrate:\n",
    "String1: \"abcbba\"\n",
    "String2: \"abcbda\"\n",
    "\n",
    "Hamming Distance: 1 - \"b\" vs. \"d\" is the only difference.\n",
    "Create a function that computes the hamming distance between two strings.\n",
    "Examples\n",
    "hamming_distance(\"abcde\", \"bcdef\") ➞ 5\n",
    "\n",
    "hamming_distance(\"abcde\", \"abcde\") ➞ 0\n",
    "\n",
    "hamming_distance(\"strong\", \"strung\") ➞ 1"
   ]
  },
  {
   "cell_type": "code",
   "execution_count": 23,
   "id": "47503757-50ed-43d2-a487-0bb10534944a",
   "metadata": {},
   "outputs": [
    {
     "name": "stdin",
     "output_type": "stream",
     "text": [
      " abcde\n",
      " bcdef\n"
     ]
    },
    {
     "name": "stdout",
     "output_type": "stream",
     "text": [
      "5\n"
     ]
    }
   ],
   "source": [
    "def Hamming_distance():\n",
    "    str1 = input()\n",
    "    str2 = input()\n",
    "    if len(str1) == len(str2):\n",
    "        c = 0 \n",
    "        for i in range(len(str1)):\n",
    "            if str1[i]!=str2[i]:\n",
    "                c = c+1\n",
    "        print(c)\n",
    "    else:\n",
    "            print(\"both string are same\")\n",
    "        \n",
    "\n",
    "\n",
    "Hamming_distance()    "
   ]
  },
  {
   "cell_type": "code",
   "execution_count": null,
   "id": "af0f7997-caf8-4dd2-8761-349348201ce1",
   "metadata": {},
   "outputs": [],
   "source": []
  }
 ],
 "metadata": {
  "kernelspec": {
   "display_name": "Python 3 (ipykernel)",
   "language": "python",
   "name": "python3"
  },
  "language_info": {
   "codemirror_mode": {
    "name": "ipython",
    "version": 3
   },
   "file_extension": ".py",
   "mimetype": "text/x-python",
   "name": "python",
   "nbconvert_exporter": "python",
   "pygments_lexer": "ipython3",
   "version": "3.10.6"
  }
 },
 "nbformat": 4,
 "nbformat_minor": 5
}

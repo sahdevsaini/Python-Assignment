{
 "cells": [
  {
   "cell_type": "markdown",
   "id": "921ed911-8a11-4722-b65c-5df30c95e4b9",
   "metadata": {},
   "source": [
    "## -------------------------------- Programming Assignment - 24 -------------------------------"
   ]
  },
  {
   "cell_type": "markdown",
   "id": "cd29abcb-f1d4-4f51-bd91-870cb78de3a2",
   "metadata": {},
   "source": [
    "## Question1 Create a function that takes an integer and returns a list from 1 to the given number, where:\n",
    "1.\tIf the number can be divided evenly by 4, amplify it by 10 (i.e. return 10 times the number).\n",
    "2.\tIf the number cannot be divided evenly by 4, simply return the number.\n",
    "Examples<br>\n",
    "\n",
    "amplify(4) ➞ [1, 2, 3, 40]\n",
    "\n",
    "amplify(3) ➞ [1, 2, 3]\n",
    "\n",
    "amplify(25) ➞ [1, 2, 3, 40, 5, 6, 7, 80, 9, 10, 11, 120, 13, 14, 15, 160, 17, 18, 19, 200, 21, 22, 23, 240, 25]\n",
    "Notes\n",
    "•\tThe given integer will always be equal to or greater than 1.\n",
    "•\tInclude the number (see example above).\n",
    "•\tTo perform this problem with its intended purpose, try doing it with list comprehensions. If that's too difficult, just solve the challenge any way you can."
   ]
  },
  {
   "cell_type": "code",
   "execution_count": 5,
   "id": "573cf1c0-bab5-4edf-aa33-8435feca7f2c",
   "metadata": {},
   "outputs": [
    {
     "name": "stdout",
     "output_type": "stream",
     "text": [
      "amplify(4) ➞ [1, 2, 3, 40]\n",
      "amplify(3) ➞ [1, 2, 3]\n",
      "amplify(25) ➞ [1, 2, 3, 40, 5, 6, 7, 80, 9, 10, 11, 120, 13, 14, 15, 160, 17, 18, 19, 200, 21, 22, 23, 240, 25]\n"
     ]
    }
   ],
   "source": [
    "def amplify(n):\n",
    "    l =[]\n",
    "    for i in range(1,n+1):\n",
    "        if i%4==0:\n",
    "            l.append(i*10)\n",
    "        else:\n",
    "            l.append(i)\n",
    "    print(f'amplify({n}) ➞ {l}')        \n",
    "        \n",
    "amplify(4)\n",
    "amplify(3)\n",
    "amplify(25)"
   ]
  },
  {
   "cell_type": "markdown",
   "id": "059ae47a-c615-4d65-8a25-e90da7741755",
   "metadata": {},
   "source": [
    "## Question2 Create a function that takes a list of numbers and return the number that's unique.\n",
    "Examples <br>\n",
    "unique([3, 3, 3, 7, 3, 3]) ➞ 7\n",
    "\n",
    "unique([0, 0, 0.77, 0, 0]) ➞ 0.77\n",
    "\n",
    "unique([0, 1, 1, 1, 1, 1, 1, 1]) ➞ 0<br>\n",
    "Notes<br>\n",
    "Test cases will always have exactly one unique number while all others are the same."
   ]
  },
  {
   "cell_type": "code",
   "execution_count": 10,
   "id": "66339fcc-2aaa-46af-a7f9-d01f53856f97",
   "metadata": {},
   "outputs": [
    {
     "name": "stdout",
     "output_type": "stream",
     "text": [
      "unique([3, 3, 3, 7, 3, 3]) ➞ 7\n",
      "unique([3, 3, 3, 7, 3, 3]) ➞ 0.77\n",
      "unique([3, 3, 3, 7, 3, 3]) ➞ 0\n"
     ]
    }
   ],
   "source": [
    "def unique(l):\n",
    "    out = ''\n",
    "    for i in set(l):\n",
    "        if l.count(i) ==1:\n",
    "            out = i\n",
    "    print(f'unique([3, 3, 3, 7, 3, 3]) ➞ {out}')        \n",
    "\n",
    "unique([3, 3, 3, 7, 3, 3])\n",
    "unique([0, 0, 0.77, 0, 0])\n",
    "unique([0, 1, 1, 1, 1, 1, 1, 1])"
   ]
  },
  {
   "cell_type": "markdown",
   "id": "efc2af29-1499-4de7-babb-da7eaba751d6",
   "metadata": {},
   "source": [
    "## Question3 Your task is to create a Circle constructor that creates a circle with a radius provided by an argument. The circles constructed must have two getters getArea() (PIr^2) and getPerimeter() (2PI*r) which give both respective areas and perimeter (circumference).<br>\n",
    "For help with this class, I have provided you with a Rectangle constructor which you can use as a base example.\n",
    "Examples<br>\n",
    "circy = Circle(11)<br>\n",
    "circy.getArea()<br>\n",
    "\n",
    "Should return 380.132711084365<br>\n",
    "\n",
    "circy = Circle(4.44)<br>\n",
    "circy.getPerimeter()<br>\n",
    "\n",
    "Should return 27.897342763877365<br>\n",
    "Notes<br>\n",
    "Round results up to the nearest integer."
   ]
  },
  {
   "cell_type": "code",
   "execution_count": 25,
   "id": "ec0a39b7-c7c4-4c1e-a5e5-9d9149b32958",
   "metadata": {},
   "outputs": [
    {
     "name": "stdout",
     "output_type": "stream",
     "text": [
      "Area:-  380\n",
      "Perimeter:-  28\n"
     ]
    }
   ],
   "source": [
    "import math as m\n",
    "class Circle:\n",
    "    def __init__(self,radius):\n",
    "        self.radius = radius\n",
    "        \n",
    "    def getArea(self):\n",
    "        print(\"Area:- \",round((m.pi)*self.radius*self.radius))\n",
    "    \n",
    "    def getPerimeter(self):\n",
    "        print(\"Perimeter:- \",round( 2*(m.pi)*self.radius))\n",
    "        \n",
    " \n",
    "\n",
    "circy = Circle(11)\n",
    "circy.getArea()\n",
    "\n",
    "\n",
    "circy = Circle(4.44)\n",
    "circy.getPerimeter()        "
   ]
  },
  {
   "cell_type": "markdown",
   "id": "5a687fea-b7f7-4da3-9f6b-2252b07dabd7",
   "metadata": {},
   "source": [
    "## Question4 Create a function that takes a list of strings and return a list, sorted from shortest to longest.\n",
    "<br>Examples <br>\n",
    "sort_by_length([\"Google\", \"Apple\", \"Microsoft\"])<br>\n",
    "➞ [\"Apple\", \"Google\", \"Microsoft\"]<br>\n",
    "\n",
    "sort_by_length([\"Leonardo\", \"Michelangelo\", \"Raphael\", \"Donatello\"])<br>\n",
    "➞ [\"Raphael\", \"Leonardo\", \"Donatello\", \"Michelangelo\"]<br>\n",
    "\n",
    "sort_by_length([\"Turing\", \"Einstein\", \"Jung\"])<br>\n",
    "➞ [\"Jung\", \"Turing\", \"Einstein\"]<br>\n",
    "Notes<br>\n",
    "All test cases contain lists with strings of different lengths, so you won't have to deal with multiple strings of the same length."
   ]
  },
  {
   "cell_type": "code",
   "execution_count": 30,
   "id": "803c68a1-7b95-4346-a5fb-5c38116f82cc",
   "metadata": {},
   "outputs": [
    {
     "name": "stdout",
     "output_type": "stream",
     "text": [
      "['Apple', 'Google', 'Microsoft']\n",
      "['Raphael', 'Leonardo', 'Donatello', 'Michelangelo']\n",
      "['Jung', 'Turing', 'Einstein']\n"
     ]
    }
   ],
   "source": [
    "def sort_by_length(s):\n",
    "    print(sorted(s,key =len))\n",
    "    \n",
    "    \n",
    "sort_by_length([\"Google\", \"Apple\", \"Microsoft\"]) \n",
    "sort_by_length([\"Leonardo\", \"Michelangelo\", \"Raphael\", \"Donatello\"])\n",
    "sort_by_length([\"Turing\", \"Einstein\", \"Jung\"])"
   ]
  },
  {
   "cell_type": "markdown",
   "id": "85bda7ee-73c7-4468-9e2b-890a7234f535",
   "metadata": {},
   "source": [
    "## Question5 Create a function that validates whether three given integers form a Pythagorean triplet. The sum of the squares of the two smallest integers must equal the square of the largest number to be validated.\n",
    "\n",
    "\n",
    "Examples<br>\n",
    "is_triplet(3, 4, 5) ➞ Truev<br>\n",
    "3² + 4² = 25<br>\n",
    "5² = 25<br>\n",
    "\n",
    "is_triplet(13, 5, 12) ➞ True<br>\n",
    "5² + 12² = 169<br>\n",
    "13² = 169<br>\n",
    "\n",
    "is_triplet(1, 2, 3) ➞ False<br>\n",
    "1² + 2² = 5<br>\n",
    "3² = 9<br>\n",
    "Notes<br>\n",
    "Numbers may not be given in a sorted order.<br>"
   ]
  },
  {
   "cell_type": "code",
   "execution_count": 53,
   "id": "9e262949-6d3e-4efe-9295-e2090ea1b0d8",
   "metadata": {},
   "outputs": [
    {
     "name": "stdout",
     "output_type": "stream",
     "text": [
      "is_triplet((3, 4, 5)) ➞ True\n",
      "is_triplet((13, 5, 12)) ➞ True\n",
      "is_triplet((1, 2, 3)) ➞ False\n"
     ]
    }
   ],
   "source": [
    "def is_triplet(a,b,c):\n",
    "    if a>b and a>c:\n",
    "        if ((a**2) == (b**2)+(c**2)):\n",
    "            print(f'is_triplet({a,b,c}) ➞ True')\n",
    "        else:\n",
    "            print(f'is_triplet({a,b,c}) ➞ False')\n",
    "    elif b>a and b>c:\n",
    "        \n",
    "        if b*b == (a*a)+(c*c):       \n",
    "                print(f'is_triplet({a,b,c}) ➞ True')\n",
    "        else:\n",
    "            print(f'is_triplet({a,b,c}) ➞ False') \n",
    "        \n",
    "    elif c>a and c>b:\n",
    "         if c*c == (a*a)+(b*b):\n",
    "                print(f'is_triplet({a,b,c}) ➞ True')\n",
    "         else:\n",
    "            print(f'is_triplet({a,b,c}) ➞ False')     \n",
    "    else:\n",
    "        print(f'is_triplet({a,b,c}) ➞ False')\n",
    "\n",
    "is_triplet(3, 4, 5)\n",
    "is_triplet(13, 5, 12)\n",
    "is_triplet(1, 2, 3)"
   ]
  }
 ],
 "metadata": {
  "kernelspec": {
   "display_name": "Python 3 (ipykernel)",
   "language": "python",
   "name": "python3"
  },
  "language_info": {
   "codemirror_mode": {
    "name": "ipython",
    "version": 3
   },
   "file_extension": ".py",
   "mimetype": "text/x-python",
   "name": "python",
   "nbconvert_exporter": "python",
   "pygments_lexer": "ipython3",
   "version": "3.10.6"
  }
 },
 "nbformat": 4,
 "nbformat_minor": 5
}

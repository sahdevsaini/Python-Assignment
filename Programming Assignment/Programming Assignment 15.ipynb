{
 "cells": [
  {
   "cell_type": "markdown",
   "id": "f39d0218-c19d-4831-b52f-53ce4e6acadc",
   "metadata": {},
   "source": [
    "## -------------------------------- Programming Assingment-15 --------------------------------------"
   ]
  },
  {
   "cell_type": "markdown",
   "id": "748d410a-2b9a-431d-b09f-2ba3efd2460a",
   "metadata": {},
   "source": [
    "## Question 1: Please write a program using generator to print the numbers which can be divisible by 5 and 7 between 0 and n in comma separated form while n is input by console.\n",
    "Example:\n",
    "If the following n is given as input to the program:\n",
    "100\n",
    "Then, the output of the program should be:\n",
    "0,35,70"
   ]
  },
  {
   "cell_type": "code",
   "execution_count": 6,
   "id": "0f91e4fc-5c1d-4e8d-996a-cade5f49adab",
   "metadata": {},
   "outputs": [
    {
     "name": "stdout",
     "output_type": "stream",
     "text": [
      "0 35 70 "
     ]
    }
   ],
   "source": [
    "def divisible(n):\n",
    "    for i in range(0,n):\n",
    "        if (i%5 == 0) and (i%7 ==0):\n",
    "            yield i\n",
    "\n",
    "for i in divisible(100):\n",
    "    print(i,end=' ')"
   ]
  },
  {
   "cell_type": "markdown",
   "id": "46334c78-967e-4806-818b-784a5f9ca45b",
   "metadata": {},
   "source": [
    "## Question 2: Please write a program using generator to print the even numbers between 0 and n in comma separated form while n is input by console.\n",
    "Example:\n",
    "If the following n is given as input to the program:\n",
    "10\n",
    "Then, the output of the program should be:\n",
    "0,2,4,6,8,10"
   ]
  },
  {
   "cell_type": "code",
   "execution_count": 7,
   "id": "b9e61ede-40b2-4fbe-aa21-f152ff74d73b",
   "metadata": {},
   "outputs": [
    {
     "name": "stdout",
     "output_type": "stream",
     "text": [
      "0 2 4 6 8 10 "
     ]
    }
   ],
   "source": [
    "def EveNumber(n):\n",
    "    for i in range(0,n+1):\n",
    "        if i%2 ==0:\n",
    "            yield i\n",
    "\n",
    "for i in EveNumber(10):\n",
    "    print(i,end=' ')"
   ]
  },
  {
   "cell_type": "markdown",
   "id": "f3c8f7fd-c918-4878-871d-15cf186e7daf",
   "metadata": {},
   "source": [
    "## Question 3: The Fibonacci Sequence is computed based on the following formula:\n",
    "f(n)=0 if n=0\n",
    "f(n)=1 if n=1\n",
    "f(n)=f(n-1)+f(n-2) if n>1\n",
    "Please write a program using list comprehension to print the Fibonacci Sequence in comma separated form with a given n input by console.\n",
    "Example:\n",
    "If the following n is given as input to the program:\n",
    "7\n",
    "\n",
    "Then, the output of the program should be:\n",
    "0,1,1,2,3,5,8,13"
   ]
  },
  {
   "cell_type": "code",
   "execution_count": 11,
   "id": "faf76a68-05de-4011-98bf-4a90eff04d7b",
   "metadata": {},
   "outputs": [
    {
     "name": "stdout",
     "output_type": "stream",
     "text": [
      "[0, 1, 1, 2, 3, 5, 8, 13, 21, 34, 55, 89, 144, 233, 377, 610, 987, 1597, 2584, 4181]\n"
     ]
    }
   ],
   "source": [
    "def genFibonaci(n):\n",
    "    if n == 0:\n",
    "        return 0\n",
    "    elif n==1:\n",
    "        return 1\n",
    "    else:\n",
    "        return genFibonaci(n-1) + genFibonaci(n-2)\n",
    "    \n",
    "print([genFibonaci(x) for x in range(20)])"
   ]
  },
  {
   "cell_type": "markdown",
   "id": "5b3b3e0d-3623-47e1-9f32-067132a83c24",
   "metadata": {},
   "source": [
    "## Question 4: Assuming that we have some email addresses in the \"username@companyname.com\" format, please write program to print the user name of a given email address. Both user names and company names are composed of letters only.\n",
    "Example:\n",
    "If the following email address is given as input to the program:\n",
    "john@google.com\n",
    "Then, the output of the program should be:\n",
    "john\n"
   ]
  },
  {
   "cell_type": "code",
   "execution_count": 2,
   "id": "fdb3f9f0-e736-4ce5-bd81-b953e2435af4",
   "metadata": {},
   "outputs": [
    {
     "name": "stdin",
     "output_type": "stream",
     "text": [
      " username@companyname.com\n"
     ]
    },
    {
     "name": "stdout",
     "output_type": "stream",
     "text": [
      "The username is :-   username\n"
     ]
    }
   ],
   "source": [
    "def Username(n):\n",
    "    n1 = ' '\n",
    "    for i in n:\n",
    "        if i != '@':\n",
    "            n1 = n1 + i\n",
    "        else:\n",
    "            break\n",
    "    return n1       \n",
    "\n",
    "n = input()\n",
    "print(\"The username is :- \",Username(n))\n",
    "    "
   ]
  },
  {
   "cell_type": "markdown",
   "id": "efe27f3c-f915-4a1e-aa88-fa559193c0d2",
   "metadata": {},
   "source": [
    "## Question 5: Define a class named Shape and its subclass Square. The Square class has an init function which takes a length as argument. Both classes have a area function which can print the area of the shape where Shape's area is 0 by default.\n",
    "\n"
   ]
  },
  {
   "cell_type": "code",
   "execution_count": 5,
   "id": "5f7c0b54-e4e6-488f-9672-f85a015eff48",
   "metadata": {},
   "outputs": [
    {
     "name": "stdout",
     "output_type": "stream",
     "text": [
      "900\n"
     ]
    }
   ],
   "source": [
    "class Shape:\n",
    "    def area(self):\n",
    "        return 0\n",
    "    \n",
    "class Sqaure(Shape):\n",
    "    def __init__(self,length):\n",
    "        self.lenght = length\n",
    "        \n",
    "    def area(self):\n",
    "        return self.lenght*self.lenght  \n",
    "    \n",
    "\n",
    "shape =  Sqaure(30)\n",
    "print(shape.area())\n",
    "        "
   ]
  },
  {
   "cell_type": "markdown",
   "id": "225a586a-b6b7-4d31-9d1b-6e235acf011e",
   "metadata": {},
   "source": []
  }
 ],
 "metadata": {
  "kernelspec": {
   "display_name": "Python 3 (ipykernel)",
   "language": "python",
   "name": "python3"
  },
  "language_info": {
   "codemirror_mode": {
    "name": "ipython",
    "version": 3
   },
   "file_extension": ".py",
   "mimetype": "text/x-python",
   "name": "python",
   "nbconvert_exporter": "python",
   "pygments_lexer": "ipython3",
   "version": "3.10.6"
  }
 },
 "nbformat": 4,
 "nbformat_minor": 5
}

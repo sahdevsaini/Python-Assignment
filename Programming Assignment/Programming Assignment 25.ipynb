{
 "cells": [
  {
   "cell_type": "markdown",
   "id": "25b331b9-e37c-4b2a-8c48-58ba63e47632",
   "metadata": {},
   "source": [
    "## -------------------------------- Programming Assignment-25 ------------------------------------"
   ]
  },
  {
   "cell_type": "markdown",
   "id": "014b3688-f186-4eeb-9484-5980283fcac1",
   "metadata": {},
   "source": [
    "## Question1 Create a function that takes three integer arguments (a, b, c) and returns the amount of integers which are of equal value.\n",
    "Examples<br>\n",
    "equal(3, 4, 3) ➞ 2\n",
    "\n",
    "equal(1, 1, 1) ➞ 3\n",
    "\n",
    "equal(3, 4, 1) ➞ 0 \n",
    "Notes\n",
    "Your function must return 0, 2 or 3."
   ]
  },
  {
   "cell_type": "code",
   "execution_count": 15,
   "id": "f03d1b80-e927-465e-9a1a-46a4c6a66599",
   "metadata": {},
   "outputs": [
    {
     "name": "stdout",
     "output_type": "stream",
     "text": [
      "equal((3, 4, 3)) ➞ 2\n",
      "equal((1, 1, 1)) ➞ 3\n",
      "equal((3, 4, 1)) ➞ 0\n"
     ]
    }
   ],
   "source": [
    "def equal(a,b,c):\n",
    "    coun = 0\n",
    "    if a == b == c:\n",
    "        coun += 3\n",
    "    elif a==b or b==c or a==c :\n",
    "        coun += 2\n",
    "    print(f'equal({a,b,c}) ➞ {coun}')    \n",
    "        \n",
    "equal(3, 4, 3)\n",
    "equal(1, 1, 1)\n",
    "equal(3, 4, 1)"
   ]
  },
  {
   "cell_type": "markdown",
   "id": "6789d1c1-38b0-42cc-9d0c-b1408bf8b2c9",
   "metadata": {},
   "source": [
    "## Question2 Write a function that converts a dictionary into a list of keys-values tuples.\n",
    "Examples<br>\n",
    "dict_to_list({<br>\n",
    "  \"D\": 1,<br>\n",
    "  \"B\": 2,<br>\n",
    "  \"C\": 3<br>\n",
    "}) ➞ [(\"B\", 2), (\"C\", 3), (\"D\", 1)]<br>\n",
    "<br>\n",
    "dict_to_list({<br>\n",
    "  \"likes\": 2,<br>\n",
    "  \"dislikes\": 3,<br>\n",
    "  \"followers\": 10<br>\n",
    "}) ➞ [(\"dislikes\", 3), (\"followers\", 10), (\"likes\", 2)]<br>\n",
    "Notes<br>\n",
    "Return the elements in the list in alphabetical order."
   ]
  },
  {
   "cell_type": "code",
   "execution_count": 27,
   "id": "e3ed947f-261b-4f20-85a3-088f22db4016",
   "metadata": {},
   "outputs": [
    {
     "name": "stdout",
     "output_type": "stream",
     "text": [
      " dict_to_list({'D': 1, 'B': 2, 'C': 3}) ➞ [(0, 'B'), (1, 'C'), (2, 'D')]\n",
      " dict_to_list({'likes': 2, 'dislikes': 3, 'followers': 100}) ➞ [(0, 'dislikes'), (1, 'followers'), (2, 'likes')]\n"
     ]
    }
   ],
   "source": [
    "def dict_to_list(d):\n",
    "    lis =[]\n",
    "    for i in (enumerate(sorted(d))):\n",
    "        lis.append(i)  \n",
    "    print(f' dict_to_list({d}) ➞ {lis}')\n",
    "  \n",
    "\n",
    "dict_to_list({\n",
    "  \"D\": 1,\n",
    "  \"B\": 2,\n",
    "  \"C\": 3 })\n",
    "\n",
    "dict_to_list({\n",
    "  \"likes\": 2,\n",
    "  \"dislikes\": 3,\n",
    "  \"followers\": 100})\n",
    "    "
   ]
  },
  {
   "cell_type": "markdown",
   "id": "4382b652-51da-48c1-bc8e-44eb6a9a1158",
   "metadata": {},
   "source": [
    "## Question3 Write a function that creates a dictionary with each (key, value) pair being the (lower case, upper case) versions of a letter, respectively.\n",
    "Examples<br>\n",
    "mapping([\"p\", \"s\"]) ➞ { \"p\": \"P\", \"s\": \"S\" }<br>\n",
    "<br>\n",
    "mapping([\"a\", \"b\", \"c\"]) ➞ { \"a\": \"A\", \"b\": \"B\", \"c\": \"C\" }<br>\n",
    "<br>\n",
    "mapping([\"a\", \"v\", \"y\", \"z\"]) ➞ { \"a\": \"A\", \"v\": \"V\", \"y\": \"Y\", \"z\": \"Z\" }<br>\n",
    "Notes<br>\n",
    "All of the letters in the input list will always be lowercase."
   ]
  },
  {
   "cell_type": "code",
   "execution_count": 37,
   "id": "c10ceeea-1d65-4e96-8af9-c1917eb8ac0b",
   "metadata": {},
   "outputs": [
    {
     "name": "stdout",
     "output_type": "stream",
     "text": [
      " mapping([\"p\", \"s\"]) ➞ {'p': 'P', 's': 'S'}\n",
      " mapping([\"p\", \"s\"]) ➞ {'a': 'A', 'b': 'B', 'c': 'C'}\n",
      " mapping([\"p\", \"s\"]) ➞ {'a': 'A', 'v': 'V', 'y': 'Y', 'z': 'Z'}\n"
     ]
    }
   ],
   "source": [
    "def mapping(d):\n",
    "    dic = {}\n",
    "    for i in d:\n",
    "        dic[i] = i.upper()\n",
    "    print(f' mapping([\"p\", \"s\"]) ➞ {dic}')    \n",
    "        \n",
    "        \n",
    "mapping([\"p\", \"s\"])       \n",
    "mapping([\"a\", \"b\", \"c\"])\n",
    "mapping([\"a\", \"v\", \"y\", \"z\"])"
   ]
  },
  {
   "cell_type": "markdown",
   "id": "e911ed06-8076-438a-a95b-35da63b8f402",
   "metadata": {},
   "source": [
    "## Question4 Write a function, that replaces all vowels in a string with a specified vowel.\n",
    "Examples<br>\n",
    "vow_replace(\"apples and bananas\", \"u\") ➞ \"upplus und bununus\"<br>\n",
    "<br>\n",
    "vow_replace(\"cheese casserole\", \"o\") ➞ \"chooso cossorolo\"<br>\n",
    "<br>\n",
    "vow_replace(\"stuffed jalapeno poppers\", \"e\") ➞ \"steffed jelepene peppers\"<br>\n",
    "Notes<br>\n",
    "All words will be lowercase. Y is not considered a vowel."
   ]
  },
  {
   "cell_type": "code",
   "execution_count": 46,
   "id": "040266df-f313-4f87-a55b-5dba52de40de",
   "metadata": {},
   "outputs": [
    {
     "name": "stdout",
     "output_type": "stream",
     "text": [
      "vow_replace(\"apples and bananas\", \"u\") ➞ upplus und bununus\n",
      "vow_replace(\"cheese casserole\", \"o\") ➞ chooso cossorolo\n",
      "vow_replace(\"stuffed jalapeno poppers\", \"e\") ➞ steffed jelepene peppers\n"
     ]
    }
   ],
   "source": [
    "def vow_replace(s,re):\n",
    "    vo = ['a','e','i','o','u']\n",
    "    st =''\n",
    "    for i in s:\n",
    "        if i in vo:\n",
    "            st = st + re\n",
    "        else:\n",
    "            st += i\n",
    "    print(f'vow_replace(\"{s}\", \"{re}\") ➞ {st}')       \n",
    "            \n",
    "vow_replace(\"apples and bananas\", \"u\")\n",
    "vow_replace(\"cheese casserole\", \"o\")\n",
    "vow_replace(\"stuffed jalapeno poppers\", \"e\")"
   ]
  },
  {
   "cell_type": "markdown",
   "id": "1e2b5c0a-e114-45a5-89f9-b7c89287f69f",
   "metadata": {},
   "source": [
    "## Question5 Create a function that takes a string as input and capitalizes a letter if its ASCII code is even and returns its lower case version if its ASCII code is odd.\n",
    "Examples<br>\n",
    "ascii_capitalize(\"to be or not to be!\") ➞ \"To Be oR NoT To Be!\"<br>\n",
    "<br>\n",
    "ascii_capitalize(\"THE LITTLE MERMAID\") ➞ \"THe LiTTLe meRmaiD\"<br>\n",
    "<br>\n",
    "ascii_capitalize(\"Oh what a beautiful morning.\") ➞ \"oH wHaT a BeauTiFuL moRNiNg.\""
   ]
  },
  {
   "cell_type": "code",
   "execution_count": 52,
   "id": "28f3a9cb-c1f6-445d-a61b-ed7d7ad926c5",
   "metadata": {},
   "outputs": [
    {
     "name": "stdout",
     "output_type": "stream",
     "text": [
      "ascii_capitalize(\"to be or not to be!\") ➞ To Be oR NoT To Be!\n",
      "ascii_capitalize(\"to be or not to be!\") ➞ THe LiTTLe meRmaiD\n",
      "ascii_capitalize(\"to be or not to be!\") ➞ oH wHaT a BeauTiFuL moRNiNg.\n"
     ]
    }
   ],
   "source": [
    "def ascii_capitalize(s):\n",
    "    st = ''\n",
    "    for i in s:\n",
    "        if ord(i)%2 ==0:                                  # ord() function is used to find ASCII code of character.\n",
    "            st = st + i.upper()\n",
    "        elif ord(i)%2 !=0:\n",
    "            st = st + i.lower()\n",
    "        else:    \n",
    "            st = st + i\n",
    "    print(f'ascii_capitalize(\"to be or not to be!\") ➞ {st}') \n",
    "    \n",
    "    \n",
    "ascii_capitalize(\"to be or not to be!\")\n",
    "ascii_capitalize(\"THE LITTLE MERMAID\")\n",
    "ascii_capitalize(\"Oh what a beautiful morning.\")"
   ]
  },
  {
   "cell_type": "code",
   "execution_count": null,
   "id": "ac5f6da4-8b7f-4192-bd74-8fb1e2c20d98",
   "metadata": {},
   "outputs": [],
   "source": []
  }
 ],
 "metadata": {
  "kernelspec": {
   "display_name": "Python 3 (ipykernel)",
   "language": "python",
   "name": "python3"
  },
  "language_info": {
   "codemirror_mode": {
    "name": "ipython",
    "version": 3
   },
   "file_extension": ".py",
   "mimetype": "text/x-python",
   "name": "python",
   "nbconvert_exporter": "python",
   "pygments_lexer": "ipython3",
   "version": "3.10.6"
  }
 },
 "nbformat": 4,
 "nbformat_minor": 5
}

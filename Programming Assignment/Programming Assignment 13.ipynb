{
 "cells": [
  {
   "cell_type": "markdown",
   "id": "1c6c300a-53f6-4191-a9ee-b27bbebc2ad0",
   "metadata": {},
   "source": [
    "## --------------------------------- Programming Assignment- 13 -------------------------------"
   ]
  },
  {
   "cell_type": "markdown",
   "id": "b6ab737a-99bf-4c15-a766-452ec34d4b40",
   "metadata": {},
   "source": [
    "## Question 1: Write a program that calculates and prints the value according to the given formula:\n",
    "\n",
    "Q = Square root of [(2 * C * D)/H]\n",
    "\n",
    "Following are the fixed values of C and H:\n",
    "\n",
    "C is 50. H is 30.\n",
    "\n",
    "D is the variable whose values should be input to your program in a comma-separated sequence.\n",
    "\n",
    "Example\n",
    "\n",
    "Let us assume the following comma separated input sequence is given to the program:\n",
    "\n",
    "100,150,180\n",
    "\n",
    "The output of the program should be:\n",
    "\n",
    "18,22,24"
   ]
  },
  {
   "cell_type": "code",
   "execution_count": 18,
   "id": "d75ee30a-fed0-4d4a-b65f-9ca59ed4041d",
   "metadata": {},
   "outputs": [
    {
     "name": "stdin",
     "output_type": "stream",
     "text": [
      "Enter the input Value :-  [10,30,50]\n"
     ]
    },
    {
     "name": "stdout",
     "output_type": "stream",
     "text": [
      "The output Value are:-  ['5', '10', '12']\n"
     ]
    }
   ],
   "source": [
    "input_ = eval(input(\"Enter the input Value :- \"))\n",
    "out_= []\n",
    "C= 50\n",
    "H =30\n",
    "for i in input_:\n",
    "    Q = str(int(sqrt((2 * C * i)/H)))\n",
    "    out_.append(Q)\n",
    "    \n",
    "print(\"The output Value are:- \",out_)    \n",
    "    "
   ]
  },
  {
   "cell_type": "markdown",
   "id": "c991d1fd-e65d-4ec7-a7d6-ae278475a89d",
   "metadata": {},
   "source": [
    "## Question 2: Write a program which takes 2 digits, X,Y as input and generates a 2-dimensional array. The element value in the i-th row and j-th column of the array should be i*j.\n",
    "\n",
    "Note: i=0,1.., X-1; j=0,1,¡¬Y-1.\n",
    "\n",
    "Example\n",
    "\n",
    "Suppose the following inputs are given to the program:\n",
    "\n",
    "3,5\n",
    "\n",
    "Then, the output of the program should be:\n",
    "\n",
    "[[0, 0, 0, 0, 0], [0, 1, 2, 3, 4], [0, 2, 4, 6, 8]] "
   ]
  },
  {
   "cell_type": "code",
   "execution_count": 24,
   "id": "920cac19-b796-42b6-b504-c19ff2fa6176",
   "metadata": {},
   "outputs": [
    {
     "name": "stdin",
     "output_type": "stream",
     "text": [
      " 3\n",
      " 5\n"
     ]
    },
    {
     "name": "stdout",
     "output_type": "stream",
     "text": [
      "The Output array is :-  [[0, 0, 0, 0, 0], [0, 1, 2, 3, 4], [0, 2, 4, 6, 8]]\n"
     ]
    }
   ],
   "source": [
    "import array as arr\n",
    "def two_dimensional():\n",
    "    X= int(input())\n",
    "    Y= int(input())\n",
    "    out_arry = []\n",
    "    for i in range(X):\n",
    "        out_arry.insert(X,[])\n",
    "        for j in range(Y):\n",
    "            out_arry[i].append(i*j)\n",
    "    print(\"The Output array is :- \",out_arry)  \n",
    "    \n",
    "two_dimensional()   "
   ]
  },
  {
   "cell_type": "markdown",
   "id": "89578138-3275-4831-afff-a8363b9cabbe",
   "metadata": {},
   "source": [
    "## Question 3: Write a program that accepts a comma separated sequence of words as input and prints the words in a comma-separated sequence after sorting them alphabetically.\n",
    "\n",
    "Suppose the following input is supplied to the program:\n",
    "\n",
    "without,hello,bag,world\n",
    "\n",
    "Then, the output should be:\n",
    "\n",
    "bag,hello,without,world\n"
   ]
  },
  {
   "cell_type": "code",
   "execution_count": 74,
   "id": "7c448445-8015-45cf-a0f7-e332240ab69e",
   "metadata": {},
   "outputs": [
    {
     "name": "stdin",
     "output_type": "stream",
     "text": [
      "Enter the input String:-  without,hello,bag,world\n"
     ]
    },
    {
     "name": "stdout",
     "output_type": "stream",
     "text": [
      "bag,hello,without,world\n"
     ]
    }
   ],
   "source": [
    "inp = input(\"Enter the input String:- \")\n",
    "print(','.join(sorted(inp.split(','))))"
   ]
  },
  {
   "cell_type": "markdown",
   "id": "d74fe4d3-e201-4dbb-a51f-9639d201617b",
   "metadata": {},
   "source": [
    "## Question 4: Write a program that accepts a sequence of whitespace separated words as input and prints the words after removing all duplicate words and sorting them alphanumerically.\n",
    "\n",
    "Suppose the following input is supplied to the program:\n",
    "\n",
    "hello world and practice makes perfect and hello world again\n",
    "\n",
    "Then, the output should be:\n",
    "\n",
    "again and hello makes perfect practice world"
   ]
  },
  {
   "cell_type": "code",
   "execution_count": 53,
   "id": "f884ea51-6fcd-4a90-a8e6-fe2ed22a883b",
   "metadata": {},
   "outputs": [
    {
     "name": "stdin",
     "output_type": "stream",
     "text": [
      "Enter the Input String :-  hello world and practice makes perfect and hello world again\n"
     ]
    },
    {
     "name": "stdout",
     "output_type": "stream",
     "text": [
      "The output string is :- \n",
      " again and hello makes perfect practice world\n"
     ]
    }
   ],
   "source": [
    "input_ = input(\"Enter the Input String :- \")\n",
    "inp1= ' '.join(sorted(set(input_.split(' '))))\n",
    "print(\"The output string is :- \\n\",inp1)"
   ]
  },
  {
   "cell_type": "markdown",
   "id": "a934fe41-c987-4e13-96ae-d75f2e5bd2d9",
   "metadata": {},
   "source": [
    "## Question 5: Write a program that accepts a sentence and calculate the number of letters and digits.\n",
    "\n",
    "Suppose the following input is supplied to the program:\n",
    "\n",
    "hello world! 123\n",
    "\n",
    "Then, the output should be:\n",
    "\n",
    "LETTERS 10\n",
    "\n",
    "DIGITS 3"
   ]
  },
  {
   "cell_type": "code",
   "execution_count": 72,
   "id": "ef1cbcb4-1c8d-4c9b-8415-14e0d064226b",
   "metadata": {},
   "outputs": [
    {
     "name": "stdin",
     "output_type": "stream",
     "text": [
      " hello world! 123\n"
     ]
    },
    {
     "name": "stdout",
     "output_type": "stream",
     "text": [
      "LETTERS  10\n",
      "DIGITS  3\n"
     ]
    }
   ],
   "source": [
    "inp_ = input()\n",
    "lettersList = 'ABCDEFGHIJKLMNOPQRSTUVWXYZabcdefghijklmnopqrstuvwxyz'\n",
    "digitsList = '0123456789'\n",
    "DIGITS = 0\n",
    "LETTERS = 0\n",
    "for i in inp_:\n",
    "    if i in lettersList:\n",
    "        LETTERS = LETTERS +1\n",
    "    if i in digitsList:\n",
    "        DIGITS = DIGITS +1\n",
    "        \n",
    "print(\"LETTERS \",LETTERS)\n",
    "print(\"DIGITS \",DIGITS) "
   ]
  },
  {
   "cell_type": "markdown",
   "id": "fe3806bc-7d98-4767-874c-e3cc4270a9a2",
   "metadata": {},
   "source": [
    "## Question 6: A website requires the users to input username and password to register. Write a program to check the validity of password input by users.\n",
    "\n",
    "Following are the criteria for checking the password:\n",
    "\n",
    "1. At least 1 letter between [a-z]\n",
    "\n",
    "2. At least 1 number between [0-9]\n",
    "\n",
    "1. At least 1 letter between [A-Z]\n",
    "\n",
    "3. At least 1 character from [$#@]\n",
    "\n",
    "4. Minimum length of transaction password: 6\n",
    "\n",
    "5. Maximum length of transaction password: 12\n",
    "\n",
    "Your program should accept a sequence of comma separated passwords and will check them according to the above criteria. Passwords that match the criteria are to be printed, each separated by a comma.\n",
    "\n",
    "Example\n",
    "\n",
    "If the following passwords are given as input to the program:\n",
    "\n",
    "ABd1234@1,a F1#,2w3E*,2We3345\n",
    "\n",
    "Then, the output of the program should be:\n",
    "\n",
    "ABd1234@1"
   ]
  },
  {
   "cell_type": "code",
   "execution_count": 73,
   "id": "ec261a0a-c555-44e9-992a-2ff000cde6ac",
   "metadata": {},
   "outputs": [
    {
     "name": "stdin",
     "output_type": "stream",
     "text": [
      "Enter the Input String:  ABd1234@1,a F1#,2w3E*,2We3345\n"
     ]
    },
    {
     "name": "stdout",
     "output_type": "stream",
     "text": [
      "ABd1234@1\n"
     ]
    }
   ],
   "source": [
    "def checkPassword():\n",
    "    in_string = input(\"Enter the Input String: \")\n",
    "    small_list = \"abcdefghijklmnopqrstuvwxyz\"\n",
    "    cap_list = \"ABCDEFGHIJKLMNOPQRSTUVWXYZ\"\n",
    "    num_list = \"0123456789\"\n",
    "    special_list = \"$#@\"\n",
    "    for ele in in_string.split(\",\"):\n",
    "        if len(ele) <= 12 and len(ele) >=6 :\n",
    "            if any(i.isupper() for i in ele):\n",
    "                if any(i.islower() for i in ele):\n",
    "                    if any(i for i in ele if i in special_list):\n",
    "                        print(ele)\n",
    "                               \n",
    "checkPassword() "
   ]
  },
  {
   "cell_type": "markdown",
   "id": "8f6fadc8-7eef-42fe-9088-8bec6e42a2e0",
   "metadata": {},
   "source": [
    "\n",
    "\n",
    "\n",
    "\n",
    "\n"
   ]
  }
 ],
 "metadata": {
  "kernelspec": {
   "display_name": "Python 3 (ipykernel)",
   "language": "python",
   "name": "python3"
  },
  "language_info": {
   "codemirror_mode": {
    "name": "ipython",
    "version": 3
   },
   "file_extension": ".py",
   "mimetype": "text/x-python",
   "name": "python",
   "nbconvert_exporter": "python",
   "pygments_lexer": "ipython3",
   "version": "3.10.6"
  }
 },
 "nbformat": 4,
 "nbformat_minor": 5
}

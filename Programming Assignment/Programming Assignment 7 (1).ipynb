{
 "cells": [
  {
   "cell_type": "markdown",
   "id": "27048581",
   "metadata": {},
   "source": [
    "### 1.\tWrite a Python Program to find sum of array?"
   ]
  },
  {
   "cell_type": "code",
   "execution_count": null,
   "id": "f0dd5cc4",
   "metadata": {},
   "outputs": [],
   "source": [
    "arr=[10,20,30,40,50]\n",
    "sum_=0\n",
    "for i in arr:\n",
    "    sum_=sum_+i\n",
    "    i=i+1\n",
    "\n",
    "print(sum_)    "
   ]
  },
  {
   "cell_type": "markdown",
   "id": "5c3d475b",
   "metadata": {},
   "source": [
    "### 2.\tWrite a Python Program to find largest element in an array?"
   ]
  },
  {
   "cell_type": "code",
   "execution_count": null,
   "id": "83676177",
   "metadata": {},
   "outputs": [],
   "source": [
    "arr=[10,30,76,89,60]\n",
    "arr.sort()\n",
    "arr.reverse()\n",
    "print(f\"The Largest  element of array {arr} is : \",arr[0])\n"
   ]
  },
  {
   "cell_type": "markdown",
   "id": "826d6bb4",
   "metadata": {},
   "source": [
    "### 3.\tWrite a Python Program for array rotation?"
   ]
  },
  {
   "cell_type": "code",
   "execution_count": null,
   "id": "1f1fedfa",
   "metadata": {},
   "outputs": [],
   "source": [
    "a=[10,25,3,8,79,85]\n",
    "d=2\n",
    "temp = []\n",
    "n=len(a)\n",
    "for i in range(d,n):\n",
    "    temp.append(a[i])\n",
    "i = 0\n",
    "for i in range (0,d):\n",
    "    temp.append(a[i])\n",
    "a=temp.copy()\n",
    "    \n",
    "print(a)\n",
    "\n",
    "        \n",
    "\n",
    "      \n",
    "        \n",
    "        \n",
    "    "
   ]
  },
  {
   "cell_type": "markdown",
   "id": "19fea8ad",
   "metadata": {},
   "source": [
    "### 4.\tWrite a Python Program to Split the array and add the first part to the end?"
   ]
  },
  {
   "cell_type": "code",
   "execution_count": 4,
   "id": "c7b62516",
   "metadata": {},
   "outputs": [
    {
     "name": "stdout",
     "output_type": "stream",
     "text": [
      "The array after splitting at position 2 is : [3, 8, 79, 85, 10, 25]\n"
     ]
    }
   ],
   "source": [
    "def splitarray(a,p):\n",
    "    temp = []\n",
    "    n=len(a)\n",
    "    for i in range(p,n):\n",
    "        temp.append(a[i])\n",
    "    i = 0\n",
    "    for i in range (0,p):\n",
    "        temp.append(a[i])\n",
    "    a=temp.copy()\n",
    "    return a\n",
    "\n",
    "arr=[10,25,3,8,79,85]\n",
    "pos=2\n",
    "print(f\"The array after splitting at position {pos} is :\",splitarray(arr,pos))        \n",
    "\n",
    "      \n",
    "        \n",
    "        \n",
    "    "
   ]
  },
  {
   "cell_type": "markdown",
   "id": "f2c3215f",
   "metadata": {},
   "source": [
    "### 5.\tWrite a Python Program to check if given array is Monotonic?"
   ]
  },
  {
   "cell_type": "code",
   "execution_count": 6,
   "id": "dc41f8a0",
   "metadata": {},
   "outputs": [
    {
     "name": "stdout",
     "output_type": "stream",
     "text": [
      "[10, 25, 3, 8, 79, 85] is not monotonic \n"
     ]
    }
   ],
   "source": [
    "aar=[10,45,65,87,12,4]\n",
    "arr1,arr2=[],[]\n",
    "arr1.extend(arr)\n",
    "arr2.extend(arr)\n",
    "arr1.sort()\n",
    "arr2.sort(reverse=True)\n",
    "if (arr==arr1 or arr==arr2):\n",
    "    print(f\"{arr} is Monotonic\")\n",
    "else:    \n",
    "    print(f\"{arr} is not monotonic \")    \n",
    "    "
   ]
  },
  {
   "cell_type": "code",
   "execution_count": null,
   "id": "8ddf97b6",
   "metadata": {},
   "outputs": [],
   "source": []
  }
 ],
 "metadata": {
  "kernelspec": {
   "display_name": "Python 3",
   "language": "python",
   "name": "python3"
  },
  "language_info": {
   "codemirror_mode": {
    "name": "ipython",
    "version": 3
   },
   "file_extension": ".py",
   "mimetype": "text/x-python",
   "name": "python",
   "nbconvert_exporter": "python",
   "pygments_lexer": "ipython3",
   "version": "3.8.8"
  }
 },
 "nbformat": 4,
 "nbformat_minor": 5
}

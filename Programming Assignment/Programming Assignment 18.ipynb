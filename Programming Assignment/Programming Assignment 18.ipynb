{
 "cells": [
  {
   "cell_type": "markdown",
   "id": "b056516e-540c-4389-ae1b-fb240830a7c7",
   "metadata": {},
   "source": [
    "## ------------------------- Programming Assignment- 18 ---------------------------------"
   ]
  },
  {
   "cell_type": "markdown",
   "id": "612d47c4-f00d-4626-b4ce-431d6b17d084",
   "metadata": {},
   "source": [
    "## Question 1 Create a function that takes a list of non-negative integers and strings and return a new list without the strings.\n",
    "Examples\n",
    "filter_list([1, 2, \"a\", \"b\"]) ➞ [1, 2]\n",
    "\n",
    "filter_list([1, \"a\", \"b\", 0, 15]) ➞ [1, 0, 15]\n",
    "\n",
    "filter_list([1, 2, \"aasf\", \"1\", \"123\", 123]) ➞ [1, 2, 123]"
   ]
  },
  {
   "cell_type": "code",
   "execution_count": 7,
   "id": "a6204915-7c37-410d-a144-63cffeb5c8c1",
   "metadata": {},
   "outputs": [
    {
     "name": "stdout",
     "output_type": "stream",
     "text": [
      "filter_list([1, 2, \"a\", \"b\"]) ➞ [1, 2]\n",
      "filter_list([1, \"a\", \"b\", 0, 15]) ➞ [1, 15]\n",
      "filter_list([1, 2, \"aasf\", \"1\", \"123\", 123]) ➞ [1, 2, 123]\n"
     ]
    }
   ],
   "source": [
    "def filter_list(l):\n",
    "    l1 =[]\n",
    "    for i in l:\n",
    "        if type(i) == int and i > 0:\n",
    "            l1.append(i)\n",
    "    return l1        \n",
    "            \n",
    "print(f'filter_list([1, 2, \"a\", \"b\"]) ➞ {filter_list([1, 2, \"a\", \"b\"])}') \n",
    "print(f'filter_list([1, \"a\", \"b\", 0, 15]) ➞ {filter_list([1, \"a\", \"b\", 0, 15])}') \n",
    "print(f'filter_list([1, 2, \"aasf\", \"1\", \"123\", 123]) ➞ {filter_list([1, 2, \"aasf\", \"1\", \"123\", 123])}') "
   ]
  },
  {
   "cell_type": "markdown",
   "id": "3a973473-535f-4d07-a214-c798f1459b0e",
   "metadata": {},
   "source": [
    "## Question 2 The \"Reverser\" takes a string as input and returns that string in reverse order, with the opposite case.\n",
    "Examples\n",
    "reverse(\"Hello World\") ➞ \"DLROw OLLEh\"\n",
    "\n",
    "reverse(\"ReVeRsE\") ➞ \"eSrEvEr\"\n",
    "\n",
    "reverse(\"Radar\") ➞ \"RADAr\""
   ]
  },
  {
   "cell_type": "code",
   "execution_count": 13,
   "id": "ddfa9c7a-05f8-4a67-aa28-392fa1bbf2c6",
   "metadata": {},
   "outputs": [
    {
     "name": "stdout",
     "output_type": "stream",
     "text": [
      "reverse(\"Hello World\") ➞ \"DLROw OLLEh\"\n",
      "reverse(\"ReVeRsE\") ➞ \"eSrEvEr\"\n",
      "reverse(\"Radar\") ➞ \"RADAr\"\n"
     ]
    }
   ],
   "source": [
    "def reverse(s):\n",
    "    s1 = s[::-1]\n",
    "    return s1.swapcase()\n",
    " \n",
    "\n",
    "print(f'reverse(\"Hello World\") ➞ \"{reverse(\"Hello World\")}\"') \n",
    "print(f'reverse(\"ReVeRsE\") ➞ \"{reverse(\"ReVeRsE\")}\"') \n",
    "print(f'reverse(\"Radar\") ➞ \"{reverse(\"Radar\")}\"') "
   ]
  },
  {
   "cell_type": "markdown",
   "id": "296b11f5-b4a2-4229-8e57-f30b7f4ebcdc",
   "metadata": {},
   "source": [
    "## Question 3 You can assign variables from lists like this:\n",
    "lst = [1, 2, 3, 4, 5, 6]\n",
    "first = lst[0]\n",
    "middle = lst[1:-1]\n",
    "last = lst[-1]\n",
    "\n",
    "print(first) ➞ outputs 1\n",
    "print(middle) ➞ outputs [2, 3, 4, 5]\n",
    "print(last) ➞ outputs 6\n",
    "With Python 3, you can assign variables from lists in a much more succinct way. Create variables first, middle and last from the given list using destructuring assignment (check the Resources tab for some examples), where:\n",
    "first  ➞ 1\n",
    "\n",
    "middle ➞ [2, 3, 4, 5]\n",
    "\n",
    "last ➞ 6\n",
    "Your task is to unpack the list writeyourcodehere into three variables, being first, middle, and last, with middle being everything in between the first and last element. Then print all three variables."
   ]
  },
  {
   "cell_type": "code",
   "execution_count": 15,
   "id": "25b310fd-1739-4a90-a9c7-40e8f63d1d18",
   "metadata": {},
   "outputs": [
    {
     "name": "stdout",
     "output_type": "stream",
     "text": [
      "first ➞ outputs 1\n",
      "middle ➞ outputs [2, 3, 4, 5]\n",
      "last ➞ outputs 6\n"
     ]
    }
   ],
   "source": [
    "def list_split(l):\n",
    "    first = l[0]\n",
    "    middle = l[1:-1]\n",
    "    last  = l[-1]\n",
    "    print(f'first ➞ outputs {first}')\n",
    "    print(f'middle ➞ outputs {middle}')\n",
    "    print(f'last ➞ outputs {last}') \n",
    "    \n",
    "lst = [1, 2, 3, 4, 5, 6]\n",
    "list_split(lst)\n",
    "    "
   ]
  },
  {
   "cell_type": "markdown",
   "id": "fa63f382-05a6-4d0b-942d-1d198e326599",
   "metadata": {},
   "source": [
    "\n",
    "## Question 4 Write a function that calculates the factorial of a number recursively.\n",
    "Examples\n",
    "factorial(5) ➞ 120\n",
    "\n",
    "factorial(3) ➞ 6\n",
    "\n",
    "factorial(1) ➞ 1\n",
    "\n",
    "factorial(0) ➞ 1"
   ]
  },
  {
   "cell_type": "code",
   "execution_count": 18,
   "id": "3fff438b-1a69-41c1-9823-6554fe4318e9",
   "metadata": {},
   "outputs": [
    {
     "name": "stdout",
     "output_type": "stream",
     "text": [
      "factorial(5) ➞ 120\n",
      "factorial(3) ➞ 6\n",
      "factorial(1) ➞ 1\n",
      "factorial(0) ➞ 1\n"
     ]
    }
   ],
   "source": [
    "def factorial(n):\n",
    "    if n == 0 or n==1:\n",
    "        return 1\n",
    "    else:\n",
    "        return n * factorial(n-1)\n",
    "    \n",
    "print(f'factorial(5) ➞ {factorial(5)}')\n",
    "print(f'factorial(3) ➞ {factorial(3)}')\n",
    "print(f'factorial(1) ➞ {factorial(1)}')\n",
    "print(f'factorial(0) ➞ {factorial(0)}')"
   ]
  },
  {
   "cell_type": "markdown",
   "id": "391389ae-8f23-41e2-82ef-65d243ec86dd",
   "metadata": {},
   "source": [
    "## Question 5 Write a function that moves all elements of one type to the end of the list.\n",
    "Examples\n",
    "move_to_end([1, 3, 2, 4, 4, 1], 1) ➞ [3, 2, 4, 4, 1, 1]\n",
    "# Move all the 1s to the end of the array.\n",
    "\n",
    "move_to_end([7, 8, 9, 1, 2, 3, 4], 9) ➞ [7, 8, 1, 2, 3, 4, 9]\n",
    "\n",
    "move_to_end([\"a\", \"a\", \"a\", \"b\"], \"a\") ➞ [\"b\", \"a\", \"a\", \"a\"]"
   ]
  },
  {
   "cell_type": "code",
   "execution_count": 27,
   "id": "92cc77aa-9162-467f-b7a4-26785bc5f292",
   "metadata": {},
   "outputs": [
    {
     "name": "stdout",
     "output_type": "stream",
     "text": [
      "move_to_end([1, 3, 2, 4, 4, 1], 1) ➞ [3, 2, 4, 4, 1, 1]\n",
      "move_to_end([7, 8, 9, 1, 2, 3, 4], 9) ➞ [7, 8, 1, 2, 3, 4, 9]\n",
      "move_to_end([\"a\", \"a\", \"a\", \"b\"], \"a\") ➞ ['b', 'a', 'a', 'a']\n"
     ]
    }
   ],
   "source": [
    "def move_to_end(l,n):\n",
    "    l1 =[]\n",
    "    l2 = []\n",
    "    for i in l:\n",
    "        if i == n:\n",
    "            l1.append(i)\n",
    "        else:\n",
    "            l2.append(i)\n",
    "    l2.extend(l1)\n",
    "    return l2\n",
    "    \n",
    "print(f'move_to_end([1, 3, 2, 4, 4, 1], 1) ➞ {move_to_end([1, 3, 2, 4, 4, 1], 1)}')\n",
    "print(f'move_to_end([7, 8, 9, 1, 2, 3, 4], 9) ➞ {move_to_end([7, 8, 9, 1, 2, 3, 4], 9)}') \n",
    "print(f'move_to_end([\"a\", \"a\", \"a\", \"b\"], \"a\") ➞ {move_to_end([\"a\", \"a\", \"a\", \"b\"], \"a\")}') "
   ]
  },
  {
   "cell_type": "code",
   "execution_count": null,
   "id": "f4b72ada-5f55-47b0-b840-2364b5915c4d",
   "metadata": {},
   "outputs": [],
   "source": []
  }
 ],
 "metadata": {
  "kernelspec": {
   "display_name": "Python 3 (ipykernel)",
   "language": "python",
   "name": "python3"
  },
  "language_info": {
   "codemirror_mode": {
    "name": "ipython",
    "version": 3
   },
   "file_extension": ".py",
   "mimetype": "text/x-python",
   "name": "python",
   "nbconvert_exporter": "python",
   "pygments_lexer": "ipython3",
   "version": "3.10.6"
  }
 },
 "nbformat": 4,
 "nbformat_minor": 5
}

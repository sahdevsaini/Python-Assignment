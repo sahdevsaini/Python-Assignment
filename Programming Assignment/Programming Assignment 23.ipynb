{
 "cells": [
  {
   "cell_type": "markdown",
   "id": "9c404b60-1f10-4cae-83e2-337cdccd007f",
   "metadata": {},
   "source": [
    "## ---------------------------------- Programming Assignment- 23 ----------------------------------"
   ]
  },
  {
   "cell_type": "markdown",
   "id": "6860ec9a-1b1a-4bd3-b7b5-c71a1608403e",
   "metadata": {},
   "source": [
    "## Question 1 Create a function that takes a number as an argument and returns True or False depending on whether the number is symmetrical or not. A number is symmetrical when it is the same as its reverse.\n",
    "Examples\n",
    "is_symmetrical(7227) ➞ True\n",
    "\n",
    "is_symmetrical(12567) ➞ False\n",
    "\n",
    "is_symmetrical(44444444) ➞ True\n",
    "\n",
    "is_symmetrical(9939) ➞ False\n",
    "\n",
    "is_symmetrical(1112111) ➞ True"
   ]
  },
  {
   "cell_type": "code",
   "execution_count": 12,
   "id": "44fb4efc-c7c2-40c8-903e-cf636f24533f",
   "metadata": {},
   "outputs": [
    {
     "name": "stdout",
     "output_type": "stream",
     "text": [
      "is_symmetrical(7227) ➞  True\n",
      "is_symmetrical(12567) ➞  False\n",
      "is_symmetrical(44444444) ➞  True\n",
      "is_symmetrical(9939) ➞  False\n",
      "is_symmetrical(1112111) ➞  True\n"
     ]
    }
   ],
   "source": [
    "def is_symmetrical(n):\n",
    "    num = str(n)\n",
    "    rev = \"\".join(reversed(num))\n",
    "    rev1 = int(rev)\n",
    "    if n == rev1:\n",
    "        print(f'is_symmetrical({n}) ➞  True')\n",
    "    else:\n",
    "        print(f'is_symmetrical({n}) ➞  False')\n",
    "        \n",
    "is_symmetrical(7227)\n",
    "is_symmetrical(12567)\n",
    "is_symmetrical(44444444)\n",
    "is_symmetrical(9939)\n",
    "is_symmetrical(1112111)"
   ]
  },
  {
   "cell_type": "markdown",
   "id": "75b1f1ac-af7e-4bed-afac-59386cce20e6",
   "metadata": {},
   "source": [
    "## Question 2 Given a string of numbers separated by a comma and space, return the product of the numbers.\n",
    "Examples\n",
    "multiply_nums(\"2, 3\") ➞ 6\n",
    "\n",
    "multiply_nums(\"1, 2, 3, 4\") ➞ 24\n",
    "\n",
    "multiply_nums(\"54, 75, 453, 0\") ➞ 0\n",
    "\n",
    "multiply_nums(\"10, -2\") ➞ -20"
   ]
  },
  {
   "cell_type": "code",
   "execution_count": 26,
   "id": "b662465c-e15b-480f-ae4a-c43a1b0bb79a",
   "metadata": {},
   "outputs": [
    {
     "name": "stdout",
     "output_type": "stream",
     "text": [
      "multiply_nums(\"2, 3\") ➞ 6\n",
      "multiply_nums(\"1, 2, 3, 4\") ➞ 24\n",
      "multiply_nums(\"54, 75, 453, 0\") ➞ 0\n",
      "multiply_nums(\"54, 75, 453, 0\") ➞ 0\n"
     ]
    }
   ],
   "source": [
    "def multiply_nums(s):\n",
    "    st1 = s.replace(' ','').split(',')\n",
    "    out_st = 1\n",
    "    for i in st1:\n",
    "        out_st *= int(i)\n",
    "    print(f'multiply_nums(\"{s}\") ➞ {out_st}')\n",
    "    \n",
    "multiply_nums(\"2, 3\")\n",
    "multiply_nums(\"1, 2, 3, 4\")\n",
    "multiply_nums(\"54, 75, 453, 0\")\n",
    "multiply_nums(\"54, 75, 453, 0\")"
   ]
  },
  {
   "cell_type": "markdown",
   "id": "6a92f83b-5b7e-4106-a9ca-04bb292933be",
   "metadata": {},
   "source": [
    "## Question 3 Create a function that squares every digit of a number.\n",
    "Examples\n",
    "square_digits(9119) ➞ 811181\n",
    "\n",
    "square_digits(2483) ➞ 416649\n",
    "\n",
    "square_digits(3212) ➞ 9414\n",
    "Notes\n",
    "The function receives an integer and must return an integer."
   ]
  },
  {
   "cell_type": "code",
   "execution_count": 37,
   "id": "817ee5f8-6d4f-46e6-b5fc-0b72ba26b853",
   "metadata": {},
   "outputs": [
    {
     "name": "stdout",
     "output_type": "stream",
     "text": [
      "square_digits(9119) ➞ 811181\n",
      "square_digits(2483) ➞ 416649\n",
      "square_digits(3212) ➞ 9414\n"
     ]
    }
   ],
   "source": [
    "def square_digits(n):\n",
    "    st = ''\n",
    "    for i in str(n):\n",
    "        st = st + str(int(i)**2)\n",
    "    print(f'square_digits({n}) ➞ {st}')\n",
    "        \n",
    "        \n",
    "square_digits(9119)\n",
    "square_digits(2483)\n",
    "square_digits(3212)"
   ]
  },
  {
   "cell_type": "markdown",
   "id": "eb48de7c-ffa5-42a6-942e-4009947d305e",
   "metadata": {},
   "source": [
    "## Question 4 Create a function that sorts a list and removes all duplicate items from it.\n",
    "Examples\n",
    "setify([1, 3, 3, 5, 5]) ➞ [1, 3, 5]\n",
    "\n",
    "setify([4, 4, 4, 4]) ➞ [4]\n",
    "\n",
    "setify([5, 7, 8, 9, 10, 15]) ➞ [5, 7, 8, 9, 10, 15]\n",
    "\n",
    "setify([3, 3, 3, 2, 1]) ➞ [1, 2, 3]"
   ]
  },
  {
   "cell_type": "code",
   "execution_count": 48,
   "id": "44ac756f-1181-4a0c-97cb-0b7d387659a8",
   "metadata": {},
   "outputs": [
    {
     "name": "stdout",
     "output_type": "stream",
     "text": [
      "setify([1, 3, 3, 5, 5]) ➞ [1, 3, 5]\n",
      "setify([4, 4, 4, 4]) ➞ [4]\n",
      "setify([5, 7, 8, 9, 10, 15]) ➞ [5, 7, 8, 9, 10, 15]\n",
      "setify([3, 3, 3, 2, 1]) ➞ [1, 2, 3]\n"
     ]
    }
   ],
   "source": [
    "def setify(l):\n",
    "    li = list(set(sorted(tuple(l))))\n",
    "    print(f'setify({l}) ➞ {li}')\n",
    "\n",
    "setify([1, 3, 3, 5, 5])\n",
    "setify([4, 4, 4, 4])\n",
    "setify([5, 7, 8, 9, 10, 15])\n",
    "setify([3, 3, 3, 2, 1])  "
   ]
  },
  {
   "cell_type": "markdown",
   "id": "d7556530-4f8a-4c3e-a3d9-a09c3c1470b0",
   "metadata": {},
   "source": [
    "## Question 5 Create a function that returns the mean of all digits.\n",
    "Examples\n",
    "mean(42) ➞ 3\n",
    "\n",
    "mean(12345) ➞ 3\n",
    "\n",
    "mean(666) ➞ 6\n",
    "Notes\n",
    "•\tThe mean of all digits is the sum of digits / how many digits there are (e.g. mean of digits in 512 is (5+1+2)/3(number of digits) = 8/3=2).\n",
    "•\tThe mean will always be an integer."
   ]
  },
  {
   "cell_type": "code",
   "execution_count": 55,
   "id": "e3f2ca4d-b22e-46dc-a143-ae1df7ef81ec",
   "metadata": {},
   "outputs": [
    {
     "name": "stdout",
     "output_type": "stream",
     "text": [
      "mean(n) ➞ 3\n",
      "mean(n) ➞ 3\n",
      "mean(n) ➞ 6\n"
     ]
    }
   ],
   "source": [
    "def mean(n):\n",
    "    su = 0 \n",
    "    st = str(n)\n",
    "    len_ = len(st)\n",
    "    for i in st:\n",
    "        su += int(i)\n",
    "        \n",
    "    Mean = su//len_\n",
    "    print(f'mean(n) ➞ {Mean}')\n",
    "    \n",
    "mean(42)\n",
    "mean(12345)\n",
    "mean(666)"
   ]
  },
  {
   "cell_type": "code",
   "execution_count": null,
   "id": "cfd96f93-09cc-4b3f-b17f-d94d3c8a917e",
   "metadata": {},
   "outputs": [],
   "source": []
  }
 ],
 "metadata": {
  "kernelspec": {
   "display_name": "Python 3 (ipykernel)",
   "language": "python",
   "name": "python3"
  },
  "language_info": {
   "codemirror_mode": {
    "name": "ipython",
    "version": 3
   },
   "file_extension": ".py",
   "mimetype": "text/x-python",
   "name": "python",
   "nbconvert_exporter": "python",
   "pygments_lexer": "ipython3",
   "version": "3.10.6"
  }
 },
 "nbformat": 4,
 "nbformat_minor": 5
}

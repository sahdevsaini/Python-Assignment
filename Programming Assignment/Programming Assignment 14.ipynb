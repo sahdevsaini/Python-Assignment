{
 "cells": [
  {
   "cell_type": "markdown",
   "id": "2a56f183-9f31-495c-83bf-8183efa13a56",
   "metadata": {},
   "source": [
    "## Question 1: Define a class with a generator which can iterate the numbers, which are divisible by 7, between a given range 0 and n."
   ]
  },
  {
   "cell_type": "code",
   "execution_count": null,
   "id": "b9138404-956f-47e2-a9d5-8ec03f202ec0",
   "metadata": {},
   "outputs": [],
   "source": [
    "class generator:\n",
    "    def __init__(self,num):\n",
    "        self.num = num\n",
    "        \n",
    "    def divisor(self):\n",
    "        for i in range(0,self.num+1):\n",
    "            if i%7 == 0:\n",
    "                yield i\n",
    "     \n",
    "\n",
    "\n",
    "result = generator(100)\n",
    "for i in result.divisor():\n",
    "    print(i,end = ' ')\n",
    "    "
   ]
  },
  {
   "cell_type": "markdown",
   "id": "3bdb01c7-ce26-45c9-9614-6d9934c11490",
   "metadata": {},
   "source": [
    "## Question 2:Write a program to compute the frequency of the words from the input. The output should output after sorting the key alphanumerically.\n",
    "Suppose the following input is supplied to the program:\n",
    "New to Python or choosing between Python 2 and Python 3? Read Python 2 or\n",
    "Python 3.\n",
    "Then, the output should be:\n",
    "2:2\n",
    "3.:1\n",
    "3?:1\n",
    "New:1\n",
    "Python:5\n",
    "Read:1\n",
    "and:1\n",
    "between:1\n",
    "choosing:1\n",
    "or:2\n",
    "to:1"
   ]
  },
  {
   "cell_type": "code",
   "execution_count": null,
   "id": "4408db53-a7ec-44ea-8b54-c8f8acd1ee05",
   "metadata": {},
   "outputs": [],
   "source": [
    "    def frequency():\n",
    "        st = input()\n",
    "        st1 = {}\n",
    "        for i in st.split(\" \"):\n",
    "            if(st1.get(i) == None):\n",
    "                st1[i] = 1\n",
    "            else:\n",
    "                st1[i] += 1\n",
    "\n",
    "        for i in sorted(st1):\n",
    "            print(f'{i}:{st1[i]}')\n",
    "\n",
    "\n",
    "\n",
    "    frequency()      \n",
    "        "
   ]
  },
  {
   "cell_type": "markdown",
   "id": "2c766312-8fa5-47d6-a14b-09570ba6abe3",
   "metadata": {},
   "source": [
    "Question 3:\n",
    "\n",
    "Define a class Person and its two child classes: Male and Female. All classes have a\n",
    "method &quot;getGender&quot; which can print &quot;Male&quot; for Male class and &quot;Female&quot; for Female\n",
    "class."
   ]
  },
  {
   "cell_type": "code",
   "execution_count": null,
   "id": "0c399b94-f473-4c50-a586-b14fe8b51335",
   "metadata": {},
   "outputs": [],
   "source": [
    "class person:\n",
    "        def getGender():\n",
    "            pass\n",
    "        \n",
    "class Male(person):\n",
    "        def getGender():\n",
    "            print('Male')\n",
    "        \n",
    "class Female(person):\n",
    "        def getGender():\n",
    "            print('Female')\n",
    "        \n",
    "Male.getGender()\n",
    "##Female.getGender()"
   ]
  },
  {
   "cell_type": "code",
   "execution_count": null,
   "id": "5b1022c8-28ef-4d8b-ab12-6a29bf011615",
   "metadata": {},
   "outputs": [],
   "source": [
    "Question 4:\n",
    "Please write a program to generate all sentences where subject is in [&quot;I&quot;, &quot;You&quot;] and\n",
    "verb is in [&quot;Play&quot;, &quot;Love&quot;] and the object is in [&quot;Hockey&quot;,&quot;Football&quot;].\n"
   ]
  },
  {
   "cell_type": "code",
   "execution_count": null,
   "id": "84776a5f-e0b4-402f-8e81-b8d32078dfe9",
   "metadata": {},
   "outputs": [],
   "source": []
  },
  {
   "cell_type": "code",
   "execution_count": null,
   "id": "fdbe4680-a39c-435e-94c3-3d9ab307ea04",
   "metadata": {},
   "outputs": [],
   "source": [
    "Question 5:\n",
    "Please write a program to compress and decompress the string &quot;hello world!hello\n",
    "world!hello world!hello world!&quot;.\n"
   ]
  },
  {
   "cell_type": "code",
   "execution_count": null,
   "id": "87af62c2-8cc9-4ad5-81e1-d7d94b6ec40f",
   "metadata": {},
   "outputs": [],
   "source": []
  },
  {
   "cell_type": "markdown",
   "id": "b2088a85-3deb-4092-8318-6a883055c5a3",
   "metadata": {},
   "source": [
    "Question 6:\n",
    "Please write a binary search function which searches an item in a sorted list. The\n",
    "function should return the index of element to be searched in the list.`"
   ]
  },
  {
   "cell_type": "code",
   "execution_count": null,
   "id": "56df477f-a254-4d00-bac2-233f6e355b96",
   "metadata": {},
   "outputs": [],
   "source": []
  }
 ],
 "metadata": {
  "kernelspec": {
   "display_name": "Python 3 (ipykernel)",
   "language": "python",
   "name": "python3"
  },
  "language_info": {
   "codemirror_mode": {
    "name": "ipython",
    "version": 3
   },
   "file_extension": ".py",
   "mimetype": "text/x-python",
   "name": "python",
   "nbconvert_exporter": "python",
   "pygments_lexer": "ipython3",
   "version": "3.10.6"
  }
 },
 "nbformat": 4,
 "nbformat_minor": 5
}

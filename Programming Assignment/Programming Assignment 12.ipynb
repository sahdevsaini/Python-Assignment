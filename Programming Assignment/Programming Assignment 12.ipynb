{
 "cells": [
  {
   "cell_type": "code",
   "execution_count": null,
   "id": "f87ce210-7b99-460a-9f11-a1f34dd8b56c",
   "metadata": {},
   "outputs": [],
   "source": [
    "1. Write a Python program to Extract Unique values dictionary values?"
   ]
  },
  {
   "cell_type": "code",
   "execution_count": 18,
   "id": "c73e05ed-e405-4dce-9dae-ef9f53aa6b4f",
   "metadata": {},
   "outputs": [
    {
     "name": "stdout",
     "output_type": "stream",
     "text": [
      "['e', 'h', 'n', 'o', 'r', 't', 'w']\n"
     ]
    }
   ],
   "source": [
    "dic  = {'1':'one',\n",
    "       '2':'two',\n",
    "       '3':'three',\n",
    "       '4':'two'}\n",
    "\n",
    "my_result = list(sorted({elem for val in dic.values() for elem in val}))\n",
    "\n",
    "print(my_result)\n",
    "            \n",
    "            \n",
    "        "
   ]
  },
  {
   "cell_type": "code",
   "execution_count": 15,
   "id": "d1f27b7f-46dc-4e25-8aa9-5b1b30b8264f",
   "metadata": {},
   "outputs": [
    {
     "data": {
      "text/plain": [
       "{'e', 'h', 'n', 'o', 'r', 't', 'w'}"
      ]
     },
     "execution_count": 15,
     "metadata": {},
     "output_type": "execute_result"
    }
   ],
   "source": [
    "## 2nd Method\n",
    "dic  = {'1':'one',\n",
    "       '2':'two',\n",
    "       '3':'three',\n",
    "       '4':'two'}\n",
    "\n",
    "lis = []\n",
    "for val in dic.values():\n",
    "    for ele in val:\n",
    "        lis.append(ele)\n",
    "\n",
    "lis1 = set(lis)\n",
    "lis1"
   ]
  },
  {
   "cell_type": "code",
   "execution_count": null,
   "id": "7b0458aa-034e-4e82-bca8-92de07fa4ea3",
   "metadata": {},
   "outputs": [],
   "source": [
    "2. Write a Python program to find the sum of all items in a dictionary?"
   ]
  },
  {
   "cell_type": "code",
   "execution_count": 25,
   "id": "93687cf5-ece1-4668-a1f7-b7d06193b5c4",
   "metadata": {},
   "outputs": [
    {
     "name": "stdout",
     "output_type": "stream",
     "text": [
      "Sum of all Values of Dictatioinary: - 142\n"
     ]
    }
   ],
   "source": [
    "dic  = {'1':20,\n",
    "       '2':32,\n",
    "       '3':40,\n",
    "       '4':50}\n",
    "\n",
    "print(\"Sum of all Values of Dictatioinary: -\",sum(dic.values()))\n"
   ]
  },
  {
   "cell_type": "code",
   "execution_count": null,
   "id": "95816405-6eb8-4c6b-a86e-ffd9c2ab6c6e",
   "metadata": {},
   "outputs": [],
   "source": [
    "3. Write a Python program to Merging two Dictionaries?"
   ]
  },
  {
   "cell_type": "code",
   "execution_count": null,
   "id": "a57b92a3-2269-45fa-bf74-61d3f49a2e0d",
   "metadata": {},
   "outputs": [],
   "source": []
  },
  {
   "cell_type": "code",
   "execution_count": null,
   "id": "9352b603-002a-49cc-b308-3101817faf3c",
   "metadata": {},
   "outputs": [],
   "source": []
  },
  {
   "cell_type": "code",
   "execution_count": null,
   "id": "5b098a0c-029f-40b0-831c-e4f0f1c7929f",
   "metadata": {},
   "outputs": [],
   "source": [
    "\n",
    "\n",
    "\n",
    "4. Write a Python program to convert key-values list to flat dictionary?\n",
    "5. Write a Python program to insertion at the beginning in OrderedDict?\n",
    "6. Write a Python program to check order of character in string using OrderedDict()?\n",
    "7. Write a Python program to sort Python Dictionaries by Key or Value?"
   ]
  }
 ],
 "metadata": {
  "kernelspec": {
   "display_name": "Python 3 (ipykernel)",
   "language": "python",
   "name": "python3"
  },
  "language_info": {
   "codemirror_mode": {
    "name": "ipython",
    "version": 3
   },
   "file_extension": ".py",
   "mimetype": "text/x-python",
   "name": "python",
   "nbconvert_exporter": "python",
   "pygments_lexer": "ipython3",
   "version": "3.10.6"
  }
 },
 "nbformat": 4,
 "nbformat_minor": 5
}

{
 "cells": [
  {
   "cell_type": "code",
   "execution_count": null,
   "id": "3a9f0f06-fed3-48ab-8e06-bf34b2c3c9eb",
   "metadata": {},
   "outputs": [],
   "source": []
  },
  {
   "cell_type": "code",
   "execution_count": null,
   "id": "7cde28c0-afda-4c5a-a6bf-74842acbafc6",
   "metadata": {},
   "outputs": [],
   "source": [
    "1. Write a Python program to find words which are greater than given length k?"
   ]
  },
  {
   "cell_type": "code",
   "execution_count": 10,
   "id": "362e763d-7ddc-4f66-9f49-71042080d6e3",
   "metadata": {},
   "outputs": [
    {
     "name": "stdin",
     "output_type": "stream",
     "text": [
      " sahdev saini\n",
      " 5\n"
     ]
    },
    {
     "name": "stdout",
     "output_type": "stream",
     "text": [
      "Words whose length is greater than k:-  sahdev saini\n"
     ]
    }
   ],
   "source": [
    "s= str(input())\n",
    "k = int(input())\n",
    "if len(s)>k:\n",
    "    print(\"Words whose length is greater than k:- \",s)\n",
    "    \n",
    "    "
   ]
  },
  {
   "cell_type": "code",
   "execution_count": null,
   "id": "9cec65cf-6796-448b-8818-f3004d1f39f5",
   "metadata": {},
   "outputs": [],
   "source": [
    "2. Write a Python program for removing i-th character from a string?"
   ]
  },
  {
   "cell_type": "code",
   "execution_count": 23,
   "id": "e53aee4b-540c-426e-aa42-0f931215f06e",
   "metadata": {},
   "outputs": [
    {
     "name": "stdin",
     "output_type": "stream",
     "text": [
      "Enter the String:-  Sahdev Saini\n",
      "Enter the ith index which you want to remove :-  4\n"
     ]
    },
    {
     "name": "stdout",
     "output_type": "stream",
     "text": [
      "The Original String:-  Sahdev Saini\n",
      "The String After removing 4 th element:-  Sahdv Saini\n"
     ]
    }
   ],
   "source": [
    "s= input(\"Enter the String:- \")\n",
    "k = int(input(\"Enter the ith index which you want to remove :- \"))\n",
    "str1 = \"\"\n",
    "for i in range(len(s)):\n",
    "    if i != k:\n",
    "        str1 = str1 + s[i]\n",
    "\n",
    "print(\"The Original String:- \",s)        \n",
    "print(f'The String After removing {k} th element:- ',str1)               "
   ]
  },
  {
   "cell_type": "markdown",
   "id": "1933b4a1-9c1a-4233-a65a-1303b26a814e",
   "metadata": {},
   "source": [
    "3. Write a Python program to split and join a string?"
   ]
  },
  {
   "cell_type": "code",
   "execution_count": 39,
   "id": "6ce896fc-a3c7-4bd7-a888-1f670c0ae529",
   "metadata": {},
   "outputs": [
    {
     "name": "stdout",
     "output_type": "stream",
     "text": [
      "['string', 'is', 'done']\n",
      "string__is__done\n"
     ]
    }
   ],
   "source": [
    "s= 'string is done'\n",
    "s1= s.split(' ')\n",
    "print(s1)\n",
    "s2 = \"__\".join(s1)\n",
    "print(s2)\n",
    "               "
   ]
  },
  {
   "cell_type": "code",
   "execution_count": null,
   "id": "fdfad871-534c-4d1d-bfa7-332884d1a1f0",
   "metadata": {},
   "outputs": [],
   "source": [
    "4. Write a Python to check if a given string is binary string or not?"
   ]
  },
  {
   "cell_type": "code",
   "execution_count": 51,
   "id": "dac0f890-96c1-4100-8d24-3c631addc4a4",
   "metadata": {},
   "outputs": [
    {
     "name": "stdout",
     "output_type": "stream",
     "text": [
      "Non Binary String\n"
     ]
    }
   ],
   "source": [
    "def check(string) :\n",
    "    b = set(string)\n",
    "    s = {'0', '1'}\n",
    "    if s == b or b == {'0'} or b == {'1'}:\n",
    "        print(\"Binary String\")\n",
    "    else :\n",
    "        print(\"Non Binary String\")\n",
    "        \n",
    "check('0010012')        "
   ]
  },
  {
   "cell_type": "code",
   "execution_count": null,
   "id": "70ece015-a15e-47cb-8d8e-9e306a2af6ed",
   "metadata": {},
   "outputs": [],
   "source": [
    "5. Write a Python program to find uncommon words from two Strings?"
   ]
  },
  {
   "cell_type": "code",
   "execution_count": 62,
   "id": "2aae2679-1cab-4bc1-8851-a02381e78b79",
   "metadata": {},
   "outputs": [
    {
     "name": "stdout",
     "output_type": "stream",
     "text": [
      "The Uncommon words of two string :-  h,d,v,e\n"
     ]
    }
   ],
   "source": [
    "s= 'Sahdev'\n",
    "st ='Saini'\n",
    "st1 =''\n",
    "for i in s:\n",
    "    for j in st:\n",
    "        if i==j:\n",
    "            st1 = st1+i\n",
    "            \n",
    "st2 = set(s) - set(st1) \n",
    "st3 = ','.join(st2)\n",
    "print(\"The Uncommon words of two string :- \",st3)            \n",
    "            "
   ]
  },
  {
   "cell_type": "code",
   "execution_count": null,
   "id": "2334928f-aa9b-4f2a-95ab-b70ee0003358",
   "metadata": {},
   "outputs": [],
   "source": [
    "\n",
    "6. Write a Python to find all duplicate characters in string?"
   ]
  },
  {
   "cell_type": "code",
   "execution_count": 72,
   "id": "28d58578-d8bf-45e3-8bac-26c74b345d1f",
   "metadata": {},
   "outputs": [
    {
     "name": "stdin",
     "output_type": "stream",
     "text": [
      "Enter a word =  sahadevsaini\n"
     ]
    },
    {
     "name": "stdout",
     "output_type": "stream",
     "text": [
      "a is duplicate and having count :-  3\n",
      "s is duplicate and having count :-  2\n",
      "i is duplicate and having count :-  2\n"
     ]
    }
   ],
   "source": [
    "def find_duplicate():\n",
    "    x =input(\"Enter a word = \")\n",
    "    for char in set(x):\n",
    "        counts=x.count(char)\n",
    "        if counts >1:\n",
    "            print(char, \"is duplicate and having count :- \",counts)\n",
    "        \n",
    "find_duplicate()      "
   ]
  },
  {
   "cell_type": "code",
   "execution_count": null,
   "id": "025ca7b3-94d8-438e-b7c8-72467dc66184",
   "metadata": {},
   "outputs": [],
   "source": [
    "7. Write a Python Program to check if a string contains any special character?"
   ]
  },
  {
   "cell_type": "code",
   "execution_count": 87,
   "id": "92950d5a-cb99-4b29-a571-0b5dd6e91f83",
   "metadata": {},
   "outputs": [
    {
     "name": "stdin",
     "output_type": "stream",
     "text": [
      " Sah@\n"
     ]
    },
    {
     "name": "stdout",
     "output_type": "stream",
     "text": [
      "@ is a special character in String.\n"
     ]
    }
   ],
   "source": [
    "\n",
    "def chek_special(st):\n",
    "    st1 = ' '\n",
    "    for i in set(st):\n",
    "        if i == '@' or '#' or '!'or '$'or '%' or'^'or'&':\n",
    "            st1 = i\n",
    "    if len(st1)>0:\n",
    "        print(st1,\"is a special character in String.\")\n",
    "        \n",
    "\n",
    "st =input()\n",
    "chek_special(st)\n"
   ]
  },
  {
   "cell_type": "code",
   "execution_count": null,
   "id": "fae6cb1b-3102-4c7d-b40a-9525e5d5bdc3",
   "metadata": {},
   "outputs": [],
   "source": []
  }
 ],
 "metadata": {
  "kernelspec": {
   "display_name": "Python 3 (ipykernel)",
   "language": "python",
   "name": "python3"
  },
  "language_info": {
   "codemirror_mode": {
    "name": "ipython",
    "version": 3
   },
   "file_extension": ".py",
   "mimetype": "text/x-python",
   "name": "python",
   "nbconvert_exporter": "python",
   "pygments_lexer": "ipython3",
   "version": "3.10.6"
  }
 },
 "nbformat": 4,
 "nbformat_minor": 5
}

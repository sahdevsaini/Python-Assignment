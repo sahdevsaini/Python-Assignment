{
 "cells": [
  {
   "cell_type": "markdown",
   "id": "e9bdb635-d86c-42d7-b23e-10202523e7c8",
   "metadata": {},
   "source": [
    "## ----------------------------------- Programming Assignment - 16 ----------------------------"
   ]
  },
  {
   "cell_type": "markdown",
   "id": "8a7efdeb-54bf-4c46-9cc5-c25d157c8c69",
   "metadata": {},
   "source": [
    "## Question1. Write a function that stutters a word as if someone is struggling to read it. The first two letters are repeated twice with an ellipsis ... and space after each, and then the word is pronounced with a question mark ?.\n",
    "Examples\n",
    "stutter(\"incredible\") ➞ \"in... in... incredible?\"\n",
    "\n",
    "stutter(\"enthusiastic\") ➞ \"en... en... enthusiastic?\"\n",
    "\n",
    "stutter(\"outstanding\") ➞ \"ou... ou... outstanding?\"\n",
    "\n",
    "Hint :- Assume all input is in lower case and at least two characters long."
   ]
  },
  {
   "cell_type": "code",
   "execution_count": 19,
   "id": "6432db3b-5b58-43dc-901f-0c3cc79927ee",
   "metadata": {},
   "outputs": [
    {
     "name": "stdin",
     "output_type": "stream",
     "text": [
      " incredible\n"
     ]
    },
    {
     "name": "stdout",
     "output_type": "stream",
     "text": [
      "Stutter(\"incredible\") ---> \"in...in...incredible?\"\n"
     ]
    },
    {
     "name": "stdin",
     "output_type": "stream",
     "text": [
      " enthusiastic\n"
     ]
    },
    {
     "name": "stdout",
     "output_type": "stream",
     "text": [
      "Stutter(\"enthusiastic\") ---> \"en...en...enthusiastic?\"\n"
     ]
    },
    {
     "name": "stdin",
     "output_type": "stream",
     "text": [
      " outstanding\n"
     ]
    },
    {
     "name": "stdout",
     "output_type": "stream",
     "text": [
      "Stutter(\"outstanding\") ---> \"ou...ou...outstanding?\"\n"
     ]
    }
   ],
   "source": [
    "def stutter():\n",
    "    n_input = input()\n",
    "    n_output = n_input.replace(n_input[0:2],((n_input[0:2]+'...')*2) + n_input[0:2]) + '?'\n",
    "    print(f'Stutter(\"{n_input}\") ---> \"{n_output}\"')\n",
    " \n",
    "for i in range(3):\n",
    "    stutter()\n"
   ]
  },
  {
   "cell_type": "markdown",
   "id": "35550152-d606-4327-8616-c154f560cc16",
   "metadata": {},
   "source": [
    "## Question 2.Create a function that takes an angle in radians and returns the corresponding angle in degrees rounded to one decimal place.Examples\n",
    "radians_to_degrees(1) ➞ 57.3\n",
    "\n",
    "radians_to_degrees(20) ➞ 1145.9\n",
    "\n",
    "radians_to_degrees(50) ➞ 2864.8"
   ]
  },
  {
   "cell_type": "code",
   "execution_count": 25,
   "id": "bc909c8f-6057-4a12-a6d6-83d0373c7952",
   "metadata": {},
   "outputs": [
    {
     "name": "stdin",
     "output_type": "stream",
     "text": [
      "Enter the angle in Radian:- 1\n"
     ]
    },
    {
     "name": "stdout",
     "output_type": "stream",
     "text": [
      "radians_to_degrees(1) ➞ 57.3\n"
     ]
    },
    {
     "name": "stdin",
     "output_type": "stream",
     "text": [
      "Enter the angle in Radian:- 20\n"
     ]
    },
    {
     "name": "stdout",
     "output_type": "stream",
     "text": [
      "radians_to_degrees(20) ➞ 1145.9\n"
     ]
    },
    {
     "name": "stdin",
     "output_type": "stream",
     "text": [
      "Enter the angle in Radian:- 50\n"
     ]
    },
    {
     "name": "stdout",
     "output_type": "stream",
     "text": [
      "radians_to_degrees(50) ➞ 2864.8\n"
     ]
    }
   ],
   "source": [
    "import math as mi\n",
    "def RadiantToDegree():\n",
    "    angle = int(input(\"Enter the angle in Radian:-\"))\n",
    "    Degree = angle*(180/mi.pi)\n",
    "    print(F'radians_to_degrees({angle}) ➞ {Degree:.1f}')\n",
    "\n",
    "    \n",
    "for i in range(3):\n",
    "    RadiantToDegree()\n"
   ]
  },
  {
   "cell_type": "markdown",
   "id": "006d2784-1423-4e4c-addc-c1bcdd3b84d3",
   "metadata": {},
   "source": [
    "## Question 3. In this challenge, establish if a given integer num is a Curzon number. If 1 plus 2 elevated to num is exactly divisible by 1 plus 2 multiplied by num, then num is a Curzon number.\n",
    "Given a non-negative integer num, implement a function that returns True if num is a Curzon number, or False otherwise.\n",
    "Examples\n",
    "is_curzon(5) ➞ True<br>\n",
    "2 ** 5 + 1 = 33<br>\n",
    "2 * 5 + 1 = 11<br>\n",
    "33 is a multiple of 11\n",
    "\n",
    "is_curzon(10) ➞ False<br>\n",
    "2 ** 10 + 1 = 1025<br>\n",
    "2 * 10 + 1 = 21<br>\n",
    "1025 is not a multiple of 21\n",
    "\n",
    "is_curzon(14) ➞ <br>\n",
    "2 ** 14 + 1 = 16385<br>\n",
    "2 * 14 + 1 = 29<br>\n",
    "16385 is a multiple of 29"
   ]
  },
  {
   "cell_type": "code",
   "execution_count": 37,
   "id": "add4b927-9a85-427d-a67d-65df9e5375e0",
   "metadata": {},
   "outputs": [
    {
     "name": "stdin",
     "output_type": "stream",
     "text": [
      " 5\n"
     ]
    },
    {
     "name": "stdout",
     "output_type": "stream",
     "text": [
      "is_curzon(5) ➞ True \n",
      "# 2 ** 5 + 1 = 33 \n",
      "# 2 * 5 + 1 = 11 \n",
      "# 33 is a multiple of 11\n"
     ]
    },
    {
     "name": "stdin",
     "output_type": "stream",
     "text": [
      " 10\n"
     ]
    },
    {
     "name": "stdout",
     "output_type": "stream",
     "text": [
      "is_curzon(10) ➞ False \n",
      "  # 2 ** 10 + 1 = 1025 \n",
      " # 2 * 10 + 1 = 21 \n",
      " # 1025 is not a multiple of 21\n"
     ]
    },
    {
     "name": "stdin",
     "output_type": "stream",
     "text": [
      " 14\n"
     ]
    },
    {
     "name": "stdout",
     "output_type": "stream",
     "text": [
      "is_curzon(14) ➞ True \n",
      "# 2 ** 14 + 1 = 16385 \n",
      "# 2 * 14 + 1 = 29 \n",
      "# 16385 is a multiple of 29\n"
     ]
    }
   ],
   "source": [
    "def Curzon_number():\n",
    "    n= int(input())\n",
    "    flag = False \n",
    "    n1 = 2**n + 1\n",
    "    n2 = (2 * n)+1 \n",
    "    if n1 % n2 == 0:\n",
    "        flag = True\n",
    "        print(f'is_curzon({n}) ➞ {flag} \\n# 2 ** {n} + 1 = {n1} \\n# 2 * {n} + 1 = {n2} \\n# {n1} is a multiple of {n2}') \n",
    "    else:\n",
    "        print(f'is_curzon({n}) ➞ {flag} \\n  # 2 ** {n} + 1 = {n1} \\n # 2 * {n} + 1 = {n2} \\n # {n1} is not a multiple of {n2}') \n",
    " \n",
    "\n",
    "for i in range(3):\n",
    "    Curzon_number()\n"
   ]
  },
  {
   "cell_type": "markdown",
   "id": "fc4f2eaf-4078-479e-b905-aecacd3ecd7d",
   "metadata": {},
   "source": [
    "\n",
    "## Question 4.Given the side length x find the area of a hexagon.\n",
    " \n",
    "Examples\n",
    "area_of_hexagon(1) ➞ 2.6\n",
    "\n",
    "area_of_hexagon(2) ➞ 10.4\n",
    "\n",
    "area_of_hexagon(3) ➞ 23.4"
   ]
  },
  {
   "cell_type": "code",
   "execution_count": 40,
   "id": "913d5265-1632-4ed5-8e28-c152e6dfdddb",
   "metadata": {},
   "outputs": [
    {
     "name": "stdin",
     "output_type": "stream",
     "text": [
      "Enter the side :-  1\n"
     ]
    },
    {
     "name": "stdout",
     "output_type": "stream",
     "text": [
      "area_of_hexagon(1) ➞ 2.6\n"
     ]
    },
    {
     "name": "stdin",
     "output_type": "stream",
     "text": [
      "Enter the side :-  2\n"
     ]
    },
    {
     "name": "stdout",
     "output_type": "stream",
     "text": [
      "area_of_hexagon(2) ➞ 10.4\n"
     ]
    },
    {
     "name": "stdin",
     "output_type": "stream",
     "text": [
      "Enter the side :-  3\n"
     ]
    },
    {
     "name": "stdout",
     "output_type": "stream",
     "text": [
      "area_of_hexagon(3) ➞ 23.4\n"
     ]
    }
   ],
   "source": [
    "def AreaOfHexagon():\n",
    "    side = int(input(\"Enter the side :- \"))\n",
    "    area = ((3*1.73)/2)*side*side\n",
    "    print(f'area_of_hexagon({side}) ➞ {area:.1f}')\n",
    "    \n",
    "for i in range(3):\n",
    "    AreaOfHexagon()"
   ]
  },
  {
   "cell_type": "markdown",
   "id": "fb0216ad-a3c6-41b9-9abb-90e8a88cc796",
   "metadata": {},
   "source": [
    "## Question 5. Create a function that returns a base-2 (binary) representation of a base-10 (decimal) string number. To convert is simple: ((2) means base-2 and (10) means base-10) 010101001(2) = 1 + 8 + 32 + 128.\n",
    "Going from right to left, the value of the most right bit is 1, now from that every bit to the left will be x2 the value, value of an 8 bit binary numbers are (256, 128, 64, 32, 16, 8, 4, 2, 1).<br>\n",
    "Examples<br>\n",
    "binary(1) ➞ \"1\"<br>\n",
    "1*1 = 1\n",
    "\n",
    "binary(5) ➞ \"101\"<br>\n",
    "1*1 + 1*4 = 5\n",
    "\n",
    "binary(10) ➞ \"1010\"<br>\n",
    "1*2 + 1*8 = 10"
   ]
  },
  {
   "cell_type": "code",
   "execution_count": 53,
   "id": "99bc2adf-522b-467b-8c93-4a2761ed9376",
   "metadata": {},
   "outputs": [
    {
     "name": "stdin",
     "output_type": "stream",
     "text": [
      " 1\n"
     ]
    },
    {
     "name": "stdout",
     "output_type": "stream",
     "text": [
      "binary(1) ➞ \"1\"\n"
     ]
    },
    {
     "name": "stdin",
     "output_type": "stream",
     "text": [
      " 5\n"
     ]
    },
    {
     "name": "stdout",
     "output_type": "stream",
     "text": [
      "binary(5) ➞ \"101\"\n"
     ]
    },
    {
     "name": "stdin",
     "output_type": "stream",
     "text": [
      " 10\n"
     ]
    },
    {
     "name": "stdout",
     "output_type": "stream",
     "text": [
      "binary(10) ➞ \"1010\"\n"
     ]
    }
   ],
   "source": [
    "def binary_number():\n",
    "    n= int(input())\n",
    "    n1 = n\n",
    "    str1 = ''\n",
    "    while(n):\n",
    "        rem = str(n%2)\n",
    "        str1 = str1 + rem\n",
    "        n = n//2\n",
    "        \n",
    "    print(f'binary({n1}) ➞ \"{str1[::-1]}\"'  )    \n",
    "\n",
    "for i in range(3):\n",
    "    binary_number()\n",
    "    "
   ]
  },
  {
   "cell_type": "code",
   "execution_count": null,
   "id": "72a07466-b225-4c91-b454-95026250685c",
   "metadata": {},
   "outputs": [],
   "source": []
  }
 ],
 "metadata": {
  "kernelspec": {
   "display_name": "Python 3 (ipykernel)",
   "language": "python",
   "name": "python3"
  },
  "language_info": {
   "codemirror_mode": {
    "name": "ipython",
    "version": 3
   },
   "file_extension": ".py",
   "mimetype": "text/x-python",
   "name": "python",
   "nbconvert_exporter": "python",
   "pygments_lexer": "ipython3",
   "version": "3.10.6"
  }
 },
 "nbformat": 4,
 "nbformat_minor": 5
}

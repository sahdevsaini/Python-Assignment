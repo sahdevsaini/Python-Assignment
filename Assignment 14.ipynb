{
 "cells": [
  {
   "cell_type": "markdown",
   "id": "af056247-84ce-470d-959d-1d09165ba887",
   "metadata": {},
   "source": [
    "## ---------------------------------------- Asssignment 14  -------------------------------"
   ]
  },
  {
   "cell_type": "code",
   "execution_count": null,
   "id": "08bcb23d-42be-4d66-8e78-66887d8a933c",
   "metadata": {},
   "outputs": [],
   "source": [
    "## 1. What does RGBA stand for?"
   ]
  },
  {
   "cell_type": "markdown",
   "id": "a8e99729-40c6-4245-b2e3-3537f9763fc6",
   "metadata": {},
   "source": [
    "**Ans:-**  <br> RGBA is a four-channel format containing data for **Red, Green, Blue, and an Alpha** value.\n",
    "Where Alpha Represents the Opacity"
   ]
  },
  {
   "cell_type": "markdown",
   "id": "2f74b596-9355-4798-85d5-2df07d708426",
   "metadata": {},
   "source": [
    "## 2. From the Pillow module, how do you get the RGBA value of any images?"
   ]
  },
  {
   "cell_type": "markdown",
   "id": "948ace33-41d3-40cc-a6b8-b32620ca0ec1",
   "metadata": {},
   "source": [
    "**Ans:- ImageColor.getcolor()** gives rgba value of any image"
   ]
  },
  {
   "cell_type": "markdown",
   "id": "26e08f47-e098-4ef3-87c9-4d5368a1527a",
   "metadata": {},
   "source": [
    "## 3. What is a box tuple, and how does it work?"
   ]
  },
  {
   "cell_type": "markdown",
   "id": "e3192186-913c-407a-8106-6b459f9da7c2",
   "metadata": {},
   "source": [
    "**Ans:-** <br> A box tuple is a tuple value of four integers:<br> \n",
    "    ** 1.)**the left-edge x-coordinate <br>\n",
    "    **2.)**the top-edge y-coordinate <br>\n",
    "    **3.)**the width <br>\n",
    "    **4.)**the height"
   ]
  },
  {
   "cell_type": "markdown",
   "id": "def4bd96-d8ea-417c-9139-4743beffbba3",
   "metadata": {},
   "source": [
    "## 4. Use your image and load in notebook then, How can you find out the width and height of an Image object?"
   ]
  },
  {
   "cell_type": "code",
   "execution_count": 2,
   "id": "f124d526-64ea-4ca2-893d-ca96f47352bb",
   "metadata": {},
   "outputs": [
    {
     "name": "stdout",
     "output_type": "stream",
     "text": [
      "Width,Height -----> (720, 720)\n",
      "Width,Height -----> (720, 720)\n"
     ]
    }
   ],
   "source": [
    "from PIL import Image\n",
    "photo = Image.open('photo.jfif')\n",
    "print(f\"Width,Height -----> {photo.size}\")\n",
    "print(f\"Width,Height -----> {photo.width,photo.height}\")\n",
    "\n",
    "\n",
    "#import matplotlib.pyplot as plt\n",
    "#plt.imshow(photo1)    For shoe the image in python Screen.\n",
    "#plt.show()"
   ]
  },
  {
   "cell_type": "markdown",
   "id": "a014f311-7c6a-4aee-a6e8-821adeb8cc27",
   "metadata": {},
   "source": [
    "## 5. What method would you call to get Image object for a 100×100 image, excluding the lower-left quarter of it?"
   ]
  },
  {
   "cell_type": "code",
   "execution_count": 20,
   "id": "9055ab55-ae19-4232-b5c8-bbb09d0cf08f",
   "metadata": {},
   "outputs": [],
   "source": [
    "from PIL import Image\n",
    "photo1 = Image.open('photo.jfif')\n",
    "new_photo = photo1.crop((0,50,50,50))\n"
   ]
  },
  {
   "cell_type": "markdown",
   "id": "811e4a56-72fa-44b6-9088-192e38b96a93",
   "metadata": {},
   "source": [
    "## 6. After making changes to an Image object, how could you save it as an image file?"
   ]
  },
  {
   "cell_type": "code",
   "execution_count": 22,
   "id": "0bf0bf74-5736-4c6a-b8a0-093f10682fe4",
   "metadata": {},
   "outputs": [],
   "source": [
    "from PIL import Image\n",
    "photo1 = Image.open('photo.jfif').convert('RGB')\n",
    "photo1.save('photo1.jpg')"
   ]
  },
  {
   "cell_type": "markdown",
   "id": "661ff271-2230-4301-b133-a25ef4ac059f",
   "metadata": {},
   "source": [
    "## 7. What module contains Pillow’s shape-drawing code?"
   ]
  },
  {
   "cell_type": "markdown",
   "id": "a30a8b15-a503-4a6d-a3ff-acf645f9136e",
   "metadata": {},
   "source": [
    "**Ans:-**<br> Pillows ImageDraw module contains Shape drawing methods"
   ]
  },
  {
   "cell_type": "markdown",
   "id": "05e5b7f2-b44c-448d-915e-412735694bef",
   "metadata": {},
   "source": [
    "## 8. Image objects do not have drawing methods. What kind of object does? How do you get this kind of object?"
   ]
  },
  {
   "cell_type": "markdown",
   "id": "2b7b21a6-4abc-447c-88ab-341e9c16ff07",
   "metadata": {},
   "source": [
    "**Ans:- <br>ImageDraw** objects have shape-drawing methods such as **point(), line()**, or **rectangle()**.They are returned by passing the Image object to the ImageDraw.Draw() function."
   ]
  },
  {
   "cell_type": "code",
   "execution_count": null,
   "id": "887dfa7a-3c40-49d1-b49c-300df4303ac3",
   "metadata": {},
   "outputs": [],
   "source": []
  }
 ],
 "metadata": {
  "kernelspec": {
   "display_name": "Python 3 (ipykernel)",
   "language": "python",
   "name": "python3"
  },
  "language_info": {
   "codemirror_mode": {
    "name": "ipython",
    "version": 3
   },
   "file_extension": ".py",
   "mimetype": "text/x-python",
   "name": "python",
   "nbconvert_exporter": "python",
   "pygments_lexer": "ipython3",
   "version": "3.10.6"
  }
 },
 "nbformat": 4,
 "nbformat_minor": 5
}
